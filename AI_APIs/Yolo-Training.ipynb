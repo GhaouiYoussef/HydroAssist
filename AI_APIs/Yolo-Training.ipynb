{
 "cells": [
  {
   "cell_type": "code",
   "execution_count": 1,
   "metadata": {
    "execution": {
     "iopub.execute_input": "2025-02-01T18:29:06.717607Z",
     "iopub.status.busy": "2025-02-01T18:29:06.717266Z",
     "iopub.status.idle": "2025-02-01T18:29:12.389436Z",
     "shell.execute_reply": "2025-02-01T18:29:12.388578Z",
     "shell.execute_reply.started": "2025-02-01T18:29:06.717563Z"
    },
    "id": "c430243c",
    "trusted": true
   },
   "outputs": [
    {
     "name": "stderr",
     "output_type": "stream",
     "text": [
      "/usr/local/lib/python3.10/dist-packages/albumentations/__init__.py:24: UserWarning: A new version of Albumentations is available: 2.0.2 (you have 1.4.20). Upgrade using: pip install -U albumentations. To disable automatic update checks, set the environment variable NO_ALBUMENTATIONS_UPDATE to 1.\n",
      "  check_for_updates()\n"
     ]
    }
   ],
   "source": [
    "import pandas as pd, numpy as np\n",
    "import sys,os,shutil,gc,re,json,glob,math,time,random,warnings\n",
    "from tqdm import tqdm\n",
    "from sklearn.model_selection import StratifiedGroupKFold\n",
    "import sklearn.metrics as skm\n",
    "import torch\n",
    "import cv2\n",
    "import yaml\n",
    "import albumentations as A\n",
    "\n",
    "N_SPLITS = 5\n",
    "RANDOM_STATE = 41\n",
    "FOLD=0\n",
    "\n",
    "def fix_seed(seed):\n",
    "    random.seed(seed)\n",
    "    os.environ['PYTHONHASHSEED'] = str(seed)\n",
    "    np.random.seed(seed)\n",
    "    torch.manual_seed(seed)\n",
    "    torch.cuda.manual_seed(seed)\n",
    "    torch.backends.cudnn.benchmark = False\n",
    "\n",
    "fix_seed(RANDOM_STATE)\n",
    "device = torch.device(\"cuda\" if torch.cuda.is_available() else \"cpu\")"
   ]
  },
  {
   "cell_type": "code",
   "execution_count": 2,
   "metadata": {
    "colab": {
     "base_uri": "https://localhost:8080/",
     "height": 461
    },
    "execution": {
     "iopub.execute_input": "2025-02-01T18:29:12.390948Z",
     "iopub.status.busy": "2025-02-01T18:29:12.390507Z",
     "iopub.status.idle": "2025-02-01T18:29:12.637522Z",
     "shell.execute_reply": "2025-02-01T18:29:12.636768Z",
     "shell.execute_reply.started": "2025-02-01T18:29:12.390923Z"
    },
    "id": "f3974031",
    "outputId": "a368518c-d680-433b-b880-7e222909e630",
    "trusted": true
   },
   "outputs": [
    {
     "name": "stdout",
     "output_type": "stream",
     "text": [
      "{'Corn_Cercospora_Leaf_Spot': 0, 'Corn_Common_Rust': 1, 'Corn_Healthy': 2, 'Corn_Northern_Leaf_Blight': 3, 'Corn_Streak': 4, 'Pepper_Bacterial_Spot': 5, 'Pepper_Cercospora': 6, 'Pepper_Early_Blight': 7, 'Pepper_Fusarium': 8, 'Pepper_Healthy': 9, 'Pepper_Late_Blight': 10, 'Pepper_Leaf_Blight': 11, 'Pepper_Leaf_Curl': 12, 'Pepper_Leaf_Mosaic': 13, 'Pepper_Septoria': 14, 'Tomato_Bacterial_Spot': 15, 'Tomato_Early_Blight': 16, 'Tomato_Fusarium': 17, 'Tomato_Healthy': 18, 'Tomato_Late_Blight': 19, 'Tomato_Leaf_Curl': 20, 'Tomato_Mosaic': 21, 'Tomato_Septoria': 22}\n"
     ]
    },
    {
     "data": {
      "text/html": [
       "<div>\n",
       "<style scoped>\n",
       "    .dataframe tbody tr th:only-of-type {\n",
       "        vertical-align: middle;\n",
       "    }\n",
       "\n",
       "    .dataframe tbody tr th {\n",
       "        vertical-align: top;\n",
       "    }\n",
       "\n",
       "    .dataframe thead th {\n",
       "        text-align: right;\n",
       "    }\n",
       "</style>\n",
       "<table border=\"1\" class=\"dataframe\">\n",
       "  <thead>\n",
       "    <tr style=\"text-align: right;\">\n",
       "      <th></th>\n",
       "      <th>Image_ID</th>\n",
       "      <th>confidence</th>\n",
       "      <th>class</th>\n",
       "      <th>ymin</th>\n",
       "      <th>xmin</th>\n",
       "      <th>ymax</th>\n",
       "      <th>xmax</th>\n",
       "      <th>path</th>\n",
       "      <th>category_id</th>\n",
       "      <th>crop</th>\n",
       "      <th>n_crop</th>\n",
       "    </tr>\n",
       "  </thead>\n",
       "  <tbody>\n",
       "    <tr>\n",
       "      <th>0</th>\n",
       "      <td>id_11543h.jpg</td>\n",
       "      <td>1.0</td>\n",
       "      <td>Pepper_Bacterial_Spot</td>\n",
       "      <td>194.649671</td>\n",
       "      <td>328.803454</td>\n",
       "      <td>208.107730</td>\n",
       "      <td>341.967928</td>\n",
       "      <td>/kaggle/input/ghana-crop-disease/images/id_115...</td>\n",
       "      <td>5</td>\n",
       "      <td>Pepper</td>\n",
       "      <td>1</td>\n",
       "    </tr>\n",
       "    <tr>\n",
       "      <th>1</th>\n",
       "      <td>id_11543h.jpg</td>\n",
       "      <td>1.0</td>\n",
       "      <td>Pepper_Bacterial_Spot</td>\n",
       "      <td>149.632401</td>\n",
       "      <td>256.768914</td>\n",
       "      <td>162.910362</td>\n",
       "      <td>266.195724</td>\n",
       "      <td>/kaggle/input/ghana-crop-disease/images/id_115...</td>\n",
       "      <td>5</td>\n",
       "      <td>Pepper</td>\n",
       "      <td>1</td>\n",
       "    </tr>\n",
       "    <tr>\n",
       "      <th>2</th>\n",
       "      <td>id_11543h.jpg</td>\n",
       "      <td>1.0</td>\n",
       "      <td>Pepper_Bacterial_Spot</td>\n",
       "      <td>234.046875</td>\n",
       "      <td>327.138158</td>\n",
       "      <td>252.712993</td>\n",
       "      <td>338.876645</td>\n",
       "      <td>/kaggle/input/ghana-crop-disease/images/id_115...</td>\n",
       "      <td>5</td>\n",
       "      <td>Pepper</td>\n",
       "      <td>1</td>\n",
       "    </tr>\n",
       "    <tr>\n",
       "      <th>3</th>\n",
       "      <td>id_11543h.jpg</td>\n",
       "      <td>1.0</td>\n",
       "      <td>Pepper_Bacterial_Spot</td>\n",
       "      <td>221.277138</td>\n",
       "      <td>340.411184</td>\n",
       "      <td>238.593750</td>\n",
       "      <td>354.651316</td>\n",
       "      <td>/kaggle/input/ghana-crop-disease/images/id_115...</td>\n",
       "      <td>5</td>\n",
       "      <td>Pepper</td>\n",
       "      <td>1</td>\n",
       "    </tr>\n",
       "    <tr>\n",
       "      <th>4</th>\n",
       "      <td>id_11ee1c.jpg</td>\n",
       "      <td>1.0</td>\n",
       "      <td>Pepper_Fusarium</td>\n",
       "      <td>2000.563598</td>\n",
       "      <td>989.588908</td>\n",
       "      <td>2184.252196</td>\n",
       "      <td>1401.748952</td>\n",
       "      <td>/kaggle/input/ghana-crop-disease/images/id_11e...</td>\n",
       "      <td>8</td>\n",
       "      <td>Pepper</td>\n",
       "      <td>1</td>\n",
       "    </tr>\n",
       "    <tr>\n",
       "      <th>...</th>\n",
       "      <td>...</td>\n",
       "      <td>...</td>\n",
       "      <td>...</td>\n",
       "      <td>...</td>\n",
       "      <td>...</td>\n",
       "      <td>...</td>\n",
       "      <td>...</td>\n",
       "      <td>...</td>\n",
       "      <td>...</td>\n",
       "      <td>...</td>\n",
       "      <td>...</td>\n",
       "    </tr>\n",
       "    <tr>\n",
       "      <th>41024</th>\n",
       "      <td>id_38x7ln.jpg</td>\n",
       "      <td>1.0</td>\n",
       "      <td>Corn_Streak</td>\n",
       "      <td>608.472222</td>\n",
       "      <td>817.741770</td>\n",
       "      <td>736.352881</td>\n",
       "      <td>997.047325</td>\n",
       "      <td>/kaggle/input/ghana-crop-disease/images/id_38x...</td>\n",
       "      <td>4</td>\n",
       "      <td>Corn</td>\n",
       "      <td>1</td>\n",
       "    </tr>\n",
       "    <tr>\n",
       "      <th>41025</th>\n",
       "      <td>id_7uqmqp.jpg</td>\n",
       "      <td>1.0</td>\n",
       "      <td>Corn_Healthy</td>\n",
       "      <td>1483.095425</td>\n",
       "      <td>818.249483</td>\n",
       "      <td>1786.752393</td>\n",
       "      <td>1152.860096</td>\n",
       "      <td>/kaggle/input/ghana-crop-disease/images/id_7uq...</td>\n",
       "      <td>2</td>\n",
       "      <td>Corn</td>\n",
       "      <td>1</td>\n",
       "    </tr>\n",
       "    <tr>\n",
       "      <th>41026</th>\n",
       "      <td>id_bnqorw.jpg</td>\n",
       "      <td>1.0</td>\n",
       "      <td>Corn_Cercospora_Leaf_Spot</td>\n",
       "      <td>943.260816</td>\n",
       "      <td>1015.079256</td>\n",
       "      <td>1007.928503</td>\n",
       "      <td>1133.177119</td>\n",
       "      <td>/kaggle/input/ghana-crop-disease/images/id_bnq...</td>\n",
       "      <td>0</td>\n",
       "      <td>Corn</td>\n",
       "      <td>1</td>\n",
       "    </tr>\n",
       "    <tr>\n",
       "      <th>41027</th>\n",
       "      <td>id_m2kklk.jpg</td>\n",
       "      <td>1.0</td>\n",
       "      <td>Tomato_Septoria</td>\n",
       "      <td>1855.337090</td>\n",
       "      <td>1748.733977</td>\n",
       "      <td>2046.688525</td>\n",
       "      <td>1868.580553</td>\n",
       "      <td>/kaggle/input/ghana-crop-disease/images/id_m2k...</td>\n",
       "      <td>22</td>\n",
       "      <td>Tomato</td>\n",
       "      <td>1</td>\n",
       "    </tr>\n",
       "    <tr>\n",
       "      <th>41028</th>\n",
       "      <td>id_zie6j4.jpg</td>\n",
       "      <td>1.0</td>\n",
       "      <td>Tomato_Septoria</td>\n",
       "      <td>2885.765343</td>\n",
       "      <td>2666.672615</td>\n",
       "      <td>3024.000000</td>\n",
       "      <td>2832.242863</td>\n",
       "      <td>/kaggle/input/ghana-crop-disease/images/id_zie...</td>\n",
       "      <td>22</td>\n",
       "      <td>Tomato</td>\n",
       "      <td>2</td>\n",
       "    </tr>\n",
       "  </tbody>\n",
       "</table>\n",
       "<p>41029 rows × 11 columns</p>\n",
       "</div>"
      ],
      "text/plain": [
       "            Image_ID  confidence                      class         ymin  \\\n",
       "0      id_11543h.jpg         1.0      Pepper_Bacterial_Spot   194.649671   \n",
       "1      id_11543h.jpg         1.0      Pepper_Bacterial_Spot   149.632401   \n",
       "2      id_11543h.jpg         1.0      Pepper_Bacterial_Spot   234.046875   \n",
       "3      id_11543h.jpg         1.0      Pepper_Bacterial_Spot   221.277138   \n",
       "4      id_11ee1c.jpg         1.0            Pepper_Fusarium  2000.563598   \n",
       "...              ...         ...                        ...          ...   \n",
       "41024  id_38x7ln.jpg         1.0                Corn_Streak   608.472222   \n",
       "41025  id_7uqmqp.jpg         1.0               Corn_Healthy  1483.095425   \n",
       "41026  id_bnqorw.jpg         1.0  Corn_Cercospora_Leaf_Spot   943.260816   \n",
       "41027  id_m2kklk.jpg         1.0            Tomato_Septoria  1855.337090   \n",
       "41028  id_zie6j4.jpg         1.0            Tomato_Septoria  2885.765343   \n",
       "\n",
       "              xmin         ymax         xmax  \\\n",
       "0       328.803454   208.107730   341.967928   \n",
       "1       256.768914   162.910362   266.195724   \n",
       "2       327.138158   252.712993   338.876645   \n",
       "3       340.411184   238.593750   354.651316   \n",
       "4       989.588908  2184.252196  1401.748952   \n",
       "...            ...          ...          ...   \n",
       "41024   817.741770   736.352881   997.047325   \n",
       "41025   818.249483  1786.752393  1152.860096   \n",
       "41026  1015.079256  1007.928503  1133.177119   \n",
       "41027  1748.733977  2046.688525  1868.580553   \n",
       "41028  2666.672615  3024.000000  2832.242863   \n",
       "\n",
       "                                                    path  category_id    crop  \\\n",
       "0      /kaggle/input/ghana-crop-disease/images/id_115...            5  Pepper   \n",
       "1      /kaggle/input/ghana-crop-disease/images/id_115...            5  Pepper   \n",
       "2      /kaggle/input/ghana-crop-disease/images/id_115...            5  Pepper   \n",
       "3      /kaggle/input/ghana-crop-disease/images/id_115...            5  Pepper   \n",
       "4      /kaggle/input/ghana-crop-disease/images/id_11e...            8  Pepper   \n",
       "...                                                  ...          ...     ...   \n",
       "41024  /kaggle/input/ghana-crop-disease/images/id_38x...            4    Corn   \n",
       "41025  /kaggle/input/ghana-crop-disease/images/id_7uq...            2    Corn   \n",
       "41026  /kaggle/input/ghana-crop-disease/images/id_bnq...            0    Corn   \n",
       "41027  /kaggle/input/ghana-crop-disease/images/id_m2k...           22  Tomato   \n",
       "41028  /kaggle/input/ghana-crop-disease/images/id_zie...           22  Tomato   \n",
       "\n",
       "       n_crop  \n",
       "0           1  \n",
       "1           1  \n",
       "2           1  \n",
       "3           1  \n",
       "4           1  \n",
       "...       ...  \n",
       "41024       1  \n",
       "41025       1  \n",
       "41026       1  \n",
       "41027       1  \n",
       "41028       2  \n",
       "\n",
       "[41029 rows x 11 columns]"
      ]
     },
     "execution_count": 2,
     "metadata": {},
     "output_type": "execute_result"
    }
   ],
   "source": [
    "DIR_DATA = '/kaggle/input/ghana-crop-disease'\n",
    "df = pd.read_csv(f'{DIR_DATA}/Train.csv')\n",
    "CLASSES = sorted(df['class'].unique())\n",
    "CLASSES = {c:i for i,c in enumerate(CLASSES)}\n",
    "print(CLASSES)\n",
    "df['path'] = f'{DIR_DATA}/images/'+df.Image_ID\n",
    "df['category_id'] = df['class'].map(CLASSES).fillna(-1)\n",
    "df['crop'] = df['class'].str.split('_').str[0]\n",
    "d = df.groupby('Image_ID')['crop'].nunique()\n",
    "df = pd.merge(df,pd.DataFrame({'Image_ID':d.index,'n_crop':d.values}),on='Image_ID',how='left')\n",
    "df"
   ]
  },
  {
   "cell_type": "code",
   "execution_count": 3,
   "metadata": {
    "execution": {
     "iopub.execute_input": "2025-02-01T18:29:12.639649Z",
     "iopub.status.busy": "2025-02-01T18:29:12.639398Z",
     "iopub.status.idle": "2025-02-01T18:29:12.650277Z",
     "shell.execute_reply": "2025-02-01T18:29:12.649440Z",
     "shell.execute_reply.started": "2025-02-01T18:29:12.639627Z"
    },
    "id": "3dbab247",
    "trusted": true
   },
   "outputs": [
    {
     "data": {
      "text/plain": [
       "crop\n",
       "Tomato    17156\n",
       "Corn      13128\n",
       "Pepper    10745\n",
       "Name: count, dtype: int64"
      ]
     },
     "execution_count": 3,
     "metadata": {},
     "output_type": "execute_result"
    }
   ],
   "source": [
    "df.crop.value_counts()"
   ]
  },
  {
   "cell_type": "code",
   "execution_count": 4,
   "metadata": {
    "execution": {
     "iopub.execute_input": "2025-02-01T18:29:12.651927Z",
     "iopub.status.busy": "2025-02-01T18:29:12.651673Z",
     "iopub.status.idle": "2025-02-01T18:29:12.672811Z",
     "shell.execute_reply": "2025-02-01T18:29:12.672050Z",
     "shell.execute_reply.started": "2025-02-01T18:29:12.651904Z"
    },
    "trusted": true
   },
   "outputs": [],
   "source": [
    "df = df[df['crop'] != 'Corn']\n",
    "df = df.reset_index(drop=True)\n"
   ]
  },
  {
   "cell_type": "code",
   "execution_count": 5,
   "metadata": {
    "execution": {
     "iopub.execute_input": "2025-02-01T18:29:12.674250Z",
     "iopub.status.busy": "2025-02-01T18:29:12.673883Z",
     "iopub.status.idle": "2025-02-01T18:29:12.688166Z",
     "shell.execute_reply": "2025-02-01T18:29:12.687455Z",
     "shell.execute_reply.started": "2025-02-01T18:29:12.674215Z"
    },
    "trusted": true
   },
   "outputs": [
    {
     "data": {
      "text/html": [
       "<div>\n",
       "<style scoped>\n",
       "    .dataframe tbody tr th:only-of-type {\n",
       "        vertical-align: middle;\n",
       "    }\n",
       "\n",
       "    .dataframe tbody tr th {\n",
       "        vertical-align: top;\n",
       "    }\n",
       "\n",
       "    .dataframe thead th {\n",
       "        text-align: right;\n",
       "    }\n",
       "</style>\n",
       "<table border=\"1\" class=\"dataframe\">\n",
       "  <thead>\n",
       "    <tr style=\"text-align: right;\">\n",
       "      <th></th>\n",
       "      <th>Image_ID</th>\n",
       "      <th>confidence</th>\n",
       "      <th>class</th>\n",
       "      <th>ymin</th>\n",
       "      <th>xmin</th>\n",
       "      <th>ymax</th>\n",
       "      <th>xmax</th>\n",
       "      <th>path</th>\n",
       "      <th>category_id</th>\n",
       "      <th>crop</th>\n",
       "      <th>n_crop</th>\n",
       "    </tr>\n",
       "  </thead>\n",
       "  <tbody>\n",
       "    <tr>\n",
       "      <th>0</th>\n",
       "      <td>id_11543h.jpg</td>\n",
       "      <td>1.0</td>\n",
       "      <td>Pepper_Bacterial_Spot</td>\n",
       "      <td>194.649671</td>\n",
       "      <td>328.803454</td>\n",
       "      <td>208.107730</td>\n",
       "      <td>341.967928</td>\n",
       "      <td>/kaggle/input/ghana-crop-disease/images/id_115...</td>\n",
       "      <td>5</td>\n",
       "      <td>Pepper</td>\n",
       "      <td>1</td>\n",
       "    </tr>\n",
       "    <tr>\n",
       "      <th>1</th>\n",
       "      <td>id_11543h.jpg</td>\n",
       "      <td>1.0</td>\n",
       "      <td>Pepper_Bacterial_Spot</td>\n",
       "      <td>149.632401</td>\n",
       "      <td>256.768914</td>\n",
       "      <td>162.910362</td>\n",
       "      <td>266.195724</td>\n",
       "      <td>/kaggle/input/ghana-crop-disease/images/id_115...</td>\n",
       "      <td>5</td>\n",
       "      <td>Pepper</td>\n",
       "      <td>1</td>\n",
       "    </tr>\n",
       "    <tr>\n",
       "      <th>2</th>\n",
       "      <td>id_11543h.jpg</td>\n",
       "      <td>1.0</td>\n",
       "      <td>Pepper_Bacterial_Spot</td>\n",
       "      <td>234.046875</td>\n",
       "      <td>327.138158</td>\n",
       "      <td>252.712993</td>\n",
       "      <td>338.876645</td>\n",
       "      <td>/kaggle/input/ghana-crop-disease/images/id_115...</td>\n",
       "      <td>5</td>\n",
       "      <td>Pepper</td>\n",
       "      <td>1</td>\n",
       "    </tr>\n",
       "    <tr>\n",
       "      <th>3</th>\n",
       "      <td>id_11543h.jpg</td>\n",
       "      <td>1.0</td>\n",
       "      <td>Pepper_Bacterial_Spot</td>\n",
       "      <td>221.277138</td>\n",
       "      <td>340.411184</td>\n",
       "      <td>238.593750</td>\n",
       "      <td>354.651316</td>\n",
       "      <td>/kaggle/input/ghana-crop-disease/images/id_115...</td>\n",
       "      <td>5</td>\n",
       "      <td>Pepper</td>\n",
       "      <td>1</td>\n",
       "    </tr>\n",
       "    <tr>\n",
       "      <th>4</th>\n",
       "      <td>id_11ee1c.jpg</td>\n",
       "      <td>1.0</td>\n",
       "      <td>Pepper_Fusarium</td>\n",
       "      <td>2000.563598</td>\n",
       "      <td>989.588908</td>\n",
       "      <td>2184.252196</td>\n",
       "      <td>1401.748952</td>\n",
       "      <td>/kaggle/input/ghana-crop-disease/images/id_11e...</td>\n",
       "      <td>8</td>\n",
       "      <td>Pepper</td>\n",
       "      <td>1</td>\n",
       "    </tr>\n",
       "    <tr>\n",
       "      <th>...</th>\n",
       "      <td>...</td>\n",
       "      <td>...</td>\n",
       "      <td>...</td>\n",
       "      <td>...</td>\n",
       "      <td>...</td>\n",
       "      <td>...</td>\n",
       "      <td>...</td>\n",
       "      <td>...</td>\n",
       "      <td>...</td>\n",
       "      <td>...</td>\n",
       "      <td>...</td>\n",
       "    </tr>\n",
       "    <tr>\n",
       "      <th>27896</th>\n",
       "      <td>id_bgm8xw.jpg</td>\n",
       "      <td>1.0</td>\n",
       "      <td>Pepper_Leaf_Mosaic</td>\n",
       "      <td>1734.895719</td>\n",
       "      <td>3265.010031</td>\n",
       "      <td>1981.568332</td>\n",
       "      <td>3497.658179</td>\n",
       "      <td>/kaggle/input/ghana-crop-disease/images/id_bgm...</td>\n",
       "      <td>13</td>\n",
       "      <td>Pepper</td>\n",
       "      <td>1</td>\n",
       "    </tr>\n",
       "    <tr>\n",
       "      <th>27897</th>\n",
       "      <td>id_c7lws4.jpg</td>\n",
       "      <td>1.0</td>\n",
       "      <td>Pepper_Bacterial_Spot</td>\n",
       "      <td>1913.940651</td>\n",
       "      <td>961.942983</td>\n",
       "      <td>1991.450533</td>\n",
       "      <td>1056.455069</td>\n",
       "      <td>/kaggle/input/ghana-crop-disease/images/id_c7l...</td>\n",
       "      <td>5</td>\n",
       "      <td>Pepper</td>\n",
       "      <td>1</td>\n",
       "    </tr>\n",
       "    <tr>\n",
       "      <th>27898</th>\n",
       "      <td>id_tw4lex.jpg</td>\n",
       "      <td>1.0</td>\n",
       "      <td>Pepper_Bacterial_Spot</td>\n",
       "      <td>1110.008844</td>\n",
       "      <td>2232.019671</td>\n",
       "      <td>1193.680719</td>\n",
       "      <td>2291.961126</td>\n",
       "      <td>/kaggle/input/ghana-crop-disease/images/id_tw4...</td>\n",
       "      <td>5</td>\n",
       "      <td>Pepper</td>\n",
       "      <td>1</td>\n",
       "    </tr>\n",
       "    <tr>\n",
       "      <th>27899</th>\n",
       "      <td>id_m2kklk.jpg</td>\n",
       "      <td>1.0</td>\n",
       "      <td>Tomato_Septoria</td>\n",
       "      <td>1855.337090</td>\n",
       "      <td>1748.733977</td>\n",
       "      <td>2046.688525</td>\n",
       "      <td>1868.580553</td>\n",
       "      <td>/kaggle/input/ghana-crop-disease/images/id_m2k...</td>\n",
       "      <td>22</td>\n",
       "      <td>Tomato</td>\n",
       "      <td>1</td>\n",
       "    </tr>\n",
       "    <tr>\n",
       "      <th>27900</th>\n",
       "      <td>id_zie6j4.jpg</td>\n",
       "      <td>1.0</td>\n",
       "      <td>Tomato_Septoria</td>\n",
       "      <td>2885.765343</td>\n",
       "      <td>2666.672615</td>\n",
       "      <td>3024.000000</td>\n",
       "      <td>2832.242863</td>\n",
       "      <td>/kaggle/input/ghana-crop-disease/images/id_zie...</td>\n",
       "      <td>22</td>\n",
       "      <td>Tomato</td>\n",
       "      <td>2</td>\n",
       "    </tr>\n",
       "  </tbody>\n",
       "</table>\n",
       "<p>27901 rows × 11 columns</p>\n",
       "</div>"
      ],
      "text/plain": [
       "            Image_ID  confidence                  class         ymin  \\\n",
       "0      id_11543h.jpg         1.0  Pepper_Bacterial_Spot   194.649671   \n",
       "1      id_11543h.jpg         1.0  Pepper_Bacterial_Spot   149.632401   \n",
       "2      id_11543h.jpg         1.0  Pepper_Bacterial_Spot   234.046875   \n",
       "3      id_11543h.jpg         1.0  Pepper_Bacterial_Spot   221.277138   \n",
       "4      id_11ee1c.jpg         1.0        Pepper_Fusarium  2000.563598   \n",
       "...              ...         ...                    ...          ...   \n",
       "27896  id_bgm8xw.jpg         1.0     Pepper_Leaf_Mosaic  1734.895719   \n",
       "27897  id_c7lws4.jpg         1.0  Pepper_Bacterial_Spot  1913.940651   \n",
       "27898  id_tw4lex.jpg         1.0  Pepper_Bacterial_Spot  1110.008844   \n",
       "27899  id_m2kklk.jpg         1.0        Tomato_Septoria  1855.337090   \n",
       "27900  id_zie6j4.jpg         1.0        Tomato_Septoria  2885.765343   \n",
       "\n",
       "              xmin         ymax         xmax  \\\n",
       "0       328.803454   208.107730   341.967928   \n",
       "1       256.768914   162.910362   266.195724   \n",
       "2       327.138158   252.712993   338.876645   \n",
       "3       340.411184   238.593750   354.651316   \n",
       "4       989.588908  2184.252196  1401.748952   \n",
       "...            ...          ...          ...   \n",
       "27896  3265.010031  1981.568332  3497.658179   \n",
       "27897   961.942983  1991.450533  1056.455069   \n",
       "27898  2232.019671  1193.680719  2291.961126   \n",
       "27899  1748.733977  2046.688525  1868.580553   \n",
       "27900  2666.672615  3024.000000  2832.242863   \n",
       "\n",
       "                                                    path  category_id    crop  \\\n",
       "0      /kaggle/input/ghana-crop-disease/images/id_115...            5  Pepper   \n",
       "1      /kaggle/input/ghana-crop-disease/images/id_115...            5  Pepper   \n",
       "2      /kaggle/input/ghana-crop-disease/images/id_115...            5  Pepper   \n",
       "3      /kaggle/input/ghana-crop-disease/images/id_115...            5  Pepper   \n",
       "4      /kaggle/input/ghana-crop-disease/images/id_11e...            8  Pepper   \n",
       "...                                                  ...          ...     ...   \n",
       "27896  /kaggle/input/ghana-crop-disease/images/id_bgm...           13  Pepper   \n",
       "27897  /kaggle/input/ghana-crop-disease/images/id_c7l...            5  Pepper   \n",
       "27898  /kaggle/input/ghana-crop-disease/images/id_tw4...            5  Pepper   \n",
       "27899  /kaggle/input/ghana-crop-disease/images/id_m2k...           22  Tomato   \n",
       "27900  /kaggle/input/ghana-crop-disease/images/id_zie...           22  Tomato   \n",
       "\n",
       "       n_crop  \n",
       "0           1  \n",
       "1           1  \n",
       "2           1  \n",
       "3           1  \n",
       "4           1  \n",
       "...       ...  \n",
       "27896       1  \n",
       "27897       1  \n",
       "27898       1  \n",
       "27899       1  \n",
       "27900       2  \n",
       "\n",
       "[27901 rows x 11 columns]"
      ]
     },
     "execution_count": 5,
     "metadata": {},
     "output_type": "execute_result"
    }
   ],
   "source": [
    "df"
   ]
  },
  {
   "cell_type": "code",
   "execution_count": 6,
   "metadata": {
    "colab": {
     "base_uri": "https://localhost:8080/",
     "height": 300
    },
    "execution": {
     "iopub.execute_input": "2025-02-01T18:29:12.689318Z",
     "iopub.status.busy": "2025-02-01T18:29:12.689033Z",
     "iopub.status.idle": "2025-02-01T18:29:12.727864Z",
     "shell.execute_reply": "2025-02-01T18:29:12.727046Z",
     "shell.execute_reply.started": "2025-02-01T18:29:12.689288Z"
    },
    "id": "ba09aecc",
    "outputId": "a2c7b6e6-cf7c-4092-fd6e-a1fad3472b57",
    "trusted": true
   },
   "outputs": [
    {
     "data": {
      "text/html": [
       "<div>\n",
       "<style scoped>\n",
       "    .dataframe tbody tr th:only-of-type {\n",
       "        vertical-align: middle;\n",
       "    }\n",
       "\n",
       "    .dataframe tbody tr th {\n",
       "        vertical-align: top;\n",
       "    }\n",
       "\n",
       "    .dataframe thead th {\n",
       "        text-align: right;\n",
       "    }\n",
       "</style>\n",
       "<table border=\"1\" class=\"dataframe\">\n",
       "  <thead>\n",
       "    <tr style=\"text-align: right;\">\n",
       "      <th></th>\n",
       "      <th>confidence</th>\n",
       "      <th>ymin</th>\n",
       "      <th>xmin</th>\n",
       "      <th>ymax</th>\n",
       "      <th>xmax</th>\n",
       "      <th>category_id</th>\n",
       "      <th>n_crop</th>\n",
       "    </tr>\n",
       "  </thead>\n",
       "  <tbody>\n",
       "    <tr>\n",
       "      <th>count</th>\n",
       "      <td>27901.0</td>\n",
       "      <td>27901.000000</td>\n",
       "      <td>27901.000000</td>\n",
       "      <td>27901.000000</td>\n",
       "      <td>27901.000000</td>\n",
       "      <td>27901.000000</td>\n",
       "      <td>27901.000000</td>\n",
       "    </tr>\n",
       "    <tr>\n",
       "      <th>mean</th>\n",
       "      <td>1.0</td>\n",
       "      <td>1187.015155</td>\n",
       "      <td>1599.322623</td>\n",
       "      <td>1376.917084</td>\n",
       "      <td>1804.155914</td>\n",
       "      <td>16.008709</td>\n",
       "      <td>1.214114</td>\n",
       "    </tr>\n",
       "    <tr>\n",
       "      <th>std</th>\n",
       "      <td>0.0</td>\n",
       "      <td>736.642289</td>\n",
       "      <td>937.692304</td>\n",
       "      <td>771.914279</td>\n",
       "      <td>981.480618</td>\n",
       "      <td>5.131521</td>\n",
       "      <td>0.410214</td>\n",
       "    </tr>\n",
       "    <tr>\n",
       "      <th>min</th>\n",
       "      <td>1.0</td>\n",
       "      <td>0.000000</td>\n",
       "      <td>0.000000</td>\n",
       "      <td>30.998991</td>\n",
       "      <td>17.225673</td>\n",
       "      <td>5.000000</td>\n",
       "      <td>1.000000</td>\n",
       "    </tr>\n",
       "    <tr>\n",
       "      <th>25%</th>\n",
       "      <td>1.0</td>\n",
       "      <td>576.523046</td>\n",
       "      <td>869.634298</td>\n",
       "      <td>714.815789</td>\n",
       "      <td>1002.458592</td>\n",
       "      <td>13.000000</td>\n",
       "      <td>1.000000</td>\n",
       "    </tr>\n",
       "    <tr>\n",
       "      <th>50%</th>\n",
       "      <td>1.0</td>\n",
       "      <td>1114.584309</td>\n",
       "      <td>1489.008077</td>\n",
       "      <td>1316.572254</td>\n",
       "      <td>1710.720121</td>\n",
       "      <td>17.000000</td>\n",
       "      <td>1.000000</td>\n",
       "    </tr>\n",
       "    <tr>\n",
       "      <th>75%</th>\n",
       "      <td>1.0</td>\n",
       "      <td>1732.780123</td>\n",
       "      <td>2260.502696</td>\n",
       "      <td>1955.386132</td>\n",
       "      <td>2510.273103</td>\n",
       "      <td>20.000000</td>\n",
       "      <td>1.000000</td>\n",
       "    </tr>\n",
       "    <tr>\n",
       "      <th>max</th>\n",
       "      <td>1.0</td>\n",
       "      <td>4295.942029</td>\n",
       "      <td>5908.600181</td>\n",
       "      <td>4459.818841</td>\n",
       "      <td>6567.427798</td>\n",
       "      <td>22.000000</td>\n",
       "      <td>2.000000</td>\n",
       "    </tr>\n",
       "  </tbody>\n",
       "</table>\n",
       "</div>"
      ],
      "text/plain": [
       "       confidence          ymin          xmin          ymax          xmax  \\\n",
       "count     27901.0  27901.000000  27901.000000  27901.000000  27901.000000   \n",
       "mean          1.0   1187.015155   1599.322623   1376.917084   1804.155914   \n",
       "std           0.0    736.642289    937.692304    771.914279    981.480618   \n",
       "min           1.0      0.000000      0.000000     30.998991     17.225673   \n",
       "25%           1.0    576.523046    869.634298    714.815789   1002.458592   \n",
       "50%           1.0   1114.584309   1489.008077   1316.572254   1710.720121   \n",
       "75%           1.0   1732.780123   2260.502696   1955.386132   2510.273103   \n",
       "max           1.0   4295.942029   5908.600181   4459.818841   6567.427798   \n",
       "\n",
       "        category_id        n_crop  \n",
       "count  27901.000000  27901.000000  \n",
       "mean      16.008709      1.214114  \n",
       "std        5.131521      0.410214  \n",
       "min        5.000000      1.000000  \n",
       "25%       13.000000      1.000000  \n",
       "50%       17.000000      1.000000  \n",
       "75%       20.000000      1.000000  \n",
       "max       22.000000      2.000000  "
      ]
     },
     "execution_count": 6,
     "metadata": {},
     "output_type": "execute_result"
    }
   ],
   "source": [
    "df.describe()"
   ]
  },
  {
   "cell_type": "code",
   "execution_count": 7,
   "metadata": {
    "colab": {
     "base_uri": "https://localhost:8080/",
     "height": 423
    },
    "execution": {
     "iopub.execute_input": "2025-02-01T18:29:12.729208Z",
     "iopub.status.busy": "2025-02-01T18:29:12.728887Z",
     "iopub.status.idle": "2025-02-01T18:29:14.076680Z",
     "shell.execute_reply": "2025-02-01T18:29:14.075841Z",
     "shell.execute_reply.started": "2025-02-01T18:29:12.729177Z"
    },
    "id": "abd139fd",
    "outputId": "d91b95e0-3dff-44b6-fa17-504e835253be",
    "trusted": true
   },
   "outputs": [
    {
     "data": {
      "text/html": [
       "<div>\n",
       "<style scoped>\n",
       "    .dataframe tbody tr th:only-of-type {\n",
       "        vertical-align: middle;\n",
       "    }\n",
       "\n",
       "    .dataframe tbody tr th {\n",
       "        vertical-align: top;\n",
       "    }\n",
       "\n",
       "    .dataframe thead th {\n",
       "        text-align: right;\n",
       "    }\n",
       "</style>\n",
       "<table border=\"1\" class=\"dataframe\">\n",
       "  <thead>\n",
       "    <tr style=\"text-align: right;\">\n",
       "      <th></th>\n",
       "      <th>Image_ID</th>\n",
       "      <th>confidence</th>\n",
       "      <th>class</th>\n",
       "      <th>ymin</th>\n",
       "      <th>xmin</th>\n",
       "      <th>ymax</th>\n",
       "      <th>xmax</th>\n",
       "      <th>path</th>\n",
       "      <th>category_id</th>\n",
       "      <th>crop</th>\n",
       "      <th>n_crop</th>\n",
       "      <th>fold</th>\n",
       "    </tr>\n",
       "  </thead>\n",
       "  <tbody>\n",
       "    <tr>\n",
       "      <th>0</th>\n",
       "      <td>id_11543h.jpg</td>\n",
       "      <td>1.0</td>\n",
       "      <td>Pepper_Bacterial_Spot</td>\n",
       "      <td>194.649671</td>\n",
       "      <td>328.803454</td>\n",
       "      <td>208.107730</td>\n",
       "      <td>341.967928</td>\n",
       "      <td>/kaggle/input/ghana-crop-disease/images/id_115...</td>\n",
       "      <td>5</td>\n",
       "      <td>Pepper</td>\n",
       "      <td>1</td>\n",
       "      <td>0</td>\n",
       "    </tr>\n",
       "    <tr>\n",
       "      <th>1</th>\n",
       "      <td>id_11543h.jpg</td>\n",
       "      <td>1.0</td>\n",
       "      <td>Pepper_Bacterial_Spot</td>\n",
       "      <td>149.632401</td>\n",
       "      <td>256.768914</td>\n",
       "      <td>162.910362</td>\n",
       "      <td>266.195724</td>\n",
       "      <td>/kaggle/input/ghana-crop-disease/images/id_115...</td>\n",
       "      <td>5</td>\n",
       "      <td>Pepper</td>\n",
       "      <td>1</td>\n",
       "      <td>0</td>\n",
       "    </tr>\n",
       "    <tr>\n",
       "      <th>2</th>\n",
       "      <td>id_11543h.jpg</td>\n",
       "      <td>1.0</td>\n",
       "      <td>Pepper_Bacterial_Spot</td>\n",
       "      <td>234.046875</td>\n",
       "      <td>327.138158</td>\n",
       "      <td>252.712993</td>\n",
       "      <td>338.876645</td>\n",
       "      <td>/kaggle/input/ghana-crop-disease/images/id_115...</td>\n",
       "      <td>5</td>\n",
       "      <td>Pepper</td>\n",
       "      <td>1</td>\n",
       "      <td>0</td>\n",
       "    </tr>\n",
       "    <tr>\n",
       "      <th>3</th>\n",
       "      <td>id_11543h.jpg</td>\n",
       "      <td>1.0</td>\n",
       "      <td>Pepper_Bacterial_Spot</td>\n",
       "      <td>221.277138</td>\n",
       "      <td>340.411184</td>\n",
       "      <td>238.593750</td>\n",
       "      <td>354.651316</td>\n",
       "      <td>/kaggle/input/ghana-crop-disease/images/id_115...</td>\n",
       "      <td>5</td>\n",
       "      <td>Pepper</td>\n",
       "      <td>1</td>\n",
       "      <td>0</td>\n",
       "    </tr>\n",
       "    <tr>\n",
       "      <th>4</th>\n",
       "      <td>id_11ee1c.jpg</td>\n",
       "      <td>1.0</td>\n",
       "      <td>Pepper_Fusarium</td>\n",
       "      <td>2000.563598</td>\n",
       "      <td>989.588908</td>\n",
       "      <td>2184.252196</td>\n",
       "      <td>1401.748952</td>\n",
       "      <td>/kaggle/input/ghana-crop-disease/images/id_11e...</td>\n",
       "      <td>8</td>\n",
       "      <td>Pepper</td>\n",
       "      <td>1</td>\n",
       "      <td>0</td>\n",
       "    </tr>\n",
       "    <tr>\n",
       "      <th>...</th>\n",
       "      <td>...</td>\n",
       "      <td>...</td>\n",
       "      <td>...</td>\n",
       "      <td>...</td>\n",
       "      <td>...</td>\n",
       "      <td>...</td>\n",
       "      <td>...</td>\n",
       "      <td>...</td>\n",
       "      <td>...</td>\n",
       "      <td>...</td>\n",
       "      <td>...</td>\n",
       "      <td>...</td>\n",
       "    </tr>\n",
       "    <tr>\n",
       "      <th>27896</th>\n",
       "      <td>id_bgm8xw.jpg</td>\n",
       "      <td>1.0</td>\n",
       "      <td>Pepper_Leaf_Mosaic</td>\n",
       "      <td>1734.895719</td>\n",
       "      <td>3265.010031</td>\n",
       "      <td>1981.568332</td>\n",
       "      <td>3497.658179</td>\n",
       "      <td>/kaggle/input/ghana-crop-disease/images/id_bgm...</td>\n",
       "      <td>13</td>\n",
       "      <td>Pepper</td>\n",
       "      <td>1</td>\n",
       "      <td>1</td>\n",
       "    </tr>\n",
       "    <tr>\n",
       "      <th>27897</th>\n",
       "      <td>id_c7lws4.jpg</td>\n",
       "      <td>1.0</td>\n",
       "      <td>Pepper_Bacterial_Spot</td>\n",
       "      <td>1913.940651</td>\n",
       "      <td>961.942983</td>\n",
       "      <td>1991.450533</td>\n",
       "      <td>1056.455069</td>\n",
       "      <td>/kaggle/input/ghana-crop-disease/images/id_c7l...</td>\n",
       "      <td>5</td>\n",
       "      <td>Pepper</td>\n",
       "      <td>1</td>\n",
       "      <td>1</td>\n",
       "    </tr>\n",
       "    <tr>\n",
       "      <th>27898</th>\n",
       "      <td>id_tw4lex.jpg</td>\n",
       "      <td>1.0</td>\n",
       "      <td>Pepper_Bacterial_Spot</td>\n",
       "      <td>1110.008844</td>\n",
       "      <td>2232.019671</td>\n",
       "      <td>1193.680719</td>\n",
       "      <td>2291.961126</td>\n",
       "      <td>/kaggle/input/ghana-crop-disease/images/id_tw4...</td>\n",
       "      <td>5</td>\n",
       "      <td>Pepper</td>\n",
       "      <td>1</td>\n",
       "      <td>0</td>\n",
       "    </tr>\n",
       "    <tr>\n",
       "      <th>27899</th>\n",
       "      <td>id_m2kklk.jpg</td>\n",
       "      <td>1.0</td>\n",
       "      <td>Tomato_Septoria</td>\n",
       "      <td>1855.337090</td>\n",
       "      <td>1748.733977</td>\n",
       "      <td>2046.688525</td>\n",
       "      <td>1868.580553</td>\n",
       "      <td>/kaggle/input/ghana-crop-disease/images/id_m2k...</td>\n",
       "      <td>22</td>\n",
       "      <td>Tomato</td>\n",
       "      <td>1</td>\n",
       "      <td>4</td>\n",
       "    </tr>\n",
       "    <tr>\n",
       "      <th>27900</th>\n",
       "      <td>id_zie6j4.jpg</td>\n",
       "      <td>1.0</td>\n",
       "      <td>Tomato_Septoria</td>\n",
       "      <td>2885.765343</td>\n",
       "      <td>2666.672615</td>\n",
       "      <td>3024.000000</td>\n",
       "      <td>2832.242863</td>\n",
       "      <td>/kaggle/input/ghana-crop-disease/images/id_zie...</td>\n",
       "      <td>22</td>\n",
       "      <td>Tomato</td>\n",
       "      <td>2</td>\n",
       "      <td>1</td>\n",
       "    </tr>\n",
       "  </tbody>\n",
       "</table>\n",
       "<p>27901 rows × 12 columns</p>\n",
       "</div>"
      ],
      "text/plain": [
       "            Image_ID  confidence                  class         ymin  \\\n",
       "0      id_11543h.jpg         1.0  Pepper_Bacterial_Spot   194.649671   \n",
       "1      id_11543h.jpg         1.0  Pepper_Bacterial_Spot   149.632401   \n",
       "2      id_11543h.jpg         1.0  Pepper_Bacterial_Spot   234.046875   \n",
       "3      id_11543h.jpg         1.0  Pepper_Bacterial_Spot   221.277138   \n",
       "4      id_11ee1c.jpg         1.0        Pepper_Fusarium  2000.563598   \n",
       "...              ...         ...                    ...          ...   \n",
       "27896  id_bgm8xw.jpg         1.0     Pepper_Leaf_Mosaic  1734.895719   \n",
       "27897  id_c7lws4.jpg         1.0  Pepper_Bacterial_Spot  1913.940651   \n",
       "27898  id_tw4lex.jpg         1.0  Pepper_Bacterial_Spot  1110.008844   \n",
       "27899  id_m2kklk.jpg         1.0        Tomato_Septoria  1855.337090   \n",
       "27900  id_zie6j4.jpg         1.0        Tomato_Septoria  2885.765343   \n",
       "\n",
       "              xmin         ymax         xmax  \\\n",
       "0       328.803454   208.107730   341.967928   \n",
       "1       256.768914   162.910362   266.195724   \n",
       "2       327.138158   252.712993   338.876645   \n",
       "3       340.411184   238.593750   354.651316   \n",
       "4       989.588908  2184.252196  1401.748952   \n",
       "...            ...          ...          ...   \n",
       "27896  3265.010031  1981.568332  3497.658179   \n",
       "27897   961.942983  1991.450533  1056.455069   \n",
       "27898  2232.019671  1193.680719  2291.961126   \n",
       "27899  1748.733977  2046.688525  1868.580553   \n",
       "27900  2666.672615  3024.000000  2832.242863   \n",
       "\n",
       "                                                    path  category_id    crop  \\\n",
       "0      /kaggle/input/ghana-crop-disease/images/id_115...            5  Pepper   \n",
       "1      /kaggle/input/ghana-crop-disease/images/id_115...            5  Pepper   \n",
       "2      /kaggle/input/ghana-crop-disease/images/id_115...            5  Pepper   \n",
       "3      /kaggle/input/ghana-crop-disease/images/id_115...            5  Pepper   \n",
       "4      /kaggle/input/ghana-crop-disease/images/id_11e...            8  Pepper   \n",
       "...                                                  ...          ...     ...   \n",
       "27896  /kaggle/input/ghana-crop-disease/images/id_bgm...           13  Pepper   \n",
       "27897  /kaggle/input/ghana-crop-disease/images/id_c7l...            5  Pepper   \n",
       "27898  /kaggle/input/ghana-crop-disease/images/id_tw4...            5  Pepper   \n",
       "27899  /kaggle/input/ghana-crop-disease/images/id_m2k...           22  Tomato   \n",
       "27900  /kaggle/input/ghana-crop-disease/images/id_zie...           22  Tomato   \n",
       "\n",
       "       n_crop  fold  \n",
       "0           1     0  \n",
       "1           1     0  \n",
       "2           1     0  \n",
       "3           1     0  \n",
       "4           1     0  \n",
       "...       ...   ...  \n",
       "27896       1     1  \n",
       "27897       1     1  \n",
       "27898       1     0  \n",
       "27899       1     4  \n",
       "27900       2     1  \n",
       "\n",
       "[27901 rows x 12 columns]"
      ]
     },
     "execution_count": 7,
     "metadata": {},
     "output_type": "execute_result"
    }
   ],
   "source": [
    "def split_data(df):\n",
    "\n",
    "    gkf  = StratifiedGroupKFold(n_splits=N_SPLITS,shuffle=True,random_state=RANDOM_STATE)\n",
    "\n",
    "    df['fold'] = -1\n",
    "\n",
    "    for fold_id, (train_index, test_index) in enumerate(gkf.split(df,y=df['class'],groups=df.Image_ID)):\n",
    "\n",
    "        df.loc[test_index,'fold'] = fold_id\n",
    "\n",
    "    return df\n",
    "\n",
    "\n",
    "df = split_data(df)\n",
    "df"
   ]
  },
  {
   "cell_type": "code",
   "execution_count": 8,
   "metadata": {
    "colab": {
     "base_uri": "https://localhost:8080/",
     "height": 836
    },
    "execution": {
     "iopub.execute_input": "2025-02-01T18:29:14.077745Z",
     "iopub.status.busy": "2025-02-01T18:29:14.077453Z",
     "iopub.status.idle": "2025-02-01T18:29:14.085172Z",
     "shell.execute_reply": "2025-02-01T18:29:14.084369Z",
     "shell.execute_reply.started": "2025-02-01T18:29:14.077722Z"
    },
    "id": "_PXwwQ0ACBvy",
    "outputId": "177b7870-339c-42bf-f51b-448bbdb9d9a6",
    "trusted": true
   },
   "outputs": [
    {
     "data": {
      "text/plain": [
       "class\n",
       "Tomato_Septoria          6483\n",
       "Tomato_Late_Blight       3918\n",
       "Tomato_Healthy           2872\n",
       "Pepper_Septoria          2295\n",
       "Pepper_Leaf_Mosaic       2113\n",
       "Tomato_Early_Blight      1946\n",
       "Pepper_Bacterial_Spot    1943\n",
       "Pepper_Leaf_Curl         1530\n",
       "Tomato_Fusarium           882\n",
       "Pepper_Healthy            736\n",
       "Pepper_Late_Blight        575\n",
       "Pepper_Leaf_Blight        508\n",
       "Tomato_Bacterial_Spot     484\n",
       "Pepper_Fusarium           472\n",
       "Pepper_Cercospora         472\n",
       "Tomato_Leaf_Curl          437\n",
       "Tomato_Mosaic             134\n",
       "Pepper_Early_Blight       101\n",
       "Name: count, dtype: int64"
      ]
     },
     "execution_count": 8,
     "metadata": {},
     "output_type": "execute_result"
    }
   ],
   "source": [
    "df['class'].value_counts()"
   ]
  },
  {
   "cell_type": "code",
   "execution_count": 9,
   "metadata": {
    "colab": {
     "base_uri": "https://localhost:8080/"
    },
    "execution": {
     "iopub.execute_input": "2025-02-01T18:29:14.087660Z",
     "iopub.status.busy": "2025-02-01T18:29:14.087460Z",
     "iopub.status.idle": "2025-02-01T18:29:14.115882Z",
     "shell.execute_reply": "2025-02-01T18:29:14.115162Z",
     "shell.execute_reply.started": "2025-02-01T18:29:14.087641Z"
    },
    "id": "9fd59659-1250-4c29-8b0e-1534df273197",
    "outputId": "d46d3296-ebb9-42fc-c7c8-c48e237cf7e2",
    "trusted": true
   },
   "outputs": [
    {
     "name": "stdout",
     "output_type": "stream",
     "text": [
      "18 {'Pepper_Bacterial_Spot': 0, 'Pepper_Cercospora': 1, 'Pepper_Early_Blight': 2, 'Pepper_Fusarium': 3, 'Pepper_Healthy': 4, 'Pepper_Late_Blight': 5, 'Pepper_Leaf_Blight': 6, 'Pepper_Leaf_Curl': 7, 'Pepper_Leaf_Mosaic': 8, 'Pepper_Septoria': 9, 'Tomato_Bacterial_Spot': 10, 'Tomato_Early_Blight': 11, 'Tomato_Fusarium': 12, 'Tomato_Healthy': 13, 'Tomato_Late_Blight': 14, 'Tomato_Leaf_Curl': 15, 'Tomato_Mosaic': 16, 'Tomato_Septoria': 17}\n"
     ]
    }
   ],
   "source": [
    "cls = ['Pepper_Early_Blight', 'Pepper_Late_Blight', 'Pepper_Septoria']\n",
    "df_pepper = df[df['class'].isin(cls)].copy()\n",
    "df = df[~((df.n_crop>1)&(df.crop=='Tomato'))].copy()\n",
    "\n",
    "CLASSES = sorted(df['class'].unique())\n",
    "CLASSES = {c:i for i,c in enumerate(CLASSES)}\n",
    "print(len(CLASSES),CLASSES)\n",
    "\n"
   ]
  },
  {
   "cell_type": "code",
   "execution_count": 10,
   "metadata": {
    "colab": {
     "base_uri": "https://localhost:8080/",
     "height": 836
    },
    "execution": {
     "iopub.execute_input": "2025-02-01T18:29:14.117165Z",
     "iopub.status.busy": "2025-02-01T18:29:14.116925Z",
     "iopub.status.idle": "2025-02-01T18:29:14.125098Z",
     "shell.execute_reply": "2025-02-01T18:29:14.124297Z",
     "shell.execute_reply.started": "2025-02-01T18:29:14.117135Z"
    },
    "id": "cpU-EPRICFXu",
    "outputId": "753bea53-c1ed-42e5-ac39-b9d9f4cd254b",
    "trusted": true
   },
   "outputs": [
    {
     "data": {
      "text/plain": [
       "class\n",
       "Tomato_Septoria          4166\n",
       "Tomato_Late_Blight       3343\n",
       "Tomato_Healthy           2872\n",
       "Pepper_Septoria          2295\n",
       "Pepper_Leaf_Mosaic       2113\n",
       "Pepper_Bacterial_Spot    1943\n",
       "Tomato_Early_Blight      1845\n",
       "Pepper_Leaf_Curl         1530\n",
       "Tomato_Fusarium           877\n",
       "Pepper_Healthy            736\n",
       "Pepper_Late_Blight        575\n",
       "Pepper_Leaf_Blight        508\n",
       "Tomato_Bacterial_Spot     484\n",
       "Pepper_Fusarium           472\n",
       "Pepper_Cercospora         472\n",
       "Tomato_Leaf_Curl          437\n",
       "Tomato_Mosaic             134\n",
       "Pepper_Early_Blight       101\n",
       "Name: count, dtype: int64"
      ]
     },
     "execution_count": 10,
     "metadata": {},
     "output_type": "execute_result"
    }
   ],
   "source": [
    "df['class'].value_counts()"
   ]
  },
  {
   "cell_type": "code",
   "execution_count": 11,
   "metadata": {
    "colab": {
     "base_uri": "https://localhost:8080/"
    },
    "execution": {
     "iopub.execute_input": "2025-02-01T18:29:14.126222Z",
     "iopub.status.busy": "2025-02-01T18:29:14.125911Z",
     "iopub.status.idle": "2025-02-01T18:29:14.149062Z",
     "shell.execute_reply": "2025-02-01T18:29:14.148466Z",
     "shell.execute_reply.started": "2025-02-01T18:29:14.126189Z"
    },
    "id": "5b8cff0b-4766-4655-92f7-b0735a6ac8ec",
    "outputId": "8b31cec0-9af6-4ec9-fea7-b9f3f7196b81",
    "trusted": true
   },
   "outputs": [
    {
     "name": "stdout",
     "output_type": "stream",
     "text": [
      "0 {'Tomato_Septoria': 875, 'Tomato_Late_Blight': 708, 'Tomato_Healthy': 643, 'Pepper_Bacterial_Spot': 457, 'Tomato_Early_Blight': 409, 'Pepper_Leaf_Mosaic': 391, 'Pepper_Septoria': 332, 'Pepper_Leaf_Curl': 328, 'Pepper_Healthy': 170, 'Tomato_Bacterial_Spot': 138, 'Tomato_Fusarium': 135, 'Pepper_Fusarium': 114, 'Pepper_Late_Blight': 104, 'Tomato_Leaf_Curl': 79, 'Pepper_Leaf_Blight': 64, 'Pepper_Cercospora': 52, 'Pepper_Early_Blight': 28, 'Tomato_Mosaic': 20}\n",
      "1 {'Tomato_Septoria': 1036, 'Tomato_Late_Blight': 574, 'Pepper_Septoria': 528, 'Tomato_Healthy': 505, 'Pepper_Leaf_Mosaic': 463, 'Pepper_Bacterial_Spot': 423, 'Tomato_Early_Blight': 349, 'Pepper_Leaf_Curl': 288, 'Tomato_Fusarium': 225, 'Pepper_Healthy': 123, 'Pepper_Cercospora': 116, 'Pepper_Fusarium': 115, 'Pepper_Leaf_Blight': 115, 'Pepper_Late_Blight': 104, 'Tomato_Leaf_Curl': 72, 'Tomato_Bacterial_Spot': 50, 'Tomato_Mosaic': 24, 'Pepper_Early_Blight': 16}\n",
      "2 {'Tomato_Late_Blight': 821, 'Tomato_Septoria': 696, 'Tomato_Early_Blight': 509, 'Tomato_Healthy': 506, 'Pepper_Septoria': 416, 'Pepper_Leaf_Mosaic': 389, 'Pepper_Leaf_Curl': 323, 'Pepper_Bacterial_Spot': 315, 'Tomato_Fusarium': 205, 'Pepper_Late_Blight': 142, 'Pepper_Healthy': 139, 'Pepper_Leaf_Blight': 116, 'Pepper_Cercospora': 100, 'Tomato_Bacterial_Spot': 88, 'Pepper_Fusarium': 86, 'Tomato_Leaf_Curl': 81, 'Pepper_Early_Blight': 11, 'Tomato_Mosaic': 10}\n",
      "3 {'Tomato_Septoria': 723, 'Pepper_Septoria': 719, 'Tomato_Healthy': 634, 'Pepper_Leaf_Mosaic': 466, 'Tomato_Late_Blight': 458, 'Pepper_Bacterial_Spot': 371, 'Pepper_Leaf_Curl': 297, 'Tomato_Early_Blight': 245, 'Tomato_Fusarium': 172, 'Pepper_Leaf_Blight': 135, 'Pepper_Late_Blight': 134, 'Pepper_Healthy': 129, 'Pepper_Cercospora': 110, 'Tomato_Bacterial_Spot': 88, 'Pepper_Fusarium': 76, 'Tomato_Leaf_Curl': 38, 'Tomato_Mosaic': 24, 'Pepper_Early_Blight': 19}\n",
      "4 {'Tomato_Septoria': 836, 'Tomato_Late_Blight': 782, 'Tomato_Healthy': 584, 'Pepper_Leaf_Mosaic': 404, 'Pepper_Bacterial_Spot': 377, 'Tomato_Early_Blight': 333, 'Pepper_Septoria': 300, 'Pepper_Leaf_Curl': 294, 'Pepper_Healthy': 175, 'Tomato_Leaf_Curl': 167, 'Tomato_Fusarium': 140, 'Tomato_Bacterial_Spot': 120, 'Pepper_Cercospora': 94, 'Pepper_Late_Blight': 91, 'Pepper_Fusarium': 81, 'Pepper_Leaf_Blight': 78, 'Tomato_Mosaic': 56, 'Pepper_Early_Blight': 27}\n"
     ]
    }
   ],
   "source": [
    "for fold in range(N_SPLITS):\n",
    "  d=df[df.fold==fold]['class'].value_counts().to_dict()\n",
    "  print(fold,d)"
   ]
  },
  {
   "cell_type": "markdown",
   "metadata": {
    "id": "L_jilUkyvumX"
   },
   "source": [
    "# Create YOLO format dataset"
   ]
  },
  {
   "cell_type": "code",
   "execution_count": 14,
   "metadata": {
    "execution": {
     "iopub.execute_input": "2025-02-01T18:29:14.170428Z",
     "iopub.status.busy": "2025-02-01T18:29:14.170225Z",
     "iopub.status.idle": "2025-02-01T18:29:14.183534Z",
     "shell.execute_reply": "2025-02-01T18:29:14.182798Z",
     "shell.execute_reply.started": "2025-02-01T18:29:14.170396Z"
    },
    "id": "ca86a726",
    "trusted": true
   },
   "outputs": [],
   "source": [
    "DATASET_DIRECTORY = '/kaggle/input/ghana-crop-disease'\n",
    "os.makedirs(DATASET_DIRECTORY,exist_ok=True)"
   ]
  },
  {
   "cell_type": "code",
   "execution_count": 15,
   "metadata": {
    "colab": {
     "base_uri": "https://localhost:8080/",
     "height": 423
    },
    "execution": {
     "iopub.execute_input": "2025-02-01T18:29:14.184469Z",
     "iopub.status.busy": "2025-02-01T18:29:14.184270Z",
     "iopub.status.idle": "2025-02-01T18:29:14.209822Z",
     "shell.execute_reply": "2025-02-01T18:29:14.209148Z",
     "shell.execute_reply.started": "2025-02-01T18:29:14.184450Z"
    },
    "id": "9f37562f",
    "outputId": "4a620f7a-08f4-462f-d3fb-2d726883441b",
    "trusted": true
   },
   "outputs": [
    {
     "data": {
      "text/html": [
       "<div>\n",
       "<style scoped>\n",
       "    .dataframe tbody tr th:only-of-type {\n",
       "        vertical-align: middle;\n",
       "    }\n",
       "\n",
       "    .dataframe tbody tr th {\n",
       "        vertical-align: top;\n",
       "    }\n",
       "\n",
       "    .dataframe thead th {\n",
       "        text-align: right;\n",
       "    }\n",
       "</style>\n",
       "<table border=\"1\" class=\"dataframe\">\n",
       "  <thead>\n",
       "    <tr style=\"text-align: right;\">\n",
       "      <th></th>\n",
       "      <th>Image_ID</th>\n",
       "      <th>confidence</th>\n",
       "      <th>class</th>\n",
       "      <th>ymin</th>\n",
       "      <th>xmin</th>\n",
       "      <th>ymax</th>\n",
       "      <th>xmax</th>\n",
       "      <th>path</th>\n",
       "      <th>category_id</th>\n",
       "      <th>crop</th>\n",
       "      <th>n_crop</th>\n",
       "      <th>fold</th>\n",
       "    </tr>\n",
       "  </thead>\n",
       "  <tbody>\n",
       "    <tr>\n",
       "      <th>0</th>\n",
       "      <td>id_11543h.jpg</td>\n",
       "      <td>1.0</td>\n",
       "      <td>Pepper_Bacterial_Spot</td>\n",
       "      <td>194.649671</td>\n",
       "      <td>328.803454</td>\n",
       "      <td>208.107730</td>\n",
       "      <td>341.967928</td>\n",
       "      <td>/kaggle/input/ghana-crop-disease/images/id_115...</td>\n",
       "      <td>5</td>\n",
       "      <td>Pepper</td>\n",
       "      <td>1</td>\n",
       "      <td>0</td>\n",
       "    </tr>\n",
       "    <tr>\n",
       "      <th>1</th>\n",
       "      <td>id_11543h.jpg</td>\n",
       "      <td>1.0</td>\n",
       "      <td>Pepper_Bacterial_Spot</td>\n",
       "      <td>149.632401</td>\n",
       "      <td>256.768914</td>\n",
       "      <td>162.910362</td>\n",
       "      <td>266.195724</td>\n",
       "      <td>/kaggle/input/ghana-crop-disease/images/id_115...</td>\n",
       "      <td>5</td>\n",
       "      <td>Pepper</td>\n",
       "      <td>1</td>\n",
       "      <td>0</td>\n",
       "    </tr>\n",
       "    <tr>\n",
       "      <th>2</th>\n",
       "      <td>id_11543h.jpg</td>\n",
       "      <td>1.0</td>\n",
       "      <td>Pepper_Bacterial_Spot</td>\n",
       "      <td>234.046875</td>\n",
       "      <td>327.138158</td>\n",
       "      <td>252.712993</td>\n",
       "      <td>338.876645</td>\n",
       "      <td>/kaggle/input/ghana-crop-disease/images/id_115...</td>\n",
       "      <td>5</td>\n",
       "      <td>Pepper</td>\n",
       "      <td>1</td>\n",
       "      <td>0</td>\n",
       "    </tr>\n",
       "    <tr>\n",
       "      <th>3</th>\n",
       "      <td>id_11543h.jpg</td>\n",
       "      <td>1.0</td>\n",
       "      <td>Pepper_Bacterial_Spot</td>\n",
       "      <td>221.277138</td>\n",
       "      <td>340.411184</td>\n",
       "      <td>238.593750</td>\n",
       "      <td>354.651316</td>\n",
       "      <td>/kaggle/input/ghana-crop-disease/images/id_115...</td>\n",
       "      <td>5</td>\n",
       "      <td>Pepper</td>\n",
       "      <td>1</td>\n",
       "      <td>0</td>\n",
       "    </tr>\n",
       "    <tr>\n",
       "      <th>4</th>\n",
       "      <td>id_11ee1c.jpg</td>\n",
       "      <td>1.0</td>\n",
       "      <td>Pepper_Fusarium</td>\n",
       "      <td>2000.563598</td>\n",
       "      <td>989.588908</td>\n",
       "      <td>2184.252196</td>\n",
       "      <td>1401.748952</td>\n",
       "      <td>/kaggle/input/ghana-crop-disease/images/id_11e...</td>\n",
       "      <td>8</td>\n",
       "      <td>Pepper</td>\n",
       "      <td>1</td>\n",
       "      <td>0</td>\n",
       "    </tr>\n",
       "    <tr>\n",
       "      <th>...</th>\n",
       "      <td>...</td>\n",
       "      <td>...</td>\n",
       "      <td>...</td>\n",
       "      <td>...</td>\n",
       "      <td>...</td>\n",
       "      <td>...</td>\n",
       "      <td>...</td>\n",
       "      <td>...</td>\n",
       "      <td>...</td>\n",
       "      <td>...</td>\n",
       "      <td>...</td>\n",
       "      <td>...</td>\n",
       "    </tr>\n",
       "    <tr>\n",
       "      <th>27870</th>\n",
       "      <td>id_8sfigs.jpg</td>\n",
       "      <td>1.0</td>\n",
       "      <td>Tomato_Early_Blight</td>\n",
       "      <td>489.121780</td>\n",
       "      <td>964.244731</td>\n",
       "      <td>586.247073</td>\n",
       "      <td>1015.386417</td>\n",
       "      <td>/kaggle/input/ghana-crop-disease/images/id_8sf...</td>\n",
       "      <td>16</td>\n",
       "      <td>Tomato</td>\n",
       "      <td>1</td>\n",
       "      <td>0</td>\n",
       "    </tr>\n",
       "    <tr>\n",
       "      <th>27880</th>\n",
       "      <td>id_jn2hs3.jpg</td>\n",
       "      <td>1.0</td>\n",
       "      <td>Tomato_Bacterial_Spot</td>\n",
       "      <td>465.722336</td>\n",
       "      <td>2029.260975</td>\n",
       "      <td>582.049180</td>\n",
       "      <td>2144.862379</td>\n",
       "      <td>/kaggle/input/ghana-crop-disease/images/id_jn2...</td>\n",
       "      <td>15</td>\n",
       "      <td>Tomato</td>\n",
       "      <td>1</td>\n",
       "      <td>0</td>\n",
       "    </tr>\n",
       "    <tr>\n",
       "      <th>27887</th>\n",
       "      <td>id_rdbt4i.jpg</td>\n",
       "      <td>1.0</td>\n",
       "      <td>Pepper_Leaf_Blight</td>\n",
       "      <td>2517.801832</td>\n",
       "      <td>3791.284642</td>\n",
       "      <td>2632.473290</td>\n",
       "      <td>3859.623268</td>\n",
       "      <td>/kaggle/input/ghana-crop-disease/images/id_rdb...</td>\n",
       "      <td>11</td>\n",
       "      <td>Pepper</td>\n",
       "      <td>1</td>\n",
       "      <td>0</td>\n",
       "    </tr>\n",
       "    <tr>\n",
       "      <th>27895</th>\n",
       "      <td>id_dhb15p.jpg</td>\n",
       "      <td>1.0</td>\n",
       "      <td>Tomato_Fusarium</td>\n",
       "      <td>1997.330411</td>\n",
       "      <td>2752.593539</td>\n",
       "      <td>2175.784381</td>\n",
       "      <td>3330.610255</td>\n",
       "      <td>/kaggle/input/ghana-crop-disease/images/id_dhb...</td>\n",
       "      <td>17</td>\n",
       "      <td>Tomato</td>\n",
       "      <td>1</td>\n",
       "      <td>0</td>\n",
       "    </tr>\n",
       "    <tr>\n",
       "      <th>27898</th>\n",
       "      <td>id_tw4lex.jpg</td>\n",
       "      <td>1.0</td>\n",
       "      <td>Pepper_Bacterial_Spot</td>\n",
       "      <td>1110.008844</td>\n",
       "      <td>2232.019671</td>\n",
       "      <td>1193.680719</td>\n",
       "      <td>2291.961126</td>\n",
       "      <td>/kaggle/input/ghana-crop-disease/images/id_tw4...</td>\n",
       "      <td>5</td>\n",
       "      <td>Pepper</td>\n",
       "      <td>1</td>\n",
       "      <td>0</td>\n",
       "    </tr>\n",
       "  </tbody>\n",
       "</table>\n",
       "<p>5047 rows × 12 columns</p>\n",
       "</div>"
      ],
      "text/plain": [
       "            Image_ID  confidence                  class         ymin  \\\n",
       "0      id_11543h.jpg         1.0  Pepper_Bacterial_Spot   194.649671   \n",
       "1      id_11543h.jpg         1.0  Pepper_Bacterial_Spot   149.632401   \n",
       "2      id_11543h.jpg         1.0  Pepper_Bacterial_Spot   234.046875   \n",
       "3      id_11543h.jpg         1.0  Pepper_Bacterial_Spot   221.277138   \n",
       "4      id_11ee1c.jpg         1.0        Pepper_Fusarium  2000.563598   \n",
       "...              ...         ...                    ...          ...   \n",
       "27870  id_8sfigs.jpg         1.0    Tomato_Early_Blight   489.121780   \n",
       "27880  id_jn2hs3.jpg         1.0  Tomato_Bacterial_Spot   465.722336   \n",
       "27887  id_rdbt4i.jpg         1.0     Pepper_Leaf_Blight  2517.801832   \n",
       "27895  id_dhb15p.jpg         1.0        Tomato_Fusarium  1997.330411   \n",
       "27898  id_tw4lex.jpg         1.0  Pepper_Bacterial_Spot  1110.008844   \n",
       "\n",
       "              xmin         ymax         xmax  \\\n",
       "0       328.803454   208.107730   341.967928   \n",
       "1       256.768914   162.910362   266.195724   \n",
       "2       327.138158   252.712993   338.876645   \n",
       "3       340.411184   238.593750   354.651316   \n",
       "4       989.588908  2184.252196  1401.748952   \n",
       "...            ...          ...          ...   \n",
       "27870   964.244731   586.247073  1015.386417   \n",
       "27880  2029.260975   582.049180  2144.862379   \n",
       "27887  3791.284642  2632.473290  3859.623268   \n",
       "27895  2752.593539  2175.784381  3330.610255   \n",
       "27898  2232.019671  1193.680719  2291.961126   \n",
       "\n",
       "                                                    path  category_id    crop  \\\n",
       "0      /kaggle/input/ghana-crop-disease/images/id_115...            5  Pepper   \n",
       "1      /kaggle/input/ghana-crop-disease/images/id_115...            5  Pepper   \n",
       "2      /kaggle/input/ghana-crop-disease/images/id_115...            5  Pepper   \n",
       "3      /kaggle/input/ghana-crop-disease/images/id_115...            5  Pepper   \n",
       "4      /kaggle/input/ghana-crop-disease/images/id_11e...            8  Pepper   \n",
       "...                                                  ...          ...     ...   \n",
       "27870  /kaggle/input/ghana-crop-disease/images/id_8sf...           16  Tomato   \n",
       "27880  /kaggle/input/ghana-crop-disease/images/id_jn2...           15  Tomato   \n",
       "27887  /kaggle/input/ghana-crop-disease/images/id_rdb...           11  Pepper   \n",
       "27895  /kaggle/input/ghana-crop-disease/images/id_dhb...           17  Tomato   \n",
       "27898  /kaggle/input/ghana-crop-disease/images/id_tw4...            5  Pepper   \n",
       "\n",
       "       n_crop  fold  \n",
       "0           1     0  \n",
       "1           1     0  \n",
       "2           1     0  \n",
       "3           1     0  \n",
       "4           1     0  \n",
       "...       ...   ...  \n",
       "27870       1     0  \n",
       "27880       1     0  \n",
       "27887       1     0  \n",
       "27895       1     0  \n",
       "27898       1     0  \n",
       "\n",
       "[5047 rows x 12 columns]"
      ]
     },
     "execution_count": 15,
     "metadata": {},
     "output_type": "execute_result"
    }
   ],
   "source": [
    "df_val = df[df.fold==FOLD]\n",
    "df_val"
   ]
  },
  {
   "cell_type": "code",
   "execution_count": 19,
   "metadata": {
    "colab": {
     "base_uri": "https://localhost:8080/",
     "height": 486
    },
    "execution": {
     "iopub.execute_input": "2025-02-01T18:30:50.058727Z",
     "iopub.status.busy": "2025-02-01T18:30:50.058394Z",
     "iopub.status.idle": "2025-02-01T18:30:50.067077Z",
     "shell.execute_reply": "2025-02-01T18:30:50.066281Z",
     "shell.execute_reply.started": "2025-02-01T18:30:50.058698Z"
    },
    "id": "e6de5732",
    "outputId": "772a8ca6-4827-400a-b48a-8bd48c96b7f6",
    "trusted": true
   },
   "outputs": [
    {
     "data": {
      "text/plain": [
       "{'path': './',\n",
       " 'train': 'train/images',\n",
       " 'val': 'valid/images',\n",
       " 'nc': 18,\n",
       " 'names': {0: 'Pepper_Bacterial_Spot',\n",
       "  1: 'Pepper_Cercospora',\n",
       "  2: 'Pepper_Early_Blight',\n",
       "  3: 'Pepper_Fusarium',\n",
       "  4: 'Pepper_Healthy',\n",
       "  5: 'Pepper_Late_Blight',\n",
       "  6: 'Pepper_Leaf_Blight',\n",
       "  7: 'Pepper_Leaf_Curl',\n",
       "  8: 'Pepper_Leaf_Mosaic',\n",
       "  9: 'Pepper_Septoria',\n",
       "  10: 'Tomato_Bacterial_Spot',\n",
       "  11: 'Tomato_Early_Blight',\n",
       "  12: 'Tomato_Fusarium',\n",
       "  13: 'Tomato_Healthy',\n",
       "  14: 'Tomato_Late_Blight',\n",
       "  15: 'Tomato_Leaf_Curl',\n",
       "  16: 'Tomato_Mosaic',\n",
       "  17: 'Tomato_Septoria'}}"
      ]
     },
     "metadata": {},
     "output_type": "display_data"
    }
   ],
   "source": [
    "ID2CLASS = {v:k for k,v in CLASSES.items()}\n",
    "\n",
    "conf = {\n",
    "    'path': './',\n",
    "    'train': 'train/images',\n",
    "    'val': 'valid/images',\n",
    "    'nc': len(CLASSES),\n",
    "    'names': ID2CLASS\n",
    "}\n",
    "with open('/kaggle/working/config.yaml','w') as f:\n",
    "    yaml.dump(conf,f,default_flow_style=False)\n",
    "\n",
    "display(conf)"
   ]
  },
  {
   "cell_type": "code",
   "execution_count": 21,
   "metadata": {
    "execution": {
     "iopub.execute_input": "2025-02-01T18:31:52.859484Z",
     "iopub.status.busy": "2025-02-01T18:31:52.859198Z",
     "iopub.status.idle": "2025-02-01T18:31:52.864372Z",
     "shell.execute_reply": "2025-02-01T18:31:52.863298Z",
     "shell.execute_reply.started": "2025-02-01T18:31:52.859462Z"
    },
    "id": "902a79e7",
    "trusted": true
   },
   "outputs": [],
   "source": [
    "def normalize_labels(x,w = None, h=None):\n",
    "    x = x.astype(np.float32)\n",
    "    y = np.zeros_like(x).astype(np.float32)\n",
    "    y[0] = (x[0] + x[2]) / 2 / w  # x center\n",
    "    y[1] = (x[1] + x[3]) / 2 / h  # y center\n",
    "    y[2] = (x[2] - x[0]) / w  # box width\n",
    "    y[3] = (x[3] - x[1]) / h  # box height\n",
    "    return y\n"
   ]
  },
  {
   "cell_type": "code",
   "execution_count": 25,
   "metadata": {
    "execution": {
     "iopub.execute_input": "2025-02-01T18:34:38.810287Z",
     "iopub.status.busy": "2025-02-01T18:34:38.809953Z",
     "iopub.status.idle": "2025-02-01T18:34:38.819404Z",
     "shell.execute_reply": "2025-02-01T18:34:38.818727Z",
     "shell.execute_reply.started": "2025-02-01T18:34:38.810263Z"
    },
    "trusted": true
   },
   "outputs": [
    {
     "data": {
      "text/plain": [
       "split\n",
       "train    19856\n",
       "val       5047\n",
       "Name: count, dtype: int64"
      ]
     },
     "execution_count": 25,
     "metadata": {},
     "output_type": "execute_result"
    }
   ],
   "source": [
    "df['split'] = 'train'\n",
    "df.loc[df.fold==FOLD,'split'] = 'val'\n",
    "df.split.value_counts()"
   ]
  },
  {
   "cell_type": "code",
   "execution_count": 29,
   "metadata": {
    "colab": {
     "base_uri": "https://localhost:8080/",
     "height": 1000
    },
    "execution": {
     "iopub.execute_input": "2025-02-01T18:37:57.215865Z",
     "iopub.status.busy": "2025-02-01T18:37:57.215552Z",
     "iopub.status.idle": "2025-02-01T18:45:26.809177Z",
     "shell.execute_reply": "2025-02-01T18:45:26.808324Z",
     "shell.execute_reply.started": "2025-02-01T18:37:57.215842Z"
    },
    "id": "a0d20f16",
    "outputId": "60f4f9c4-dd5a-4ccf-a6de-d04be04ad343",
    "trusted": true
   },
   "outputs": [
    {
     "data": {
      "text/plain": [
       "split\n",
       "train    19856\n",
       "valid     5047\n",
       "Name: count, dtype: int64"
      ]
     },
     "metadata": {},
     "output_type": "display_data"
    },
    {
     "name": "stdout",
     "output_type": "stream",
     "text": [
      "writing train data to /kaggle/working/train images: 3493 annotations: 24903\n"
     ]
    },
    {
     "name": "stderr",
     "output_type": "stream",
     "text": [
      "100%|██████████| 3493/3493 [06:31<00:00,  8.91it/s]\n"
     ]
    },
    {
     "name": "stdout",
     "output_type": "stream",
     "text": [
      "writing valid data to /kaggle/working/valid images: 698 annotations: 5047\n"
     ]
    },
    {
     "name": "stderr",
     "output_type": "stream",
     "text": [
      "100%|██████████| 698/698 [00:57<00:00, 12.18it/s]\n"
     ]
    }
   ],
   "source": [
    "def prep_ds(meta, split):\n",
    "    out_dir = f'/kaggle/working/{split}'\n",
    "    shutil.rmtree(out_dir,ignore_errors=True)\n",
    "    img_dir = f'{out_dir}/images'\n",
    "    label_dir = f'{out_dir}/labels'\n",
    "    os.makedirs(img_dir)\n",
    "    os.makedirs(label_dir)\n",
    "\n",
    "    # training on complete dataset to maintan consistency with the submitted model\n",
    "    # comment for realistic validation\n",
    "    if split=='train':\n",
    "        df = meta.copy()\n",
    "    else:\n",
    "        df = meta[meta.split==split].copy()\n",
    "\n",
    "    df.to_csv(f'{out_dir}/submission_format.csv',index=False)\n",
    "    print(f'writing {split} data to {out_dir} images: {df.Image_ID.nunique()} annotations: {len(df)}')\n",
    "    for image_id,d in tqdm(df.groupby('Image_ID')):\n",
    "      path = d.path.values[0]\n",
    "      d = d.dropna(subset=['xmin','ymin','xmax','ymax','category_id'])\n",
    "      #skip bg only images\n",
    "      if len(d)==0:\n",
    "        print(f'skipping {image_id}')\n",
    "\n",
    "      shutil.copy2(path, f\"{img_dir}/{path.split('/')[-1]}\")\n",
    "      im = cv2.imread(path)\n",
    "      height,width,_ = im.shape\n",
    "      image_id = image_id.split('.')[0]\n",
    "      for _, row in d.iterrows():\n",
    "          if row.category_id==-1:\n",
    "            continue\n",
    "          x0, y0, x1, y1 = row.xmin,row.ymin,row.xmax,row.ymax\n",
    "          w = x1 - x0\n",
    "          h = y1 - y0\n",
    "          x = np.array([x0,y0,x1,y1]) #['xmin', 'ymin', 'xmax', 'ymax']\n",
    "          if w<1 or h<1:\n",
    "            print(row)\n",
    "            continue\n",
    "\n",
    "          xnorm = normalize_labels(x,w=width,h=height)\n",
    "          assert (xnorm>0).all()\n",
    "          xnorm = xnorm.astype(str)\n",
    "          # print(x,xnorm,height,width)\n",
    "          with open(f\"{label_dir}/{image_id}.txt\",'a') as f:\n",
    "              f.write(f\"{int(row.category_id)}\\t\"+'\\t'.join(xnorm)+'\\n')\n",
    "\n",
    "def gen_data(fold,meta):\n",
    "    meta['split'] = 'train'\n",
    "    meta.loc[meta.fold==fold,'split'] = 'valid'\n",
    "    display(meta.split.value_counts())\n",
    "    for split in ['train','valid']:\n",
    "        prep_ds(meta,split)\n",
    "\n",
    "\n",
    "gen_data(FOLD,df)"
   ]
  },
  {
   "cell_type": "code",
   "execution_count": null,
   "metadata": {
    "execution": {
     "iopub.status.busy": "2025-02-01T18:29:14.259270Z",
     "iopub.status.idle": "2025-02-01T18:29:14.259654Z",
     "shell.execute_reply": "2025-02-01T18:29:14.259489Z"
    },
    "id": "iuDHtPoy2KMI",
    "trusted": true
   },
   "outputs": [],
   "source": [
    "# !zip -rqq {DATASET_DIRECTORY}.zip {DATASET_DIRECTORY}"
   ]
  },
  {
   "cell_type": "code",
   "execution_count": 33,
   "metadata": {
    "execution": {
     "iopub.execute_input": "2025-02-01T18:49:32.255846Z",
     "iopub.status.busy": "2025-02-01T18:49:32.255497Z",
     "iopub.status.idle": "2025-02-01T18:49:37.732847Z",
     "shell.execute_reply": "2025-02-01T18:49:37.731737Z",
     "shell.execute_reply.started": "2025-02-01T18:49:32.255815Z"
    },
    "trusted": true
   },
   "outputs": [
    {
     "name": "stdout",
     "output_type": "stream",
     "text": [
      "Collecting ultralytics\n",
      "  Downloading ultralytics-8.3.70-py3-none-any.whl.metadata (35 kB)\n",
      "Requirement already satisfied: numpy<=2.1.1,>=1.23.0 in /usr/local/lib/python3.10/dist-packages (from ultralytics) (1.26.4)\n",
      "Requirement already satisfied: matplotlib>=3.3.0 in /usr/local/lib/python3.10/dist-packages (from ultralytics) (3.7.5)\n",
      "Requirement already satisfied: opencv-python>=4.6.0 in /usr/local/lib/python3.10/dist-packages (from ultralytics) (4.10.0.84)\n",
      "Requirement already satisfied: pillow>=7.1.2 in /usr/local/lib/python3.10/dist-packages (from ultralytics) (11.0.0)\n",
      "Requirement already satisfied: pyyaml>=5.3.1 in /usr/local/lib/python3.10/dist-packages (from ultralytics) (6.0.2)\n",
      "Requirement already satisfied: requests>=2.23.0 in /usr/local/lib/python3.10/dist-packages (from ultralytics) (2.32.3)\n",
      "Requirement already satisfied: scipy>=1.4.1 in /usr/local/lib/python3.10/dist-packages (from ultralytics) (1.13.1)\n",
      "Requirement already satisfied: torch>=1.8.0 in /usr/local/lib/python3.10/dist-packages (from ultralytics) (2.5.1+cu121)\n",
      "Requirement already satisfied: torchvision>=0.9.0 in /usr/local/lib/python3.10/dist-packages (from ultralytics) (0.20.1+cu121)\n",
      "Requirement already satisfied: tqdm>=4.64.0 in /usr/local/lib/python3.10/dist-packages (from ultralytics) (4.67.1)\n",
      "Requirement already satisfied: psutil in /usr/local/lib/python3.10/dist-packages (from ultralytics) (5.9.5)\n",
      "Requirement already satisfied: py-cpuinfo in /usr/local/lib/python3.10/dist-packages (from ultralytics) (9.0.0)\n",
      "Requirement already satisfied: pandas>=1.1.4 in /usr/local/lib/python3.10/dist-packages (from ultralytics) (2.2.2)\n",
      "Requirement already satisfied: seaborn>=0.11.0 in /usr/local/lib/python3.10/dist-packages (from ultralytics) (0.12.2)\n",
      "Collecting ultralytics-thop>=2.0.0 (from ultralytics)\n",
      "  Downloading ultralytics_thop-2.0.14-py3-none-any.whl.metadata (9.4 kB)\n",
      "Requirement already satisfied: contourpy>=1.0.1 in /usr/local/lib/python3.10/dist-packages (from matplotlib>=3.3.0->ultralytics) (1.3.1)\n",
      "Requirement already satisfied: cycler>=0.10 in /usr/local/lib/python3.10/dist-packages (from matplotlib>=3.3.0->ultralytics) (0.12.1)\n",
      "Requirement already satisfied: fonttools>=4.22.0 in /usr/local/lib/python3.10/dist-packages (from matplotlib>=3.3.0->ultralytics) (4.55.3)\n",
      "Requirement already satisfied: kiwisolver>=1.0.1 in /usr/local/lib/python3.10/dist-packages (from matplotlib>=3.3.0->ultralytics) (1.4.7)\n",
      "Requirement already satisfied: packaging>=20.0 in /usr/local/lib/python3.10/dist-packages (from matplotlib>=3.3.0->ultralytics) (24.2)\n",
      "Requirement already satisfied: pyparsing>=2.3.1 in /usr/local/lib/python3.10/dist-packages (from matplotlib>=3.3.0->ultralytics) (3.2.0)\n",
      "Requirement already satisfied: python-dateutil>=2.7 in /usr/local/lib/python3.10/dist-packages (from matplotlib>=3.3.0->ultralytics) (2.8.2)\n",
      "Requirement already satisfied: mkl_fft in /usr/local/lib/python3.10/dist-packages (from numpy<=2.1.1,>=1.23.0->ultralytics) (1.3.8)\n",
      "Requirement already satisfied: mkl_random in /usr/local/lib/python3.10/dist-packages (from numpy<=2.1.1,>=1.23.0->ultralytics) (1.2.4)\n",
      "Requirement already satisfied: mkl_umath in /usr/local/lib/python3.10/dist-packages (from numpy<=2.1.1,>=1.23.0->ultralytics) (0.1.1)\n",
      "Requirement already satisfied: mkl in /usr/local/lib/python3.10/dist-packages (from numpy<=2.1.1,>=1.23.0->ultralytics) (2025.0.1)\n",
      "Requirement already satisfied: tbb4py in /usr/local/lib/python3.10/dist-packages (from numpy<=2.1.1,>=1.23.0->ultralytics) (2022.0.0)\n",
      "Requirement already satisfied: mkl-service in /usr/local/lib/python3.10/dist-packages (from numpy<=2.1.1,>=1.23.0->ultralytics) (2.4.1)\n",
      "Requirement already satisfied: pytz>=2020.1 in /usr/local/lib/python3.10/dist-packages (from pandas>=1.1.4->ultralytics) (2024.2)\n",
      "Requirement already satisfied: tzdata>=2022.7 in /usr/local/lib/python3.10/dist-packages (from pandas>=1.1.4->ultralytics) (2024.2)\n",
      "Requirement already satisfied: charset-normalizer<4,>=2 in /usr/local/lib/python3.10/dist-packages (from requests>=2.23.0->ultralytics) (3.4.0)\n",
      "Requirement already satisfied: idna<4,>=2.5 in /usr/local/lib/python3.10/dist-packages (from requests>=2.23.0->ultralytics) (3.10)\n",
      "Requirement already satisfied: urllib3<3,>=1.21.1 in /usr/local/lib/python3.10/dist-packages (from requests>=2.23.0->ultralytics) (2.2.3)\n",
      "Requirement already satisfied: certifi>=2017.4.17 in /usr/local/lib/python3.10/dist-packages (from requests>=2.23.0->ultralytics) (2024.12.14)\n",
      "Requirement already satisfied: filelock in /usr/local/lib/python3.10/dist-packages (from torch>=1.8.0->ultralytics) (3.16.1)\n",
      "Requirement already satisfied: typing-extensions>=4.8.0 in /usr/local/lib/python3.10/dist-packages (from torch>=1.8.0->ultralytics) (4.12.2)\n",
      "Requirement already satisfied: networkx in /usr/local/lib/python3.10/dist-packages (from torch>=1.8.0->ultralytics) (3.4.2)\n",
      "Requirement already satisfied: jinja2 in /usr/local/lib/python3.10/dist-packages (from torch>=1.8.0->ultralytics) (3.1.4)\n",
      "Requirement already satisfied: fsspec in /usr/local/lib/python3.10/dist-packages (from torch>=1.8.0->ultralytics) (2024.9.0)\n",
      "Requirement already satisfied: sympy==1.13.1 in /usr/local/lib/python3.10/dist-packages (from torch>=1.8.0->ultralytics) (1.13.1)\n",
      "Requirement already satisfied: mpmath<1.4,>=1.1.0 in /usr/local/lib/python3.10/dist-packages (from sympy==1.13.1->torch>=1.8.0->ultralytics) (1.3.0)\n",
      "Requirement already satisfied: six>=1.5 in /usr/local/lib/python3.10/dist-packages (from python-dateutil>=2.7->matplotlib>=3.3.0->ultralytics) (1.17.0)\n",
      "Requirement already satisfied: MarkupSafe>=2.0 in /usr/local/lib/python3.10/dist-packages (from jinja2->torch>=1.8.0->ultralytics) (3.0.2)\n",
      "Requirement already satisfied: intel-openmp>=2024 in /usr/local/lib/python3.10/dist-packages (from mkl->numpy<=2.1.1,>=1.23.0->ultralytics) (2024.2.0)\n",
      "Requirement already satisfied: tbb==2022.* in /usr/local/lib/python3.10/dist-packages (from mkl->numpy<=2.1.1,>=1.23.0->ultralytics) (2022.0.0)\n",
      "Requirement already satisfied: tcmlib==1.* in /usr/local/lib/python3.10/dist-packages (from tbb==2022.*->mkl->numpy<=2.1.1,>=1.23.0->ultralytics) (1.2.0)\n",
      "Requirement already satisfied: intel-cmplr-lib-rt in /usr/local/lib/python3.10/dist-packages (from mkl_umath->numpy<=2.1.1,>=1.23.0->ultralytics) (2024.2.0)\n",
      "Requirement already satisfied: intel-cmplr-lib-ur==2024.2.0 in /usr/local/lib/python3.10/dist-packages (from intel-openmp>=2024->mkl->numpy<=2.1.1,>=1.23.0->ultralytics) (2024.2.0)\n",
      "Downloading ultralytics-8.3.70-py3-none-any.whl (914 kB)\n",
      "\u001b[2K   \u001b[90m━━━━━━━━━━━━━━━━━━━━━━━━━━━━━━━━━━━━━━━━\u001b[0m \u001b[32m914.9/914.9 kB\u001b[0m \u001b[31m15.7 MB/s\u001b[0m eta \u001b[36m0:00:00\u001b[0ma \u001b[36m0:00:01\u001b[0m\n",
      "\u001b[?25hDownloading ultralytics_thop-2.0.14-py3-none-any.whl (26 kB)\n",
      "Installing collected packages: ultralytics-thop, ultralytics\n",
      "Successfully installed ultralytics-8.3.70 ultralytics-thop-2.0.14\n",
      "Note: you may need to restart the kernel to use updated packages.\n"
     ]
    }
   ],
   "source": [
    "pip install ultralytics"
   ]
  },
  {
   "cell_type": "code",
   "execution_count": 34,
   "metadata": {
    "execution": {
     "iopub.execute_input": "2025-02-01T18:49:37.734480Z",
     "iopub.status.busy": "2025-02-01T18:49:37.734203Z",
     "iopub.status.idle": "2025-02-01T18:49:38.402020Z",
     "shell.execute_reply": "2025-02-01T18:49:38.401088Z",
     "shell.execute_reply.started": "2025-02-01T18:49:37.734454Z"
    },
    "trusted": true
   },
   "outputs": [
    {
     "name": "stdout",
     "output_type": "stream",
     "text": [
      "Creating new Ultralytics Settings v0.0.6 file ✅ \n",
      "View Ultralytics Settings with 'yolo settings' or at '/root/.config/Ultralytics/settings.json'\n",
      "Update Settings with 'yolo settings key=value', i.e. 'yolo settings runs_dir=path/to/dir'. For help see https://docs.ultralytics.com/quickstart/#ultralytics-settings.\n"
     ]
    }
   ],
   "source": [
    "from ultralytics.data.build import YOLODataset\n",
    "import ultralytics.data.build as build\n",
    "\n",
    "class YOLOWeightedDataset(YOLODataset):\n",
    "    def __init__(self, *args, mode=\"train\", **kwargs):\n",
    "        \"\"\"\n",
    "        Initialize the WeightedDataset.\n",
    "\n",
    "        Args:\n",
    "            class_weights (list or numpy array): A list or array of weights corresponding to each class.\n",
    "        \"\"\"\n",
    "\n",
    "        super(YOLOWeightedDataset, self).__init__(*args, **kwargs)\n",
    "\n",
    "        self.train_mode = \"train\" in self.prefix\n",
    "\n",
    "        # You can also specify weights manually instead\n",
    "        self.count_instances()\n",
    "        class_weights = np.sum(self.counts) / self.counts\n",
    "\n",
    "        # Aggregation function\n",
    "        self.agg_func = np.mean\n",
    "\n",
    "        self.class_weights = np.array(class_weights)\n",
    "        self.weights = self.calculate_weights()\n",
    "        self.probabilities = self.calculate_probabilities()\n",
    "\n",
    "    def count_instances(self):\n",
    "        \"\"\"\n",
    "        Count the number of instances per class\n",
    "\n",
    "        Returns:\n",
    "            dict: A dict containing the counts for each class.\n",
    "        \"\"\"\n",
    "        self.counts = [0 for i in range(len(self.data[\"names\"]))]\n",
    "        for label in self.labels:\n",
    "            cls = label['cls'].reshape(-1).astype(int)\n",
    "            for id in cls:\n",
    "                self.counts[id] += 1\n",
    "\n",
    "        self.counts = np.array(self.counts)\n",
    "        self.counts = np.where(self.counts == 0, 1, self.counts)\n",
    "\n",
    "    def calculate_weights(self):\n",
    "        \"\"\"\n",
    "        Calculate the aggregated weight for each label based on class weights.\n",
    "\n",
    "        Returns:\n",
    "            list: A list of aggregated weights corresponding to each label.\n",
    "        \"\"\"\n",
    "        weights = []\n",
    "        for label in self.labels:\n",
    "            cls = label['cls'].reshape(-1).astype(int)\n",
    "\n",
    "            # Give a default weight to background class\n",
    "            if cls.size == 0:\n",
    "              weights.append(1)\n",
    "              continue\n",
    "\n",
    "            # Take mean of weights\n",
    "            # You can change this weight aggregation function to aggregate weights differently\n",
    "            weight = self.agg_func(self.class_weights[cls])\n",
    "            weights.append(weight)\n",
    "        return weights\n",
    "\n",
    "    def calculate_probabilities(self):\n",
    "        \"\"\"\n",
    "        Calculate and store the sampling probabilities based on the weights.\n",
    "\n",
    "        Returns:\n",
    "            list: A list of sampling probabilities corresponding to each label.\n",
    "        \"\"\"\n",
    "        total_weight = sum(self.weights)\n",
    "        probabilities = [w / total_weight for w in self.weights]\n",
    "        return probabilities\n",
    "\n",
    "    def __getitem__(self, index):\n",
    "        \"\"\"\n",
    "        Return transformed label information based on the sampled index.\n",
    "        \"\"\"\n",
    "        # Don't use for validation\n",
    "        if not self.train_mode:\n",
    "            return self.transforms(self.get_image_and_label(index))\n",
    "        else:\n",
    "            index = np.random.choice(len(self.labels), p=self.probabilities)\n",
    "            return self.transforms(self.get_image_and_label(index))\n",
    "\n",
    "build.YOLODataset = YOLOWeightedDataset"
   ]
  },
  {
   "cell_type": "code",
   "execution_count": 39,
   "metadata": {
    "execution": {
     "iopub.execute_input": "2025-02-01T18:58:25.175278Z",
     "iopub.status.busy": "2025-02-01T18:58:25.174865Z",
     "iopub.status.idle": "2025-02-01T21:01:49.085023Z",
     "shell.execute_reply": "2025-02-01T21:01:49.084090Z",
     "shell.execute_reply.started": "2025-02-01T18:58:25.175244Z"
    },
    "trusted": true
   },
   "outputs": [
    {
     "name": "stdout",
     "output_type": "stream",
     "text": [
      "train_0\n",
      "PRO TIP 💡 Replace 'model=yolov5s.pt' with new 'model=yolov5su.pt'.\n",
      "YOLOv5 'u' models are trained with https://github.com/ultralytics/ultralytics and feature improved performance vs standard YOLOv5 models trained with https://github.com/ultralytics/yolov5.\n",
      "\n",
      "Downloading https://github.com/ultralytics/assets/releases/download/v8.3.0/yolov5su.pt to 'yolov5su.pt'...\n"
     ]
    },
    {
     "name": "stderr",
     "output_type": "stream",
     "text": [
      "100%|██████████| 17.7M/17.7M [00:00<00:00, 158MB/s]\n"
     ]
    },
    {
     "name": "stdout",
     "output_type": "stream",
     "text": [
      "Ultralytics 8.3.70 🚀 Python-3.10.12 torch-2.5.1+cu121 CUDA:0 (Tesla P100-PCIE-16GB, 16269MiB)\n",
      "\u001b[34m\u001b[1mengine/trainer: \u001b[0mtask=detect, mode=train, model=yolov5s.pt, data=/kaggle/input/configg/config.yaml, epochs=50, time=None, patience=100, batch=20, imgsz=1024, save=True, save_period=-1, cache=False, device=0, workers=8, project=None, name=train_0, exist_ok=False, pretrained=True, optimizer=AdamW, verbose=True, seed=41, deterministic=True, single_cls=False, rect=False, cos_lr=False, close_mosaic=30, resume=False, amp=True, fraction=1.0, profile=False, freeze=None, multi_scale=False, overlap_mask=True, mask_ratio=4, dropout=0.0, val=True, split=val, save_json=False, save_hybrid=False, conf=None, iou=0.7, max_det=300, half=False, dnn=False, plots=True, source=None, vid_stride=1, stream_buffer=False, visualize=False, augment=False, agnostic_nms=False, classes=None, retina_masks=False, embed=None, show=False, save_frames=False, save_txt=False, save_conf=False, save_crop=False, show_labels=True, show_conf=True, show_boxes=True, line_width=None, format=torchscript, keras=False, optimize=False, int8=False, dynamic=False, simplify=True, opset=None, workspace=None, nms=False, lr0=0.0003, lrf=0.01, momentum=0.9, weight_decay=0.01, warmup_epochs=3.0, warmup_momentum=0.8, warmup_bias_lr=0.1, box=7.5, cls=0.5, dfl=1.5, pose=12.0, kobj=1.0, nbs=64, hsv_h=0.015, hsv_s=0.7, hsv_v=0.4, degrees=0.0, translate=0.1, scale=0.5, shear=0.0, perspective=0.0, flipud=0.0, fliplr=0.5, bgr=0.0, mosaic=1.0, mixup=0.0, copy_paste=0.0, copy_paste_mode=flip, auto_augment=randaugment, erasing=0.4, crop_fraction=1.0, cfg=None, tracker=botsort.yaml, save_dir=runs/detect/train_0\n",
      "Overriding model.yaml nc=80 with nc=18\n",
      "\n",
      "                   from  n    params  module                                       arguments                     \n",
      "  0                  -1  1      3520  ultralytics.nn.modules.conv.Conv             [3, 32, 6, 2, 2]              \n",
      "  1                  -1  1     18560  ultralytics.nn.modules.conv.Conv             [32, 64, 3, 2]                \n",
      "  2                  -1  1     18816  ultralytics.nn.modules.block.C3              [64, 64, 1]                   \n",
      "  3                  -1  1     73984  ultralytics.nn.modules.conv.Conv             [64, 128, 3, 2]               \n",
      "  4                  -1  2    115712  ultralytics.nn.modules.block.C3              [128, 128, 2]                 \n",
      "  5                  -1  1    295424  ultralytics.nn.modules.conv.Conv             [128, 256, 3, 2]              \n",
      "  6                  -1  3    625152  ultralytics.nn.modules.block.C3              [256, 256, 3]                 \n",
      "  7                  -1  1   1180672  ultralytics.nn.modules.conv.Conv             [256, 512, 3, 2]              \n",
      "  8                  -1  1   1182720  ultralytics.nn.modules.block.C3              [512, 512, 1]                 \n",
      "  9                  -1  1    656896  ultralytics.nn.modules.block.SPPF            [512, 512, 5]                 \n",
      " 10                  -1  1    131584  ultralytics.nn.modules.conv.Conv             [512, 256, 1, 1]              \n",
      " 11                  -1  1         0  torch.nn.modules.upsampling.Upsample         [None, 2, 'nearest']          \n",
      " 12             [-1, 6]  1         0  ultralytics.nn.modules.conv.Concat           [1]                           \n",
      " 13                  -1  1    361984  ultralytics.nn.modules.block.C3              [512, 256, 1, False]          \n",
      " 14                  -1  1     33024  ultralytics.nn.modules.conv.Conv             [256, 128, 1, 1]              \n",
      " 15                  -1  1         0  torch.nn.modules.upsampling.Upsample         [None, 2, 'nearest']          \n",
      " 16             [-1, 4]  1         0  ultralytics.nn.modules.conv.Concat           [1]                           \n",
      " 17                  -1  1     90880  ultralytics.nn.modules.block.C3              [256, 128, 1, False]          \n",
      " 18                  -1  1    147712  ultralytics.nn.modules.conv.Conv             [128, 128, 3, 2]              \n",
      " 19            [-1, 14]  1         0  ultralytics.nn.modules.conv.Concat           [1]                           \n",
      " 20                  -1  1    296448  ultralytics.nn.modules.block.C3              [256, 256, 1, False]          \n",
      " 21                  -1  1    590336  ultralytics.nn.modules.conv.Conv             [256, 256, 3, 2]              \n",
      " 22            [-1, 10]  1         0  ultralytics.nn.modules.conv.Concat           [1]                           \n",
      " 23                  -1  1   1182720  ultralytics.nn.modules.block.C3              [512, 512, 1, False]          \n",
      " 24        [17, 20, 23]  1   2123014  ultralytics.nn.modules.head.Detect           [18, [128, 256, 512]]         \n",
      "YOLOv5s summary: 262 layers, 9,129,158 parameters, 9,129,142 gradients, 24.1 GFLOPs\n",
      "\n",
      "Transferred 421/427 items from pretrained weights\n",
      "\u001b[34m\u001b[1mTensorBoard: \u001b[0mStart with 'tensorboard --logdir runs/detect/train_0', view at http://localhost:6006/\n",
      "Freezing layer 'model.24.dfl.conv.weight'\n",
      "\u001b[34m\u001b[1mAMP: \u001b[0mrunning Automatic Mixed Precision (AMP) checks...\n",
      "\u001b[34m\u001b[1mAMP: \u001b[0mchecks passed ✅\n"
     ]
    },
    {
     "name": "stderr",
     "output_type": "stream",
     "text": [
      "\u001b[34m\u001b[1mtrain: \u001b[0mScanning /kaggle/working/train/labels.cache... 3493 images, 0 backgrounds, 889 corrupt: 100%|██████████| 3493/3493 [00:00<?, ?it/s]"
     ]
    },
    {
     "name": "stdout",
     "output_type": "stream",
     "text": [
      "\u001b[34m\u001b[1mtrain: \u001b[0mWARNING ⚠️ /kaggle/working/train/images/id_16o914.jpg: ignoring corrupt image/label: Label class 18 exceeds dataset class count 18. Possible class labels are 0-17\n",
      "\u001b[34m\u001b[1mtrain: \u001b[0mWARNING ⚠️ /kaggle/working/train/images/id_17lyu5.jpg: ignoring corrupt image/label: Label class 22 exceeds dataset class count 18. Possible class labels are 0-17\n",
      "\u001b[34m\u001b[1mtrain: \u001b[0mWARNING ⚠️ /kaggle/working/train/images/id_1csdxd.jpg: ignoring corrupt image/label: Label class 18 exceeds dataset class count 18. Possible class labels are 0-17\n",
      "\u001b[34m\u001b[1mtrain: \u001b[0mWARNING ⚠️ /kaggle/working/train/images/id_1dkvrb.jpg: ignoring corrupt image/label: Label class 20 exceeds dataset class count 18. Possible class labels are 0-17\n",
      "\u001b[34m\u001b[1mtrain: \u001b[0mWARNING ⚠️ /kaggle/working/train/images/id_1e8ow1.jpg: ignoring corrupt image/label: Label class 22 exceeds dataset class count 18. Possible class labels are 0-17\n",
      "\u001b[34m\u001b[1mtrain: \u001b[0mWARNING ⚠️ /kaggle/working/train/images/id_1gfauc.jpg: ignoring corrupt image/label: Label class 22 exceeds dataset class count 18. Possible class labels are 0-17\n",
      "\u001b[34m\u001b[1mtrain: \u001b[0mWARNING ⚠️ /kaggle/working/train/images/id_1h9rga.jpg: ignoring corrupt image/label: Label class 20 exceeds dataset class count 18. Possible class labels are 0-17\n",
      "\u001b[34m\u001b[1mtrain: \u001b[0mWARNING ⚠️ /kaggle/working/train/images/id_1hf6im.jpg: ignoring corrupt image/label: Label class 20 exceeds dataset class count 18. Possible class labels are 0-17\n",
      "\u001b[34m\u001b[1mtrain: \u001b[0mWARNING ⚠️ /kaggle/working/train/images/id_1i5etk.jpg: ignoring corrupt image/label: Label class 19 exceeds dataset class count 18. Possible class labels are 0-17\n",
      "\u001b[34m\u001b[1mtrain: \u001b[0mWARNING ⚠️ /kaggle/working/train/images/id_1jwza7.jpg: ignoring corrupt image/label: Label class 19 exceeds dataset class count 18. Possible class labels are 0-17\n",
      "\u001b[34m\u001b[1mtrain: \u001b[0mWARNING ⚠️ /kaggle/working/train/images/id_1lxkmx.jpg: ignoring corrupt image/label: Label class 19 exceeds dataset class count 18. Possible class labels are 0-17\n",
      "\u001b[34m\u001b[1mtrain: \u001b[0mWARNING ⚠️ /kaggle/working/train/images/id_1q6svj.jpg: ignoring corrupt image/label: Label class 22 exceeds dataset class count 18. Possible class labels are 0-17\n",
      "\u001b[34m\u001b[1mtrain: \u001b[0mWARNING ⚠️ /kaggle/working/train/images/id_1r3rzf.jpg: ignoring corrupt image/label: Label class 18 exceeds dataset class count 18. Possible class labels are 0-17\n",
      "\u001b[34m\u001b[1mtrain: \u001b[0mWARNING ⚠️ /kaggle/working/train/images/id_1sgouo.jpg: ignoring corrupt image/label: Label class 22 exceeds dataset class count 18. Possible class labels are 0-17\n",
      "\u001b[34m\u001b[1mtrain: \u001b[0mWARNING ⚠️ /kaggle/working/train/images/id_1t5xdf.jpg: ignoring corrupt image/label: Label class 19 exceeds dataset class count 18. Possible class labels are 0-17\n",
      "\u001b[34m\u001b[1mtrain: \u001b[0mWARNING ⚠️ /kaggle/working/train/images/id_1vu85a.jpg: ignoring corrupt image/label: Label class 18 exceeds dataset class count 18. Possible class labels are 0-17\n",
      "\u001b[34m\u001b[1mtrain: \u001b[0mWARNING ⚠️ /kaggle/working/train/images/id_1wixxk.jpg: ignoring corrupt image/label: Label class 20 exceeds dataset class count 18. Possible class labels are 0-17\n",
      "\u001b[34m\u001b[1mtrain: \u001b[0mWARNING ⚠️ /kaggle/working/train/images/id_239z3e.jpg: ignoring corrupt image/label: Label class 22 exceeds dataset class count 18. Possible class labels are 0-17\n",
      "\u001b[34m\u001b[1mtrain: \u001b[0mWARNING ⚠️ /kaggle/working/train/images/id_23kin4.jpg: ignoring corrupt image/label: Label class 18 exceeds dataset class count 18. Possible class labels are 0-17\n",
      "\u001b[34m\u001b[1mtrain: \u001b[0mWARNING ⚠️ /kaggle/working/train/images/id_23yy7v.jpg: ignoring corrupt image/label: Label class 19 exceeds dataset class count 18. Possible class labels are 0-17\n",
      "\u001b[34m\u001b[1mtrain: \u001b[0mWARNING ⚠️ /kaggle/working/train/images/id_24cakf.jpg: ignoring corrupt image/label: Label class 19 exceeds dataset class count 18. Possible class labels are 0-17\n",
      "\u001b[34m\u001b[1mtrain: \u001b[0mWARNING ⚠️ /kaggle/working/train/images/id_27cebp.jpg: ignoring corrupt image/label: Label class 18 exceeds dataset class count 18. Possible class labels are 0-17\n",
      "\u001b[34m\u001b[1mtrain: \u001b[0mWARNING ⚠️ /kaggle/working/train/images/id_2adlab.jpg: ignoring corrupt image/label: Label class 21 exceeds dataset class count 18. Possible class labels are 0-17\n",
      "\u001b[34m\u001b[1mtrain: \u001b[0mWARNING ⚠️ /kaggle/working/train/images/id_2ei49i.jpg: ignoring corrupt image/label: Label class 22 exceeds dataset class count 18. Possible class labels are 0-17\n",
      "\u001b[34m\u001b[1mtrain: \u001b[0mWARNING ⚠️ /kaggle/working/train/images/id_2fm8f1.jpg: ignoring corrupt image/label: Label class 22 exceeds dataset class count 18. Possible class labels are 0-17\n",
      "\u001b[34m\u001b[1mtrain: \u001b[0mWARNING ⚠️ /kaggle/working/train/images/id_2g6svz.jpg: ignoring corrupt image/label: Label class 22 exceeds dataset class count 18. Possible class labels are 0-17\n",
      "\u001b[34m\u001b[1mtrain: \u001b[0mWARNING ⚠️ /kaggle/working/train/images/id_2oxutr.jpg: ignoring corrupt image/label: Label class 22 exceeds dataset class count 18. Possible class labels are 0-17\n",
      "\u001b[34m\u001b[1mtrain: \u001b[0mWARNING ⚠️ /kaggle/working/train/images/id_2qbotq.jpg: ignoring corrupt image/label: Label class 19 exceeds dataset class count 18. Possible class labels are 0-17\n",
      "\u001b[34m\u001b[1mtrain: \u001b[0mWARNING ⚠️ /kaggle/working/train/images/id_2qsm2j.jpg: ignoring corrupt image/label: Label class 22 exceeds dataset class count 18. Possible class labels are 0-17\n",
      "\u001b[34m\u001b[1mtrain: \u001b[0mWARNING ⚠️ /kaggle/working/train/images/id_2rjath.jpg: ignoring corrupt image/label: Label class 19 exceeds dataset class count 18. Possible class labels are 0-17\n",
      "\u001b[34m\u001b[1mtrain: \u001b[0mWARNING ⚠️ /kaggle/working/train/images/id_2rpg7d.jpg: ignoring corrupt image/label: Label class 22 exceeds dataset class count 18. Possible class labels are 0-17\n",
      "\u001b[34m\u001b[1mtrain: \u001b[0mWARNING ⚠️ /kaggle/working/train/images/id_2rs7qs.jpg: ignoring corrupt image/label: Label class 22 exceeds dataset class count 18. Possible class labels are 0-17\n",
      "\u001b[34m\u001b[1mtrain: \u001b[0mWARNING ⚠️ /kaggle/working/train/images/id_2uhcjo.jpg: ignoring corrupt image/label: Label class 22 exceeds dataset class count 18. Possible class labels are 0-17\n",
      "\u001b[34m\u001b[1mtrain: \u001b[0mWARNING ⚠️ /kaggle/working/train/images/id_2vv55m.jpg: ignoring corrupt image/label: Label class 19 exceeds dataset class count 18. Possible class labels are 0-17\n",
      "\u001b[34m\u001b[1mtrain: \u001b[0mWARNING ⚠️ /kaggle/working/train/images/id_2wp9d9.jpg: ignoring corrupt image/label: Label class 19 exceeds dataset class count 18. Possible class labels are 0-17\n",
      "\u001b[34m\u001b[1mtrain: \u001b[0mWARNING ⚠️ /kaggle/working/train/images/id_31kpit.jpg: ignoring corrupt image/label: Label class 22 exceeds dataset class count 18. Possible class labels are 0-17\n",
      "\u001b[34m\u001b[1mtrain: \u001b[0mWARNING ⚠️ /kaggle/working/train/images/id_32e7um.jpg: ignoring corrupt image/label: Label class 18 exceeds dataset class count 18. Possible class labels are 0-17\n",
      "\u001b[34m\u001b[1mtrain: \u001b[0mWARNING ⚠️ /kaggle/working/train/images/id_33ubpc.jpg: ignoring corrupt image/label: Label class 20 exceeds dataset class count 18. Possible class labels are 0-17\n",
      "\u001b[34m\u001b[1mtrain: \u001b[0mWARNING ⚠️ /kaggle/working/train/images/id_34jmya.jpg: ignoring corrupt image/label: Label class 22 exceeds dataset class count 18. Possible class labels are 0-17\n",
      "\u001b[34m\u001b[1mtrain: \u001b[0mWARNING ⚠️ /kaggle/working/train/images/id_3556ep.jpg: ignoring corrupt image/label: Label class 18 exceeds dataset class count 18. Possible class labels are 0-17\n",
      "\u001b[34m\u001b[1mtrain: \u001b[0mWARNING ⚠️ /kaggle/working/train/images/id_3c5tff.jpg: ignoring corrupt image/label: Label class 22 exceeds dataset class count 18. Possible class labels are 0-17\n",
      "\u001b[34m\u001b[1mtrain: \u001b[0mWARNING ⚠️ /kaggle/working/train/images/id_3gl9np.jpg: ignoring corrupt image/label: Label class 20 exceeds dataset class count 18. Possible class labels are 0-17\n",
      "\u001b[34m\u001b[1mtrain: \u001b[0mWARNING ⚠️ /kaggle/working/train/images/id_3h9xal.jpg: ignoring corrupt image/label: Label class 18 exceeds dataset class count 18. Possible class labels are 0-17\n",
      "\u001b[34m\u001b[1mtrain: \u001b[0mWARNING ⚠️ /kaggle/working/train/images/id_3hupn4.jpg: ignoring corrupt image/label: Label class 19 exceeds dataset class count 18. Possible class labels are 0-17\n",
      "\u001b[34m\u001b[1mtrain: \u001b[0mWARNING ⚠️ /kaggle/working/train/images/id_3lby1s.jpg: ignoring corrupt image/label: Label class 22 exceeds dataset class count 18. Possible class labels are 0-17\n",
      "\u001b[34m\u001b[1mtrain: \u001b[0mWARNING ⚠️ /kaggle/working/train/images/id_3mww9d.jpg: ignoring corrupt image/label: Label class 22 exceeds dataset class count 18. Possible class labels are 0-17\n",
      "\u001b[34m\u001b[1mtrain: \u001b[0mWARNING ⚠️ /kaggle/working/train/images/id_3oy9sb.jpg: ignoring corrupt image/label: Label class 19 exceeds dataset class count 18. Possible class labels are 0-17\n",
      "\u001b[34m\u001b[1mtrain: \u001b[0mWARNING ⚠️ /kaggle/working/train/images/id_3r7znt.jpg: ignoring corrupt image/label: Label class 18 exceeds dataset class count 18. Possible class labels are 0-17\n",
      "\u001b[34m\u001b[1mtrain: \u001b[0mWARNING ⚠️ /kaggle/working/train/images/id_3t4jc5.jpg: ignoring corrupt image/label: Label class 22 exceeds dataset class count 18. Possible class labels are 0-17\n",
      "\u001b[34m\u001b[1mtrain: \u001b[0mWARNING ⚠️ /kaggle/working/train/images/id_3tcjyx.jpg: ignoring corrupt image/label: Label class 22 exceeds dataset class count 18. Possible class labels are 0-17\n",
      "\u001b[34m\u001b[1mtrain: \u001b[0mWARNING ⚠️ /kaggle/working/train/images/id_3u3nt8.jpg: ignoring corrupt image/label: Label class 22 exceeds dataset class count 18. Possible class labels are 0-17\n",
      "\u001b[34m\u001b[1mtrain: \u001b[0mWARNING ⚠️ /kaggle/working/train/images/id_3uyu76.jpg: ignoring corrupt image/label: Label class 22 exceeds dataset class count 18. Possible class labels are 0-17\n",
      "\u001b[34m\u001b[1mtrain: \u001b[0mWARNING ⚠️ /kaggle/working/train/images/id_3uz99o.jpg: ignoring corrupt image/label: Label class 19 exceeds dataset class count 18. Possible class labels are 0-17\n",
      "\u001b[34m\u001b[1mtrain: \u001b[0mWARNING ⚠️ /kaggle/working/train/images/id_3xllze.jpg: ignoring corrupt image/label: Label class 22 exceeds dataset class count 18. Possible class labels are 0-17\n",
      "\u001b[34m\u001b[1mtrain: \u001b[0mWARNING ⚠️ /kaggle/working/train/images/id_3xx3bh.jpg: ignoring corrupt image/label: Label class 22 exceeds dataset class count 18. Possible class labels are 0-17\n",
      "\u001b[34m\u001b[1mtrain: \u001b[0mWARNING ⚠️ /kaggle/working/train/images/id_3ztxfy.jpg: ignoring corrupt image/label: Label class 22 exceeds dataset class count 18. Possible class labels are 0-17\n",
      "\u001b[34m\u001b[1mtrain: \u001b[0mWARNING ⚠️ /kaggle/working/train/images/id_4344u7.jpg: ignoring corrupt image/label: Label class 21 exceeds dataset class count 18. Possible class labels are 0-17\n",
      "\u001b[34m\u001b[1mtrain: \u001b[0mWARNING ⚠️ /kaggle/working/train/images/id_47z2ji.jpg: ignoring corrupt image/label: Label class 19 exceeds dataset class count 18. Possible class labels are 0-17\n",
      "\u001b[34m\u001b[1mtrain: \u001b[0mWARNING ⚠️ /kaggle/working/train/images/id_47zlap.jpg: ignoring corrupt image/label: Label class 22 exceeds dataset class count 18. Possible class labels are 0-17\n",
      "\u001b[34m\u001b[1mtrain: \u001b[0mWARNING ⚠️ /kaggle/working/train/images/id_4acfej.jpg: ignoring corrupt image/label: Label class 18 exceeds dataset class count 18. Possible class labels are 0-17\n",
      "\u001b[34m\u001b[1mtrain: \u001b[0mWARNING ⚠️ /kaggle/working/train/images/id_4affyg.jpg: ignoring corrupt image/label: Label class 18 exceeds dataset class count 18. Possible class labels are 0-17\n",
      "\u001b[34m\u001b[1mtrain: \u001b[0mWARNING ⚠️ /kaggle/working/train/images/id_4atdin.jpg: ignoring corrupt image/label: Label class 22 exceeds dataset class count 18. Possible class labels are 0-17\n",
      "\u001b[34m\u001b[1mtrain: \u001b[0mWARNING ⚠️ /kaggle/working/train/images/id_4b85zu.jpg: ignoring corrupt image/label: Label class 22 exceeds dataset class count 18. Possible class labels are 0-17\n",
      "\u001b[34m\u001b[1mtrain: \u001b[0mWARNING ⚠️ /kaggle/working/train/images/id_4ch6v8.jpg: ignoring corrupt image/label: Label class 19 exceeds dataset class count 18. Possible class labels are 0-17\n",
      "\u001b[34m\u001b[1mtrain: \u001b[0mWARNING ⚠️ /kaggle/working/train/images/id_4glxan.jpg: ignoring corrupt image/label: Label class 18 exceeds dataset class count 18. Possible class labels are 0-17\n",
      "\u001b[34m\u001b[1mtrain: \u001b[0mWARNING ⚠️ /kaggle/working/train/images/id_4gono2.jpg: ignoring corrupt image/label: Label class 22 exceeds dataset class count 18. Possible class labels are 0-17\n",
      "\u001b[34m\u001b[1mtrain: \u001b[0mWARNING ⚠️ /kaggle/working/train/images/id_4hu5hz.jpg: ignoring corrupt image/label: Label class 18 exceeds dataset class count 18. Possible class labels are 0-17\n",
      "\u001b[34m\u001b[1mtrain: \u001b[0mWARNING ⚠️ /kaggle/working/train/images/id_4igu3m.jpg: ignoring corrupt image/label: Label class 22 exceeds dataset class count 18. Possible class labels are 0-17\n",
      "\u001b[34m\u001b[1mtrain: \u001b[0mWARNING ⚠️ /kaggle/working/train/images/id_4ihp9r.jpg: ignoring corrupt image/label: Label class 21 exceeds dataset class count 18. Possible class labels are 0-17\n",
      "\u001b[34m\u001b[1mtrain: \u001b[0mWARNING ⚠️ /kaggle/working/train/images/id_4ixmnm.jpg: ignoring corrupt image/label: Label class 18 exceeds dataset class count 18. Possible class labels are 0-17\n",
      "\u001b[34m\u001b[1mtrain: \u001b[0mWARNING ⚠️ /kaggle/working/train/images/id_4j54bj.jpg: ignoring corrupt image/label: Label class 18 exceeds dataset class count 18. Possible class labels are 0-17\n",
      "\u001b[34m\u001b[1mtrain: \u001b[0mWARNING ⚠️ /kaggle/working/train/images/id_4ju7c8.jpg: ignoring corrupt image/label: Label class 19 exceeds dataset class count 18. Possible class labels are 0-17\n",
      "\u001b[34m\u001b[1mtrain: \u001b[0mWARNING ⚠️ /kaggle/working/train/images/id_4kz361.jpg: ignoring corrupt image/label: Label class 19 exceeds dataset class count 18. Possible class labels are 0-17\n",
      "\u001b[34m\u001b[1mtrain: \u001b[0mWARNING ⚠️ /kaggle/working/train/images/id_4lnkcj.jpg: ignoring corrupt image/label: Label class 19 exceeds dataset class count 18. Possible class labels are 0-17\n",
      "\u001b[34m\u001b[1mtrain: \u001b[0mWARNING ⚠️ /kaggle/working/train/images/id_4n1b7i.jpg: ignoring corrupt image/label: Label class 19 exceeds dataset class count 18. Possible class labels are 0-17\n",
      "\u001b[34m\u001b[1mtrain: \u001b[0mWARNING ⚠️ /kaggle/working/train/images/id_4nxpr4.jpg: ignoring corrupt image/label: Label class 22 exceeds dataset class count 18. Possible class labels are 0-17\n",
      "\u001b[34m\u001b[1mtrain: \u001b[0mWARNING ⚠️ /kaggle/working/train/images/id_4ordod.jpg: ignoring corrupt image/label: Label class 22 exceeds dataset class count 18. Possible class labels are 0-17\n",
      "\u001b[34m\u001b[1mtrain: \u001b[0mWARNING ⚠️ /kaggle/working/train/images/id_4qie9o.jpg: ignoring corrupt image/label: Label class 19 exceeds dataset class count 18. Possible class labels are 0-17\n",
      "\u001b[34m\u001b[1mtrain: \u001b[0mWARNING ⚠️ /kaggle/working/train/images/id_4qoza5.jpg: ignoring corrupt image/label: Label class 19 exceeds dataset class count 18. Possible class labels are 0-17\n",
      "\u001b[34m\u001b[1mtrain: \u001b[0mWARNING ⚠️ /kaggle/working/train/images/id_4shsqe.jpg: ignoring corrupt image/label: Label class 18 exceeds dataset class count 18. Possible class labels are 0-17\n",
      "\u001b[34m\u001b[1mtrain: \u001b[0mWARNING ⚠️ /kaggle/working/train/images/id_4u1ldu.jpg: ignoring corrupt image/label: Label class 22 exceeds dataset class count 18. Possible class labels are 0-17\n",
      "\u001b[34m\u001b[1mtrain: \u001b[0mWARNING ⚠️ /kaggle/working/train/images/id_4ubugj.jpg: ignoring corrupt image/label: Label class 18 exceeds dataset class count 18. Possible class labels are 0-17\n",
      "\u001b[34m\u001b[1mtrain: \u001b[0mWARNING ⚠️ /kaggle/working/train/images/id_4vztwv.jpg: ignoring corrupt image/label: Label class 19 exceeds dataset class count 18. Possible class labels are 0-17\n",
      "\u001b[34m\u001b[1mtrain: \u001b[0mWARNING ⚠️ /kaggle/working/train/images/id_4wz29v.jpg: ignoring corrupt image/label: Label class 22 exceeds dataset class count 18. Possible class labels are 0-17\n",
      "\u001b[34m\u001b[1mtrain: \u001b[0mWARNING ⚠️ /kaggle/working/train/images/id_4y5ip8.jpg: ignoring corrupt image/label: Label class 18 exceeds dataset class count 18. Possible class labels are 0-17\n",
      "\u001b[34m\u001b[1mtrain: \u001b[0mWARNING ⚠️ /kaggle/working/train/images/id_534g7a.jpg: ignoring corrupt image/label: Label class 19 exceeds dataset class count 18. Possible class labels are 0-17\n",
      "\u001b[34m\u001b[1mtrain: \u001b[0mWARNING ⚠️ /kaggle/working/train/images/id_53s6y8.jpg: ignoring corrupt image/label: Label class 22 exceeds dataset class count 18. Possible class labels are 0-17\n",
      "\u001b[34m\u001b[1mtrain: \u001b[0mWARNING ⚠️ /kaggle/working/train/images/id_541pe2.jpg: ignoring corrupt image/label: Label class 18 exceeds dataset class count 18. Possible class labels are 0-17\n",
      "\u001b[34m\u001b[1mtrain: \u001b[0mWARNING ⚠️ /kaggle/working/train/images/id_54lse1.jpg: ignoring corrupt image/label: Label class 22 exceeds dataset class count 18. Possible class labels are 0-17\n",
      "\u001b[34m\u001b[1mtrain: \u001b[0mWARNING ⚠️ /kaggle/working/train/images/id_54owyw.jpg: ignoring corrupt image/label: Label class 22 exceeds dataset class count 18. Possible class labels are 0-17\n",
      "\u001b[34m\u001b[1mtrain: \u001b[0mWARNING ⚠️ /kaggle/working/train/images/id_55ejc8.jpg: ignoring corrupt image/label: Label class 22 exceeds dataset class count 18. Possible class labels are 0-17\n",
      "\u001b[34m\u001b[1mtrain: \u001b[0mWARNING ⚠️ /kaggle/working/train/images/id_57oj5e.jpg: ignoring corrupt image/label: Label class 18 exceeds dataset class count 18. Possible class labels are 0-17\n",
      "\u001b[34m\u001b[1mtrain: \u001b[0mWARNING ⚠️ /kaggle/working/train/images/id_57vpdt.jpg: ignoring corrupt image/label: Label class 19 exceeds dataset class count 18. Possible class labels are 0-17\n",
      "\u001b[34m\u001b[1mtrain: \u001b[0mWARNING ⚠️ /kaggle/working/train/images/id_59ryp4.jpg: ignoring corrupt image/label: Label class 19 exceeds dataset class count 18. Possible class labels are 0-17\n",
      "\u001b[34m\u001b[1mtrain: \u001b[0mWARNING ⚠️ /kaggle/working/train/images/id_59yb2n.jpg: ignoring corrupt image/label: Label class 22 exceeds dataset class count 18. Possible class labels are 0-17\n",
      "\u001b[34m\u001b[1mtrain: \u001b[0mWARNING ⚠️ /kaggle/working/train/images/id_5a42e8.jpg: ignoring corrupt image/label: Label class 18 exceeds dataset class count 18. Possible class labels are 0-17\n",
      "\u001b[34m\u001b[1mtrain: \u001b[0mWARNING ⚠️ /kaggle/working/train/images/id_5ai47a.jpg: ignoring corrupt image/label: Label class 22 exceeds dataset class count 18. Possible class labels are 0-17\n",
      "\u001b[34m\u001b[1mtrain: \u001b[0mWARNING ⚠️ /kaggle/working/train/images/id_5akdjy.jpg: ignoring corrupt image/label: Label class 18 exceeds dataset class count 18. Possible class labels are 0-17\n",
      "\u001b[34m\u001b[1mtrain: \u001b[0mWARNING ⚠️ /kaggle/working/train/images/id_5dfjrx.jpg: ignoring corrupt image/label: Label class 19 exceeds dataset class count 18. Possible class labels are 0-17\n",
      "\u001b[34m\u001b[1mtrain: \u001b[0mWARNING ⚠️ /kaggle/working/train/images/id_5dhmcz.jpg: ignoring corrupt image/label: Label class 20 exceeds dataset class count 18. Possible class labels are 0-17\n",
      "\u001b[34m\u001b[1mtrain: \u001b[0mWARNING ⚠️ /kaggle/working/train/images/id_5dimso.jpg: ignoring corrupt image/label: Label class 19 exceeds dataset class count 18. Possible class labels are 0-17\n",
      "\u001b[34m\u001b[1mtrain: \u001b[0mWARNING ⚠️ /kaggle/working/train/images/id_5hzoi8.jpg: ignoring corrupt image/label: Label class 22 exceeds dataset class count 18. Possible class labels are 0-17\n",
      "\u001b[34m\u001b[1mtrain: \u001b[0mWARNING ⚠️ /kaggle/working/train/images/id_5o6waj.jpg: ignoring corrupt image/label: Label class 19 exceeds dataset class count 18. Possible class labels are 0-17\n",
      "\u001b[34m\u001b[1mtrain: \u001b[0mWARNING ⚠️ /kaggle/working/train/images/id_5sxb7i.jpg: ignoring corrupt image/label: Label class 22 exceeds dataset class count 18. Possible class labels are 0-17\n",
      "\u001b[34m\u001b[1mtrain: \u001b[0mWARNING ⚠️ /kaggle/working/train/images/id_5wq5ew.jpg: ignoring corrupt image/label: Label class 19 exceeds dataset class count 18. Possible class labels are 0-17\n",
      "\u001b[34m\u001b[1mtrain: \u001b[0mWARNING ⚠️ /kaggle/working/train/images/id_5y78xu.jpg: ignoring corrupt image/label: Label class 18 exceeds dataset class count 18. Possible class labels are 0-17\n",
      "\u001b[34m\u001b[1mtrain: \u001b[0mWARNING ⚠️ /kaggle/working/train/images/id_5zqbn5.jpg: ignoring corrupt image/label: Label class 19 exceeds dataset class count 18. Possible class labels are 0-17\n",
      "\u001b[34m\u001b[1mtrain: \u001b[0mWARNING ⚠️ /kaggle/working/train/images/id_5zrl45.jpg: ignoring corrupt image/label: Label class 18 exceeds dataset class count 18. Possible class labels are 0-17\n",
      "\u001b[34m\u001b[1mtrain: \u001b[0mWARNING ⚠️ /kaggle/working/train/images/id_5zxejg.jpg: ignoring corrupt image/label: Label class 22 exceeds dataset class count 18. Possible class labels are 0-17\n",
      "\u001b[34m\u001b[1mtrain: \u001b[0mWARNING ⚠️ /kaggle/working/train/images/id_61rxsc.jpg: ignoring corrupt image/label: Label class 19 exceeds dataset class count 18. Possible class labels are 0-17\n",
      "\u001b[34m\u001b[1mtrain: \u001b[0mWARNING ⚠️ /kaggle/working/train/images/id_62gm82.jpg: ignoring corrupt image/label: Label class 19 exceeds dataset class count 18. Possible class labels are 0-17\n",
      "\u001b[34m\u001b[1mtrain: \u001b[0mWARNING ⚠️ /kaggle/working/train/images/id_633t7p.jpg: ignoring corrupt image/label: Label class 22 exceeds dataset class count 18. Possible class labels are 0-17\n",
      "\u001b[34m\u001b[1mtrain: \u001b[0mWARNING ⚠️ /kaggle/working/train/images/id_634hsc.jpg: ignoring corrupt image/label: Label class 21 exceeds dataset class count 18. Possible class labels are 0-17\n",
      "\u001b[34m\u001b[1mtrain: \u001b[0mWARNING ⚠️ /kaggle/working/train/images/id_646sp8.jpg: ignoring corrupt image/label: Label class 18 exceeds dataset class count 18. Possible class labels are 0-17\n",
      "\u001b[34m\u001b[1mtrain: \u001b[0mWARNING ⚠️ /kaggle/working/train/images/id_64ue6p.jpg: ignoring corrupt image/label: Label class 22 exceeds dataset class count 18. Possible class labels are 0-17\n",
      "\u001b[34m\u001b[1mtrain: \u001b[0mWARNING ⚠️ /kaggle/working/train/images/id_654hxm.jpg: ignoring corrupt image/label: Label class 19 exceeds dataset class count 18. Possible class labels are 0-17\n",
      "\u001b[34m\u001b[1mtrain: \u001b[0mWARNING ⚠️ /kaggle/working/train/images/id_65k3km.jpg: ignoring corrupt image/label: Label class 19 exceeds dataset class count 18. Possible class labels are 0-17\n",
      "\u001b[34m\u001b[1mtrain: \u001b[0mWARNING ⚠️ /kaggle/working/train/images/id_676obn.jpg: ignoring corrupt image/label: Label class 20 exceeds dataset class count 18. Possible class labels are 0-17\n",
      "\u001b[34m\u001b[1mtrain: \u001b[0mWARNING ⚠️ /kaggle/working/train/images/id_67lcxs.jpg: ignoring corrupt image/label: Label class 22 exceeds dataset class count 18. Possible class labels are 0-17\n",
      "\u001b[34m\u001b[1mtrain: \u001b[0mWARNING ⚠️ /kaggle/working/train/images/id_67wlqq.jpg: ignoring corrupt image/label: Label class 21 exceeds dataset class count 18. Possible class labels are 0-17\n",
      "\u001b[34m\u001b[1mtrain: \u001b[0mWARNING ⚠️ /kaggle/working/train/images/id_681jzk.jpg: ignoring corrupt image/label: Label class 19 exceeds dataset class count 18. Possible class labels are 0-17\n",
      "\u001b[34m\u001b[1mtrain: \u001b[0mWARNING ⚠️ /kaggle/working/train/images/id_69rw3e.jpg: ignoring corrupt image/label: Label class 19 exceeds dataset class count 18. Possible class labels are 0-17\n",
      "\u001b[34m\u001b[1mtrain: \u001b[0mWARNING ⚠️ /kaggle/working/train/images/id_6c4uxc.jpg: ignoring corrupt image/label: Label class 19 exceeds dataset class count 18. Possible class labels are 0-17\n",
      "\u001b[34m\u001b[1mtrain: \u001b[0mWARNING ⚠️ /kaggle/working/train/images/id_6d74ir.jpg: ignoring corrupt image/label: Label class 19 exceeds dataset class count 18. Possible class labels are 0-17\n",
      "\u001b[34m\u001b[1mtrain: \u001b[0mWARNING ⚠️ /kaggle/working/train/images/id_6dkdb5.jpg: ignoring corrupt image/label: Label class 18 exceeds dataset class count 18. Possible class labels are 0-17\n",
      "\u001b[34m\u001b[1mtrain: \u001b[0mWARNING ⚠️ /kaggle/working/train/images/id_6fqzl6.jpg: ignoring corrupt image/label: Label class 18 exceeds dataset class count 18. Possible class labels are 0-17\n",
      "\u001b[34m\u001b[1mtrain: \u001b[0mWARNING ⚠️ /kaggle/working/train/images/id_6ft7zo.jpg: ignoring corrupt image/label: Label class 19 exceeds dataset class count 18. Possible class labels are 0-17\n",
      "\u001b[34m\u001b[1mtrain: \u001b[0mWARNING ⚠️ /kaggle/working/train/images/id_6ftfzm.jpg: ignoring corrupt image/label: Label class 22 exceeds dataset class count 18. Possible class labels are 0-17\n",
      "\u001b[34m\u001b[1mtrain: \u001b[0mWARNING ⚠️ /kaggle/working/train/images/id_6ghikg.jpg: ignoring corrupt image/label: Label class 22 exceeds dataset class count 18. Possible class labels are 0-17\n",
      "\u001b[34m\u001b[1mtrain: \u001b[0mWARNING ⚠️ /kaggle/working/train/images/id_6hmbg3.jpg: ignoring corrupt image/label: Label class 19 exceeds dataset class count 18. Possible class labels are 0-17\n",
      "\u001b[34m\u001b[1mtrain: \u001b[0mWARNING ⚠️ /kaggle/working/train/images/id_6iv979.jpg: ignoring corrupt image/label: Label class 22 exceeds dataset class count 18. Possible class labels are 0-17\n",
      "\u001b[34m\u001b[1mtrain: \u001b[0mWARNING ⚠️ /kaggle/working/train/images/id_6mlju6.jpg: ignoring corrupt image/label: Label class 19 exceeds dataset class count 18. Possible class labels are 0-17\n",
      "\u001b[34m\u001b[1mtrain: \u001b[0mWARNING ⚠️ /kaggle/working/train/images/id_6nmpic.jpg: ignoring corrupt image/label: Label class 20 exceeds dataset class count 18. Possible class labels are 0-17\n",
      "\u001b[34m\u001b[1mtrain: \u001b[0mWARNING ⚠️ /kaggle/working/train/images/id_6nxahn.jpg: ignoring corrupt image/label: Label class 18 exceeds dataset class count 18. Possible class labels are 0-17\n",
      "\u001b[34m\u001b[1mtrain: \u001b[0mWARNING ⚠️ /kaggle/working/train/images/id_6poduq.jpg: ignoring corrupt image/label: Label class 22 exceeds dataset class count 18. Possible class labels are 0-17\n",
      "\u001b[34m\u001b[1mtrain: \u001b[0mWARNING ⚠️ /kaggle/working/train/images/id_6rtvu3.jpg: ignoring corrupt image/label: Label class 19 exceeds dataset class count 18. Possible class labels are 0-17\n",
      "\u001b[34m\u001b[1mtrain: \u001b[0mWARNING ⚠️ /kaggle/working/train/images/id_6sd21d.jpg: ignoring corrupt image/label: Label class 18 exceeds dataset class count 18. Possible class labels are 0-17\n",
      "\u001b[34m\u001b[1mtrain: \u001b[0mWARNING ⚠️ /kaggle/working/train/images/id_6ud4p7.jpg: ignoring corrupt image/label: Label class 22 exceeds dataset class count 18. Possible class labels are 0-17\n",
      "\u001b[34m\u001b[1mtrain: \u001b[0mWARNING ⚠️ /kaggle/working/train/images/id_6unpdb.jpg: ignoring corrupt image/label: Label class 22 exceeds dataset class count 18. Possible class labels are 0-17\n",
      "\u001b[34m\u001b[1mtrain: \u001b[0mWARNING ⚠️ /kaggle/working/train/images/id_6us5fi.jpg: ignoring corrupt image/label: Label class 19 exceeds dataset class count 18. Possible class labels are 0-17\n",
      "\u001b[34m\u001b[1mtrain: \u001b[0mWARNING ⚠️ /kaggle/working/train/images/id_6wauce.jpg: ignoring corrupt image/label: Label class 18 exceeds dataset class count 18. Possible class labels are 0-17\n",
      "\u001b[34m\u001b[1mtrain: \u001b[0mWARNING ⚠️ /kaggle/working/train/images/id_6winav.jpg: ignoring corrupt image/label: Label class 19 exceeds dataset class count 18. Possible class labels are 0-17\n",
      "\u001b[34m\u001b[1mtrain: \u001b[0mWARNING ⚠️ /kaggle/working/train/images/id_6zk2dv.jpg: ignoring corrupt image/label: Label class 19 exceeds dataset class count 18. Possible class labels are 0-17\n",
      "\u001b[34m\u001b[1mtrain: \u001b[0mWARNING ⚠️ /kaggle/working/train/images/id_71kuw3.jpg: ignoring corrupt image/label: Label class 22 exceeds dataset class count 18. Possible class labels are 0-17\n",
      "\u001b[34m\u001b[1mtrain: \u001b[0mWARNING ⚠️ /kaggle/working/train/images/id_76jl6e.jpg: ignoring corrupt image/label: Label class 22 exceeds dataset class count 18. Possible class labels are 0-17\n",
      "\u001b[34m\u001b[1mtrain: \u001b[0mWARNING ⚠️ /kaggle/working/train/images/id_7anaxc.jpg: ignoring corrupt image/label: Label class 18 exceeds dataset class count 18. Possible class labels are 0-17\n",
      "\u001b[34m\u001b[1mtrain: \u001b[0mWARNING ⚠️ /kaggle/working/train/images/id_7fgfqt.jpg: ignoring corrupt image/label: Label class 18 exceeds dataset class count 18. Possible class labels are 0-17\n",
      "\u001b[34m\u001b[1mtrain: \u001b[0mWARNING ⚠️ /kaggle/working/train/images/id_7fh9b1.jpg: ignoring corrupt image/label: Label class 19 exceeds dataset class count 18. Possible class labels are 0-17\n",
      "\u001b[34m\u001b[1mtrain: \u001b[0mWARNING ⚠️ /kaggle/working/train/images/id_7jg7kr.jpg: ignoring corrupt image/label: Label class 18 exceeds dataset class count 18. Possible class labels are 0-17\n",
      "\u001b[34m\u001b[1mtrain: \u001b[0mWARNING ⚠️ /kaggle/working/train/images/id_7johpa.jpg: ignoring corrupt image/label: Label class 22 exceeds dataset class count 18. Possible class labels are 0-17\n",
      "\u001b[34m\u001b[1mtrain: \u001b[0mWARNING ⚠️ /kaggle/working/train/images/id_7k76a7.jpg: ignoring corrupt image/label: Label class 22 exceeds dataset class count 18. Possible class labels are 0-17\n",
      "\u001b[34m\u001b[1mtrain: \u001b[0mWARNING ⚠️ /kaggle/working/train/images/id_7kpihx.jpg: ignoring corrupt image/label: Label class 20 exceeds dataset class count 18. Possible class labels are 0-17\n",
      "\u001b[34m\u001b[1mtrain: \u001b[0mWARNING ⚠️ /kaggle/working/train/images/id_7lgrvp.jpg: ignoring corrupt image/label: Label class 19 exceeds dataset class count 18. Possible class labels are 0-17\n",
      "\u001b[34m\u001b[1mtrain: \u001b[0mWARNING ⚠️ /kaggle/working/train/images/id_7pe159.jpg: ignoring corrupt image/label: Label class 18 exceeds dataset class count 18. Possible class labels are 0-17\n",
      "\u001b[34m\u001b[1mtrain: \u001b[0mWARNING ⚠️ /kaggle/working/train/images/id_7q8zpo.jpg: ignoring corrupt image/label: Label class 22 exceeds dataset class count 18. Possible class labels are 0-17\n",
      "\u001b[34m\u001b[1mtrain: \u001b[0mWARNING ⚠️ /kaggle/working/train/images/id_7r24l1.jpg: ignoring corrupt image/label: Label class 18 exceeds dataset class count 18. Possible class labels are 0-17\n",
      "\u001b[34m\u001b[1mtrain: \u001b[0mWARNING ⚠️ /kaggle/working/train/images/id_7uq986.jpg: ignoring corrupt image/label: Label class 18 exceeds dataset class count 18. Possible class labels are 0-17\n",
      "\u001b[34m\u001b[1mtrain: \u001b[0mWARNING ⚠️ /kaggle/working/train/images/id_7wmkyk.jpg: ignoring corrupt image/label: Label class 22 exceeds dataset class count 18. Possible class labels are 0-17\n",
      "\u001b[34m\u001b[1mtrain: \u001b[0mWARNING ⚠️ /kaggle/working/train/images/id_81c4ow.jpg: ignoring corrupt image/label: Label class 18 exceeds dataset class count 18. Possible class labels are 0-17\n",
      "\u001b[34m\u001b[1mtrain: \u001b[0mWARNING ⚠️ /kaggle/working/train/images/id_8241xi.jpg: ignoring corrupt image/label: Label class 19 exceeds dataset class count 18. Possible class labels are 0-17\n",
      "\u001b[34m\u001b[1mtrain: \u001b[0mWARNING ⚠️ /kaggle/working/train/images/id_83tzvc.jpg: ignoring corrupt image/label: Label class 22 exceeds dataset class count 18. Possible class labels are 0-17\n",
      "\u001b[34m\u001b[1mtrain: \u001b[0mWARNING ⚠️ /kaggle/working/train/images/id_841y8l.jpg: ignoring corrupt image/label: Label class 18 exceeds dataset class count 18. Possible class labels are 0-17\n",
      "\u001b[34m\u001b[1mtrain: \u001b[0mWARNING ⚠️ /kaggle/working/train/images/id_848a1w.jpg: ignoring corrupt image/label: Label class 22 exceeds dataset class count 18. Possible class labels are 0-17\n",
      "\u001b[34m\u001b[1mtrain: \u001b[0mWARNING ⚠️ /kaggle/working/train/images/id_8bkvtb.jpg: ignoring corrupt image/label: Label class 19 exceeds dataset class count 18. Possible class labels are 0-17\n",
      "\u001b[34m\u001b[1mtrain: \u001b[0mWARNING ⚠️ /kaggle/working/train/images/id_8douxh.jpg: ignoring corrupt image/label: Label class 22 exceeds dataset class count 18. Possible class labels are 0-17\n",
      "\u001b[34m\u001b[1mtrain: \u001b[0mWARNING ⚠️ /kaggle/working/train/images/id_8f49ed.jpg: ignoring corrupt image/label: Label class 22 exceeds dataset class count 18. Possible class labels are 0-17\n",
      "\u001b[34m\u001b[1mtrain: \u001b[0mWARNING ⚠️ /kaggle/working/train/images/id_8g3bie.jpg: ignoring corrupt image/label: Label class 22 exceeds dataset class count 18. Possible class labels are 0-17\n",
      "\u001b[34m\u001b[1mtrain: \u001b[0mWARNING ⚠️ /kaggle/working/train/images/id_8kmvgp.jpg: ignoring corrupt image/label: Label class 19 exceeds dataset class count 18. Possible class labels are 0-17\n",
      "\u001b[34m\u001b[1mtrain: \u001b[0mWARNING ⚠️ /kaggle/working/train/images/id_8lq6ay.jpg: ignoring corrupt image/label: Label class 22 exceeds dataset class count 18. Possible class labels are 0-17\n",
      "\u001b[34m\u001b[1mtrain: \u001b[0mWARNING ⚠️ /kaggle/working/train/images/id_8oo9vl.jpg: ignoring corrupt image/label: Label class 18 exceeds dataset class count 18. Possible class labels are 0-17\n",
      "\u001b[34m\u001b[1mtrain: \u001b[0mWARNING ⚠️ /kaggle/working/train/images/id_8pt1h8.jpg: ignoring corrupt image/label: Label class 18 exceeds dataset class count 18. Possible class labels are 0-17\n",
      "\u001b[34m\u001b[1mtrain: \u001b[0mWARNING ⚠️ /kaggle/working/train/images/id_8qese3.jpg: ignoring corrupt image/label: Label class 22 exceeds dataset class count 18. Possible class labels are 0-17\n",
      "\u001b[34m\u001b[1mtrain: \u001b[0mWARNING ⚠️ /kaggle/working/train/images/id_8s3hoe.jpg: ignoring corrupt image/label: Label class 19 exceeds dataset class count 18. Possible class labels are 0-17\n",
      "\u001b[34m\u001b[1mtrain: \u001b[0mWARNING ⚠️ /kaggle/working/train/images/id_8tkdh3.jpg: ignoring corrupt image/label: Label class 19 exceeds dataset class count 18. Possible class labels are 0-17\n",
      "\u001b[34m\u001b[1mtrain: \u001b[0mWARNING ⚠️ /kaggle/working/train/images/id_8vjnzx.jpg: ignoring corrupt image/label: Label class 19 exceeds dataset class count 18. Possible class labels are 0-17\n",
      "\u001b[34m\u001b[1mtrain: \u001b[0mWARNING ⚠️ /kaggle/working/train/images/id_8vrn9b.jpg: ignoring corrupt image/label: Label class 22 exceeds dataset class count 18. Possible class labels are 0-17\n",
      "\u001b[34m\u001b[1mtrain: \u001b[0mWARNING ⚠️ /kaggle/working/train/images/id_8xx3l6.jpg: ignoring corrupt image/label: Label class 20 exceeds dataset class count 18. Possible class labels are 0-17\n",
      "\u001b[34m\u001b[1mtrain: \u001b[0mWARNING ⚠️ /kaggle/working/train/images/id_8zldxa.jpg: ignoring corrupt image/label: Label class 22 exceeds dataset class count 18. Possible class labels are 0-17\n",
      "\u001b[34m\u001b[1mtrain: \u001b[0mWARNING ⚠️ /kaggle/working/train/images/id_91i1pt.jpg: ignoring corrupt image/label: Label class 18 exceeds dataset class count 18. Possible class labels are 0-17\n",
      "\u001b[34m\u001b[1mtrain: \u001b[0mWARNING ⚠️ /kaggle/working/train/images/id_91qf2z.jpg: ignoring corrupt image/label: Label class 18 exceeds dataset class count 18. Possible class labels are 0-17\n",
      "\u001b[34m\u001b[1mtrain: \u001b[0mWARNING ⚠️ /kaggle/working/train/images/id_93morr.jpg: ignoring corrupt image/label: Label class 19 exceeds dataset class count 18. Possible class labels are 0-17\n",
      "\u001b[34m\u001b[1mtrain: \u001b[0mWARNING ⚠️ /kaggle/working/train/images/id_975h7g.jpg: ignoring corrupt image/label: Label class 22 exceeds dataset class count 18. Possible class labels are 0-17\n",
      "\u001b[34m\u001b[1mtrain: \u001b[0mWARNING ⚠️ /kaggle/working/train/images/id_98a2rn.jpg: ignoring corrupt image/label: Label class 18 exceeds dataset class count 18. Possible class labels are 0-17\n",
      "\u001b[34m\u001b[1mtrain: \u001b[0mWARNING ⚠️ /kaggle/working/train/images/id_9bjy6i.jpg: ignoring corrupt image/label: Label class 19 exceeds dataset class count 18. Possible class labels are 0-17\n",
      "\u001b[34m\u001b[1mtrain: \u001b[0mWARNING ⚠️ /kaggle/working/train/images/id_9bxar9.jpg: ignoring corrupt image/label: Label class 18 exceeds dataset class count 18. Possible class labels are 0-17\n",
      "\u001b[34m\u001b[1mtrain: \u001b[0mWARNING ⚠️ /kaggle/working/train/images/id_9d9a7t.jpg: ignoring corrupt image/label: Label class 18 exceeds dataset class count 18. Possible class labels are 0-17\n",
      "\u001b[34m\u001b[1mtrain: \u001b[0mWARNING ⚠️ /kaggle/working/train/images/id_9dpwf9.jpg: ignoring corrupt image/label: Label class 19 exceeds dataset class count 18. Possible class labels are 0-17\n",
      "\u001b[34m\u001b[1mtrain: \u001b[0mWARNING ⚠️ /kaggle/working/train/images/id_9fo54o.jpg: ignoring corrupt image/label: Label class 19 exceeds dataset class count 18. Possible class labels are 0-17\n",
      "\u001b[34m\u001b[1mtrain: \u001b[0mWARNING ⚠️ /kaggle/working/train/images/id_9iulkk.jpg: ignoring corrupt image/label: Label class 22 exceeds dataset class count 18. Possible class labels are 0-17\n",
      "\u001b[34m\u001b[1mtrain: \u001b[0mWARNING ⚠️ /kaggle/working/train/images/id_9iz3jn.jpg: ignoring corrupt image/label: Label class 19 exceeds dataset class count 18. Possible class labels are 0-17\n",
      "\u001b[34m\u001b[1mtrain: \u001b[0mWARNING ⚠️ /kaggle/working/train/images/id_9j6sr2.jpg: ignoring corrupt image/label: Label class 19 exceeds dataset class count 18. Possible class labels are 0-17\n",
      "\u001b[34m\u001b[1mtrain: \u001b[0mWARNING ⚠️ /kaggle/working/train/images/id_9lyww3.jpg: ignoring corrupt image/label: Label class 22 exceeds dataset class count 18. Possible class labels are 0-17\n",
      "\u001b[34m\u001b[1mtrain: \u001b[0mWARNING ⚠️ /kaggle/working/train/images/id_9ne8iv.jpg: ignoring corrupt image/label: Label class 18 exceeds dataset class count 18. Possible class labels are 0-17\n",
      "\u001b[34m\u001b[1mtrain: \u001b[0mWARNING ⚠️ /kaggle/working/train/images/id_9qsv47.jpg: ignoring corrupt image/label: Label class 22 exceeds dataset class count 18. Possible class labels are 0-17\n",
      "\u001b[34m\u001b[1mtrain: \u001b[0mWARNING ⚠️ /kaggle/working/train/images/id_9sbdkg.jpg: ignoring corrupt image/label: Label class 18 exceeds dataset class count 18. Possible class labels are 0-17\n",
      "\u001b[34m\u001b[1mtrain: \u001b[0mWARNING ⚠️ /kaggle/working/train/images/id_9syu5q.jpg: ignoring corrupt image/label: Label class 22 exceeds dataset class count 18. Possible class labels are 0-17\n",
      "\u001b[34m\u001b[1mtrain: \u001b[0mWARNING ⚠️ /kaggle/working/train/images/id_9ulkff.jpg: ignoring corrupt image/label: Label class 18 exceeds dataset class count 18. Possible class labels are 0-17\n",
      "\u001b[34m\u001b[1mtrain: \u001b[0mWARNING ⚠️ /kaggle/working/train/images/id_9vqn7m.jpg: ignoring corrupt image/label: Label class 18 exceeds dataset class count 18. Possible class labels are 0-17\n",
      "\u001b[34m\u001b[1mtrain: \u001b[0mWARNING ⚠️ /kaggle/working/train/images/id_9xz995.jpg: ignoring corrupt image/label: Label class 18 exceeds dataset class count 18. Possible class labels are 0-17\n",
      "\u001b[34m\u001b[1mtrain: \u001b[0mWARNING ⚠️ /kaggle/working/train/images/id_9ztlgb.jpg: ignoring corrupt image/label: Label class 19 exceeds dataset class count 18. Possible class labels are 0-17\n",
      "\u001b[34m\u001b[1mtrain: \u001b[0mWARNING ⚠️ /kaggle/working/train/images/id_a38dgz.jpg: ignoring corrupt image/label: Label class 22 exceeds dataset class count 18. Possible class labels are 0-17\n",
      "\u001b[34m\u001b[1mtrain: \u001b[0mWARNING ⚠️ /kaggle/working/train/images/id_a3f87o.jpg: ignoring corrupt image/label: Label class 18 exceeds dataset class count 18. Possible class labels are 0-17\n",
      "\u001b[34m\u001b[1mtrain: \u001b[0mWARNING ⚠️ /kaggle/working/train/images/id_a5jhqt.jpg: ignoring corrupt image/label: Label class 19 exceeds dataset class count 18. Possible class labels are 0-17\n",
      "\u001b[34m\u001b[1mtrain: \u001b[0mWARNING ⚠️ /kaggle/working/train/images/id_a5l87e.jpg: ignoring corrupt image/label: Label class 18 exceeds dataset class count 18. Possible class labels are 0-17\n",
      "\u001b[34m\u001b[1mtrain: \u001b[0mWARNING ⚠️ /kaggle/working/train/images/id_a6k8yd.jpg: ignoring corrupt image/label: Label class 21 exceeds dataset class count 18. Possible class labels are 0-17\n",
      "\u001b[34m\u001b[1mtrain: \u001b[0mWARNING ⚠️ /kaggle/working/train/images/id_a72wih.jpg: ignoring corrupt image/label: Label class 19 exceeds dataset class count 18. Possible class labels are 0-17\n",
      "\u001b[34m\u001b[1mtrain: \u001b[0mWARNING ⚠️ /kaggle/working/train/images/id_a9ruw8.jpg: ignoring corrupt image/label: Label class 18 exceeds dataset class count 18. Possible class labels are 0-17\n",
      "\u001b[34m\u001b[1mtrain: \u001b[0mWARNING ⚠️ /kaggle/working/train/images/id_ac22tt.jpg: ignoring corrupt image/label: Label class 22 exceeds dataset class count 18. Possible class labels are 0-17\n",
      "\u001b[34m\u001b[1mtrain: \u001b[0mWARNING ⚠️ /kaggle/working/train/images/id_ad4v7n.jpg: ignoring corrupt image/label: Label class 19 exceeds dataset class count 18. Possible class labels are 0-17\n",
      "\u001b[34m\u001b[1mtrain: \u001b[0mWARNING ⚠️ /kaggle/working/train/images/id_ae896z.jpg: ignoring corrupt image/label: Label class 19 exceeds dataset class count 18. Possible class labels are 0-17\n",
      "\u001b[34m\u001b[1mtrain: \u001b[0mWARNING ⚠️ /kaggle/working/train/images/id_ag2qgw.jpg: ignoring corrupt image/label: Label class 18 exceeds dataset class count 18. Possible class labels are 0-17\n",
      "\u001b[34m\u001b[1mtrain: \u001b[0mWARNING ⚠️ /kaggle/working/train/images/id_ag639u.jpg: ignoring corrupt image/label: Label class 21 exceeds dataset class count 18. Possible class labels are 0-17\n",
      "\u001b[34m\u001b[1mtrain: \u001b[0mWARNING ⚠️ /kaggle/working/train/images/id_ahld35.jpg: ignoring corrupt image/label: Label class 22 exceeds dataset class count 18. Possible class labels are 0-17\n",
      "\u001b[34m\u001b[1mtrain: \u001b[0mWARNING ⚠️ /kaggle/working/train/images/id_ai5v8s.jpg: ignoring corrupt image/label: Label class 22 exceeds dataset class count 18. Possible class labels are 0-17\n",
      "\u001b[34m\u001b[1mtrain: \u001b[0mWARNING ⚠️ /kaggle/working/train/images/id_ajzraz.jpg: ignoring corrupt image/label: Label class 22 exceeds dataset class count 18. Possible class labels are 0-17\n",
      "\u001b[34m\u001b[1mtrain: \u001b[0mWARNING ⚠️ /kaggle/working/train/images/id_ak7gph.jpg: ignoring corrupt image/label: Label class 19 exceeds dataset class count 18. Possible class labels are 0-17\n",
      "\u001b[34m\u001b[1mtrain: \u001b[0mWARNING ⚠️ /kaggle/working/train/images/id_aldkow.jpg: ignoring corrupt image/label: Label class 19 exceeds dataset class count 18. Possible class labels are 0-17\n",
      "\u001b[34m\u001b[1mtrain: \u001b[0mWARNING ⚠️ /kaggle/working/train/images/id_alqc7t.jpg: ignoring corrupt image/label: Label class 18 exceeds dataset class count 18. Possible class labels are 0-17\n",
      "\u001b[34m\u001b[1mtrain: \u001b[0mWARNING ⚠️ /kaggle/working/train/images/id_alv8as.jpg: ignoring corrupt image/label: Label class 18 exceeds dataset class count 18. Possible class labels are 0-17\n",
      "\u001b[34m\u001b[1mtrain: \u001b[0mWARNING ⚠️ /kaggle/working/train/images/id_alzlgx.jpg: ignoring corrupt image/label: Label class 22 exceeds dataset class count 18. Possible class labels are 0-17\n",
      "\u001b[34m\u001b[1mtrain: \u001b[0mWARNING ⚠️ /kaggle/working/train/images/id_ammjl6.jpg: ignoring corrupt image/label: Label class 19 exceeds dataset class count 18. Possible class labels are 0-17\n",
      "\u001b[34m\u001b[1mtrain: \u001b[0mWARNING ⚠️ /kaggle/working/train/images/id_anek6l.jpg: ignoring corrupt image/label: Label class 19 exceeds dataset class count 18. Possible class labels are 0-17\n",
      "\u001b[34m\u001b[1mtrain: \u001b[0mWARNING ⚠️ /kaggle/working/train/images/id_anym8f.jpg: ignoring corrupt image/label: Label class 18 exceeds dataset class count 18. Possible class labels are 0-17\n",
      "\u001b[34m\u001b[1mtrain: \u001b[0mWARNING ⚠️ /kaggle/working/train/images/id_apwk53.jpg: ignoring corrupt image/label: Label class 19 exceeds dataset class count 18. Possible class labels are 0-17\n",
      "\u001b[34m\u001b[1mtrain: \u001b[0mWARNING ⚠️ /kaggle/working/train/images/id_aqjue8.jpg: ignoring corrupt image/label: Label class 19 exceeds dataset class count 18. Possible class labels are 0-17\n",
      "\u001b[34m\u001b[1mtrain: \u001b[0mWARNING ⚠️ /kaggle/working/train/images/id_aqxdl8.jpg: ignoring corrupt image/label: Label class 22 exceeds dataset class count 18. Possible class labels are 0-17\n",
      "\u001b[34m\u001b[1mtrain: \u001b[0mWARNING ⚠️ /kaggle/working/train/images/id_assxt9.jpg: ignoring corrupt image/label: Label class 18 exceeds dataset class count 18. Possible class labels are 0-17\n",
      "\u001b[34m\u001b[1mtrain: \u001b[0mWARNING ⚠️ /kaggle/working/train/images/id_atiku1.jpg: ignoring corrupt image/label: Label class 19 exceeds dataset class count 18. Possible class labels are 0-17\n",
      "\u001b[34m\u001b[1mtrain: \u001b[0mWARNING ⚠️ /kaggle/working/train/images/id_auwp6v.jpg: ignoring corrupt image/label: Label class 19 exceeds dataset class count 18. Possible class labels are 0-17\n",
      "\u001b[34m\u001b[1mtrain: \u001b[0mWARNING ⚠️ /kaggle/working/train/images/id_awi259.jpg: ignoring corrupt image/label: Label class 22 exceeds dataset class count 18. Possible class labels are 0-17\n",
      "\u001b[34m\u001b[1mtrain: \u001b[0mWARNING ⚠️ /kaggle/working/train/images/id_b1sv9d.jpg: ignoring corrupt image/label: Label class 20 exceeds dataset class count 18. Possible class labels are 0-17\n",
      "\u001b[34m\u001b[1mtrain: \u001b[0mWARNING ⚠️ /kaggle/working/train/images/id_b3f4ux.jpg: ignoring corrupt image/label: Label class 20 exceeds dataset class count 18. Possible class labels are 0-17\n",
      "\u001b[34m\u001b[1mtrain: \u001b[0mWARNING ⚠️ /kaggle/working/train/images/id_b4ckrl.jpg: ignoring corrupt image/label: Label class 18 exceeds dataset class count 18. Possible class labels are 0-17\n",
      "\u001b[34m\u001b[1mtrain: \u001b[0mWARNING ⚠️ /kaggle/working/train/images/id_b96ryc.jpg: ignoring corrupt image/label: Label class 22 exceeds dataset class count 18. Possible class labels are 0-17\n",
      "\u001b[34m\u001b[1mtrain: \u001b[0mWARNING ⚠️ /kaggle/working/train/images/id_b9avbp.jpg: ignoring corrupt image/label: Label class 22 exceeds dataset class count 18. Possible class labels are 0-17\n",
      "\u001b[34m\u001b[1mtrain: \u001b[0mWARNING ⚠️ /kaggle/working/train/images/id_bae3bn.jpg: ignoring corrupt image/label: Label class 19 exceeds dataset class count 18. Possible class labels are 0-17\n",
      "\u001b[34m\u001b[1mtrain: \u001b[0mWARNING ⚠️ /kaggle/working/train/images/id_banous.jpg: ignoring corrupt image/label: Label class 20 exceeds dataset class count 18. Possible class labels are 0-17\n",
      "\u001b[34m\u001b[1mtrain: \u001b[0mWARNING ⚠️ /kaggle/working/train/images/id_bgr8ab.jpg: ignoring corrupt image/label: Label class 19 exceeds dataset class count 18. Possible class labels are 0-17\n",
      "\u001b[34m\u001b[1mtrain: \u001b[0mWARNING ⚠️ /kaggle/working/train/images/id_bkskuy.jpg: ignoring corrupt image/label: Label class 18 exceeds dataset class count 18. Possible class labels are 0-17\n",
      "\u001b[34m\u001b[1mtrain: \u001b[0mWARNING ⚠️ /kaggle/working/train/images/id_blv53n.jpg: ignoring corrupt image/label: Label class 19 exceeds dataset class count 18. Possible class labels are 0-17\n",
      "\u001b[34m\u001b[1mtrain: \u001b[0mWARNING ⚠️ /kaggle/working/train/images/id_bly1o5.jpg: ignoring corrupt image/label: Label class 18 exceeds dataset class count 18. Possible class labels are 0-17\n",
      "\u001b[34m\u001b[1mtrain: \u001b[0mWARNING ⚠️ /kaggle/working/train/images/id_blzan6.jpg: ignoring corrupt image/label: Label class 22 exceeds dataset class count 18. Possible class labels are 0-17\n",
      "\u001b[34m\u001b[1mtrain: \u001b[0mWARNING ⚠️ /kaggle/working/train/images/id_bnx8y2.jpg: ignoring corrupt image/label: Label class 22 exceeds dataset class count 18. Possible class labels are 0-17\n",
      "\u001b[34m\u001b[1mtrain: \u001b[0mWARNING ⚠️ /kaggle/working/train/images/id_bnxog5.jpg: ignoring corrupt image/label: Label class 21 exceeds dataset class count 18. Possible class labels are 0-17\n",
      "\u001b[34m\u001b[1mtrain: \u001b[0mWARNING ⚠️ /kaggle/working/train/images/id_bp6rya.jpg: ignoring corrupt image/label: Label class 22 exceeds dataset class count 18. Possible class labels are 0-17\n",
      "\u001b[34m\u001b[1mtrain: \u001b[0mWARNING ⚠️ /kaggle/working/train/images/id_bqfw1w.jpg: ignoring corrupt image/label: Label class 22 exceeds dataset class count 18. Possible class labels are 0-17\n",
      "\u001b[34m\u001b[1mtrain: \u001b[0mWARNING ⚠️ /kaggle/working/train/images/id_bqytud.jpg: ignoring corrupt image/label: Label class 22 exceeds dataset class count 18. Possible class labels are 0-17\n",
      "\u001b[34m\u001b[1mtrain: \u001b[0mWARNING ⚠️ /kaggle/working/train/images/id_bs61d7.jpg: ignoring corrupt image/label: Label class 22 exceeds dataset class count 18. Possible class labels are 0-17\n",
      "\u001b[34m\u001b[1mtrain: \u001b[0mWARNING ⚠️ /kaggle/working/train/images/id_bsu1a6.jpg: ignoring corrupt image/label: Label class 22 exceeds dataset class count 18. Possible class labels are 0-17\n",
      "\u001b[34m\u001b[1mtrain: \u001b[0mWARNING ⚠️ /kaggle/working/train/images/id_bswmtx.jpg: ignoring corrupt image/label: Label class 20 exceeds dataset class count 18. Possible class labels are 0-17\n",
      "\u001b[34m\u001b[1mtrain: \u001b[0mWARNING ⚠️ /kaggle/working/train/images/id_bt84ej.jpg: ignoring corrupt image/label: Label class 19 exceeds dataset class count 18. Possible class labels are 0-17\n",
      "\u001b[34m\u001b[1mtrain: \u001b[0mWARNING ⚠️ /kaggle/working/train/images/id_btl3r9.jpg: ignoring corrupt image/label: Label class 19 exceeds dataset class count 18. Possible class labels are 0-17\n",
      "\u001b[34m\u001b[1mtrain: \u001b[0mWARNING ⚠️ /kaggle/working/train/images/id_bves57.jpg: ignoring corrupt image/label: Label class 18 exceeds dataset class count 18. Possible class labels are 0-17\n",
      "\u001b[34m\u001b[1mtrain: \u001b[0mWARNING ⚠️ /kaggle/working/train/images/id_bvu21n.jpg: ignoring corrupt image/label: Label class 19 exceeds dataset class count 18. Possible class labels are 0-17\n",
      "\u001b[34m\u001b[1mtrain: \u001b[0mWARNING ⚠️ /kaggle/working/train/images/id_bxexp9.jpg: ignoring corrupt image/label: Label class 22 exceeds dataset class count 18. Possible class labels are 0-17\n",
      "\u001b[34m\u001b[1mtrain: \u001b[0mWARNING ⚠️ /kaggle/working/train/images/id_bz7fn4.jpg: ignoring corrupt image/label: Label class 19 exceeds dataset class count 18. Possible class labels are 0-17\n",
      "\u001b[34m\u001b[1mtrain: \u001b[0mWARNING ⚠️ /kaggle/working/train/images/id_c4knk1.jpg: ignoring corrupt image/label: Label class 22 exceeds dataset class count 18. Possible class labels are 0-17\n",
      "\u001b[34m\u001b[1mtrain: \u001b[0mWARNING ⚠️ /kaggle/working/train/images/id_c6wli2.jpg: ignoring corrupt image/label: Label class 18 exceeds dataset class count 18. Possible class labels are 0-17\n",
      "\u001b[34m\u001b[1mtrain: \u001b[0mWARNING ⚠️ /kaggle/working/train/images/id_c9gq8a.jpg: ignoring corrupt image/label: Label class 22 exceeds dataset class count 18. Possible class labels are 0-17\n",
      "\u001b[34m\u001b[1mtrain: \u001b[0mWARNING ⚠️ /kaggle/working/train/images/id_ca4gcy.jpg: ignoring corrupt image/label: Label class 22 exceeds dataset class count 18. Possible class labels are 0-17\n",
      "\u001b[34m\u001b[1mtrain: \u001b[0mWARNING ⚠️ /kaggle/working/train/images/id_cav3sb.jpg: ignoring corrupt image/label: Label class 22 exceeds dataset class count 18. Possible class labels are 0-17\n",
      "\u001b[34m\u001b[1mtrain: \u001b[0mWARNING ⚠️ /kaggle/working/train/images/id_cc4yst.jpg: ignoring corrupt image/label: Label class 22 exceeds dataset class count 18. Possible class labels are 0-17\n",
      "\u001b[34m\u001b[1mtrain: \u001b[0mWARNING ⚠️ /kaggle/working/train/images/id_ce4old.jpg: ignoring corrupt image/label: Label class 22 exceeds dataset class count 18. Possible class labels are 0-17\n",
      "\u001b[34m\u001b[1mtrain: \u001b[0mWARNING ⚠️ /kaggle/working/train/images/id_cgbrko.jpg: ignoring corrupt image/label: Label class 20 exceeds dataset class count 18. Possible class labels are 0-17\n",
      "\u001b[34m\u001b[1mtrain: \u001b[0mWARNING ⚠️ /kaggle/working/train/images/id_chb581.jpg: ignoring corrupt image/label: Label class 18 exceeds dataset class count 18. Possible class labels are 0-17\n",
      "\u001b[34m\u001b[1mtrain: \u001b[0mWARNING ⚠️ /kaggle/working/train/images/id_chreep.jpg: ignoring corrupt image/label: Label class 18 exceeds dataset class count 18. Possible class labels are 0-17\n",
      "\u001b[34m\u001b[1mtrain: \u001b[0mWARNING ⚠️ /kaggle/working/train/images/id_ckctgg.jpg: ignoring corrupt image/label: Label class 18 exceeds dataset class count 18. Possible class labels are 0-17\n",
      "\u001b[34m\u001b[1mtrain: \u001b[0mWARNING ⚠️ /kaggle/working/train/images/id_cmjy3h.jpg: ignoring corrupt image/label: Label class 22 exceeds dataset class count 18. Possible class labels are 0-17\n",
      "\u001b[34m\u001b[1mtrain: \u001b[0mWARNING ⚠️ /kaggle/working/train/images/id_cmqm73.jpg: ignoring corrupt image/label: Label class 19 exceeds dataset class count 18. Possible class labels are 0-17\n",
      "\u001b[34m\u001b[1mtrain: \u001b[0mWARNING ⚠️ /kaggle/working/train/images/id_cnx9lz.jpg: ignoring corrupt image/label: Label class 22 exceeds dataset class count 18. Possible class labels are 0-17\n",
      "\u001b[34m\u001b[1mtrain: \u001b[0mWARNING ⚠️ /kaggle/working/train/images/id_cofhmm.jpg: ignoring corrupt image/label: Label class 19 exceeds dataset class count 18. Possible class labels are 0-17\n",
      "\u001b[34m\u001b[1mtrain: \u001b[0mWARNING ⚠️ /kaggle/working/train/images/id_coqs55.jpg: ignoring corrupt image/label: Label class 22 exceeds dataset class count 18. Possible class labels are 0-17\n",
      "\u001b[34m\u001b[1mtrain: \u001b[0mWARNING ⚠️ /kaggle/working/train/images/id_cosomh.jpg: ignoring corrupt image/label: Label class 22 exceeds dataset class count 18. Possible class labels are 0-17\n",
      "\u001b[34m\u001b[1mtrain: \u001b[0mWARNING ⚠️ /kaggle/working/train/images/id_couafm.jpg: ignoring corrupt image/label: Label class 18 exceeds dataset class count 18. Possible class labels are 0-17\n",
      "\u001b[34m\u001b[1mtrain: \u001b[0mWARNING ⚠️ /kaggle/working/train/images/id_cq5amu.jpg: ignoring corrupt image/label: Label class 19 exceeds dataset class count 18. Possible class labels are 0-17\n",
      "\u001b[34m\u001b[1mtrain: \u001b[0mWARNING ⚠️ /kaggle/working/train/images/id_crkoiv.jpg: ignoring corrupt image/label: Label class 18 exceeds dataset class count 18. Possible class labels are 0-17\n",
      "\u001b[34m\u001b[1mtrain: \u001b[0mWARNING ⚠️ /kaggle/working/train/images/id_csbzeh.jpg: ignoring corrupt image/label: Label class 18 exceeds dataset class count 18. Possible class labels are 0-17\n",
      "\u001b[34m\u001b[1mtrain: \u001b[0mWARNING ⚠️ /kaggle/working/train/images/id_ct4vno.jpg: ignoring corrupt image/label: Label class 22 exceeds dataset class count 18. Possible class labels are 0-17\n",
      "\u001b[34m\u001b[1mtrain: \u001b[0mWARNING ⚠️ /kaggle/working/train/images/id_cv3g6i.jpg: ignoring corrupt image/label: Label class 22 exceeds dataset class count 18. Possible class labels are 0-17\n",
      "\u001b[34m\u001b[1mtrain: \u001b[0mWARNING ⚠️ /kaggle/working/train/images/id_cvl81h.jpg: ignoring corrupt image/label: Label class 22 exceeds dataset class count 18. Possible class labels are 0-17\n",
      "\u001b[34m\u001b[1mtrain: \u001b[0mWARNING ⚠️ /kaggle/working/train/images/id_cvtbxs.jpg: ignoring corrupt image/label: Label class 19 exceeds dataset class count 18. Possible class labels are 0-17\n",
      "\u001b[34m\u001b[1mtrain: \u001b[0mWARNING ⚠️ /kaggle/working/train/images/id_d2zc1e.jpg: ignoring corrupt image/label: Label class 20 exceeds dataset class count 18. Possible class labels are 0-17\n",
      "\u001b[34m\u001b[1mtrain: \u001b[0mWARNING ⚠️ /kaggle/working/train/images/id_d3z9rm.jpg: ignoring corrupt image/label: Label class 22 exceeds dataset class count 18. Possible class labels are 0-17\n",
      "\u001b[34m\u001b[1mtrain: \u001b[0mWARNING ⚠️ /kaggle/working/train/images/id_d5imeg.jpg: ignoring corrupt image/label: Label class 19 exceeds dataset class count 18. Possible class labels are 0-17\n",
      "\u001b[34m\u001b[1mtrain: \u001b[0mWARNING ⚠️ /kaggle/working/train/images/id_d5u1c7.jpg: ignoring corrupt image/label: Label class 18 exceeds dataset class count 18. Possible class labels are 0-17\n",
      "\u001b[34m\u001b[1mtrain: \u001b[0mWARNING ⚠️ /kaggle/working/train/images/id_d742bt.jpg: ignoring corrupt image/label: Label class 22 exceeds dataset class count 18. Possible class labels are 0-17\n",
      "\u001b[34m\u001b[1mtrain: \u001b[0mWARNING ⚠️ /kaggle/working/train/images/id_d8seit.jpg: ignoring corrupt image/label: Label class 19 exceeds dataset class count 18. Possible class labels are 0-17\n",
      "\u001b[34m\u001b[1mtrain: \u001b[0mWARNING ⚠️ /kaggle/working/train/images/id_d9t1vk.jpg: ignoring corrupt image/label: Label class 22 exceeds dataset class count 18. Possible class labels are 0-17\n",
      "\u001b[34m\u001b[1mtrain: \u001b[0mWARNING ⚠️ /kaggle/working/train/images/id_dahaog.jpg: ignoring corrupt image/label: Label class 22 exceeds dataset class count 18. Possible class labels are 0-17\n",
      "\u001b[34m\u001b[1mtrain: \u001b[0mWARNING ⚠️ /kaggle/working/train/images/id_dd277p.jpg: ignoring corrupt image/label: Label class 21 exceeds dataset class count 18. Possible class labels are 0-17\n",
      "\u001b[34m\u001b[1mtrain: \u001b[0mWARNING ⚠️ /kaggle/working/train/images/id_ddcyjw.jpg: ignoring corrupt image/label: Label class 22 exceeds dataset class count 18. Possible class labels are 0-17\n",
      "\u001b[34m\u001b[1mtrain: \u001b[0mWARNING ⚠️ /kaggle/working/train/images/id_ddicmu.jpg: ignoring corrupt image/label: Label class 19 exceeds dataset class count 18. Possible class labels are 0-17\n",
      "\u001b[34m\u001b[1mtrain: \u001b[0mWARNING ⚠️ /kaggle/working/train/images/id_ddqeog.jpg: ignoring corrupt image/label: Label class 19 exceeds dataset class count 18. Possible class labels are 0-17\n",
      "\u001b[34m\u001b[1mtrain: \u001b[0mWARNING ⚠️ /kaggle/working/train/images/id_dg692l.jpg: ignoring corrupt image/label: Label class 20 exceeds dataset class count 18. Possible class labels are 0-17\n",
      "\u001b[34m\u001b[1mtrain: \u001b[0mWARNING ⚠️ /kaggle/working/train/images/id_dhb15p.jpg: ignoring corrupt image/label: Label class 19 exceeds dataset class count 18. Possible class labels are 0-17\n",
      "\u001b[34m\u001b[1mtrain: \u001b[0mWARNING ⚠️ /kaggle/working/train/images/id_dkabk4.jpg: ignoring corrupt image/label: Label class 19 exceeds dataset class count 18. Possible class labels are 0-17\n",
      "\u001b[34m\u001b[1mtrain: \u001b[0mWARNING ⚠️ /kaggle/working/train/images/id_dlwx73.jpg: ignoring corrupt image/label: Label class 22 exceeds dataset class count 18. Possible class labels are 0-17\n",
      "\u001b[34m\u001b[1mtrain: \u001b[0mWARNING ⚠️ /kaggle/working/train/images/id_dphhg5.jpg: ignoring corrupt image/label: Label class 19 exceeds dataset class count 18. Possible class labels are 0-17\n",
      "\u001b[34m\u001b[1mtrain: \u001b[0mWARNING ⚠️ /kaggle/working/train/images/id_dqylu5.jpg: ignoring corrupt image/label: Label class 22 exceeds dataset class count 18. Possible class labels are 0-17\n",
      "\u001b[34m\u001b[1mtrain: \u001b[0mWARNING ⚠️ /kaggle/working/train/images/id_drem16.jpg: ignoring corrupt image/label: Label class 22 exceeds dataset class count 18. Possible class labels are 0-17\n",
      "\u001b[34m\u001b[1mtrain: \u001b[0mWARNING ⚠️ /kaggle/working/train/images/id_dtuuqf.jpg: ignoring corrupt image/label: Label class 22 exceeds dataset class count 18. Possible class labels are 0-17\n",
      "\u001b[34m\u001b[1mtrain: \u001b[0mWARNING ⚠️ /kaggle/working/train/images/id_dv983x.jpg: ignoring corrupt image/label: Label class 22 exceeds dataset class count 18. Possible class labels are 0-17\n",
      "\u001b[34m\u001b[1mtrain: \u001b[0mWARNING ⚠️ /kaggle/working/train/images/id_dw6vup.jpg: ignoring corrupt image/label: Label class 19 exceeds dataset class count 18. Possible class labels are 0-17\n",
      "\u001b[34m\u001b[1mtrain: \u001b[0mWARNING ⚠️ /kaggle/working/train/images/id_dwu1nv.jpg: ignoring corrupt image/label: Label class 22 exceeds dataset class count 18. Possible class labels are 0-17\n",
      "\u001b[34m\u001b[1mtrain: \u001b[0mWARNING ⚠️ /kaggle/working/train/images/id_dz7sc6.jpg: ignoring corrupt image/label: Label class 22 exceeds dataset class count 18. Possible class labels are 0-17\n",
      "\u001b[34m\u001b[1mtrain: \u001b[0mWARNING ⚠️ /kaggle/working/train/images/id_dzyehe.jpg: ignoring corrupt image/label: Label class 22 exceeds dataset class count 18. Possible class labels are 0-17\n",
      "\u001b[34m\u001b[1mtrain: \u001b[0mWARNING ⚠️ /kaggle/working/train/images/id_e1v225.jpg: ignoring corrupt image/label: Label class 19 exceeds dataset class count 18. Possible class labels are 0-17\n",
      "\u001b[34m\u001b[1mtrain: \u001b[0mWARNING ⚠️ /kaggle/working/train/images/id_e3zqle.jpg: ignoring corrupt image/label: Label class 19 exceeds dataset class count 18. Possible class labels are 0-17\n",
      "\u001b[34m\u001b[1mtrain: \u001b[0mWARNING ⚠️ /kaggle/working/train/images/id_e528y4.jpg: ignoring corrupt image/label: Label class 19 exceeds dataset class count 18. Possible class labels are 0-17\n",
      "\u001b[34m\u001b[1mtrain: \u001b[0mWARNING ⚠️ /kaggle/working/train/images/id_e76paa.jpg: ignoring corrupt image/label: Label class 22 exceeds dataset class count 18. Possible class labels are 0-17\n",
      "\u001b[34m\u001b[1mtrain: \u001b[0mWARNING ⚠️ /kaggle/working/train/images/id_e7mkjl.jpg: ignoring corrupt image/label: Label class 22 exceeds dataset class count 18. Possible class labels are 0-17\n",
      "\u001b[34m\u001b[1mtrain: \u001b[0mWARNING ⚠️ /kaggle/working/train/images/id_e7nzot.jpg: ignoring corrupt image/label: Label class 19 exceeds dataset class count 18. Possible class labels are 0-17\n",
      "\u001b[34m\u001b[1mtrain: \u001b[0mWARNING ⚠️ /kaggle/working/train/images/id_efil65.jpg: ignoring corrupt image/label: Label class 22 exceeds dataset class count 18. Possible class labels are 0-17\n",
      "\u001b[34m\u001b[1mtrain: \u001b[0mWARNING ⚠️ /kaggle/working/train/images/id_efvee5.jpg: ignoring corrupt image/label: Label class 18 exceeds dataset class count 18. Possible class labels are 0-17\n",
      "\u001b[34m\u001b[1mtrain: \u001b[0mWARNING ⚠️ /kaggle/working/train/images/id_egfs4y.jpg: ignoring corrupt image/label: Label class 22 exceeds dataset class count 18. Possible class labels are 0-17\n",
      "\u001b[34m\u001b[1mtrain: \u001b[0mWARNING ⚠️ /kaggle/working/train/images/id_egmw74.jpg: ignoring corrupt image/label: Label class 22 exceeds dataset class count 18. Possible class labels are 0-17\n",
      "\u001b[34m\u001b[1mtrain: \u001b[0mWARNING ⚠️ /kaggle/working/train/images/id_egw2tc.jpg: ignoring corrupt image/label: Label class 22 exceeds dataset class count 18. Possible class labels are 0-17\n",
      "\u001b[34m\u001b[1mtrain: \u001b[0mWARNING ⚠️ /kaggle/working/train/images/id_ehfp5v.jpg: ignoring corrupt image/label: Label class 22 exceeds dataset class count 18. Possible class labels are 0-17\n",
      "\u001b[34m\u001b[1mtrain: \u001b[0mWARNING ⚠️ /kaggle/working/train/images/id_eoo268.jpg: ignoring corrupt image/label: Label class 22 exceeds dataset class count 18. Possible class labels are 0-17\n",
      "\u001b[34m\u001b[1mtrain: \u001b[0mWARNING ⚠️ /kaggle/working/train/images/id_epbmpe.jpg: ignoring corrupt image/label: Label class 19 exceeds dataset class count 18. Possible class labels are 0-17\n",
      "\u001b[34m\u001b[1mtrain: \u001b[0mWARNING ⚠️ /kaggle/working/train/images/id_epx4lf.jpg: ignoring corrupt image/label: Label class 18 exceeds dataset class count 18. Possible class labels are 0-17\n",
      "\u001b[34m\u001b[1mtrain: \u001b[0mWARNING ⚠️ /kaggle/working/train/images/id_eq6r63.jpg: ignoring corrupt image/label: Label class 18 exceeds dataset class count 18. Possible class labels are 0-17\n",
      "\u001b[34m\u001b[1mtrain: \u001b[0mWARNING ⚠️ /kaggle/working/train/images/id_eqbg2x.jpg: ignoring corrupt image/label: Label class 19 exceeds dataset class count 18. Possible class labels are 0-17\n",
      "\u001b[34m\u001b[1mtrain: \u001b[0mWARNING ⚠️ /kaggle/working/train/images/id_ettdej.jpg: ignoring corrupt image/label: Label class 18 exceeds dataset class count 18. Possible class labels are 0-17\n",
      "\u001b[34m\u001b[1mtrain: \u001b[0mWARNING ⚠️ /kaggle/working/train/images/id_ewm4cf.jpg: ignoring corrupt image/label: Label class 22 exceeds dataset class count 18. Possible class labels are 0-17\n",
      "\u001b[34m\u001b[1mtrain: \u001b[0mWARNING ⚠️ /kaggle/working/train/images/id_ex7e3b.jpg: ignoring corrupt image/label: Label class 22 exceeds dataset class count 18. Possible class labels are 0-17\n",
      "\u001b[34m\u001b[1mtrain: \u001b[0mWARNING ⚠️ /kaggle/working/train/images/id_f1vj9n.jpg: ignoring corrupt image/label: Label class 22 exceeds dataset class count 18. Possible class labels are 0-17\n",
      "\u001b[34m\u001b[1mtrain: \u001b[0mWARNING ⚠️ /kaggle/working/train/images/id_f2eecs.jpg: ignoring corrupt image/label: Label class 18 exceeds dataset class count 18. Possible class labels are 0-17\n",
      "\u001b[34m\u001b[1mtrain: \u001b[0mWARNING ⚠️ /kaggle/working/train/images/id_f4vjex.jpg: ignoring corrupt image/label: Label class 22 exceeds dataset class count 18. Possible class labels are 0-17\n",
      "\u001b[34m\u001b[1mtrain: \u001b[0mWARNING ⚠️ /kaggle/working/train/images/id_f5d6zt.jpg: ignoring corrupt image/label: Label class 22 exceeds dataset class count 18. Possible class labels are 0-17\n",
      "\u001b[34m\u001b[1mtrain: \u001b[0mWARNING ⚠️ /kaggle/working/train/images/id_f5d95w.jpg: ignoring corrupt image/label: Label class 22 exceeds dataset class count 18. Possible class labels are 0-17\n",
      "\u001b[34m\u001b[1mtrain: \u001b[0mWARNING ⚠️ /kaggle/working/train/images/id_f7bmak.jpg: ignoring corrupt image/label: Label class 19 exceeds dataset class count 18. Possible class labels are 0-17\n",
      "\u001b[34m\u001b[1mtrain: \u001b[0mWARNING ⚠️ /kaggle/working/train/images/id_fdmozm.jpg: ignoring corrupt image/label: Label class 19 exceeds dataset class count 18. Possible class labels are 0-17\n",
      "\u001b[34m\u001b[1mtrain: \u001b[0mWARNING ⚠️ /kaggle/working/train/images/id_fekhf3.jpg: ignoring corrupt image/label: Label class 19 exceeds dataset class count 18. Possible class labels are 0-17\n",
      "\u001b[34m\u001b[1mtrain: \u001b[0mWARNING ⚠️ /kaggle/working/train/images/id_ffcffk.jpg: ignoring corrupt image/label: Label class 22 exceeds dataset class count 18. Possible class labels are 0-17\n",
      "\u001b[34m\u001b[1mtrain: \u001b[0mWARNING ⚠️ /kaggle/working/train/images/id_fgpp93.jpg: ignoring corrupt image/label: Label class 19 exceeds dataset class count 18. Possible class labels are 0-17\n",
      "\u001b[34m\u001b[1mtrain: \u001b[0mWARNING ⚠️ /kaggle/working/train/images/id_fhc38w.jpg: ignoring corrupt image/label: Label class 18 exceeds dataset class count 18. Possible class labels are 0-17\n",
      "\u001b[34m\u001b[1mtrain: \u001b[0mWARNING ⚠️ /kaggle/working/train/images/id_fhkpm5.jpg: ignoring corrupt image/label: Label class 22 exceeds dataset class count 18. Possible class labels are 0-17\n",
      "\u001b[34m\u001b[1mtrain: \u001b[0mWARNING ⚠️ /kaggle/working/train/images/id_fhz9s3.jpg: ignoring corrupt image/label: Label class 19 exceeds dataset class count 18. Possible class labels are 0-17\n",
      "\u001b[34m\u001b[1mtrain: \u001b[0mWARNING ⚠️ /kaggle/working/train/images/id_fk935j.jpg: ignoring corrupt image/label: Label class 22 exceeds dataset class count 18. Possible class labels are 0-17\n",
      "\u001b[34m\u001b[1mtrain: \u001b[0mWARNING ⚠️ /kaggle/working/train/images/id_fn529v.jpg: ignoring corrupt image/label: Label class 20 exceeds dataset class count 18. Possible class labels are 0-17\n",
      "\u001b[34m\u001b[1mtrain: \u001b[0mWARNING ⚠️ /kaggle/working/train/images/id_fna6ll.jpg: ignoring corrupt image/label: Label class 19 exceeds dataset class count 18. Possible class labels are 0-17\n",
      "\u001b[34m\u001b[1mtrain: \u001b[0mWARNING ⚠️ /kaggle/working/train/images/id_fp15vl.jpg: ignoring corrupt image/label: Label class 19 exceeds dataset class count 18. Possible class labels are 0-17\n",
      "\u001b[34m\u001b[1mtrain: \u001b[0mWARNING ⚠️ /kaggle/working/train/images/id_fqdv2k.jpg: ignoring corrupt image/label: Label class 18 exceeds dataset class count 18. Possible class labels are 0-17\n",
      "\u001b[34m\u001b[1mtrain: \u001b[0mWARNING ⚠️ /kaggle/working/train/images/id_fqkzc9.jpg: ignoring corrupt image/label: Label class 22 exceeds dataset class count 18. Possible class labels are 0-17\n",
      "\u001b[34m\u001b[1mtrain: \u001b[0mWARNING ⚠️ /kaggle/working/train/images/id_fuga42.jpg: ignoring corrupt image/label: Label class 22 exceeds dataset class count 18. Possible class labels are 0-17\n",
      "\u001b[34m\u001b[1mtrain: \u001b[0mWARNING ⚠️ /kaggle/working/train/images/id_fvn6iq.jpg: ignoring corrupt image/label: Label class 22 exceeds dataset class count 18. Possible class labels are 0-17\n",
      "\u001b[34m\u001b[1mtrain: \u001b[0mWARNING ⚠️ /kaggle/working/train/images/id_fyevp5.jpg: ignoring corrupt image/label: Label class 19 exceeds dataset class count 18. Possible class labels are 0-17\n",
      "\u001b[34m\u001b[1mtrain: \u001b[0mWARNING ⚠️ /kaggle/working/train/images/id_fyh1xc.jpg: ignoring corrupt image/label: Label class 22 exceeds dataset class count 18. Possible class labels are 0-17\n",
      "\u001b[34m\u001b[1mtrain: \u001b[0mWARNING ⚠️ /kaggle/working/train/images/id_g1bkif.jpg: ignoring corrupt image/label: Label class 18 exceeds dataset class count 18. Possible class labels are 0-17\n",
      "\u001b[34m\u001b[1mtrain: \u001b[0mWARNING ⚠️ /kaggle/working/train/images/id_g1fvam.jpg: ignoring corrupt image/label: Label class 18 exceeds dataset class count 18. Possible class labels are 0-17\n",
      "\u001b[34m\u001b[1mtrain: \u001b[0mWARNING ⚠️ /kaggle/working/train/images/id_g2iuhe.jpg: ignoring corrupt image/label: Label class 19 exceeds dataset class count 18. Possible class labels are 0-17\n",
      "\u001b[34m\u001b[1mtrain: \u001b[0mWARNING ⚠️ /kaggle/working/train/images/id_g4ism5.jpg: ignoring corrupt image/label: Label class 19 exceeds dataset class count 18. Possible class labels are 0-17\n",
      "\u001b[34m\u001b[1mtrain: \u001b[0mWARNING ⚠️ /kaggle/working/train/images/id_g4u96g.jpg: ignoring corrupt image/label: Label class 19 exceeds dataset class count 18. Possible class labels are 0-17\n",
      "\u001b[34m\u001b[1mtrain: \u001b[0mWARNING ⚠️ /kaggle/working/train/images/id_g6xcho.jpg: ignoring corrupt image/label: Label class 18 exceeds dataset class count 18. Possible class labels are 0-17\n",
      "\u001b[34m\u001b[1mtrain: \u001b[0mWARNING ⚠️ /kaggle/working/train/images/id_g7c7zy.jpg: ignoring corrupt image/label: Label class 22 exceeds dataset class count 18. Possible class labels are 0-17\n",
      "\u001b[34m\u001b[1mtrain: \u001b[0mWARNING ⚠️ /kaggle/working/train/images/id_g9khif.jpg: ignoring corrupt image/label: Label class 22 exceeds dataset class count 18. Possible class labels are 0-17\n",
      "\u001b[34m\u001b[1mtrain: \u001b[0mWARNING ⚠️ /kaggle/working/train/images/id_g9qffw.jpg: ignoring corrupt image/label: Label class 18 exceeds dataset class count 18. Possible class labels are 0-17\n",
      "\u001b[34m\u001b[1mtrain: \u001b[0mWARNING ⚠️ /kaggle/working/train/images/id_gbbqjk.jpg: ignoring corrupt image/label: Label class 20 exceeds dataset class count 18. Possible class labels are 0-17\n",
      "\u001b[34m\u001b[1mtrain: \u001b[0mWARNING ⚠️ /kaggle/working/train/images/id_gdro8d.jpg: ignoring corrupt image/label: Label class 22 exceeds dataset class count 18. Possible class labels are 0-17\n",
      "\u001b[34m\u001b[1mtrain: \u001b[0mWARNING ⚠️ /kaggle/working/train/images/id_ghw7mx.jpg: ignoring corrupt image/label: Label class 20 exceeds dataset class count 18. Possible class labels are 0-17\n",
      "\u001b[34m\u001b[1mtrain: \u001b[0mWARNING ⚠️ /kaggle/working/train/images/id_gjg3nc.jpg: ignoring corrupt image/label: Label class 18 exceeds dataset class count 18. Possible class labels are 0-17\n",
      "\u001b[34m\u001b[1mtrain: \u001b[0mWARNING ⚠️ /kaggle/working/train/images/id_gjh3c4.jpg: ignoring corrupt image/label: Label class 18 exceeds dataset class count 18. Possible class labels are 0-17\n",
      "\u001b[34m\u001b[1mtrain: \u001b[0mWARNING ⚠️ /kaggle/working/train/images/id_gl5vkc.jpg: ignoring corrupt image/label: Label class 22 exceeds dataset class count 18. Possible class labels are 0-17\n",
      "\u001b[34m\u001b[1mtrain: \u001b[0mWARNING ⚠️ /kaggle/working/train/images/id_glvjty.jpg: ignoring corrupt image/label: Label class 19 exceeds dataset class count 18. Possible class labels are 0-17\n",
      "\u001b[34m\u001b[1mtrain: \u001b[0mWARNING ⚠️ /kaggle/working/train/images/id_gmlv42.jpg: ignoring corrupt image/label: Label class 19 exceeds dataset class count 18. Possible class labels are 0-17\n",
      "\u001b[34m\u001b[1mtrain: \u001b[0mWARNING ⚠️ /kaggle/working/train/images/id_gnenvd.jpg: ignoring corrupt image/label: Label class 22 exceeds dataset class count 18. Possible class labels are 0-17\n",
      "\u001b[34m\u001b[1mtrain: \u001b[0mWARNING ⚠️ /kaggle/working/train/images/id_gotaw4.jpg: ignoring corrupt image/label: Label class 22 exceeds dataset class count 18. Possible class labels are 0-17\n",
      "\u001b[34m\u001b[1mtrain: \u001b[0mWARNING ⚠️ /kaggle/working/train/images/id_gpvt6l.jpg: ignoring corrupt image/label: Label class 18 exceeds dataset class count 18. Possible class labels are 0-17\n",
      "\u001b[34m\u001b[1mtrain: \u001b[0mWARNING ⚠️ /kaggle/working/train/images/id_gsbv8k.jpg: ignoring corrupt image/label: Label class 22 exceeds dataset class count 18. Possible class labels are 0-17\n",
      "\u001b[34m\u001b[1mtrain: \u001b[0mWARNING ⚠️ /kaggle/working/train/images/id_gtokkt.jpg: ignoring corrupt image/label: Label class 22 exceeds dataset class count 18. Possible class labels are 0-17\n",
      "\u001b[34m\u001b[1mtrain: \u001b[0mWARNING ⚠️ /kaggle/working/train/images/id_gtrd1z.jpg: ignoring corrupt image/label: Label class 19 exceeds dataset class count 18. Possible class labels are 0-17\n",
      "\u001b[34m\u001b[1mtrain: \u001b[0mWARNING ⚠️ /kaggle/working/train/images/id_guh365.jpg: ignoring corrupt image/label: Label class 22 exceeds dataset class count 18. Possible class labels are 0-17\n",
      "\u001b[34m\u001b[1mtrain: \u001b[0mWARNING ⚠️ /kaggle/working/train/images/id_gv4bvo.jpg: ignoring corrupt image/label: Label class 22 exceeds dataset class count 18. Possible class labels are 0-17\n",
      "\u001b[34m\u001b[1mtrain: \u001b[0mWARNING ⚠️ /kaggle/working/train/images/id_gvwtab.jpg: ignoring corrupt image/label: Label class 22 exceeds dataset class count 18. Possible class labels are 0-17\n",
      "\u001b[34m\u001b[1mtrain: \u001b[0mWARNING ⚠️ /kaggle/working/train/images/id_gwbhww.jpg: ignoring corrupt image/label: Label class 18 exceeds dataset class count 18. Possible class labels are 0-17\n",
      "\u001b[34m\u001b[1mtrain: \u001b[0mWARNING ⚠️ /kaggle/working/train/images/id_gwk3ny.jpg: ignoring corrupt image/label: Label class 19 exceeds dataset class count 18. Possible class labels are 0-17\n",
      "\u001b[34m\u001b[1mtrain: \u001b[0mWARNING ⚠️ /kaggle/working/train/images/id_gxacg8.jpg: ignoring corrupt image/label: Label class 22 exceeds dataset class count 18. Possible class labels are 0-17\n",
      "\u001b[34m\u001b[1mtrain: \u001b[0mWARNING ⚠️ /kaggle/working/train/images/id_gypo1e.jpg: ignoring corrupt image/label: Label class 22 exceeds dataset class count 18. Possible class labels are 0-17\n",
      "\u001b[34m\u001b[1mtrain: \u001b[0mWARNING ⚠️ /kaggle/working/train/images/id_gzic75.jpg: ignoring corrupt image/label: Label class 19 exceeds dataset class count 18. Possible class labels are 0-17\n",
      "\u001b[34m\u001b[1mtrain: \u001b[0mWARNING ⚠️ /kaggle/working/train/images/id_gziysq.jpg: ignoring corrupt image/label: Label class 19 exceeds dataset class count 18. Possible class labels are 0-17\n",
      "\u001b[34m\u001b[1mtrain: \u001b[0mWARNING ⚠️ /kaggle/working/train/images/id_h3avhi.jpg: ignoring corrupt image/label: Label class 19 exceeds dataset class count 18. Possible class labels are 0-17\n",
      "\u001b[34m\u001b[1mtrain: \u001b[0mWARNING ⚠️ /kaggle/working/train/images/id_h4j5ia.jpg: ignoring corrupt image/label: Label class 22 exceeds dataset class count 18. Possible class labels are 0-17\n",
      "\u001b[34m\u001b[1mtrain: \u001b[0mWARNING ⚠️ /kaggle/working/train/images/id_h5wz3t.jpg: ignoring corrupt image/label: Label class 22 exceeds dataset class count 18. Possible class labels are 0-17\n",
      "\u001b[34m\u001b[1mtrain: \u001b[0mWARNING ⚠️ /kaggle/working/train/images/id_h67jxm.jpg: ignoring corrupt image/label: Label class 19 exceeds dataset class count 18. Possible class labels are 0-17\n",
      "\u001b[34m\u001b[1mtrain: \u001b[0mWARNING ⚠️ /kaggle/working/train/images/id_h6wkra.jpg: ignoring corrupt image/label: Label class 18 exceeds dataset class count 18. Possible class labels are 0-17\n",
      "\u001b[34m\u001b[1mtrain: \u001b[0mWARNING ⚠️ /kaggle/working/train/images/id_h8njj7.jpg: ignoring corrupt image/label: Label class 19 exceeds dataset class count 18. Possible class labels are 0-17\n",
      "\u001b[34m\u001b[1mtrain: \u001b[0mWARNING ⚠️ /kaggle/working/train/images/id_hcnw6o.jpg: ignoring corrupt image/label: Label class 19 exceeds dataset class count 18. Possible class labels are 0-17\n",
      "\u001b[34m\u001b[1mtrain: \u001b[0mWARNING ⚠️ /kaggle/working/train/images/id_hcrn2p.jpg: ignoring corrupt image/label: Label class 18 exceeds dataset class count 18. Possible class labels are 0-17\n",
      "\u001b[34m\u001b[1mtrain: \u001b[0mWARNING ⚠️ /kaggle/working/train/images/id_hd4iz2.jpg: ignoring corrupt image/label: Label class 20 exceeds dataset class count 18. Possible class labels are 0-17\n",
      "\u001b[34m\u001b[1mtrain: \u001b[0mWARNING ⚠️ /kaggle/working/train/images/id_heej7u.jpg: ignoring corrupt image/label: Label class 22 exceeds dataset class count 18. Possible class labels are 0-17\n",
      "\u001b[34m\u001b[1mtrain: \u001b[0mWARNING ⚠️ /kaggle/working/train/images/id_hes3nt.jpg: ignoring corrupt image/label: Label class 22 exceeds dataset class count 18. Possible class labels are 0-17\n",
      "\u001b[34m\u001b[1mtrain: \u001b[0mWARNING ⚠️ /kaggle/working/train/images/id_hh1xrv.jpg: ignoring corrupt image/label: Label class 18 exceeds dataset class count 18. Possible class labels are 0-17\n",
      "\u001b[34m\u001b[1mtrain: \u001b[0mWARNING ⚠️ /kaggle/working/train/images/id_hi46sm.jpg: ignoring corrupt image/label: Label class 18 exceeds dataset class count 18. Possible class labels are 0-17\n",
      "\u001b[34m\u001b[1mtrain: \u001b[0mWARNING ⚠️ /kaggle/working/train/images/id_hj81al.jpg: ignoring corrupt image/label: Label class 22 exceeds dataset class count 18. Possible class labels are 0-17\n",
      "\u001b[34m\u001b[1mtrain: \u001b[0mWARNING ⚠️ /kaggle/working/train/images/id_hk487m.jpg: ignoring corrupt image/label: Label class 19 exceeds dataset class count 18. Possible class labels are 0-17\n",
      "\u001b[34m\u001b[1mtrain: \u001b[0mWARNING ⚠️ /kaggle/working/train/images/id_hlumoz.jpg: ignoring corrupt image/label: Label class 22 exceeds dataset class count 18. Possible class labels are 0-17\n",
      "\u001b[34m\u001b[1mtrain: \u001b[0mWARNING ⚠️ /kaggle/working/train/images/id_hocpcv.jpg: ignoring corrupt image/label: Label class 20 exceeds dataset class count 18. Possible class labels are 0-17\n",
      "\u001b[34m\u001b[1mtrain: \u001b[0mWARNING ⚠️ /kaggle/working/train/images/id_hod6ft.jpg: ignoring corrupt image/label: Label class 19 exceeds dataset class count 18. Possible class labels are 0-17\n",
      "\u001b[34m\u001b[1mtrain: \u001b[0mWARNING ⚠️ /kaggle/working/train/images/id_hoq2dt.jpg: ignoring corrupt image/label: Label class 22 exceeds dataset class count 18. Possible class labels are 0-17\n",
      "\u001b[34m\u001b[1mtrain: \u001b[0mWARNING ⚠️ /kaggle/working/train/images/id_hpacs7.jpg: ignoring corrupt image/label: Label class 18 exceeds dataset class count 18. Possible class labels are 0-17\n",
      "\u001b[34m\u001b[1mtrain: \u001b[0mWARNING ⚠️ /kaggle/working/train/images/id_hr9j3c.jpg: ignoring corrupt image/label: Label class 22 exceeds dataset class count 18. Possible class labels are 0-17\n",
      "\u001b[34m\u001b[1mtrain: \u001b[0mWARNING ⚠️ /kaggle/working/train/images/id_hrfx9j.jpg: ignoring corrupt image/label: Label class 22 exceeds dataset class count 18. Possible class labels are 0-17\n",
      "\u001b[34m\u001b[1mtrain: \u001b[0mWARNING ⚠️ /kaggle/working/train/images/id_hrm44n.jpg: ignoring corrupt image/label: Label class 19 exceeds dataset class count 18. Possible class labels are 0-17\n",
      "\u001b[34m\u001b[1mtrain: \u001b[0mWARNING ⚠️ /kaggle/working/train/images/id_hwhdx9.jpg: ignoring corrupt image/label: Label class 21 exceeds dataset class count 18. Possible class labels are 0-17\n",
      "\u001b[34m\u001b[1mtrain: \u001b[0mWARNING ⚠️ /kaggle/working/train/images/id_hxx2gv.jpg: ignoring corrupt image/label: Label class 19 exceeds dataset class count 18. Possible class labels are 0-17\n",
      "\u001b[34m\u001b[1mtrain: \u001b[0mWARNING ⚠️ /kaggle/working/train/images/id_i1jpbi.jpg: ignoring corrupt image/label: Label class 18 exceeds dataset class count 18. Possible class labels are 0-17\n",
      "\u001b[34m\u001b[1mtrain: \u001b[0mWARNING ⚠️ /kaggle/working/train/images/id_i2jm76.jpg: ignoring corrupt image/label: Label class 18 exceeds dataset class count 18. Possible class labels are 0-17\n",
      "\u001b[34m\u001b[1mtrain: \u001b[0mWARNING ⚠️ /kaggle/working/train/images/id_i2jzcb.jpg: ignoring corrupt image/label: Label class 19 exceeds dataset class count 18. Possible class labels are 0-17\n",
      "\u001b[34m\u001b[1mtrain: \u001b[0mWARNING ⚠️ /kaggle/working/train/images/id_i5ifiy.jpg: ignoring corrupt image/label: Label class 22 exceeds dataset class count 18. Possible class labels are 0-17\n",
      "\u001b[34m\u001b[1mtrain: \u001b[0mWARNING ⚠️ /kaggle/working/train/images/id_i5mfdx.jpg: ignoring corrupt image/label: Label class 22 exceeds dataset class count 18. Possible class labels are 0-17\n",
      "\u001b[34m\u001b[1mtrain: \u001b[0mWARNING ⚠️ /kaggle/working/train/images/id_i5z5pt.jpg: ignoring corrupt image/label: Label class 19 exceeds dataset class count 18. Possible class labels are 0-17\n",
      "\u001b[34m\u001b[1mtrain: \u001b[0mWARNING ⚠️ /kaggle/working/train/images/id_i894f7.jpg: ignoring corrupt image/label: Label class 19 exceeds dataset class count 18. Possible class labels are 0-17\n",
      "\u001b[34m\u001b[1mtrain: \u001b[0mWARNING ⚠️ /kaggle/working/train/images/id_ietjhz.jpg: ignoring corrupt image/label: Label class 18 exceeds dataset class count 18. Possible class labels are 0-17\n",
      "\u001b[34m\u001b[1mtrain: \u001b[0mWARNING ⚠️ /kaggle/working/train/images/id_ifwulb.jpg: ignoring corrupt image/label: Label class 22 exceeds dataset class count 18. Possible class labels are 0-17\n",
      "\u001b[34m\u001b[1mtrain: \u001b[0mWARNING ⚠️ /kaggle/working/train/images/id_igz54v.jpg: ignoring corrupt image/label: Label class 19 exceeds dataset class count 18. Possible class labels are 0-17\n",
      "\u001b[34m\u001b[1mtrain: \u001b[0mWARNING ⚠️ /kaggle/working/train/images/id_ikpwxh.jpg: ignoring corrupt image/label: Label class 18 exceeds dataset class count 18. Possible class labels are 0-17\n",
      "\u001b[34m\u001b[1mtrain: \u001b[0mWARNING ⚠️ /kaggle/working/train/images/id_ikso5y.jpg: ignoring corrupt image/label: Label class 19 exceeds dataset class count 18. Possible class labels are 0-17\n",
      "\u001b[34m\u001b[1mtrain: \u001b[0mWARNING ⚠️ /kaggle/working/train/images/id_il8zbx.jpg: ignoring corrupt image/label: Label class 20 exceeds dataset class count 18. Possible class labels are 0-17\n",
      "\u001b[34m\u001b[1mtrain: \u001b[0mWARNING ⚠️ /kaggle/working/train/images/id_imi7yj.jpg: ignoring corrupt image/label: Label class 19 exceeds dataset class count 18. Possible class labels are 0-17\n",
      "\u001b[34m\u001b[1mtrain: \u001b[0mWARNING ⚠️ /kaggle/working/train/images/id_inj1z5.jpg: ignoring corrupt image/label: Label class 19 exceeds dataset class count 18. Possible class labels are 0-17\n",
      "\u001b[34m\u001b[1mtrain: \u001b[0mWARNING ⚠️ /kaggle/working/train/images/id_iowf3f.jpg: ignoring corrupt image/label: Label class 19 exceeds dataset class count 18. Possible class labels are 0-17\n",
      "\u001b[34m\u001b[1mtrain: \u001b[0mWARNING ⚠️ /kaggle/working/train/images/id_ip3ukw.jpg: ignoring corrupt image/label: Label class 22 exceeds dataset class count 18. Possible class labels are 0-17\n",
      "\u001b[34m\u001b[1mtrain: \u001b[0mWARNING ⚠️ /kaggle/working/train/images/id_ips3u7.jpg: ignoring corrupt image/label: Label class 22 exceeds dataset class count 18. Possible class labels are 0-17\n",
      "\u001b[34m\u001b[1mtrain: \u001b[0mWARNING ⚠️ /kaggle/working/train/images/id_ipxr4f.jpg: ignoring corrupt image/label: Label class 18 exceeds dataset class count 18. Possible class labels are 0-17\n",
      "\u001b[34m\u001b[1mtrain: \u001b[0mWARNING ⚠️ /kaggle/working/train/images/id_iq93iz.jpg: ignoring corrupt image/label: Label class 19 exceeds dataset class count 18. Possible class labels are 0-17\n",
      "\u001b[34m\u001b[1mtrain: \u001b[0mWARNING ⚠️ /kaggle/working/train/images/id_iqjtfc.jpg: ignoring corrupt image/label: Label class 18 exceeds dataset class count 18. Possible class labels are 0-17\n",
      "\u001b[34m\u001b[1mtrain: \u001b[0mWARNING ⚠️ /kaggle/working/train/images/id_iqsxnp.jpg: ignoring corrupt image/label: Label class 18 exceeds dataset class count 18. Possible class labels are 0-17\n",
      "\u001b[34m\u001b[1mtrain: \u001b[0mWARNING ⚠️ /kaggle/working/train/images/id_irtmmu.jpg: ignoring corrupt image/label: Label class 18 exceeds dataset class count 18. Possible class labels are 0-17\n",
      "\u001b[34m\u001b[1mtrain: \u001b[0mWARNING ⚠️ /kaggle/working/train/images/id_ittqrl.jpg: ignoring corrupt image/label: Label class 18 exceeds dataset class count 18. Possible class labels are 0-17\n",
      "\u001b[34m\u001b[1mtrain: \u001b[0mWARNING ⚠️ /kaggle/working/train/images/id_ivfy5q.jpg: ignoring corrupt image/label: Label class 18 exceeds dataset class count 18. Possible class labels are 0-17\n",
      "\u001b[34m\u001b[1mtrain: \u001b[0mWARNING ⚠️ /kaggle/working/train/images/id_ivwe5c.jpg: ignoring corrupt image/label: Label class 22 exceeds dataset class count 18. Possible class labels are 0-17\n",
      "\u001b[34m\u001b[1mtrain: \u001b[0mWARNING ⚠️ /kaggle/working/train/images/id_iwefif.jpg: ignoring corrupt image/label: Label class 18 exceeds dataset class count 18. Possible class labels are 0-17\n",
      "\u001b[34m\u001b[1mtrain: \u001b[0mWARNING ⚠️ /kaggle/working/train/images/id_ixay3r.jpg: ignoring corrupt image/label: Label class 19 exceeds dataset class count 18. Possible class labels are 0-17\n",
      "\u001b[34m\u001b[1mtrain: \u001b[0mWARNING ⚠️ /kaggle/working/train/images/id_ixy5a4.jpg: ignoring corrupt image/label: Label class 18 exceeds dataset class count 18. Possible class labels are 0-17\n",
      "\u001b[34m\u001b[1mtrain: \u001b[0mWARNING ⚠️ /kaggle/working/train/images/id_j1n3za.jpg: ignoring corrupt image/label: Label class 22 exceeds dataset class count 18. Possible class labels are 0-17\n",
      "\u001b[34m\u001b[1mtrain: \u001b[0mWARNING ⚠️ /kaggle/working/train/images/id_j3ls42.jpg: ignoring corrupt image/label: Label class 19 exceeds dataset class count 18. Possible class labels are 0-17\n",
      "\u001b[34m\u001b[1mtrain: \u001b[0mWARNING ⚠️ /kaggle/working/train/images/id_j6wo28.jpg: ignoring corrupt image/label: Label class 22 exceeds dataset class count 18. Possible class labels are 0-17\n",
      "\u001b[34m\u001b[1mtrain: \u001b[0mWARNING ⚠️ /kaggle/working/train/images/id_jbrqv2.jpg: ignoring corrupt image/label: Label class 22 exceeds dataset class count 18. Possible class labels are 0-17\n",
      "\u001b[34m\u001b[1mtrain: \u001b[0mWARNING ⚠️ /kaggle/working/train/images/id_jdg52g.jpg: ignoring corrupt image/label: Label class 22 exceeds dataset class count 18. Possible class labels are 0-17\n",
      "\u001b[34m\u001b[1mtrain: \u001b[0mWARNING ⚠️ /kaggle/working/train/images/id_jdzyk4.jpg: ignoring corrupt image/label: Label class 18 exceeds dataset class count 18. Possible class labels are 0-17\n",
      "\u001b[34m\u001b[1mtrain: \u001b[0mWARNING ⚠️ /kaggle/working/train/images/id_jfk1l3.jpg: ignoring corrupt image/label: Label class 18 exceeds dataset class count 18. Possible class labels are 0-17\n",
      "\u001b[34m\u001b[1mtrain: \u001b[0mWARNING ⚠️ /kaggle/working/train/images/id_jfvqjt.jpg: ignoring corrupt image/label: Label class 18 exceeds dataset class count 18. Possible class labels are 0-17\n",
      "\u001b[34m\u001b[1mtrain: \u001b[0mWARNING ⚠️ /kaggle/working/train/images/id_jlclih.jpg: ignoring corrupt image/label: Label class 19 exceeds dataset class count 18. Possible class labels are 0-17\n",
      "\u001b[34m\u001b[1mtrain: \u001b[0mWARNING ⚠️ /kaggle/working/train/images/id_jlmiga.jpg: ignoring corrupt image/label: Label class 18 exceeds dataset class count 18. Possible class labels are 0-17\n",
      "\u001b[34m\u001b[1mtrain: \u001b[0mWARNING ⚠️ /kaggle/working/train/images/id_jmznat.jpg: ignoring corrupt image/label: Label class 18 exceeds dataset class count 18. Possible class labels are 0-17\n",
      "\u001b[34m\u001b[1mtrain: \u001b[0mWARNING ⚠️ /kaggle/working/train/images/id_jngm46.jpg: ignoring corrupt image/label: Label class 19 exceeds dataset class count 18. Possible class labels are 0-17\n",
      "\u001b[34m\u001b[1mtrain: \u001b[0mWARNING ⚠️ /kaggle/working/train/images/id_jqc6ng.jpg: ignoring corrupt image/label: Label class 18 exceeds dataset class count 18. Possible class labels are 0-17\n",
      "\u001b[34m\u001b[1mtrain: \u001b[0mWARNING ⚠️ /kaggle/working/train/images/id_jrsoyi.jpg: ignoring corrupt image/label: Label class 18 exceeds dataset class count 18. Possible class labels are 0-17\n",
      "\u001b[34m\u001b[1mtrain: \u001b[0mWARNING ⚠️ /kaggle/working/train/images/id_jtnbco.jpg: ignoring corrupt image/label: Label class 18 exceeds dataset class count 18. Possible class labels are 0-17\n",
      "\u001b[34m\u001b[1mtrain: \u001b[0mWARNING ⚠️ /kaggle/working/train/images/id_jweiy8.jpg: ignoring corrupt image/label: Label class 19 exceeds dataset class count 18. Possible class labels are 0-17\n",
      "\u001b[34m\u001b[1mtrain: \u001b[0mWARNING ⚠️ /kaggle/working/train/images/id_jxklil.jpg: ignoring corrupt image/label: Label class 19 exceeds dataset class count 18. Possible class labels are 0-17\n",
      "\u001b[34m\u001b[1mtrain: \u001b[0mWARNING ⚠️ /kaggle/working/train/images/id_k4ikfk.jpg: ignoring corrupt image/label: Label class 19 exceeds dataset class count 18. Possible class labels are 0-17\n",
      "\u001b[34m\u001b[1mtrain: \u001b[0mWARNING ⚠️ /kaggle/working/train/images/id_k5ygbj.jpg: ignoring corrupt image/label: Label class 19 exceeds dataset class count 18. Possible class labels are 0-17\n",
      "\u001b[34m\u001b[1mtrain: \u001b[0mWARNING ⚠️ /kaggle/working/train/images/id_k69an2.jpg: ignoring corrupt image/label: Label class 22 exceeds dataset class count 18. Possible class labels are 0-17\n",
      "\u001b[34m\u001b[1mtrain: \u001b[0mWARNING ⚠️ /kaggle/working/train/images/id_k8cof1.jpg: ignoring corrupt image/label: Label class 22 exceeds dataset class count 18. Possible class labels are 0-17\n",
      "\u001b[34m\u001b[1mtrain: \u001b[0mWARNING ⚠️ /kaggle/working/train/images/id_k952g5.jpg: ignoring corrupt image/label: Label class 19 exceeds dataset class count 18. Possible class labels are 0-17\n",
      "\u001b[34m\u001b[1mtrain: \u001b[0mWARNING ⚠️ /kaggle/working/train/images/id_k9xbhu.jpg: ignoring corrupt image/label: Label class 19 exceeds dataset class count 18. Possible class labels are 0-17\n",
      "\u001b[34m\u001b[1mtrain: \u001b[0mWARNING ⚠️ /kaggle/working/train/images/id_kak3u9.jpg: ignoring corrupt image/label: Label class 18 exceeds dataset class count 18. Possible class labels are 0-17\n",
      "\u001b[34m\u001b[1mtrain: \u001b[0mWARNING ⚠️ /kaggle/working/train/images/id_katbpg.jpg: ignoring corrupt image/label: Label class 20 exceeds dataset class count 18. Possible class labels are 0-17\n",
      "\u001b[34m\u001b[1mtrain: \u001b[0mWARNING ⚠️ /kaggle/working/train/images/id_kdl9jb.jpg: ignoring corrupt image/label: Label class 19 exceeds dataset class count 18. Possible class labels are 0-17\n",
      "\u001b[34m\u001b[1mtrain: \u001b[0mWARNING ⚠️ /kaggle/working/train/images/id_kdon6y.jpg: ignoring corrupt image/label: Label class 22 exceeds dataset class count 18. Possible class labels are 0-17\n",
      "\u001b[34m\u001b[1mtrain: \u001b[0mWARNING ⚠️ /kaggle/working/train/images/id_kdw294.jpg: ignoring corrupt image/label: Label class 18 exceeds dataset class count 18. Possible class labels are 0-17\n",
      "\u001b[34m\u001b[1mtrain: \u001b[0mWARNING ⚠️ /kaggle/working/train/images/id_kei6i9.jpg: ignoring corrupt image/label: Label class 19 exceeds dataset class count 18. Possible class labels are 0-17\n",
      "\u001b[34m\u001b[1mtrain: \u001b[0mWARNING ⚠️ /kaggle/working/train/images/id_kew95j.jpg: ignoring corrupt image/label: Label class 19 exceeds dataset class count 18. Possible class labels are 0-17\n",
      "\u001b[34m\u001b[1mtrain: \u001b[0mWARNING ⚠️ /kaggle/working/train/images/id_kff28t.jpg: ignoring corrupt image/label: Label class 22 exceeds dataset class count 18. Possible class labels are 0-17\n",
      "\u001b[34m\u001b[1mtrain: \u001b[0mWARNING ⚠️ /kaggle/working/train/images/id_kfo2u2.jpg: ignoring corrupt image/label: Label class 22 exceeds dataset class count 18. Possible class labels are 0-17\n",
      "\u001b[34m\u001b[1mtrain: \u001b[0mWARNING ⚠️ /kaggle/working/train/images/id_khsl7m.jpg: ignoring corrupt image/label: Label class 18 exceeds dataset class count 18. Possible class labels are 0-17\n",
      "\u001b[34m\u001b[1mtrain: \u001b[0mWARNING ⚠️ /kaggle/working/train/images/id_khv5bg.jpg: ignoring corrupt image/label: Label class 19 exceeds dataset class count 18. Possible class labels are 0-17\n",
      "\u001b[34m\u001b[1mtrain: \u001b[0mWARNING ⚠️ /kaggle/working/train/images/id_kkrmvb.jpg: ignoring corrupt image/label: Label class 19 exceeds dataset class count 18. Possible class labels are 0-17\n",
      "\u001b[34m\u001b[1mtrain: \u001b[0mWARNING ⚠️ /kaggle/working/train/images/id_knmfr8.jpg: ignoring corrupt image/label: Label class 22 exceeds dataset class count 18. Possible class labels are 0-17\n",
      "\u001b[34m\u001b[1mtrain: \u001b[0mWARNING ⚠️ /kaggle/working/train/images/id_knr4fo.jpg: ignoring corrupt image/label: Label class 19 exceeds dataset class count 18. Possible class labels are 0-17\n",
      "\u001b[34m\u001b[1mtrain: \u001b[0mWARNING ⚠️ /kaggle/working/train/images/id_komxp3.jpg: ignoring corrupt image/label: Label class 22 exceeds dataset class count 18. Possible class labels are 0-17\n",
      "\u001b[34m\u001b[1mtrain: \u001b[0mWARNING ⚠️ /kaggle/working/train/images/id_kpm1rw.jpg: ignoring corrupt image/label: Label class 18 exceeds dataset class count 18. Possible class labels are 0-17\n",
      "\u001b[34m\u001b[1mtrain: \u001b[0mWARNING ⚠️ /kaggle/working/train/images/id_kpwj9g.jpg: ignoring corrupt image/label: Label class 19 exceeds dataset class count 18. Possible class labels are 0-17\n",
      "\u001b[34m\u001b[1mtrain: \u001b[0mWARNING ⚠️ /kaggle/working/train/images/id_kpxj51.jpg: ignoring corrupt image/label: Label class 22 exceeds dataset class count 18. Possible class labels are 0-17\n",
      "\u001b[34m\u001b[1mtrain: \u001b[0mWARNING ⚠️ /kaggle/working/train/images/id_kr2fig.jpg: ignoring corrupt image/label: Label class 22 exceeds dataset class count 18. Possible class labels are 0-17\n",
      "\u001b[34m\u001b[1mtrain: \u001b[0mWARNING ⚠️ /kaggle/working/train/images/id_kt8tng.jpg: ignoring corrupt image/label: Label class 18 exceeds dataset class count 18. Possible class labels are 0-17\n",
      "\u001b[34m\u001b[1mtrain: \u001b[0mWARNING ⚠️ /kaggle/working/train/images/id_ktbajs.jpg: ignoring corrupt image/label: Label class 22 exceeds dataset class count 18. Possible class labels are 0-17\n",
      "\u001b[34m\u001b[1mtrain: \u001b[0mWARNING ⚠️ /kaggle/working/train/images/id_ktk379.jpg: ignoring corrupt image/label: Label class 22 exceeds dataset class count 18. Possible class labels are 0-17\n",
      "\u001b[34m\u001b[1mtrain: \u001b[0mWARNING ⚠️ /kaggle/working/train/images/id_ktrtvm.jpg: ignoring corrupt image/label: Label class 19 exceeds dataset class count 18. Possible class labels are 0-17\n",
      "\u001b[34m\u001b[1mtrain: \u001b[0mWARNING ⚠️ /kaggle/working/train/images/id_kueym8.jpg: ignoring corrupt image/label: Label class 19 exceeds dataset class count 18. Possible class labels are 0-17\n",
      "\u001b[34m\u001b[1mtrain: \u001b[0mWARNING ⚠️ /kaggle/working/train/images/id_kuntvw.jpg: ignoring corrupt image/label: Label class 22 exceeds dataset class count 18. Possible class labels are 0-17\n",
      "\u001b[34m\u001b[1mtrain: \u001b[0mWARNING ⚠️ /kaggle/working/train/images/id_kxjl5m.jpg: ignoring corrupt image/label: Label class 18 exceeds dataset class count 18. Possible class labels are 0-17\n",
      "\u001b[34m\u001b[1mtrain: \u001b[0mWARNING ⚠️ /kaggle/working/train/images/id_kyfoun.jpg: ignoring corrupt image/label: Label class 21 exceeds dataset class count 18. Possible class labels are 0-17\n",
      "\u001b[34m\u001b[1mtrain: \u001b[0mWARNING ⚠️ /kaggle/working/train/images/id_l1gbzg.jpg: ignoring corrupt image/label: Label class 22 exceeds dataset class count 18. Possible class labels are 0-17\n",
      "\u001b[34m\u001b[1mtrain: \u001b[0mWARNING ⚠️ /kaggle/working/train/images/id_l21zfx.jpg: ignoring corrupt image/label: Label class 18 exceeds dataset class count 18. Possible class labels are 0-17\n",
      "\u001b[34m\u001b[1mtrain: \u001b[0mWARNING ⚠️ /kaggle/working/train/images/id_l2ehf9.jpg: ignoring corrupt image/label: Label class 19 exceeds dataset class count 18. Possible class labels are 0-17\n",
      "\u001b[34m\u001b[1mtrain: \u001b[0mWARNING ⚠️ /kaggle/working/train/images/id_l9jmks.jpg: ignoring corrupt image/label: Label class 22 exceeds dataset class count 18. Possible class labels are 0-17\n",
      "\u001b[34m\u001b[1mtrain: \u001b[0mWARNING ⚠️ /kaggle/working/train/images/id_lav2ls.jpg: ignoring corrupt image/label: Label class 19 exceeds dataset class count 18. Possible class labels are 0-17\n",
      "\u001b[34m\u001b[1mtrain: \u001b[0mWARNING ⚠️ /kaggle/working/train/images/id_lb892w.jpg: ignoring corrupt image/label: Label class 22 exceeds dataset class count 18. Possible class labels are 0-17\n",
      "\u001b[34m\u001b[1mtrain: \u001b[0mWARNING ⚠️ /kaggle/working/train/images/id_lc6pq6.jpg: ignoring corrupt image/label: Label class 18 exceeds dataset class count 18. Possible class labels are 0-17\n",
      "\u001b[34m\u001b[1mtrain: \u001b[0mWARNING ⚠️ /kaggle/working/train/images/id_leb2oz.jpg: ignoring corrupt image/label: Label class 18 exceeds dataset class count 18. Possible class labels are 0-17\n",
      "\u001b[34m\u001b[1mtrain: \u001b[0mWARNING ⚠️ /kaggle/working/train/images/id_lf99wf.jpg: ignoring corrupt image/label: Label class 22 exceeds dataset class count 18. Possible class labels are 0-17\n",
      "\u001b[34m\u001b[1mtrain: \u001b[0mWARNING ⚠️ /kaggle/working/train/images/id_lfbgkw.jpg: ignoring corrupt image/label: Label class 19 exceeds dataset class count 18. Possible class labels are 0-17\n",
      "\u001b[34m\u001b[1mtrain: \u001b[0mWARNING ⚠️ /kaggle/working/train/images/id_liu3o7.jpg: ignoring corrupt image/label: Label class 19 exceeds dataset class count 18. Possible class labels are 0-17\n",
      "\u001b[34m\u001b[1mtrain: \u001b[0mWARNING ⚠️ /kaggle/working/train/images/id_ljqrpi.jpg: ignoring corrupt image/label: Label class 22 exceeds dataset class count 18. Possible class labels are 0-17\n",
      "\u001b[34m\u001b[1mtrain: \u001b[0mWARNING ⚠️ /kaggle/working/train/images/id_llbhop.jpg: ignoring corrupt image/label: Label class 19 exceeds dataset class count 18. Possible class labels are 0-17\n",
      "\u001b[34m\u001b[1mtrain: \u001b[0mWARNING ⚠️ /kaggle/working/train/images/id_llhreu.jpg: ignoring corrupt image/label: Label class 22 exceeds dataset class count 18. Possible class labels are 0-17\n",
      "\u001b[34m\u001b[1mtrain: \u001b[0mWARNING ⚠️ /kaggle/working/train/images/id_llmvbl.jpg: ignoring corrupt image/label: Label class 22 exceeds dataset class count 18. Possible class labels are 0-17\n",
      "\u001b[34m\u001b[1mtrain: \u001b[0mWARNING ⚠️ /kaggle/working/train/images/id_lndrnm.jpg: ignoring corrupt image/label: Label class 22 exceeds dataset class count 18. Possible class labels are 0-17\n",
      "\u001b[34m\u001b[1mtrain: \u001b[0mWARNING ⚠️ /kaggle/working/train/images/id_lnrtsb.jpg: ignoring corrupt image/label: Label class 18 exceeds dataset class count 18. Possible class labels are 0-17\n",
      "\u001b[34m\u001b[1mtrain: \u001b[0mWARNING ⚠️ /kaggle/working/train/images/id_lntxnf.jpg: ignoring corrupt image/label: Label class 19 exceeds dataset class count 18. Possible class labels are 0-17\n",
      "\u001b[34m\u001b[1mtrain: \u001b[0mWARNING ⚠️ /kaggle/working/train/images/id_lob22x.jpg: ignoring corrupt image/label: Label class 22 exceeds dataset class count 18. Possible class labels are 0-17\n",
      "\u001b[34m\u001b[1mtrain: \u001b[0mWARNING ⚠️ /kaggle/working/train/images/id_lqjb8n.jpg: ignoring corrupt image/label: Label class 18 exceeds dataset class count 18. Possible class labels are 0-17\n",
      "\u001b[34m\u001b[1mtrain: \u001b[0mWARNING ⚠️ /kaggle/working/train/images/id_lrjgw3.jpg: ignoring corrupt image/label: Label class 18 exceeds dataset class count 18. Possible class labels are 0-17\n",
      "\u001b[34m\u001b[1mtrain: \u001b[0mWARNING ⚠️ /kaggle/working/train/images/id_ls7t4v.jpg: ignoring corrupt image/label: Label class 22 exceeds dataset class count 18. Possible class labels are 0-17\n",
      "\u001b[34m\u001b[1mtrain: \u001b[0mWARNING ⚠️ /kaggle/working/train/images/id_ltilj4.jpg: ignoring corrupt image/label: Label class 19 exceeds dataset class count 18. Possible class labels are 0-17\n",
      "\u001b[34m\u001b[1mtrain: \u001b[0mWARNING ⚠️ /kaggle/working/train/images/id_ltltls.jpg: ignoring corrupt image/label: Label class 19 exceeds dataset class count 18. Possible class labels are 0-17\n",
      "\u001b[34m\u001b[1mtrain: \u001b[0mWARNING ⚠️ /kaggle/working/train/images/id_lwasct.jpg: ignoring corrupt image/label: Label class 22 exceeds dataset class count 18. Possible class labels are 0-17\n",
      "\u001b[34m\u001b[1mtrain: \u001b[0mWARNING ⚠️ /kaggle/working/train/images/id_lzvlma.jpg: ignoring corrupt image/label: Label class 19 exceeds dataset class count 18. Possible class labels are 0-17\n",
      "\u001b[34m\u001b[1mtrain: \u001b[0mWARNING ⚠️ /kaggle/working/train/images/id_m1m4fm.jpg: ignoring corrupt image/label: Label class 18 exceeds dataset class count 18. Possible class labels are 0-17\n",
      "\u001b[34m\u001b[1mtrain: \u001b[0mWARNING ⚠️ /kaggle/working/train/images/id_m2kklk.jpg: ignoring corrupt image/label: Label class 22 exceeds dataset class count 18. Possible class labels are 0-17\n",
      "\u001b[34m\u001b[1mtrain: \u001b[0mWARNING ⚠️ /kaggle/working/train/images/id_m395f5.jpg: ignoring corrupt image/label: Label class 19 exceeds dataset class count 18. Possible class labels are 0-17\n",
      "\u001b[34m\u001b[1mtrain: \u001b[0mWARNING ⚠️ /kaggle/working/train/images/id_m3p5iz.jpg: ignoring corrupt image/label: Label class 22 exceeds dataset class count 18. Possible class labels are 0-17\n",
      "\u001b[34m\u001b[1mtrain: \u001b[0mWARNING ⚠️ /kaggle/working/train/images/id_m59gfu.jpg: ignoring corrupt image/label: Label class 22 exceeds dataset class count 18. Possible class labels are 0-17\n",
      "\u001b[34m\u001b[1mtrain: \u001b[0mWARNING ⚠️ /kaggle/working/train/images/id_m6i6gn.jpg: ignoring corrupt image/label: Label class 18 exceeds dataset class count 18. Possible class labels are 0-17\n",
      "\u001b[34m\u001b[1mtrain: \u001b[0mWARNING ⚠️ /kaggle/working/train/images/id_m7hczy.jpg: ignoring corrupt image/label: Label class 19 exceeds dataset class count 18. Possible class labels are 0-17\n",
      "\u001b[34m\u001b[1mtrain: \u001b[0mWARNING ⚠️ /kaggle/working/train/images/id_m8py4g.jpg: ignoring corrupt image/label: Label class 18 exceeds dataset class count 18. Possible class labels are 0-17\n",
      "\u001b[34m\u001b[1mtrain: \u001b[0mWARNING ⚠️ /kaggle/working/train/images/id_m8vuv5.jpg: ignoring corrupt image/label: Label class 22 exceeds dataset class count 18. Possible class labels are 0-17\n",
      "\u001b[34m\u001b[1mtrain: \u001b[0mWARNING ⚠️ /kaggle/working/train/images/id_m8xfyu.jpg: ignoring corrupt image/label: Label class 18 exceeds dataset class count 18. Possible class labels are 0-17\n",
      "\u001b[34m\u001b[1mtrain: \u001b[0mWARNING ⚠️ /kaggle/working/train/images/id_m9ufbx.jpg: ignoring corrupt image/label: Label class 19 exceeds dataset class count 18. Possible class labels are 0-17\n",
      "\u001b[34m\u001b[1mtrain: \u001b[0mWARNING ⚠️ /kaggle/working/train/images/id_ma7nko.jpg: ignoring corrupt image/label: Label class 19 exceeds dataset class count 18. Possible class labels are 0-17\n",
      "\u001b[34m\u001b[1mtrain: \u001b[0mWARNING ⚠️ /kaggle/working/train/images/id_mfx11m.jpg: ignoring corrupt image/label: Label class 18 exceeds dataset class count 18. Possible class labels are 0-17\n",
      "\u001b[34m\u001b[1mtrain: \u001b[0mWARNING ⚠️ /kaggle/working/train/images/id_mg9fm5.jpg: ignoring corrupt image/label: Label class 19 exceeds dataset class count 18. Possible class labels are 0-17\n",
      "\u001b[34m\u001b[1mtrain: \u001b[0mWARNING ⚠️ /kaggle/working/train/images/id_mhxgkh.jpg: ignoring corrupt image/label: Label class 22 exceeds dataset class count 18. Possible class labels are 0-17\n",
      "\u001b[34m\u001b[1mtrain: \u001b[0mWARNING ⚠️ /kaggle/working/train/images/id_miu6op.jpg: ignoring corrupt image/label: Label class 19 exceeds dataset class count 18. Possible class labels are 0-17\n",
      "\u001b[34m\u001b[1mtrain: \u001b[0mWARNING ⚠️ /kaggle/working/train/images/id_mksahk.jpg: ignoring corrupt image/label: Label class 22 exceeds dataset class count 18. Possible class labels are 0-17\n",
      "\u001b[34m\u001b[1mtrain: \u001b[0mWARNING ⚠️ /kaggle/working/train/images/id_mloe1t.jpg: ignoring corrupt image/label: Label class 20 exceeds dataset class count 18. Possible class labels are 0-17\n",
      "\u001b[34m\u001b[1mtrain: \u001b[0mWARNING ⚠️ /kaggle/working/train/images/id_mmfnv8.jpg: ignoring corrupt image/label: Label class 19 exceeds dataset class count 18. Possible class labels are 0-17\n",
      "\u001b[34m\u001b[1mtrain: \u001b[0mWARNING ⚠️ /kaggle/working/train/images/id_mofu9g.jpg: ignoring corrupt image/label: Label class 19 exceeds dataset class count 18. Possible class labels are 0-17\n",
      "\u001b[34m\u001b[1mtrain: \u001b[0mWARNING ⚠️ /kaggle/working/train/images/id_mq6qe7.jpg: ignoring corrupt image/label: Label class 20 exceeds dataset class count 18. Possible class labels are 0-17\n",
      "\u001b[34m\u001b[1mtrain: \u001b[0mWARNING ⚠️ /kaggle/working/train/images/id_mqhmg8.jpg: ignoring corrupt image/label: Label class 22 exceeds dataset class count 18. Possible class labels are 0-17\n",
      "\u001b[34m\u001b[1mtrain: \u001b[0mWARNING ⚠️ /kaggle/working/train/images/id_mrljvl.jpg: ignoring corrupt image/label: Label class 19 exceeds dataset class count 18. Possible class labels are 0-17\n",
      "\u001b[34m\u001b[1mtrain: \u001b[0mWARNING ⚠️ /kaggle/working/train/images/id_mtksxl.jpg: ignoring corrupt image/label: Label class 18 exceeds dataset class count 18. Possible class labels are 0-17\n",
      "\u001b[34m\u001b[1mtrain: \u001b[0mWARNING ⚠️ /kaggle/working/train/images/id_mtmmvt.jpg: ignoring corrupt image/label: Label class 18 exceeds dataset class count 18. Possible class labels are 0-17\n",
      "\u001b[34m\u001b[1mtrain: \u001b[0mWARNING ⚠️ /kaggle/working/train/images/id_mupv4v.jpg: ignoring corrupt image/label: Label class 19 exceeds dataset class count 18. Possible class labels are 0-17\n",
      "\u001b[34m\u001b[1mtrain: \u001b[0mWARNING ⚠️ /kaggle/working/train/images/id_my2mey.jpg: ignoring corrupt image/label: Label class 19 exceeds dataset class count 18. Possible class labels are 0-17\n",
      "\u001b[34m\u001b[1mtrain: \u001b[0mWARNING ⚠️ /kaggle/working/train/images/id_mykekt.jpg: ignoring corrupt image/label: Label class 19 exceeds dataset class count 18. Possible class labels are 0-17\n",
      "\u001b[34m\u001b[1mtrain: \u001b[0mWARNING ⚠️ /kaggle/working/train/images/id_mzesn9.jpg: ignoring corrupt image/label: Label class 22 exceeds dataset class count 18. Possible class labels are 0-17\n",
      "\u001b[34m\u001b[1mtrain: \u001b[0mWARNING ⚠️ /kaggle/working/train/images/id_n3noas.jpg: ignoring corrupt image/label: Label class 22 exceeds dataset class count 18. Possible class labels are 0-17\n",
      "\u001b[34m\u001b[1mtrain: \u001b[0mWARNING ⚠️ /kaggle/working/train/images/id_n3vaqu.jpg: ignoring corrupt image/label: Label class 22 exceeds dataset class count 18. Possible class labels are 0-17\n",
      "\u001b[34m\u001b[1mtrain: \u001b[0mWARNING ⚠️ /kaggle/working/train/images/id_n9bmnt.jpg: ignoring corrupt image/label: Label class 18 exceeds dataset class count 18. Possible class labels are 0-17\n",
      "\u001b[34m\u001b[1mtrain: \u001b[0mWARNING ⚠️ /kaggle/working/train/images/id_n9ef6q.jpg: ignoring corrupt image/label: Label class 22 exceeds dataset class count 18. Possible class labels are 0-17\n",
      "\u001b[34m\u001b[1mtrain: \u001b[0mWARNING ⚠️ /kaggle/working/train/images/id_nc129b.jpg: ignoring corrupt image/label: Label class 22 exceeds dataset class count 18. Possible class labels are 0-17\n",
      "\u001b[34m\u001b[1mtrain: \u001b[0mWARNING ⚠️ /kaggle/working/train/images/id_nc2err.jpg: ignoring corrupt image/label: Label class 22 exceeds dataset class count 18. Possible class labels are 0-17\n",
      "\u001b[34m\u001b[1mtrain: \u001b[0mWARNING ⚠️ /kaggle/working/train/images/id_nhl3bs.jpg: ignoring corrupt image/label: Label class 19 exceeds dataset class count 18. Possible class labels are 0-17\n",
      "\u001b[34m\u001b[1mtrain: \u001b[0mWARNING ⚠️ /kaggle/working/train/images/id_ni83xa.jpg: ignoring corrupt image/label: Label class 22 exceeds dataset class count 18. Possible class labels are 0-17\n",
      "\u001b[34m\u001b[1mtrain: \u001b[0mWARNING ⚠️ /kaggle/working/train/images/id_nn681r.jpg: ignoring corrupt image/label: Label class 22 exceeds dataset class count 18. Possible class labels are 0-17\n",
      "\u001b[34m\u001b[1mtrain: \u001b[0mWARNING ⚠️ /kaggle/working/train/images/id_nnaec7.jpg: ignoring corrupt image/label: Label class 19 exceeds dataset class count 18. Possible class labels are 0-17\n",
      "\u001b[34m\u001b[1mtrain: \u001b[0mWARNING ⚠️ /kaggle/working/train/images/id_nnb8pa.jpg: ignoring corrupt image/label: Label class 22 exceeds dataset class count 18. Possible class labels are 0-17\n",
      "\u001b[34m\u001b[1mtrain: \u001b[0mWARNING ⚠️ /kaggle/working/train/images/id_nnqd9l.jpg: ignoring corrupt image/label: Label class 22 exceeds dataset class count 18. Possible class labels are 0-17\n",
      "\u001b[34m\u001b[1mtrain: \u001b[0mWARNING ⚠️ /kaggle/working/train/images/id_no8ckb.jpg: ignoring corrupt image/label: Label class 22 exceeds dataset class count 18. Possible class labels are 0-17\n",
      "\u001b[34m\u001b[1mtrain: \u001b[0mWARNING ⚠️ /kaggle/working/train/images/id_nq38o1.jpg: ignoring corrupt image/label: Label class 19 exceeds dataset class count 18. Possible class labels are 0-17\n",
      "\u001b[34m\u001b[1mtrain: \u001b[0mWARNING ⚠️ /kaggle/working/train/images/id_nradjn.jpg: ignoring corrupt image/label: Label class 22 exceeds dataset class count 18. Possible class labels are 0-17\n",
      "\u001b[34m\u001b[1mtrain: \u001b[0mWARNING ⚠️ /kaggle/working/train/images/id_nrso1u.jpg: ignoring corrupt image/label: Label class 22 exceeds dataset class count 18. Possible class labels are 0-17\n",
      "\u001b[34m\u001b[1mtrain: \u001b[0mWARNING ⚠️ /kaggle/working/train/images/id_nshves.jpg: ignoring corrupt image/label: Label class 22 exceeds dataset class count 18. Possible class labels are 0-17\n",
      "\u001b[34m\u001b[1mtrain: \u001b[0mWARNING ⚠️ /kaggle/working/train/images/id_ntvehi.jpg: ignoring corrupt image/label: Label class 18 exceeds dataset class count 18. Possible class labels are 0-17\n",
      "\u001b[34m\u001b[1mtrain: \u001b[0mWARNING ⚠️ /kaggle/working/train/images/id_nvmzqv.jpg: ignoring corrupt image/label: Label class 22 exceeds dataset class count 18. Possible class labels are 0-17\n",
      "\u001b[34m\u001b[1mtrain: \u001b[0mWARNING ⚠️ /kaggle/working/train/images/id_nwa4at.jpg: ignoring corrupt image/label: Label class 19 exceeds dataset class count 18. Possible class labels are 0-17\n",
      "\u001b[34m\u001b[1mtrain: \u001b[0mWARNING ⚠️ /kaggle/working/train/images/id_nxdm83.jpg: ignoring corrupt image/label: Label class 22 exceeds dataset class count 18. Possible class labels are 0-17\n",
      "\u001b[34m\u001b[1mtrain: \u001b[0mWARNING ⚠️ /kaggle/working/train/images/id_nz8qw6.jpg: ignoring corrupt image/label: Label class 22 exceeds dataset class count 18. Possible class labels are 0-17\n",
      "\u001b[34m\u001b[1mtrain: \u001b[0mWARNING ⚠️ /kaggle/working/train/images/id_o1g2nf.jpg: ignoring corrupt image/label: Label class 19 exceeds dataset class count 18. Possible class labels are 0-17\n",
      "\u001b[34m\u001b[1mtrain: \u001b[0mWARNING ⚠️ /kaggle/working/train/images/id_o2mws3.jpg: ignoring corrupt image/label: Label class 19 exceeds dataset class count 18. Possible class labels are 0-17\n",
      "\u001b[34m\u001b[1mtrain: \u001b[0mWARNING ⚠️ /kaggle/working/train/images/id_o33swb.jpg: ignoring corrupt image/label: Label class 22 exceeds dataset class count 18. Possible class labels are 0-17\n",
      "\u001b[34m\u001b[1mtrain: \u001b[0mWARNING ⚠️ /kaggle/working/train/images/id_o3y96r.jpg: ignoring corrupt image/label: Label class 19 exceeds dataset class count 18. Possible class labels are 0-17\n",
      "\u001b[34m\u001b[1mtrain: \u001b[0mWARNING ⚠️ /kaggle/working/train/images/id_o4flht.jpg: ignoring corrupt image/label: Label class 18 exceeds dataset class count 18. Possible class labels are 0-17\n",
      "\u001b[34m\u001b[1mtrain: \u001b[0mWARNING ⚠️ /kaggle/working/train/images/id_o6m8ii.jpg: ignoring corrupt image/label: Label class 22 exceeds dataset class count 18. Possible class labels are 0-17\n",
      "\u001b[34m\u001b[1mtrain: \u001b[0mWARNING ⚠️ /kaggle/working/train/images/id_o6t6wv.jpg: ignoring corrupt image/label: Label class 19 exceeds dataset class count 18. Possible class labels are 0-17\n",
      "\u001b[34m\u001b[1mtrain: \u001b[0mWARNING ⚠️ /kaggle/working/train/images/id_o6v4eb.jpg: ignoring corrupt image/label: Label class 22 exceeds dataset class count 18. Possible class labels are 0-17\n",
      "\u001b[34m\u001b[1mtrain: \u001b[0mWARNING ⚠️ /kaggle/working/train/images/id_o7sb5q.jpg: ignoring corrupt image/label: Label class 22 exceeds dataset class count 18. Possible class labels are 0-17\n",
      "\u001b[34m\u001b[1mtrain: \u001b[0mWARNING ⚠️ /kaggle/working/train/images/id_o9s8hv.jpg: ignoring corrupt image/label: Label class 19 exceeds dataset class count 18. Possible class labels are 0-17\n",
      "\u001b[34m\u001b[1mtrain: \u001b[0mWARNING ⚠️ /kaggle/working/train/images/id_oac7nn.jpg: ignoring corrupt image/label: Label class 19 exceeds dataset class count 18. Possible class labels are 0-17\n",
      "\u001b[34m\u001b[1mtrain: \u001b[0mWARNING ⚠️ /kaggle/working/train/images/id_ocijzk.jpg: ignoring corrupt image/label: Label class 22 exceeds dataset class count 18. Possible class labels are 0-17\n",
      "\u001b[34m\u001b[1mtrain: \u001b[0mWARNING ⚠️ /kaggle/working/train/images/id_ockp9h.jpg: ignoring corrupt image/label: Label class 22 exceeds dataset class count 18. Possible class labels are 0-17\n",
      "\u001b[34m\u001b[1mtrain: \u001b[0mWARNING ⚠️ /kaggle/working/train/images/id_ocxrri.jpg: ignoring corrupt image/label: Label class 22 exceeds dataset class count 18. Possible class labels are 0-17\n",
      "\u001b[34m\u001b[1mtrain: \u001b[0mWARNING ⚠️ /kaggle/working/train/images/id_og8jis.jpg: ignoring corrupt image/label: Label class 18 exceeds dataset class count 18. Possible class labels are 0-17\n",
      "\u001b[34m\u001b[1mtrain: \u001b[0mWARNING ⚠️ /kaggle/working/train/images/id_ohxwo5.jpg: ignoring corrupt image/label: Label class 19 exceeds dataset class count 18. Possible class labels are 0-17\n",
      "\u001b[34m\u001b[1mtrain: \u001b[0mWARNING ⚠️ /kaggle/working/train/images/id_ok5mjz.jpg: ignoring corrupt image/label: Label class 22 exceeds dataset class count 18. Possible class labels are 0-17\n",
      "\u001b[34m\u001b[1mtrain: \u001b[0mWARNING ⚠️ /kaggle/working/train/images/id_om3i7j.jpg: ignoring corrupt image/label: Label class 22 exceeds dataset class count 18. Possible class labels are 0-17\n",
      "\u001b[34m\u001b[1mtrain: \u001b[0mWARNING ⚠️ /kaggle/working/train/images/id_onbolf.jpg: ignoring corrupt image/label: Label class 22 exceeds dataset class count 18. Possible class labels are 0-17\n",
      "\u001b[34m\u001b[1mtrain: \u001b[0mWARNING ⚠️ /kaggle/working/train/images/id_opyajr.jpg: ignoring corrupt image/label: Label class 22 exceeds dataset class count 18. Possible class labels are 0-17\n",
      "\u001b[34m\u001b[1mtrain: \u001b[0mWARNING ⚠️ /kaggle/working/train/images/id_oqgcvm.jpg: ignoring corrupt image/label: Label class 19 exceeds dataset class count 18. Possible class labels are 0-17\n",
      "\u001b[34m\u001b[1mtrain: \u001b[0mWARNING ⚠️ /kaggle/working/train/images/id_osdoyy.jpg: ignoring corrupt image/label: Label class 22 exceeds dataset class count 18. Possible class labels are 0-17\n",
      "\u001b[34m\u001b[1mtrain: \u001b[0mWARNING ⚠️ /kaggle/working/train/images/id_otbi5k.jpg: ignoring corrupt image/label: Label class 22 exceeds dataset class count 18. Possible class labels are 0-17\n",
      "\u001b[34m\u001b[1mtrain: \u001b[0mWARNING ⚠️ /kaggle/working/train/images/id_otp9o1.jpg: ignoring corrupt image/label: Label class 19 exceeds dataset class count 18. Possible class labels are 0-17\n",
      "\u001b[34m\u001b[1mtrain: \u001b[0mWARNING ⚠️ /kaggle/working/train/images/id_otujct.jpg: ignoring corrupt image/label: Label class 22 exceeds dataset class count 18. Possible class labels are 0-17\n",
      "\u001b[34m\u001b[1mtrain: \u001b[0mWARNING ⚠️ /kaggle/working/train/images/id_otyid4.jpg: ignoring corrupt image/label: Label class 19 exceeds dataset class count 18. Possible class labels are 0-17\n",
      "\u001b[34m\u001b[1mtrain: \u001b[0mWARNING ⚠️ /kaggle/working/train/images/id_ox5462.jpg: ignoring corrupt image/label: Label class 22 exceeds dataset class count 18. Possible class labels are 0-17\n",
      "\u001b[34m\u001b[1mtrain: \u001b[0mWARNING ⚠️ /kaggle/working/train/images/id_oxdpil.jpg: ignoring corrupt image/label: Label class 22 exceeds dataset class count 18. Possible class labels are 0-17\n",
      "\u001b[34m\u001b[1mtrain: \u001b[0mWARNING ⚠️ /kaggle/working/train/images/id_ozdnaz.jpg: ignoring corrupt image/label: Label class 22 exceeds dataset class count 18. Possible class labels are 0-17\n",
      "\u001b[34m\u001b[1mtrain: \u001b[0mWARNING ⚠️ /kaggle/working/train/images/id_ozwev5.jpg: ignoring corrupt image/label: Label class 19 exceeds dataset class count 18. Possible class labels are 0-17\n",
      "\u001b[34m\u001b[1mtrain: \u001b[0mWARNING ⚠️ /kaggle/working/train/images/id_p1thwu.jpg: ignoring corrupt image/label: Label class 19 exceeds dataset class count 18. Possible class labels are 0-17\n",
      "\u001b[34m\u001b[1mtrain: \u001b[0mWARNING ⚠️ /kaggle/working/train/images/id_p2hdpp.jpg: ignoring corrupt image/label: Label class 19 exceeds dataset class count 18. Possible class labels are 0-17\n",
      "\u001b[34m\u001b[1mtrain: \u001b[0mWARNING ⚠️ /kaggle/working/train/images/id_p2jihf.jpg: ignoring corrupt image/label: Label class 22 exceeds dataset class count 18. Possible class labels are 0-17\n",
      "\u001b[34m\u001b[1mtrain: \u001b[0mWARNING ⚠️ /kaggle/working/train/images/id_p4qxep.jpg: ignoring corrupt image/label: Label class 19 exceeds dataset class count 18. Possible class labels are 0-17\n",
      "\u001b[34m\u001b[1mtrain: \u001b[0mWARNING ⚠️ /kaggle/working/train/images/id_p5xocv.jpg: ignoring corrupt image/label: Label class 22 exceeds dataset class count 18. Possible class labels are 0-17\n",
      "\u001b[34m\u001b[1mtrain: \u001b[0mWARNING ⚠️ /kaggle/working/train/images/id_p5yfr4.jpg: ignoring corrupt image/label: Label class 20 exceeds dataset class count 18. Possible class labels are 0-17\n",
      "\u001b[34m\u001b[1mtrain: \u001b[0mWARNING ⚠️ /kaggle/working/train/images/id_p5zzw9.jpg: ignoring corrupt image/label: Label class 22 exceeds dataset class count 18. Possible class labels are 0-17\n",
      "\u001b[34m\u001b[1mtrain: \u001b[0mWARNING ⚠️ /kaggle/working/train/images/id_p6sz1x.jpg: ignoring corrupt image/label: Label class 22 exceeds dataset class count 18. Possible class labels are 0-17\n",
      "\u001b[34m\u001b[1mtrain: \u001b[0mWARNING ⚠️ /kaggle/working/train/images/id_p6xwcy.jpg: ignoring corrupt image/label: Label class 22 exceeds dataset class count 18. Possible class labels are 0-17\n",
      "\u001b[34m\u001b[1mtrain: \u001b[0mWARNING ⚠️ /kaggle/working/train/images/id_pbae42.jpg: ignoring corrupt image/label: Label class 18 exceeds dataset class count 18. Possible class labels are 0-17\n",
      "\u001b[34m\u001b[1mtrain: \u001b[0mWARNING ⚠️ /kaggle/working/train/images/id_pbg1it.jpg: ignoring corrupt image/label: Label class 19 exceeds dataset class count 18. Possible class labels are 0-17\n",
      "\u001b[34m\u001b[1mtrain: \u001b[0mWARNING ⚠️ /kaggle/working/train/images/id_pbo197.jpg: ignoring corrupt image/label: Label class 18 exceeds dataset class count 18. Possible class labels are 0-17\n",
      "\u001b[34m\u001b[1mtrain: \u001b[0mWARNING ⚠️ /kaggle/working/train/images/id_pbrrdf.jpg: ignoring corrupt image/label: Label class 19 exceeds dataset class count 18. Possible class labels are 0-17\n",
      "\u001b[34m\u001b[1mtrain: \u001b[0mWARNING ⚠️ /kaggle/working/train/images/id_pbz86j.jpg: ignoring corrupt image/label: Label class 18 exceeds dataset class count 18. Possible class labels are 0-17\n",
      "\u001b[34m\u001b[1mtrain: \u001b[0mWARNING ⚠️ /kaggle/working/train/images/id_pdh8hm.jpg: ignoring corrupt image/label: Label class 22 exceeds dataset class count 18. Possible class labels are 0-17\n",
      "\u001b[34m\u001b[1mtrain: \u001b[0mWARNING ⚠️ /kaggle/working/train/images/id_pf6k57.jpg: ignoring corrupt image/label: Label class 22 exceeds dataset class count 18. Possible class labels are 0-17\n",
      "\u001b[34m\u001b[1mtrain: \u001b[0mWARNING ⚠️ /kaggle/working/train/images/id_pghuxu.jpg: ignoring corrupt image/label: Label class 19 exceeds dataset class count 18. Possible class labels are 0-17\n",
      "\u001b[34m\u001b[1mtrain: \u001b[0mWARNING ⚠️ /kaggle/working/train/images/id_pigm12.jpg: ignoring corrupt image/label: Label class 18 exceeds dataset class count 18. Possible class labels are 0-17\n",
      "\u001b[34m\u001b[1mtrain: \u001b[0mWARNING ⚠️ /kaggle/working/train/images/id_piqzrm.jpg: ignoring corrupt image/label: Label class 22 exceeds dataset class count 18. Possible class labels are 0-17\n",
      "\u001b[34m\u001b[1mtrain: \u001b[0mWARNING ⚠️ /kaggle/working/train/images/id_pjdgcr.jpg: ignoring corrupt image/label: Label class 19 exceeds dataset class count 18. Possible class labels are 0-17\n",
      "\u001b[34m\u001b[1mtrain: \u001b[0mWARNING ⚠️ /kaggle/working/train/images/id_pmbna4.jpg: ignoring corrupt image/label: Label class 22 exceeds dataset class count 18. Possible class labels are 0-17\n",
      "\u001b[34m\u001b[1mtrain: \u001b[0mWARNING ⚠️ /kaggle/working/train/images/id_psjh3g.jpg: ignoring corrupt image/label: Label class 19 exceeds dataset class count 18. Possible class labels are 0-17\n",
      "\u001b[34m\u001b[1mtrain: \u001b[0mWARNING ⚠️ /kaggle/working/train/images/id_ptp4g4.jpg: ignoring corrupt image/label: Label class 20 exceeds dataset class count 18. Possible class labels are 0-17\n",
      "\u001b[34m\u001b[1mtrain: \u001b[0mWARNING ⚠️ /kaggle/working/train/images/id_pu7wai.jpg: ignoring corrupt image/label: Label class 18 exceeds dataset class count 18. Possible class labels are 0-17\n",
      "\u001b[34m\u001b[1mtrain: \u001b[0mWARNING ⚠️ /kaggle/working/train/images/id_pux8yp.jpg: ignoring corrupt image/label: Label class 19 exceeds dataset class count 18. Possible class labels are 0-17\n",
      "\u001b[34m\u001b[1mtrain: \u001b[0mWARNING ⚠️ /kaggle/working/train/images/id_pvboe6.jpg: ignoring corrupt image/label: Label class 18 exceeds dataset class count 18. Possible class labels are 0-17\n",
      "\u001b[34m\u001b[1mtrain: \u001b[0mWARNING ⚠️ /kaggle/working/train/images/id_pvtjej.jpg: ignoring corrupt image/label: Label class 19 exceeds dataset class count 18. Possible class labels are 0-17\n",
      "\u001b[34m\u001b[1mtrain: \u001b[0mWARNING ⚠️ /kaggle/working/train/images/id_pwehz4.jpg: ignoring corrupt image/label: Label class 19 exceeds dataset class count 18. Possible class labels are 0-17\n",
      "\u001b[34m\u001b[1mtrain: \u001b[0mWARNING ⚠️ /kaggle/working/train/images/id_pxyz3p.jpg: ignoring corrupt image/label: Label class 18 exceeds dataset class count 18. Possible class labels are 0-17\n",
      "\u001b[34m\u001b[1mtrain: \u001b[0mWARNING ⚠️ /kaggle/working/train/images/id_py6rl7.jpg: ignoring corrupt image/label: Label class 18 exceeds dataset class count 18. Possible class labels are 0-17\n",
      "\u001b[34m\u001b[1mtrain: \u001b[0mWARNING ⚠️ /kaggle/working/train/images/id_pzfaun.jpg: ignoring corrupt image/label: Label class 19 exceeds dataset class count 18. Possible class labels are 0-17\n",
      "\u001b[34m\u001b[1mtrain: \u001b[0mWARNING ⚠️ /kaggle/working/train/images/id_q1p4g2.jpg: ignoring corrupt image/label: Label class 22 exceeds dataset class count 18. Possible class labels are 0-17\n",
      "\u001b[34m\u001b[1mtrain: \u001b[0mWARNING ⚠️ /kaggle/working/train/images/id_q1u3d1.jpg: ignoring corrupt image/label: Label class 19 exceeds dataset class count 18. Possible class labels are 0-17\n",
      "\u001b[34m\u001b[1mtrain: \u001b[0mWARNING ⚠️ /kaggle/working/train/images/id_q26uuk.jpg: ignoring corrupt image/label: Label class 18 exceeds dataset class count 18. Possible class labels are 0-17\n",
      "\u001b[34m\u001b[1mtrain: \u001b[0mWARNING ⚠️ /kaggle/working/train/images/id_q31pf3.jpg: ignoring corrupt image/label: Label class 20 exceeds dataset class count 18. Possible class labels are 0-17\n",
      "\u001b[34m\u001b[1mtrain: \u001b[0mWARNING ⚠️ /kaggle/working/train/images/id_q5btsk.jpg: ignoring corrupt image/label: Label class 22 exceeds dataset class count 18. Possible class labels are 0-17\n",
      "\u001b[34m\u001b[1mtrain: \u001b[0mWARNING ⚠️ /kaggle/working/train/images/id_q718aq.jpg: ignoring corrupt image/label: Label class 18 exceeds dataset class count 18. Possible class labels are 0-17\n",
      "\u001b[34m\u001b[1mtrain: \u001b[0mWARNING ⚠️ /kaggle/working/train/images/id_q7lo9t.jpg: ignoring corrupt image/label: Label class 18 exceeds dataset class count 18. Possible class labels are 0-17\n",
      "\u001b[34m\u001b[1mtrain: \u001b[0mWARNING ⚠️ /kaggle/working/train/images/id_q7zdae.jpg: ignoring corrupt image/label: Label class 22 exceeds dataset class count 18. Possible class labels are 0-17\n",
      "\u001b[34m\u001b[1mtrain: \u001b[0mWARNING ⚠️ /kaggle/working/train/images/id_q88rsj.jpg: ignoring corrupt image/label: Label class 18 exceeds dataset class count 18. Possible class labels are 0-17\n",
      "\u001b[34m\u001b[1mtrain: \u001b[0mWARNING ⚠️ /kaggle/working/train/images/id_q9isi5.jpg: ignoring corrupt image/label: Label class 20 exceeds dataset class count 18. Possible class labels are 0-17\n",
      "\u001b[34m\u001b[1mtrain: \u001b[0mWARNING ⚠️ /kaggle/working/train/images/id_qar3rs.jpg: ignoring corrupt image/label: Label class 19 exceeds dataset class count 18. Possible class labels are 0-17\n",
      "\u001b[34m\u001b[1mtrain: \u001b[0mWARNING ⚠️ /kaggle/working/train/images/id_qcbtvj.jpg: ignoring corrupt image/label: Label class 18 exceeds dataset class count 18. Possible class labels are 0-17\n",
      "\u001b[34m\u001b[1mtrain: \u001b[0mWARNING ⚠️ /kaggle/working/train/images/id_qcjssi.jpg: ignoring corrupt image/label: Label class 18 exceeds dataset class count 18. Possible class labels are 0-17\n",
      "\u001b[34m\u001b[1mtrain: \u001b[0mWARNING ⚠️ /kaggle/working/train/images/id_qcninq.jpg: ignoring corrupt image/label: Label class 20 exceeds dataset class count 18. Possible class labels are 0-17\n",
      "\u001b[34m\u001b[1mtrain: \u001b[0mWARNING ⚠️ /kaggle/working/train/images/id_qcrmuz.jpg: ignoring corrupt image/label: Label class 20 exceeds dataset class count 18. Possible class labels are 0-17\n",
      "\u001b[34m\u001b[1mtrain: \u001b[0mWARNING ⚠️ /kaggle/working/train/images/id_qdzg7a.jpg: ignoring corrupt image/label: Label class 22 exceeds dataset class count 18. Possible class labels are 0-17\n",
      "\u001b[34m\u001b[1mtrain: \u001b[0mWARNING ⚠️ /kaggle/working/train/images/id_qe4lzd.jpg: ignoring corrupt image/label: Label class 22 exceeds dataset class count 18. Possible class labels are 0-17\n",
      "\u001b[34m\u001b[1mtrain: \u001b[0mWARNING ⚠️ /kaggle/working/train/images/id_qf7qby.jpg: ignoring corrupt image/label: Label class 22 exceeds dataset class count 18. Possible class labels are 0-17\n",
      "\u001b[34m\u001b[1mtrain: \u001b[0mWARNING ⚠️ /kaggle/working/train/images/id_qicpt3.jpg: ignoring corrupt image/label: Label class 22 exceeds dataset class count 18. Possible class labels are 0-17\n",
      "\u001b[34m\u001b[1mtrain: \u001b[0mWARNING ⚠️ /kaggle/working/train/images/id_qja2z9.jpg: ignoring corrupt image/label: Label class 19 exceeds dataset class count 18. Possible class labels are 0-17\n",
      "\u001b[34m\u001b[1mtrain: \u001b[0mWARNING ⚠️ /kaggle/working/train/images/id_qjny3p.jpg: ignoring corrupt image/label: Label class 19 exceeds dataset class count 18. Possible class labels are 0-17\n",
      "\u001b[34m\u001b[1mtrain: \u001b[0mWARNING ⚠️ /kaggle/working/train/images/id_ql988a.jpg: ignoring corrupt image/label: Label class 21 exceeds dataset class count 18. Possible class labels are 0-17\n",
      "\u001b[34m\u001b[1mtrain: \u001b[0mWARNING ⚠️ /kaggle/working/train/images/id_ql9ge8.jpg: ignoring corrupt image/label: Label class 18 exceeds dataset class count 18. Possible class labels are 0-17\n",
      "\u001b[34m\u001b[1mtrain: \u001b[0mWARNING ⚠️ /kaggle/working/train/images/id_qn4cyl.jpg: ignoring corrupt image/label: Label class 19 exceeds dataset class count 18. Possible class labels are 0-17\n",
      "\u001b[34m\u001b[1mtrain: \u001b[0mWARNING ⚠️ /kaggle/working/train/images/id_qp8do2.jpg: ignoring corrupt image/label: Label class 19 exceeds dataset class count 18. Possible class labels are 0-17\n",
      "\u001b[34m\u001b[1mtrain: \u001b[0mWARNING ⚠️ /kaggle/working/train/images/id_qppqnn.jpg: ignoring corrupt image/label: Label class 18 exceeds dataset class count 18. Possible class labels are 0-17\n",
      "\u001b[34m\u001b[1mtrain: \u001b[0mWARNING ⚠️ /kaggle/working/train/images/id_quvipp.jpg: ignoring corrupt image/label: Label class 22 exceeds dataset class count 18. Possible class labels are 0-17\n",
      "\u001b[34m\u001b[1mtrain: \u001b[0mWARNING ⚠️ /kaggle/working/train/images/id_qxl3zi.jpg: ignoring corrupt image/label: Label class 22 exceeds dataset class count 18. Possible class labels are 0-17\n",
      "\u001b[34m\u001b[1mtrain: \u001b[0mWARNING ⚠️ /kaggle/working/train/images/id_r1dln6.jpg: ignoring corrupt image/label: Label class 18 exceeds dataset class count 18. Possible class labels are 0-17\n",
      "\u001b[34m\u001b[1mtrain: \u001b[0mWARNING ⚠️ /kaggle/working/train/images/id_r29d8s.jpg: ignoring corrupt image/label: Label class 19 exceeds dataset class count 18. Possible class labels are 0-17\n",
      "\u001b[34m\u001b[1mtrain: \u001b[0mWARNING ⚠️ /kaggle/working/train/images/id_r4gfmb.jpg: ignoring corrupt image/label: Label class 22 exceeds dataset class count 18. Possible class labels are 0-17\n",
      "\u001b[34m\u001b[1mtrain: \u001b[0mWARNING ⚠️ /kaggle/working/train/images/id_r54g4y.jpg: ignoring corrupt image/label: Label class 19 exceeds dataset class count 18. Possible class labels are 0-17\n",
      "\u001b[34m\u001b[1mtrain: \u001b[0mWARNING ⚠️ /kaggle/working/train/images/id_r78o22.jpg: ignoring corrupt image/label: Label class 22 exceeds dataset class count 18. Possible class labels are 0-17\n",
      "\u001b[34m\u001b[1mtrain: \u001b[0mWARNING ⚠️ /kaggle/working/train/images/id_r7elio.jpg: ignoring corrupt image/label: Label class 19 exceeds dataset class count 18. Possible class labels are 0-17\n",
      "\u001b[34m\u001b[1mtrain: \u001b[0mWARNING ⚠️ /kaggle/working/train/images/id_r95mds.jpg: ignoring corrupt image/label: Label class 19 exceeds dataset class count 18. Possible class labels are 0-17\n",
      "\u001b[34m\u001b[1mtrain: \u001b[0mWARNING ⚠️ /kaggle/working/train/images/id_ra9li7.jpg: ignoring corrupt image/label: Label class 20 exceeds dataset class count 18. Possible class labels are 0-17\n",
      "\u001b[34m\u001b[1mtrain: \u001b[0mWARNING ⚠️ /kaggle/working/train/images/id_rbvo2w.jpg: ignoring corrupt image/label: Label class 22 exceeds dataset class count 18. Possible class labels are 0-17\n",
      "\u001b[34m\u001b[1mtrain: \u001b[0mWARNING ⚠️ /kaggle/working/train/images/id_rdmjzm.jpg: ignoring corrupt image/label: Label class 22 exceeds dataset class count 18. Possible class labels are 0-17\n",
      "\u001b[34m\u001b[1mtrain: \u001b[0mWARNING ⚠️ /kaggle/working/train/images/id_re5qaj.jpg: ignoring corrupt image/label: Label class 22 exceeds dataset class count 18. Possible class labels are 0-17\n",
      "\u001b[34m\u001b[1mtrain: \u001b[0mWARNING ⚠️ /kaggle/working/train/images/id_re7ae8.jpg: ignoring corrupt image/label: Label class 22 exceeds dataset class count 18. Possible class labels are 0-17\n",
      "\u001b[34m\u001b[1mtrain: \u001b[0mWARNING ⚠️ /kaggle/working/train/images/id_ri8ktw.jpg: ignoring corrupt image/label: Label class 22 exceeds dataset class count 18. Possible class labels are 0-17\n",
      "\u001b[34m\u001b[1mtrain: \u001b[0mWARNING ⚠️ /kaggle/working/train/images/id_rkga6m.jpg: ignoring corrupt image/label: Label class 19 exceeds dataset class count 18. Possible class labels are 0-17\n",
      "\u001b[34m\u001b[1mtrain: \u001b[0mWARNING ⚠️ /kaggle/working/train/images/id_rkjn9k.jpg: ignoring corrupt image/label: Label class 22 exceeds dataset class count 18. Possible class labels are 0-17\n",
      "\u001b[34m\u001b[1mtrain: \u001b[0mWARNING ⚠️ /kaggle/working/train/images/id_rofkgb.jpg: ignoring corrupt image/label: Label class 22 exceeds dataset class count 18. Possible class labels are 0-17\n",
      "\u001b[34m\u001b[1mtrain: \u001b[0mWARNING ⚠️ /kaggle/working/train/images/id_rongu5.jpg: ignoring corrupt image/label: Label class 22 exceeds dataset class count 18. Possible class labels are 0-17\n",
      "\u001b[34m\u001b[1mtrain: \u001b[0mWARNING ⚠️ /kaggle/working/train/images/id_rperu8.jpg: ignoring corrupt image/label: Label class 18 exceeds dataset class count 18. Possible class labels are 0-17\n",
      "\u001b[34m\u001b[1mtrain: \u001b[0mWARNING ⚠️ /kaggle/working/train/images/id_rpns8c.jpg: ignoring corrupt image/label: Label class 19 exceeds dataset class count 18. Possible class labels are 0-17\n",
      "\u001b[34m\u001b[1mtrain: \u001b[0mWARNING ⚠️ /kaggle/working/train/images/id_rq5gjx.jpg: ignoring corrupt image/label: Label class 18 exceeds dataset class count 18. Possible class labels are 0-17\n",
      "\u001b[34m\u001b[1mtrain: \u001b[0mWARNING ⚠️ /kaggle/working/train/images/id_rrmpul.jpg: ignoring corrupt image/label: Label class 22 exceeds dataset class count 18. Possible class labels are 0-17\n",
      "\u001b[34m\u001b[1mtrain: \u001b[0mWARNING ⚠️ /kaggle/working/train/images/id_rskvvj.jpg: ignoring corrupt image/label: Label class 19 exceeds dataset class count 18. Possible class labels are 0-17\n",
      "\u001b[34m\u001b[1mtrain: \u001b[0mWARNING ⚠️ /kaggle/working/train/images/id_rsns36.jpg: ignoring corrupt image/label: Label class 18 exceeds dataset class count 18. Possible class labels are 0-17\n",
      "\u001b[34m\u001b[1mtrain: \u001b[0mWARNING ⚠️ /kaggle/working/train/images/id_ru7ilp.jpg: ignoring corrupt image/label: Label class 22 exceeds dataset class count 18. Possible class labels are 0-17\n",
      "\u001b[34m\u001b[1mtrain: \u001b[0mWARNING ⚠️ /kaggle/working/train/images/id_rud832.jpg: ignoring corrupt image/label: Label class 22 exceeds dataset class count 18. Possible class labels are 0-17\n",
      "\u001b[34m\u001b[1mtrain: \u001b[0mWARNING ⚠️ /kaggle/working/train/images/id_rviwhn.jpg: ignoring corrupt image/label: Label class 19 exceeds dataset class count 18. Possible class labels are 0-17\n",
      "\u001b[34m\u001b[1mtrain: \u001b[0mWARNING ⚠️ /kaggle/working/train/images/id_rwhr4t.jpg: ignoring corrupt image/label: Label class 18 exceeds dataset class count 18. Possible class labels are 0-17\n",
      "\u001b[34m\u001b[1mtrain: \u001b[0mWARNING ⚠️ /kaggle/working/train/images/id_rx31xb.jpg: ignoring corrupt image/label: Label class 22 exceeds dataset class count 18. Possible class labels are 0-17\n",
      "\u001b[34m\u001b[1mtrain: \u001b[0mWARNING ⚠️ /kaggle/working/train/images/id_rx3gn6.jpg: ignoring corrupt image/label: Label class 19 exceeds dataset class count 18. Possible class labels are 0-17\n",
      "\u001b[34m\u001b[1mtrain: \u001b[0mWARNING ⚠️ /kaggle/working/train/images/id_rxsxi3.jpg: ignoring corrupt image/label: Label class 22 exceeds dataset class count 18. Possible class labels are 0-17\n",
      "\u001b[34m\u001b[1mtrain: \u001b[0mWARNING ⚠️ /kaggle/working/train/images/id_rzmugo.jpg: ignoring corrupt image/label: Label class 19 exceeds dataset class count 18. Possible class labels are 0-17\n",
      "\u001b[34m\u001b[1mtrain: \u001b[0mWARNING ⚠️ /kaggle/working/train/images/id_s3byh9.jpg: ignoring corrupt image/label: Label class 18 exceeds dataset class count 18. Possible class labels are 0-17\n",
      "\u001b[34m\u001b[1mtrain: \u001b[0mWARNING ⚠️ /kaggle/working/train/images/id_s3ecbc.jpg: ignoring corrupt image/label: Label class 18 exceeds dataset class count 18. Possible class labels are 0-17\n",
      "\u001b[34m\u001b[1mtrain: \u001b[0mWARNING ⚠️ /kaggle/working/train/images/id_s3m9w9.jpg: ignoring corrupt image/label: Label class 20 exceeds dataset class count 18. Possible class labels are 0-17\n",
      "\u001b[34m\u001b[1mtrain: \u001b[0mWARNING ⚠️ /kaggle/working/train/images/id_s4eo9z.jpg: ignoring corrupt image/label: Label class 20 exceeds dataset class count 18. Possible class labels are 0-17\n",
      "\u001b[34m\u001b[1mtrain: \u001b[0mWARNING ⚠️ /kaggle/working/train/images/id_s5d55q.jpg: ignoring corrupt image/label: Label class 18 exceeds dataset class count 18. Possible class labels are 0-17\n",
      "\u001b[34m\u001b[1mtrain: \u001b[0mWARNING ⚠️ /kaggle/working/train/images/id_s9e1dx.jpg: ignoring corrupt image/label: Label class 19 exceeds dataset class count 18. Possible class labels are 0-17\n",
      "\u001b[34m\u001b[1mtrain: \u001b[0mWARNING ⚠️ /kaggle/working/train/images/id_saqld2.jpg: ignoring corrupt image/label: Label class 18 exceeds dataset class count 18. Possible class labels are 0-17\n",
      "\u001b[34m\u001b[1mtrain: \u001b[0mWARNING ⚠️ /kaggle/working/train/images/id_sc7kch.jpg: ignoring corrupt image/label: Label class 22 exceeds dataset class count 18. Possible class labels are 0-17\n",
      "\u001b[34m\u001b[1mtrain: \u001b[0mWARNING ⚠️ /kaggle/working/train/images/id_sccvwo.jpg: ignoring corrupt image/label: Label class 18 exceeds dataset class count 18. Possible class labels are 0-17\n",
      "\u001b[34m\u001b[1mtrain: \u001b[0mWARNING ⚠️ /kaggle/working/train/images/id_se9vac.jpg: ignoring corrupt image/label: Label class 22 exceeds dataset class count 18. Possible class labels are 0-17\n",
      "\u001b[34m\u001b[1mtrain: \u001b[0mWARNING ⚠️ /kaggle/working/train/images/id_sevjht.jpg: ignoring corrupt image/label: Label class 19 exceeds dataset class count 18. Possible class labels are 0-17\n",
      "\u001b[34m\u001b[1mtrain: \u001b[0mWARNING ⚠️ /kaggle/working/train/images/id_sf5geo.jpg: ignoring corrupt image/label: Label class 18 exceeds dataset class count 18. Possible class labels are 0-17\n",
      "\u001b[34m\u001b[1mtrain: \u001b[0mWARNING ⚠️ /kaggle/working/train/images/id_shupps.jpg: ignoring corrupt image/label: Label class 22 exceeds dataset class count 18. Possible class labels are 0-17\n",
      "\u001b[34m\u001b[1mtrain: \u001b[0mWARNING ⚠️ /kaggle/working/train/images/id_shuq3g.jpg: ignoring corrupt image/label: Label class 18 exceeds dataset class count 18. Possible class labels are 0-17\n",
      "\u001b[34m\u001b[1mtrain: \u001b[0mWARNING ⚠️ /kaggle/working/train/images/id_siofxx.jpg: ignoring corrupt image/label: Label class 20 exceeds dataset class count 18. Possible class labels are 0-17\n",
      "\u001b[34m\u001b[1mtrain: \u001b[0mWARNING ⚠️ /kaggle/working/train/images/id_sis63l.jpg: ignoring corrupt image/label: Label class 22 exceeds dataset class count 18. Possible class labels are 0-17\n",
      "\u001b[34m\u001b[1mtrain: \u001b[0mWARNING ⚠️ /kaggle/working/train/images/id_siujoo.jpg: ignoring corrupt image/label: Label class 22 exceeds dataset class count 18. Possible class labels are 0-17\n",
      "\u001b[34m\u001b[1mtrain: \u001b[0mWARNING ⚠️ /kaggle/working/train/images/id_sjeqbe.jpg: ignoring corrupt image/label: Label class 19 exceeds dataset class count 18. Possible class labels are 0-17\n",
      "\u001b[34m\u001b[1mtrain: \u001b[0mWARNING ⚠️ /kaggle/working/train/images/id_sjlwnp.jpg: ignoring corrupt image/label: Label class 18 exceeds dataset class count 18. Possible class labels are 0-17\n",
      "\u001b[34m\u001b[1mtrain: \u001b[0mWARNING ⚠️ /kaggle/working/train/images/id_sjwm7e.jpg: ignoring corrupt image/label: Label class 19 exceeds dataset class count 18. Possible class labels are 0-17\n",
      "\u001b[34m\u001b[1mtrain: \u001b[0mWARNING ⚠️ /kaggle/working/train/images/id_sk2wh1.jpg: ignoring corrupt image/label: Label class 20 exceeds dataset class count 18. Possible class labels are 0-17\n",
      "\u001b[34m\u001b[1mtrain: \u001b[0mWARNING ⚠️ /kaggle/working/train/images/id_smib6v.jpg: ignoring corrupt image/label: Label class 19 exceeds dataset class count 18. Possible class labels are 0-17\n",
      "\u001b[34m\u001b[1mtrain: \u001b[0mWARNING ⚠️ /kaggle/working/train/images/id_smqghu.jpg: ignoring corrupt image/label: Label class 22 exceeds dataset class count 18. Possible class labels are 0-17\n",
      "\u001b[34m\u001b[1mtrain: \u001b[0mWARNING ⚠️ /kaggle/working/train/images/id_smsf93.jpg: ignoring corrupt image/label: Label class 22 exceeds dataset class count 18. Possible class labels are 0-17\n",
      "\u001b[34m\u001b[1mtrain: \u001b[0mWARNING ⚠️ /kaggle/working/train/images/id_spib8y.jpg: ignoring corrupt image/label: Label class 19 exceeds dataset class count 18. Possible class labels are 0-17\n",
      "\u001b[34m\u001b[1mtrain: \u001b[0mWARNING ⚠️ /kaggle/working/train/images/id_ss6kd5.jpg: ignoring corrupt image/label: Label class 22 exceeds dataset class count 18. Possible class labels are 0-17\n",
      "\u001b[34m\u001b[1mtrain: \u001b[0mWARNING ⚠️ /kaggle/working/train/images/id_ss726i.jpg: ignoring corrupt image/label: Label class 18 exceeds dataset class count 18. Possible class labels are 0-17\n",
      "\u001b[34m\u001b[1mtrain: \u001b[0mWARNING ⚠️ /kaggle/working/train/images/id_svs9mw.jpg: ignoring corrupt image/label: Label class 19 exceeds dataset class count 18. Possible class labels are 0-17\n",
      "\u001b[34m\u001b[1mtrain: \u001b[0mWARNING ⚠️ /kaggle/working/train/images/id_szflrp.jpg: ignoring corrupt image/label: Label class 22 exceeds dataset class count 18. Possible class labels are 0-17\n",
      "\u001b[34m\u001b[1mtrain: \u001b[0mWARNING ⚠️ /kaggle/working/train/images/id_szujki.jpg: ignoring corrupt image/label: Label class 19 exceeds dataset class count 18. Possible class labels are 0-17\n",
      "\u001b[34m\u001b[1mtrain: \u001b[0mWARNING ⚠️ /kaggle/working/train/images/id_t28j49.jpg: ignoring corrupt image/label: Label class 22 exceeds dataset class count 18. Possible class labels are 0-17\n",
      "\u001b[34m\u001b[1mtrain: \u001b[0mWARNING ⚠️ /kaggle/working/train/images/id_t2s72h.jpg: ignoring corrupt image/label: Label class 19 exceeds dataset class count 18. Possible class labels are 0-17\n",
      "\u001b[34m\u001b[1mtrain: \u001b[0mWARNING ⚠️ /kaggle/working/train/images/id_t3oidh.jpg: ignoring corrupt image/label: Label class 22 exceeds dataset class count 18. Possible class labels are 0-17\n",
      "\u001b[34m\u001b[1mtrain: \u001b[0mWARNING ⚠️ /kaggle/working/train/images/id_t5xmvo.jpg: ignoring corrupt image/label: Label class 19 exceeds dataset class count 18. Possible class labels are 0-17\n",
      "\u001b[34m\u001b[1mtrain: \u001b[0mWARNING ⚠️ /kaggle/working/train/images/id_t74mpc.jpg: ignoring corrupt image/label: Label class 22 exceeds dataset class count 18. Possible class labels are 0-17\n",
      "\u001b[34m\u001b[1mtrain: \u001b[0mWARNING ⚠️ /kaggle/working/train/images/id_taopaa.jpg: ignoring corrupt image/label: Label class 19 exceeds dataset class count 18. Possible class labels are 0-17\n",
      "\u001b[34m\u001b[1mtrain: \u001b[0mWARNING ⚠️ /kaggle/working/train/images/id_tavl3i.jpg: ignoring corrupt image/label: Label class 22 exceeds dataset class count 18. Possible class labels are 0-17\n",
      "\u001b[34m\u001b[1mtrain: \u001b[0mWARNING ⚠️ /kaggle/working/train/images/id_tdt3un.jpg: ignoring corrupt image/label: Label class 22 exceeds dataset class count 18. Possible class labels are 0-17\n",
      "\u001b[34m\u001b[1mtrain: \u001b[0mWARNING ⚠️ /kaggle/working/train/images/id_tejva1.jpg: ignoring corrupt image/label: Label class 22 exceeds dataset class count 18. Possible class labels are 0-17\n",
      "\u001b[34m\u001b[1mtrain: \u001b[0mWARNING ⚠️ /kaggle/working/train/images/id_tgd4uh.jpg: ignoring corrupt image/label: Label class 19 exceeds dataset class count 18. Possible class labels are 0-17\n",
      "\u001b[34m\u001b[1mtrain: \u001b[0mWARNING ⚠️ /kaggle/working/train/images/id_thhc49.jpg: ignoring corrupt image/label: Label class 22 exceeds dataset class count 18. Possible class labels are 0-17\n",
      "\u001b[34m\u001b[1mtrain: \u001b[0mWARNING ⚠️ /kaggle/working/train/images/id_tiqy52.jpg: ignoring corrupt image/label: Label class 18 exceeds dataset class count 18. Possible class labels are 0-17\n",
      "\u001b[34m\u001b[1mtrain: \u001b[0mWARNING ⚠️ /kaggle/working/train/images/id_tj5zjm.jpg: ignoring corrupt image/label: Label class 18 exceeds dataset class count 18. Possible class labels are 0-17\n",
      "\u001b[34m\u001b[1mtrain: \u001b[0mWARNING ⚠️ /kaggle/working/train/images/id_tkimdy.jpg: ignoring corrupt image/label: Label class 19 exceeds dataset class count 18. Possible class labels are 0-17\n",
      "\u001b[34m\u001b[1mtrain: \u001b[0mWARNING ⚠️ /kaggle/working/train/images/id_tkp1u7.jpg: ignoring corrupt image/label: Label class 19 exceeds dataset class count 18. Possible class labels are 0-17\n",
      "\u001b[34m\u001b[1mtrain: \u001b[0mWARNING ⚠️ /kaggle/working/train/images/id_tlt5ch.jpg: ignoring corrupt image/label: Label class 18 exceeds dataset class count 18. Possible class labels are 0-17\n",
      "\u001b[34m\u001b[1mtrain: \u001b[0mWARNING ⚠️ /kaggle/working/train/images/id_tmgu1i.jpg: ignoring corrupt image/label: Label class 18 exceeds dataset class count 18. Possible class labels are 0-17\n",
      "\u001b[34m\u001b[1mtrain: \u001b[0mWARNING ⚠️ /kaggle/working/train/images/id_tmu5xv.jpg: ignoring corrupt image/label: Label class 20 exceeds dataset class count 18. Possible class labels are 0-17\n",
      "\u001b[34m\u001b[1mtrain: \u001b[0mWARNING ⚠️ /kaggle/working/train/images/id_tnnfsa.jpg: ignoring corrupt image/label: Label class 22 exceeds dataset class count 18. Possible class labels are 0-17\n",
      "\u001b[34m\u001b[1mtrain: \u001b[0mWARNING ⚠️ /kaggle/working/train/images/id_tp86it.jpg: ignoring corrupt image/label: Label class 19 exceeds dataset class count 18. Possible class labels are 0-17\n",
      "\u001b[34m\u001b[1mtrain: \u001b[0mWARNING ⚠️ /kaggle/working/train/images/id_tpbxn2.jpg: ignoring corrupt image/label: Label class 22 exceeds dataset class count 18. Possible class labels are 0-17\n",
      "\u001b[34m\u001b[1mtrain: \u001b[0mWARNING ⚠️ /kaggle/working/train/images/id_tq2zj4.jpg: ignoring corrupt image/label: Label class 19 exceeds dataset class count 18. Possible class labels are 0-17\n",
      "\u001b[34m\u001b[1mtrain: \u001b[0mWARNING ⚠️ /kaggle/working/train/images/id_tqb5ax.jpg: ignoring corrupt image/label: Label class 22 exceeds dataset class count 18. Possible class labels are 0-17\n",
      "\u001b[34m\u001b[1mtrain: \u001b[0mWARNING ⚠️ /kaggle/working/train/images/id_tsl4ja.jpg: ignoring corrupt image/label: Label class 21 exceeds dataset class count 18. Possible class labels are 0-17\n",
      "\u001b[34m\u001b[1mtrain: \u001b[0mWARNING ⚠️ /kaggle/working/train/images/id_tuetub.jpg: ignoring corrupt image/label: Label class 19 exceeds dataset class count 18. Possible class labels are 0-17\n",
      "\u001b[34m\u001b[1mtrain: \u001b[0mWARNING ⚠️ /kaggle/working/train/images/id_tvqxfu.jpg: ignoring corrupt image/label: Label class 19 exceeds dataset class count 18. Possible class labels are 0-17\n",
      "\u001b[34m\u001b[1mtrain: \u001b[0mWARNING ⚠️ /kaggle/working/train/images/id_twf1yh.jpg: ignoring corrupt image/label: Label class 22 exceeds dataset class count 18. Possible class labels are 0-17\n",
      "\u001b[34m\u001b[1mtrain: \u001b[0mWARNING ⚠️ /kaggle/working/train/images/id_tz7twb.jpg: ignoring corrupt image/label: Label class 18 exceeds dataset class count 18. Possible class labels are 0-17\n",
      "\u001b[34m\u001b[1mtrain: \u001b[0mWARNING ⚠️ /kaggle/working/train/images/id_tzet5a.jpg: ignoring corrupt image/label: Label class 22 exceeds dataset class count 18. Possible class labels are 0-17\n",
      "\u001b[34m\u001b[1mtrain: \u001b[0mWARNING ⚠️ /kaggle/working/train/images/id_u2ta2j.jpg: ignoring corrupt image/label: Label class 19 exceeds dataset class count 18. Possible class labels are 0-17\n",
      "\u001b[34m\u001b[1mtrain: \u001b[0mWARNING ⚠️ /kaggle/working/train/images/id_u5erpo.jpg: ignoring corrupt image/label: Label class 18 exceeds dataset class count 18. Possible class labels are 0-17\n",
      "\u001b[34m\u001b[1mtrain: \u001b[0mWARNING ⚠️ /kaggle/working/train/images/id_u6bqhv.jpg: ignoring corrupt image/label: Label class 22 exceeds dataset class count 18. Possible class labels are 0-17\n",
      "\u001b[34m\u001b[1mtrain: \u001b[0mWARNING ⚠️ /kaggle/working/train/images/id_u7kznk.jpg: ignoring corrupt image/label: Label class 19 exceeds dataset class count 18. Possible class labels are 0-17\n",
      "\u001b[34m\u001b[1mtrain: \u001b[0mWARNING ⚠️ /kaggle/working/train/images/id_u97t3w.jpg: ignoring corrupt image/label: Label class 20 exceeds dataset class count 18. Possible class labels are 0-17\n",
      "\u001b[34m\u001b[1mtrain: \u001b[0mWARNING ⚠️ /kaggle/working/train/images/id_u9suoh.jpg: ignoring corrupt image/label: Label class 19 exceeds dataset class count 18. Possible class labels are 0-17\n",
      "\u001b[34m\u001b[1mtrain: \u001b[0mWARNING ⚠️ /kaggle/working/train/images/id_ucag33.jpg: ignoring corrupt image/label: Label class 18 exceeds dataset class count 18. Possible class labels are 0-17\n",
      "\u001b[34m\u001b[1mtrain: \u001b[0mWARNING ⚠️ /kaggle/working/train/images/id_uco73v.jpg: ignoring corrupt image/label: Label class 19 exceeds dataset class count 18. Possible class labels are 0-17\n",
      "\u001b[34m\u001b[1mtrain: \u001b[0mWARNING ⚠️ /kaggle/working/train/images/id_ucubwz.jpg: ignoring corrupt image/label: Label class 20 exceeds dataset class count 18. Possible class labels are 0-17\n",
      "\u001b[34m\u001b[1mtrain: \u001b[0mWARNING ⚠️ /kaggle/working/train/images/id_udk3fj.jpg: ignoring corrupt image/label: Label class 18 exceeds dataset class count 18. Possible class labels are 0-17\n",
      "\u001b[34m\u001b[1mtrain: \u001b[0mWARNING ⚠️ /kaggle/working/train/images/id_ufgij1.jpg: ignoring corrupt image/label: Label class 22 exceeds dataset class count 18. Possible class labels are 0-17\n",
      "\u001b[34m\u001b[1mtrain: \u001b[0mWARNING ⚠️ /kaggle/working/train/images/id_ufo3oi.jpg: ignoring corrupt image/label: Label class 18 exceeds dataset class count 18. Possible class labels are 0-17\n",
      "\u001b[34m\u001b[1mtrain: \u001b[0mWARNING ⚠️ /kaggle/working/train/images/id_ufte7i.jpg: ignoring corrupt image/label: Label class 18 exceeds dataset class count 18. Possible class labels are 0-17\n",
      "\u001b[34m\u001b[1mtrain: \u001b[0mWARNING ⚠️ /kaggle/working/train/images/id_ugn53p.jpg: ignoring corrupt image/label: Label class 18 exceeds dataset class count 18. Possible class labels are 0-17\n",
      "\u001b[34m\u001b[1mtrain: \u001b[0mWARNING ⚠️ /kaggle/working/train/images/id_uhtj8r.jpg: ignoring corrupt image/label: Label class 19 exceeds dataset class count 18. Possible class labels are 0-17\n",
      "\u001b[34m\u001b[1mtrain: \u001b[0mWARNING ⚠️ /kaggle/working/train/images/id_uj5r8k.jpg: ignoring corrupt image/label: Label class 22 exceeds dataset class count 18. Possible class labels are 0-17\n",
      "\u001b[34m\u001b[1mtrain: \u001b[0mWARNING ⚠️ /kaggle/working/train/images/id_uk6swt.jpg: ignoring corrupt image/label: Label class 18 exceeds dataset class count 18. Possible class labels are 0-17\n",
      "\u001b[34m\u001b[1mtrain: \u001b[0mWARNING ⚠️ /kaggle/working/train/images/id_uk99v6.jpg: ignoring corrupt image/label: Label class 19 exceeds dataset class count 18. Possible class labels are 0-17\n",
      "\u001b[34m\u001b[1mtrain: \u001b[0mWARNING ⚠️ /kaggle/working/train/images/id_uknp8b.jpg: ignoring corrupt image/label: Label class 22 exceeds dataset class count 18. Possible class labels are 0-17\n",
      "\u001b[34m\u001b[1mtrain: \u001b[0mWARNING ⚠️ /kaggle/working/train/images/id_ukrjr2.jpg: ignoring corrupt image/label: Label class 22 exceeds dataset class count 18. Possible class labels are 0-17\n",
      "\u001b[34m\u001b[1mtrain: \u001b[0mWARNING ⚠️ /kaggle/working/train/images/id_uppdqk.jpg: ignoring corrupt image/label: Label class 22 exceeds dataset class count 18. Possible class labels are 0-17\n",
      "\u001b[34m\u001b[1mtrain: \u001b[0mWARNING ⚠️ /kaggle/working/train/images/id_upr3j6.jpg: ignoring corrupt image/label: Label class 22 exceeds dataset class count 18. Possible class labels are 0-17\n",
      "\u001b[34m\u001b[1mtrain: \u001b[0mWARNING ⚠️ /kaggle/working/train/images/id_ur1lxe.jpg: ignoring corrupt image/label: Label class 19 exceeds dataset class count 18. Possible class labels are 0-17\n",
      "\u001b[34m\u001b[1mtrain: \u001b[0mWARNING ⚠️ /kaggle/working/train/images/id_uraghf.jpg: ignoring corrupt image/label: Label class 22 exceeds dataset class count 18. Possible class labels are 0-17\n",
      "\u001b[34m\u001b[1mtrain: \u001b[0mWARNING ⚠️ /kaggle/working/train/images/id_uru41j.jpg: ignoring corrupt image/label: Label class 19 exceeds dataset class count 18. Possible class labels are 0-17\n",
      "\u001b[34m\u001b[1mtrain: \u001b[0mWARNING ⚠️ /kaggle/working/train/images/id_usgdrr.jpg: ignoring corrupt image/label: Label class 19 exceeds dataset class count 18. Possible class labels are 0-17\n",
      "\u001b[34m\u001b[1mtrain: \u001b[0mWARNING ⚠️ /kaggle/working/train/images/id_uubpsq.jpg: ignoring corrupt image/label: Label class 22 exceeds dataset class count 18. Possible class labels are 0-17\n",
      "\u001b[34m\u001b[1mtrain: \u001b[0mWARNING ⚠️ /kaggle/working/train/images/id_uuqlm9.jpg: ignoring corrupt image/label: Label class 22 exceeds dataset class count 18. Possible class labels are 0-17\n",
      "\u001b[34m\u001b[1mtrain: \u001b[0mWARNING ⚠️ /kaggle/working/train/images/id_uvq6ly.jpg: ignoring corrupt image/label: Label class 19 exceeds dataset class count 18. Possible class labels are 0-17\n",
      "\u001b[34m\u001b[1mtrain: \u001b[0mWARNING ⚠️ /kaggle/working/train/images/id_uwoi5i.jpg: ignoring corrupt image/label: Label class 19 exceeds dataset class count 18. Possible class labels are 0-17\n",
      "\u001b[34m\u001b[1mtrain: \u001b[0mWARNING ⚠️ /kaggle/working/train/images/id_uyrlf5.jpg: ignoring corrupt image/label: Label class 19 exceeds dataset class count 18. Possible class labels are 0-17\n",
      "\u001b[34m\u001b[1mtrain: \u001b[0mWARNING ⚠️ /kaggle/working/train/images/id_v1omgc.jpg: ignoring corrupt image/label: Label class 22 exceeds dataset class count 18. Possible class labels are 0-17\n",
      "\u001b[34m\u001b[1mtrain: \u001b[0mWARNING ⚠️ /kaggle/working/train/images/id_v1rusc.jpg: ignoring corrupt image/label: Label class 20 exceeds dataset class count 18. Possible class labels are 0-17\n",
      "\u001b[34m\u001b[1mtrain: \u001b[0mWARNING ⚠️ /kaggle/working/train/images/id_v4bebc.jpg: ignoring corrupt image/label: Label class 22 exceeds dataset class count 18. Possible class labels are 0-17\n",
      "\u001b[34m\u001b[1mtrain: \u001b[0mWARNING ⚠️ /kaggle/working/train/images/id_v4v8v4.jpg: ignoring corrupt image/label: Label class 18 exceeds dataset class count 18. Possible class labels are 0-17\n",
      "\u001b[34m\u001b[1mtrain: \u001b[0mWARNING ⚠️ /kaggle/working/train/images/id_v56h8h.jpg: ignoring corrupt image/label: Label class 18 exceeds dataset class count 18. Possible class labels are 0-17\n",
      "\u001b[34m\u001b[1mtrain: \u001b[0mWARNING ⚠️ /kaggle/working/train/images/id_vd6zni.jpg: ignoring corrupt image/label: Label class 18 exceeds dataset class count 18. Possible class labels are 0-17\n",
      "\u001b[34m\u001b[1mtrain: \u001b[0mWARNING ⚠️ /kaggle/working/train/images/id_vel9ob.jpg: ignoring corrupt image/label: Label class 19 exceeds dataset class count 18. Possible class labels are 0-17\n",
      "\u001b[34m\u001b[1mtrain: \u001b[0mWARNING ⚠️ /kaggle/working/train/images/id_vfnqzm.jpg: ignoring corrupt image/label: Label class 19 exceeds dataset class count 18. Possible class labels are 0-17\n",
      "\u001b[34m\u001b[1mtrain: \u001b[0mWARNING ⚠️ /kaggle/working/train/images/id_vh8u8s.jpg: ignoring corrupt image/label: Label class 22 exceeds dataset class count 18. Possible class labels are 0-17\n",
      "\u001b[34m\u001b[1mtrain: \u001b[0mWARNING ⚠️ /kaggle/working/train/images/id_vhfyt3.jpg: ignoring corrupt image/label: Label class 22 exceeds dataset class count 18. Possible class labels are 0-17\n",
      "\u001b[34m\u001b[1mtrain: \u001b[0mWARNING ⚠️ /kaggle/working/train/images/id_vhpnp7.jpg: ignoring corrupt image/label: Label class 19 exceeds dataset class count 18. Possible class labels are 0-17\n",
      "\u001b[34m\u001b[1mtrain: \u001b[0mWARNING ⚠️ /kaggle/working/train/images/id_vj5tiz.jpg: ignoring corrupt image/label: Label class 22 exceeds dataset class count 18. Possible class labels are 0-17\n",
      "\u001b[34m\u001b[1mtrain: \u001b[0mWARNING ⚠️ /kaggle/working/train/images/id_vl2pfs.jpg: ignoring corrupt image/label: Label class 19 exceeds dataset class count 18. Possible class labels are 0-17\n",
      "\u001b[34m\u001b[1mtrain: \u001b[0mWARNING ⚠️ /kaggle/working/train/images/id_vl2tay.jpg: ignoring corrupt image/label: Label class 22 exceeds dataset class count 18. Possible class labels are 0-17\n",
      "\u001b[34m\u001b[1mtrain: \u001b[0mWARNING ⚠️ /kaggle/working/train/images/id_vm7be3.jpg: ignoring corrupt image/label: Label class 22 exceeds dataset class count 18. Possible class labels are 0-17\n",
      "\u001b[34m\u001b[1mtrain: \u001b[0mWARNING ⚠️ /kaggle/working/train/images/id_vm7tyc.jpg: ignoring corrupt image/label: Label class 19 exceeds dataset class count 18. Possible class labels are 0-17\n",
      "\u001b[34m\u001b[1mtrain: \u001b[0mWARNING ⚠️ /kaggle/working/train/images/id_vmk9t2.jpg: ignoring corrupt image/label: Label class 22 exceeds dataset class count 18. Possible class labels are 0-17\n",
      "\u001b[34m\u001b[1mtrain: \u001b[0mWARNING ⚠️ /kaggle/working/train/images/id_vo1gkh.jpg: ignoring corrupt image/label: Label class 22 exceeds dataset class count 18. Possible class labels are 0-17\n",
      "\u001b[34m\u001b[1mtrain: \u001b[0mWARNING ⚠️ /kaggle/working/train/images/id_vpnr9u.jpg: ignoring corrupt image/label: Label class 22 exceeds dataset class count 18. Possible class labels are 0-17\n",
      "\u001b[34m\u001b[1mtrain: \u001b[0mWARNING ⚠️ /kaggle/working/train/images/id_vqru8u.jpg: ignoring corrupt image/label: Label class 19 exceeds dataset class count 18. Possible class labels are 0-17\n",
      "\u001b[34m\u001b[1mtrain: \u001b[0mWARNING ⚠️ /kaggle/working/train/images/id_vxaj7n.jpg: ignoring corrupt image/label: Label class 21 exceeds dataset class count 18. Possible class labels are 0-17\n",
      "\u001b[34m\u001b[1mtrain: \u001b[0mWARNING ⚠️ /kaggle/working/train/images/id_vzh4pw.jpg: ignoring corrupt image/label: Label class 18 exceeds dataset class count 18. Possible class labels are 0-17\n",
      "\u001b[34m\u001b[1mtrain: \u001b[0mWARNING ⚠️ /kaggle/working/train/images/id_vzhge3.jpg: ignoring corrupt image/label: Label class 18 exceeds dataset class count 18. Possible class labels are 0-17\n",
      "\u001b[34m\u001b[1mtrain: \u001b[0mWARNING ⚠️ /kaggle/working/train/images/id_w5sx34.jpg: ignoring corrupt image/label: Label class 19 exceeds dataset class count 18. Possible class labels are 0-17\n",
      "\u001b[34m\u001b[1mtrain: \u001b[0mWARNING ⚠️ /kaggle/working/train/images/id_w8hi9a.jpg: ignoring corrupt image/label: Label class 18 exceeds dataset class count 18. Possible class labels are 0-17\n",
      "\u001b[34m\u001b[1mtrain: \u001b[0mWARNING ⚠️ /kaggle/working/train/images/id_w9d39u.jpg: ignoring corrupt image/label: Label class 18 exceeds dataset class count 18. Possible class labels are 0-17\n",
      "\u001b[34m\u001b[1mtrain: \u001b[0mWARNING ⚠️ /kaggle/working/train/images/id_wbyu25.jpg: ignoring corrupt image/label: Label class 19 exceeds dataset class count 18. Possible class labels are 0-17\n",
      "\u001b[34m\u001b[1mtrain: \u001b[0mWARNING ⚠️ /kaggle/working/train/images/id_wdbu6w.jpg: ignoring corrupt image/label: Label class 18 exceeds dataset class count 18. Possible class labels are 0-17\n",
      "\u001b[34m\u001b[1mtrain: \u001b[0mWARNING ⚠️ /kaggle/working/train/images/id_we7k1h.jpg: ignoring corrupt image/label: Label class 22 exceeds dataset class count 18. Possible class labels are 0-17\n",
      "\u001b[34m\u001b[1mtrain: \u001b[0mWARNING ⚠️ /kaggle/working/train/images/id_wett4o.jpg: ignoring corrupt image/label: Label class 22 exceeds dataset class count 18. Possible class labels are 0-17\n",
      "\u001b[34m\u001b[1mtrain: \u001b[0mWARNING ⚠️ /kaggle/working/train/images/id_wfh2h9.jpg: ignoring corrupt image/label: Label class 22 exceeds dataset class count 18. Possible class labels are 0-17\n",
      "\u001b[34m\u001b[1mtrain: \u001b[0mWARNING ⚠️ /kaggle/working/train/images/id_whmpmq.jpg: ignoring corrupt image/label: Label class 20 exceeds dataset class count 18. Possible class labels are 0-17\n",
      "\u001b[34m\u001b[1mtrain: \u001b[0mWARNING ⚠️ /kaggle/working/train/images/id_wimy3r.jpg: ignoring corrupt image/label: Label class 18 exceeds dataset class count 18. Possible class labels are 0-17\n",
      "\u001b[34m\u001b[1mtrain: \u001b[0mWARNING ⚠️ /kaggle/working/train/images/id_wkedgt.jpg: ignoring corrupt image/label: Label class 19 exceeds dataset class count 18. Possible class labels are 0-17\n",
      "\u001b[34m\u001b[1mtrain: \u001b[0mWARNING ⚠️ /kaggle/working/train/images/id_wnbg1m.jpg: ignoring corrupt image/label: Label class 18 exceeds dataset class count 18. Possible class labels are 0-17\n",
      "\u001b[34m\u001b[1mtrain: \u001b[0mWARNING ⚠️ /kaggle/working/train/images/id_wopws1.jpg: ignoring corrupt image/label: Label class 20 exceeds dataset class count 18. Possible class labels are 0-17\n",
      "\u001b[34m\u001b[1mtrain: \u001b[0mWARNING ⚠️ /kaggle/working/train/images/id_wqavrw.jpg: ignoring corrupt image/label: Label class 22 exceeds dataset class count 18. Possible class labels are 0-17\n",
      "\u001b[34m\u001b[1mtrain: \u001b[0mWARNING ⚠️ /kaggle/working/train/images/id_wrxwph.jpg: ignoring corrupt image/label: Label class 18 exceeds dataset class count 18. Possible class labels are 0-17\n",
      "\u001b[34m\u001b[1mtrain: \u001b[0mWARNING ⚠️ /kaggle/working/train/images/id_wt4fsp.jpg: ignoring corrupt image/label: Label class 18 exceeds dataset class count 18. Possible class labels are 0-17\n",
      "\u001b[34m\u001b[1mtrain: \u001b[0mWARNING ⚠️ /kaggle/working/train/images/id_wv7snt.jpg: ignoring corrupt image/label: Label class 18 exceeds dataset class count 18. Possible class labels are 0-17\n",
      "\u001b[34m\u001b[1mtrain: \u001b[0mWARNING ⚠️ /kaggle/working/train/images/id_ww99k6.jpg: ignoring corrupt image/label: Label class 18 exceeds dataset class count 18. Possible class labels are 0-17\n",
      "\u001b[34m\u001b[1mtrain: \u001b[0mWARNING ⚠️ /kaggle/working/train/images/id_wz7696.jpg: ignoring corrupt image/label: Label class 22 exceeds dataset class count 18. Possible class labels are 0-17\n",
      "\u001b[34m\u001b[1mtrain: \u001b[0mWARNING ⚠️ /kaggle/working/train/images/id_wz8o2r.jpg: ignoring corrupt image/label: Label class 19 exceeds dataset class count 18. Possible class labels are 0-17\n",
      "\u001b[34m\u001b[1mtrain: \u001b[0mWARNING ⚠️ /kaggle/working/train/images/id_wzaffa.jpg: ignoring corrupt image/label: Label class 18 exceeds dataset class count 18. Possible class labels are 0-17\n",
      "\u001b[34m\u001b[1mtrain: \u001b[0mWARNING ⚠️ /kaggle/working/train/images/id_x1viz5.jpg: ignoring corrupt image/label: Label class 19 exceeds dataset class count 18. Possible class labels are 0-17\n",
      "\u001b[34m\u001b[1mtrain: \u001b[0mWARNING ⚠️ /kaggle/working/train/images/id_x29g4o.jpg: ignoring corrupt image/label: Label class 21 exceeds dataset class count 18. Possible class labels are 0-17\n",
      "\u001b[34m\u001b[1mtrain: \u001b[0mWARNING ⚠️ /kaggle/working/train/images/id_x42hdy.jpg: ignoring corrupt image/label: Label class 19 exceeds dataset class count 18. Possible class labels are 0-17\n",
      "\u001b[34m\u001b[1mtrain: \u001b[0mWARNING ⚠️ /kaggle/working/train/images/id_x4ioky.jpg: ignoring corrupt image/label: Label class 19 exceeds dataset class count 18. Possible class labels are 0-17\n",
      "\u001b[34m\u001b[1mtrain: \u001b[0mWARNING ⚠️ /kaggle/working/train/images/id_x58xhc.jpg: ignoring corrupt image/label: Label class 18 exceeds dataset class count 18. Possible class labels are 0-17\n",
      "\u001b[34m\u001b[1mtrain: \u001b[0mWARNING ⚠️ /kaggle/working/train/images/id_x5pbw3.jpg: ignoring corrupt image/label: Label class 21 exceeds dataset class count 18. Possible class labels are 0-17\n",
      "\u001b[34m\u001b[1mtrain: \u001b[0mWARNING ⚠️ /kaggle/working/train/images/id_x6fnts.jpg: ignoring corrupt image/label: Label class 20 exceeds dataset class count 18. Possible class labels are 0-17\n",
      "\u001b[34m\u001b[1mtrain: \u001b[0mWARNING ⚠️ /kaggle/working/train/images/id_x6l8vx.jpg: ignoring corrupt image/label: Label class 22 exceeds dataset class count 18. Possible class labels are 0-17\n",
      "\u001b[34m\u001b[1mtrain: \u001b[0mWARNING ⚠️ /kaggle/working/train/images/id_x8aeuo.jpg: ignoring corrupt image/label: Label class 22 exceeds dataset class count 18. Possible class labels are 0-17\n",
      "\u001b[34m\u001b[1mtrain: \u001b[0mWARNING ⚠️ /kaggle/working/train/images/id_xbgys3.jpg: ignoring corrupt image/label: Label class 22 exceeds dataset class count 18. Possible class labels are 0-17\n",
      "\u001b[34m\u001b[1mtrain: \u001b[0mWARNING ⚠️ /kaggle/working/train/images/id_xe29ae.jpg: ignoring corrupt image/label: Label class 22 exceeds dataset class count 18. Possible class labels are 0-17\n",
      "\u001b[34m\u001b[1mtrain: \u001b[0mWARNING ⚠️ /kaggle/working/train/images/id_xfxpxv.jpg: ignoring corrupt image/label: Label class 18 exceeds dataset class count 18. Possible class labels are 0-17\n",
      "\u001b[34m\u001b[1mtrain: \u001b[0mWARNING ⚠️ /kaggle/working/train/images/id_xfyb5t.jpg: ignoring corrupt image/label: Label class 22 exceeds dataset class count 18. Possible class labels are 0-17\n",
      "\u001b[34m\u001b[1mtrain: \u001b[0mWARNING ⚠️ /kaggle/working/train/images/id_xopy32.jpg: ignoring corrupt image/label: Label class 19 exceeds dataset class count 18. Possible class labels are 0-17\n",
      "\u001b[34m\u001b[1mtrain: \u001b[0mWARNING ⚠️ /kaggle/working/train/images/id_xq3ihs.jpg: ignoring corrupt image/label: Label class 19 exceeds dataset class count 18. Possible class labels are 0-17\n",
      "\u001b[34m\u001b[1mtrain: \u001b[0mWARNING ⚠️ /kaggle/working/train/images/id_xsmzzt.jpg: ignoring corrupt image/label: Label class 20 exceeds dataset class count 18. Possible class labels are 0-17\n",
      "\u001b[34m\u001b[1mtrain: \u001b[0mWARNING ⚠️ /kaggle/working/train/images/id_xt66k1.jpg: ignoring corrupt image/label: Label class 22 exceeds dataset class count 18. Possible class labels are 0-17\n",
      "\u001b[34m\u001b[1mtrain: \u001b[0mWARNING ⚠️ /kaggle/working/train/images/id_xuco8a.jpg: ignoring corrupt image/label: Label class 19 exceeds dataset class count 18. Possible class labels are 0-17\n",
      "\u001b[34m\u001b[1mtrain: \u001b[0mWARNING ⚠️ /kaggle/working/train/images/id_xv53hj.jpg: ignoring corrupt image/label: Label class 18 exceeds dataset class count 18. Possible class labels are 0-17\n",
      "\u001b[34m\u001b[1mtrain: \u001b[0mWARNING ⚠️ /kaggle/working/train/images/id_xwprfe.jpg: ignoring corrupt image/label: Label class 19 exceeds dataset class count 18. Possible class labels are 0-17\n",
      "\u001b[34m\u001b[1mtrain: \u001b[0mWARNING ⚠️ /kaggle/working/train/images/id_xwxnv6.jpg: ignoring corrupt image/label: Label class 22 exceeds dataset class count 18. Possible class labels are 0-17\n",
      "\u001b[34m\u001b[1mtrain: \u001b[0mWARNING ⚠️ /kaggle/working/train/images/id_xxi1fv.jpg: ignoring corrupt image/label: Label class 22 exceeds dataset class count 18. Possible class labels are 0-17\n",
      "\u001b[34m\u001b[1mtrain: \u001b[0mWARNING ⚠️ /kaggle/working/train/images/id_xzgv7v.jpg: ignoring corrupt image/label: Label class 22 exceeds dataset class count 18. Possible class labels are 0-17\n",
      "\u001b[34m\u001b[1mtrain: \u001b[0mWARNING ⚠️ /kaggle/working/train/images/id_y1pv77.jpg: ignoring corrupt image/label: Label class 22 exceeds dataset class count 18. Possible class labels are 0-17\n",
      "\u001b[34m\u001b[1mtrain: \u001b[0mWARNING ⚠️ /kaggle/working/train/images/id_y2jnzq.jpg: ignoring corrupt image/label: Label class 20 exceeds dataset class count 18. Possible class labels are 0-17\n",
      "\u001b[34m\u001b[1mtrain: \u001b[0mWARNING ⚠️ /kaggle/working/train/images/id_y3poiq.jpg: ignoring corrupt image/label: Label class 20 exceeds dataset class count 18. Possible class labels are 0-17\n",
      "\u001b[34m\u001b[1mtrain: \u001b[0mWARNING ⚠️ /kaggle/working/train/images/id_y5a3j6.jpg: ignoring corrupt image/label: Label class 22 exceeds dataset class count 18. Possible class labels are 0-17\n",
      "\u001b[34m\u001b[1mtrain: \u001b[0mWARNING ⚠️ /kaggle/working/train/images/id_y5grnb.jpg: ignoring corrupt image/label: Label class 22 exceeds dataset class count 18. Possible class labels are 0-17\n",
      "\u001b[34m\u001b[1mtrain: \u001b[0mWARNING ⚠️ /kaggle/working/train/images/id_y7w9sj.jpg: ignoring corrupt image/label: Label class 22 exceeds dataset class count 18. Possible class labels are 0-17\n",
      "\u001b[34m\u001b[1mtrain: \u001b[0mWARNING ⚠️ /kaggle/working/train/images/id_y9sd4v.jpg: ignoring corrupt image/label: Label class 22 exceeds dataset class count 18. Possible class labels are 0-17\n",
      "\u001b[34m\u001b[1mtrain: \u001b[0mWARNING ⚠️ /kaggle/working/train/images/id_ybuow2.jpg: ignoring corrupt image/label: Label class 19 exceeds dataset class count 18. Possible class labels are 0-17\n",
      "\u001b[34m\u001b[1mtrain: \u001b[0mWARNING ⚠️ /kaggle/working/train/images/id_ye7cg1.jpg: ignoring corrupt image/label: Label class 19 exceeds dataset class count 18. Possible class labels are 0-17\n",
      "\u001b[34m\u001b[1mtrain: \u001b[0mWARNING ⚠️ /kaggle/working/train/images/id_yeilzs.jpg: ignoring corrupt image/label: Label class 19 exceeds dataset class count 18. Possible class labels are 0-17\n",
      "\u001b[34m\u001b[1mtrain: \u001b[0mWARNING ⚠️ /kaggle/working/train/images/id_yf74sd.jpg: ignoring corrupt image/label: Label class 18 exceeds dataset class count 18. Possible class labels are 0-17\n",
      "\u001b[34m\u001b[1mtrain: \u001b[0mWARNING ⚠️ /kaggle/working/train/images/id_ygb9ht.jpg: ignoring corrupt image/label: Label class 22 exceeds dataset class count 18. Possible class labels are 0-17\n",
      "\u001b[34m\u001b[1mtrain: \u001b[0mWARNING ⚠️ /kaggle/working/train/images/id_ygrqtn.jpg: ignoring corrupt image/label: Label class 18 exceeds dataset class count 18. Possible class labels are 0-17\n",
      "\u001b[34m\u001b[1mtrain: \u001b[0mWARNING ⚠️ /kaggle/working/train/images/id_yicp45.jpg: ignoring corrupt image/label: Label class 22 exceeds dataset class count 18. Possible class labels are 0-17\n",
      "\u001b[34m\u001b[1mtrain: \u001b[0mWARNING ⚠️ /kaggle/working/train/images/id_yjtqy1.jpg: ignoring corrupt image/label: Label class 22 exceeds dataset class count 18. Possible class labels are 0-17\n",
      "\u001b[34m\u001b[1mtrain: \u001b[0mWARNING ⚠️ /kaggle/working/train/images/id_ykmj2l.jpg: ignoring corrupt image/label: Label class 22 exceeds dataset class count 18. Possible class labels are 0-17\n",
      "\u001b[34m\u001b[1mtrain: \u001b[0mWARNING ⚠️ /kaggle/working/train/images/id_yl1h4f.jpg: ignoring corrupt image/label: Label class 22 exceeds dataset class count 18. Possible class labels are 0-17\n",
      "\u001b[34m\u001b[1mtrain: \u001b[0mWARNING ⚠️ /kaggle/working/train/images/id_yl7jni.jpg: ignoring corrupt image/label: Label class 19 exceeds dataset class count 18. Possible class labels are 0-17\n",
      "\u001b[34m\u001b[1mtrain: \u001b[0mWARNING ⚠️ /kaggle/working/train/images/id_ym6pab.jpg: ignoring corrupt image/label: Label class 18 exceeds dataset class count 18. Possible class labels are 0-17\n",
      "\u001b[34m\u001b[1mtrain: \u001b[0mWARNING ⚠️ /kaggle/working/train/images/id_ymq69e.jpg: ignoring corrupt image/label: Label class 19 exceeds dataset class count 18. Possible class labels are 0-17\n",
      "\u001b[34m\u001b[1mtrain: \u001b[0mWARNING ⚠️ /kaggle/working/train/images/id_yoyjoa.jpg: ignoring corrupt image/label: Label class 18 exceeds dataset class count 18. Possible class labels are 0-17\n",
      "\u001b[34m\u001b[1mtrain: \u001b[0mWARNING ⚠️ /kaggle/working/train/images/id_yq9avs.jpg: ignoring corrupt image/label: Label class 22 exceeds dataset class count 18. Possible class labels are 0-17\n",
      "\u001b[34m\u001b[1mtrain: \u001b[0mWARNING ⚠️ /kaggle/working/train/images/id_ysdndd.jpg: ignoring corrupt image/label: Label class 19 exceeds dataset class count 18. Possible class labels are 0-17\n",
      "\u001b[34m\u001b[1mtrain: \u001b[0mWARNING ⚠️ /kaggle/working/train/images/id_yssbcu.jpg: ignoring corrupt image/label: Label class 19 exceeds dataset class count 18. Possible class labels are 0-17\n",
      "\u001b[34m\u001b[1mtrain: \u001b[0mWARNING ⚠️ /kaggle/working/train/images/id_yvbi4o.jpg: ignoring corrupt image/label: Label class 19 exceeds dataset class count 18. Possible class labels are 0-17\n",
      "\u001b[34m\u001b[1mtrain: \u001b[0mWARNING ⚠️ /kaggle/working/train/images/id_yxdkwg.jpg: ignoring corrupt image/label: Label class 22 exceeds dataset class count 18. Possible class labels are 0-17\n",
      "\u001b[34m\u001b[1mtrain: \u001b[0mWARNING ⚠️ /kaggle/working/train/images/id_yxke9l.jpg: ignoring corrupt image/label: Label class 22 exceeds dataset class count 18. Possible class labels are 0-17\n",
      "\u001b[34m\u001b[1mtrain: \u001b[0mWARNING ⚠️ /kaggle/working/train/images/id_yyrrnc.jpg: ignoring corrupt image/label: Label class 18 exceeds dataset class count 18. Possible class labels are 0-17\n",
      "\u001b[34m\u001b[1mtrain: \u001b[0mWARNING ⚠️ /kaggle/working/train/images/id_yzbspr.jpg: ignoring corrupt image/label: Label class 22 exceeds dataset class count 18. Possible class labels are 0-17\n",
      "\u001b[34m\u001b[1mtrain: \u001b[0mWARNING ⚠️ /kaggle/working/train/images/id_yzkrub.jpg: ignoring corrupt image/label: Label class 20 exceeds dataset class count 18. Possible class labels are 0-17\n",
      "\u001b[34m\u001b[1mtrain: \u001b[0mWARNING ⚠️ /kaggle/working/train/images/id_z3e3y5.jpg: ignoring corrupt image/label: Label class 22 exceeds dataset class count 18. Possible class labels are 0-17\n",
      "\u001b[34m\u001b[1mtrain: \u001b[0mWARNING ⚠️ /kaggle/working/train/images/id_z4859f.jpg: ignoring corrupt image/label: Label class 18 exceeds dataset class count 18. Possible class labels are 0-17\n",
      "\u001b[34m\u001b[1mtrain: \u001b[0mWARNING ⚠️ /kaggle/working/train/images/id_z5blbr.jpg: ignoring corrupt image/label: Label class 22 exceeds dataset class count 18. Possible class labels are 0-17\n",
      "\u001b[34m\u001b[1mtrain: \u001b[0mWARNING ⚠️ /kaggle/working/train/images/id_z5is61.jpg: ignoring corrupt image/label: Label class 18 exceeds dataset class count 18. Possible class labels are 0-17\n",
      "\u001b[34m\u001b[1mtrain: \u001b[0mWARNING ⚠️ /kaggle/working/train/images/id_z6plka.jpg: ignoring corrupt image/label: Label class 19 exceeds dataset class count 18. Possible class labels are 0-17\n",
      "\u001b[34m\u001b[1mtrain: \u001b[0mWARNING ⚠️ /kaggle/working/train/images/id_z86o57.jpg: ignoring corrupt image/label: Label class 22 exceeds dataset class count 18. Possible class labels are 0-17\n",
      "\u001b[34m\u001b[1mtrain: \u001b[0mWARNING ⚠️ /kaggle/working/train/images/id_z9aact.jpg: ignoring corrupt image/label: Label class 22 exceeds dataset class count 18. Possible class labels are 0-17\n",
      "\u001b[34m\u001b[1mtrain: \u001b[0mWARNING ⚠️ /kaggle/working/train/images/id_zaitjd.jpg: ignoring corrupt image/label: Label class 22 exceeds dataset class count 18. Possible class labels are 0-17\n",
      "\u001b[34m\u001b[1mtrain: \u001b[0mWARNING ⚠️ /kaggle/working/train/images/id_zd95ks.jpg: ignoring corrupt image/label: Label class 22 exceeds dataset class count 18. Possible class labels are 0-17\n",
      "\u001b[34m\u001b[1mtrain: \u001b[0mWARNING ⚠️ /kaggle/working/train/images/id_ze92ln.jpg: ignoring corrupt image/label: Label class 22 exceeds dataset class count 18. Possible class labels are 0-17\n",
      "\u001b[34m\u001b[1mtrain: \u001b[0mWARNING ⚠️ /kaggle/working/train/images/id_zfab6x.jpg: ignoring corrupt image/label: Label class 18 exceeds dataset class count 18. Possible class labels are 0-17\n",
      "\u001b[34m\u001b[1mtrain: \u001b[0mWARNING ⚠️ /kaggle/working/train/images/id_zhsgw1.jpg: ignoring corrupt image/label: Label class 19 exceeds dataset class count 18. Possible class labels are 0-17\n",
      "\u001b[34m\u001b[1mtrain: \u001b[0mWARNING ⚠️ /kaggle/working/train/images/id_zjgtyu.jpg: ignoring corrupt image/label: Label class 18 exceeds dataset class count 18. Possible class labels are 0-17\n",
      "\u001b[34m\u001b[1mtrain: \u001b[0mWARNING ⚠️ /kaggle/working/train/images/id_zmn2xt.jpg: ignoring corrupt image/label: Label class 19 exceeds dataset class count 18. Possible class labels are 0-17\n",
      "\u001b[34m\u001b[1mtrain: \u001b[0mWARNING ⚠️ /kaggle/working/train/images/id_zp35za.jpg: ignoring corrupt image/label: Label class 22 exceeds dataset class count 18. Possible class labels are 0-17\n",
      "\u001b[34m\u001b[1mtrain: \u001b[0mWARNING ⚠️ /kaggle/working/train/images/id_zsqarj.jpg: ignoring corrupt image/label: Label class 22 exceeds dataset class count 18. Possible class labels are 0-17\n",
      "\u001b[34m\u001b[1mtrain: \u001b[0mWARNING ⚠️ /kaggle/working/train/images/id_zts65r.jpg: ignoring corrupt image/label: Label class 22 exceeds dataset class count 18. Possible class labels are 0-17\n",
      "\u001b[34m\u001b[1mtrain: \u001b[0mWARNING ⚠️ /kaggle/working/train/images/id_zuc5is.jpg: ignoring corrupt image/label: Label class 18 exceeds dataset class count 18. Possible class labels are 0-17\n",
      "\u001b[34m\u001b[1mtrain: \u001b[0mWARNING ⚠️ /kaggle/working/train/images/id_zyibxl.jpg: ignoring corrupt image/label: Label class 21 exceeds dataset class count 18. Possible class labels are 0-17\n",
      "\u001b[34m\u001b[1mtrain: \u001b[0mWARNING ⚠️ /kaggle/working/train/images/id_zysbnj.jpg: ignoring corrupt image/label: Label class 19 exceeds dataset class count 18. Possible class labels are 0-17\n",
      "\u001b[34m\u001b[1malbumentations: \u001b[0mBlur(p=0.01, blur_limit=(3, 7)), MedianBlur(p=0.01, blur_limit=(3, 7)), ToGray(p=0.01, num_output_channels=3, method='weighted_average'), CLAHE(p=0.01, clip_limit=(1.0, 4.0), tile_grid_size=(8, 8))\n"
     ]
    },
    {
     "name": "stderr",
     "output_type": "stream",
     "text": [
      "\n",
      "\u001b[34m\u001b[1mval: \u001b[0mScanning /kaggle/working/valid/labels.cache... 698 images, 0 backgrounds, 176 corrupt: 100%|██████████| 698/698 [00:00<?, ?it/s]"
     ]
    },
    {
     "name": "stdout",
     "output_type": "stream",
     "text": [
      "\u001b[34m\u001b[1mval: \u001b[0mWARNING ⚠️ /kaggle/working/valid/images/id_1gfauc.jpg: ignoring corrupt image/label: Label class 22 exceeds dataset class count 18. Possible class labels are 0-17\n",
      "\u001b[34m\u001b[1mval: \u001b[0mWARNING ⚠️ /kaggle/working/valid/images/id_1r3rzf.jpg: ignoring corrupt image/label: Label class 18 exceeds dataset class count 18. Possible class labels are 0-17\n",
      "\u001b[34m\u001b[1mval: \u001b[0mWARNING ⚠️ /kaggle/working/valid/images/id_1vu85a.jpg: ignoring corrupt image/label: Label class 18 exceeds dataset class count 18. Possible class labels are 0-17\n",
      "\u001b[34m\u001b[1mval: \u001b[0mWARNING ⚠️ /kaggle/working/valid/images/id_23kin4.jpg: ignoring corrupt image/label: Label class 18 exceeds dataset class count 18. Possible class labels are 0-17\n",
      "\u001b[34m\u001b[1mval: \u001b[0mWARNING ⚠️ /kaggle/working/valid/images/id_2qbotq.jpg: ignoring corrupt image/label: Label class 19 exceeds dataset class count 18. Possible class labels are 0-17\n",
      "\u001b[34m\u001b[1mval: \u001b[0mWARNING ⚠️ /kaggle/working/valid/images/id_3c5tff.jpg: ignoring corrupt image/label: Label class 22 exceeds dataset class count 18. Possible class labels are 0-17\n",
      "\u001b[34m\u001b[1mval: \u001b[0mWARNING ⚠️ /kaggle/working/valid/images/id_3h9xal.jpg: ignoring corrupt image/label: Label class 18 exceeds dataset class count 18. Possible class labels are 0-17\n",
      "\u001b[34m\u001b[1mval: \u001b[0mWARNING ⚠️ /kaggle/working/valid/images/id_3lby1s.jpg: ignoring corrupt image/label: Label class 22 exceeds dataset class count 18. Possible class labels are 0-17\n",
      "\u001b[34m\u001b[1mval: \u001b[0mWARNING ⚠️ /kaggle/working/valid/images/id_4glxan.jpg: ignoring corrupt image/label: Label class 18 exceeds dataset class count 18. Possible class labels are 0-17\n",
      "\u001b[34m\u001b[1mval: \u001b[0mWARNING ⚠️ /kaggle/working/valid/images/id_4gono2.jpg: ignoring corrupt image/label: Label class 22 exceeds dataset class count 18. Possible class labels are 0-17\n",
      "\u001b[34m\u001b[1mval: \u001b[0mWARNING ⚠️ /kaggle/working/valid/images/id_4ixmnm.jpg: ignoring corrupt image/label: Label class 18 exceeds dataset class count 18. Possible class labels are 0-17\n",
      "\u001b[34m\u001b[1mval: \u001b[0mWARNING ⚠️ /kaggle/working/valid/images/id_4ju7c8.jpg: ignoring corrupt image/label: Label class 19 exceeds dataset class count 18. Possible class labels are 0-17\n",
      "\u001b[34m\u001b[1mval: \u001b[0mWARNING ⚠️ /kaggle/working/valid/images/id_4kz361.jpg: ignoring corrupt image/label: Label class 19 exceeds dataset class count 18. Possible class labels are 0-17\n",
      "\u001b[34m\u001b[1mval: \u001b[0mWARNING ⚠️ /kaggle/working/valid/images/id_4lnkcj.jpg: ignoring corrupt image/label: Label class 19 exceeds dataset class count 18. Possible class labels are 0-17\n",
      "\u001b[34m\u001b[1mval: \u001b[0mWARNING ⚠️ /kaggle/working/valid/images/id_4qie9o.jpg: ignoring corrupt image/label: Label class 19 exceeds dataset class count 18. Possible class labels are 0-17\n",
      "\u001b[34m\u001b[1mval: \u001b[0mWARNING ⚠️ /kaggle/working/valid/images/id_4vztwv.jpg: ignoring corrupt image/label: Label class 19 exceeds dataset class count 18. Possible class labels are 0-17\n",
      "\u001b[34m\u001b[1mval: \u001b[0mWARNING ⚠️ /kaggle/working/valid/images/id_541pe2.jpg: ignoring corrupt image/label: Label class 18 exceeds dataset class count 18. Possible class labels are 0-17\n",
      "\u001b[34m\u001b[1mval: \u001b[0mWARNING ⚠️ /kaggle/working/valid/images/id_57oj5e.jpg: ignoring corrupt image/label: Label class 18 exceeds dataset class count 18. Possible class labels are 0-17\n",
      "\u001b[34m\u001b[1mval: \u001b[0mWARNING ⚠️ /kaggle/working/valid/images/id_5wq5ew.jpg: ignoring corrupt image/label: Label class 19 exceeds dataset class count 18. Possible class labels are 0-17\n",
      "\u001b[34m\u001b[1mval: \u001b[0mWARNING ⚠️ /kaggle/working/valid/images/id_633t7p.jpg: ignoring corrupt image/label: Label class 22 exceeds dataset class count 18. Possible class labels are 0-17\n",
      "\u001b[34m\u001b[1mval: \u001b[0mWARNING ⚠️ /kaggle/working/valid/images/id_64ue6p.jpg: ignoring corrupt image/label: Label class 22 exceeds dataset class count 18. Possible class labels are 0-17\n",
      "\u001b[34m\u001b[1mval: \u001b[0mWARNING ⚠️ /kaggle/working/valid/images/id_681jzk.jpg: ignoring corrupt image/label: Label class 19 exceeds dataset class count 18. Possible class labels are 0-17\n",
      "\u001b[34m\u001b[1mval: \u001b[0mWARNING ⚠️ /kaggle/working/valid/images/id_6fqzl6.jpg: ignoring corrupt image/label: Label class 18 exceeds dataset class count 18. Possible class labels are 0-17\n",
      "\u001b[34m\u001b[1mval: \u001b[0mWARNING ⚠️ /kaggle/working/valid/images/id_6ftfzm.jpg: ignoring corrupt image/label: Label class 22 exceeds dataset class count 18. Possible class labels are 0-17\n",
      "\u001b[34m\u001b[1mval: \u001b[0mWARNING ⚠️ /kaggle/working/valid/images/id_6sd21d.jpg: ignoring corrupt image/label: Label class 18 exceeds dataset class count 18. Possible class labels are 0-17\n",
      "\u001b[34m\u001b[1mval: \u001b[0mWARNING ⚠️ /kaggle/working/valid/images/id_6ud4p7.jpg: ignoring corrupt image/label: Label class 22 exceeds dataset class count 18. Possible class labels are 0-17\n",
      "\u001b[34m\u001b[1mval: \u001b[0mWARNING ⚠️ /kaggle/working/valid/images/id_7anaxc.jpg: ignoring corrupt image/label: Label class 18 exceeds dataset class count 18. Possible class labels are 0-17\n",
      "\u001b[34m\u001b[1mval: \u001b[0mWARNING ⚠️ /kaggle/working/valid/images/id_7fgfqt.jpg: ignoring corrupt image/label: Label class 18 exceeds dataset class count 18. Possible class labels are 0-17\n",
      "\u001b[34m\u001b[1mval: \u001b[0mWARNING ⚠️ /kaggle/working/valid/images/id_7kpihx.jpg: ignoring corrupt image/label: Label class 20 exceeds dataset class count 18. Possible class labels are 0-17\n",
      "\u001b[34m\u001b[1mval: \u001b[0mWARNING ⚠️ /kaggle/working/valid/images/id_7lgrvp.jpg: ignoring corrupt image/label: Label class 19 exceeds dataset class count 18. Possible class labels are 0-17\n",
      "\u001b[34m\u001b[1mval: \u001b[0mWARNING ⚠️ /kaggle/working/valid/images/id_8oo9vl.jpg: ignoring corrupt image/label: Label class 18 exceeds dataset class count 18. Possible class labels are 0-17\n",
      "\u001b[34m\u001b[1mval: \u001b[0mWARNING ⚠️ /kaggle/working/valid/images/id_8vrn9b.jpg: ignoring corrupt image/label: Label class 22 exceeds dataset class count 18. Possible class labels are 0-17\n",
      "\u001b[34m\u001b[1mval: \u001b[0mWARNING ⚠️ /kaggle/working/valid/images/id_9ne8iv.jpg: ignoring corrupt image/label: Label class 18 exceeds dataset class count 18. Possible class labels are 0-17\n",
      "\u001b[34m\u001b[1mval: \u001b[0mWARNING ⚠️ /kaggle/working/valid/images/id_9ulkff.jpg: ignoring corrupt image/label: Label class 18 exceeds dataset class count 18. Possible class labels are 0-17\n",
      "\u001b[34m\u001b[1mval: \u001b[0mWARNING ⚠️ /kaggle/working/valid/images/id_9xz995.jpg: ignoring corrupt image/label: Label class 18 exceeds dataset class count 18. Possible class labels are 0-17\n",
      "\u001b[34m\u001b[1mval: \u001b[0mWARNING ⚠️ /kaggle/working/valid/images/id_ac22tt.jpg: ignoring corrupt image/label: Label class 22 exceeds dataset class count 18. Possible class labels are 0-17\n",
      "\u001b[34m\u001b[1mval: \u001b[0mWARNING ⚠️ /kaggle/working/valid/images/id_ae896z.jpg: ignoring corrupt image/label: Label class 19 exceeds dataset class count 18. Possible class labels are 0-17\n",
      "\u001b[34m\u001b[1mval: \u001b[0mWARNING ⚠️ /kaggle/working/valid/images/id_ag639u.jpg: ignoring corrupt image/label: Label class 21 exceeds dataset class count 18. Possible class labels are 0-17\n",
      "\u001b[34m\u001b[1mval: \u001b[0mWARNING ⚠️ /kaggle/working/valid/images/id_ahld35.jpg: ignoring corrupt image/label: Label class 22 exceeds dataset class count 18. Possible class labels are 0-17\n",
      "\u001b[34m\u001b[1mval: \u001b[0mWARNING ⚠️ /kaggle/working/valid/images/id_ai5v8s.jpg: ignoring corrupt image/label: Label class 22 exceeds dataset class count 18. Possible class labels are 0-17\n",
      "\u001b[34m\u001b[1mval: \u001b[0mWARNING ⚠️ /kaggle/working/valid/images/id_ajzraz.jpg: ignoring corrupt image/label: Label class 22 exceeds dataset class count 18. Possible class labels are 0-17\n",
      "\u001b[34m\u001b[1mval: \u001b[0mWARNING ⚠️ /kaggle/working/valid/images/id_anek6l.jpg: ignoring corrupt image/label: Label class 19 exceeds dataset class count 18. Possible class labels are 0-17\n",
      "\u001b[34m\u001b[1mval: \u001b[0mWARNING ⚠️ /kaggle/working/valid/images/id_bp6rya.jpg: ignoring corrupt image/label: Label class 22 exceeds dataset class count 18. Possible class labels are 0-17\n",
      "\u001b[34m\u001b[1mval: \u001b[0mWARNING ⚠️ /kaggle/working/valid/images/id_bves57.jpg: ignoring corrupt image/label: Label class 18 exceeds dataset class count 18. Possible class labels are 0-17\n",
      "\u001b[34m\u001b[1mval: \u001b[0mWARNING ⚠️ /kaggle/working/valid/images/id_bvu21n.jpg: ignoring corrupt image/label: Label class 19 exceeds dataset class count 18. Possible class labels are 0-17\n",
      "\u001b[34m\u001b[1mval: \u001b[0mWARNING ⚠️ /kaggle/working/valid/images/id_bxexp9.jpg: ignoring corrupt image/label: Label class 22 exceeds dataset class count 18. Possible class labels are 0-17\n",
      "\u001b[34m\u001b[1mval: \u001b[0mWARNING ⚠️ /kaggle/working/valid/images/id_ca4gcy.jpg: ignoring corrupt image/label: Label class 22 exceeds dataset class count 18. Possible class labels are 0-17\n",
      "\u001b[34m\u001b[1mval: \u001b[0mWARNING ⚠️ /kaggle/working/valid/images/id_cgbrko.jpg: ignoring corrupt image/label: Label class 20 exceeds dataset class count 18. Possible class labels are 0-17\n",
      "\u001b[34m\u001b[1mval: \u001b[0mWARNING ⚠️ /kaggle/working/valid/images/id_cmjy3h.jpg: ignoring corrupt image/label: Label class 22 exceeds dataset class count 18. Possible class labels are 0-17\n",
      "\u001b[34m\u001b[1mval: \u001b[0mWARNING ⚠️ /kaggle/working/valid/images/id_cnx9lz.jpg: ignoring corrupt image/label: Label class 22 exceeds dataset class count 18. Possible class labels are 0-17\n",
      "\u001b[34m\u001b[1mval: \u001b[0mWARNING ⚠️ /kaggle/working/valid/images/id_d5u1c7.jpg: ignoring corrupt image/label: Label class 18 exceeds dataset class count 18. Possible class labels are 0-17\n",
      "\u001b[34m\u001b[1mval: \u001b[0mWARNING ⚠️ /kaggle/working/valid/images/id_d8seit.jpg: ignoring corrupt image/label: Label class 19 exceeds dataset class count 18. Possible class labels are 0-17\n",
      "\u001b[34m\u001b[1mval: \u001b[0mWARNING ⚠️ /kaggle/working/valid/images/id_dahaog.jpg: ignoring corrupt image/label: Label class 22 exceeds dataset class count 18. Possible class labels are 0-17\n",
      "\u001b[34m\u001b[1mval: \u001b[0mWARNING ⚠️ /kaggle/working/valid/images/id_dhb15p.jpg: ignoring corrupt image/label: Label class 19 exceeds dataset class count 18. Possible class labels are 0-17\n",
      "\u001b[34m\u001b[1mval: \u001b[0mWARNING ⚠️ /kaggle/working/valid/images/id_dphhg5.jpg: ignoring corrupt image/label: Label class 19 exceeds dataset class count 18. Possible class labels are 0-17\n",
      "\u001b[34m\u001b[1mval: \u001b[0mWARNING ⚠️ /kaggle/working/valid/images/id_drem16.jpg: ignoring corrupt image/label: Label class 22 exceeds dataset class count 18. Possible class labels are 0-17\n",
      "\u001b[34m\u001b[1mval: \u001b[0mWARNING ⚠️ /kaggle/working/valid/images/id_dv983x.jpg: ignoring corrupt image/label: Label class 22 exceeds dataset class count 18. Possible class labels are 0-17\n",
      "\u001b[34m\u001b[1mval: \u001b[0mWARNING ⚠️ /kaggle/working/valid/images/id_e3zqle.jpg: ignoring corrupt image/label: Label class 19 exceeds dataset class count 18. Possible class labels are 0-17\n",
      "\u001b[34m\u001b[1mval: \u001b[0mWARNING ⚠️ /kaggle/working/valid/images/id_e528y4.jpg: ignoring corrupt image/label: Label class 19 exceeds dataset class count 18. Possible class labels are 0-17\n",
      "\u001b[34m\u001b[1mval: \u001b[0mWARNING ⚠️ /kaggle/working/valid/images/id_epx4lf.jpg: ignoring corrupt image/label: Label class 18 exceeds dataset class count 18. Possible class labels are 0-17\n",
      "\u001b[34m\u001b[1mval: \u001b[0mWARNING ⚠️ /kaggle/working/valid/images/id_ewm4cf.jpg: ignoring corrupt image/label: Label class 22 exceeds dataset class count 18. Possible class labels are 0-17\n",
      "\u001b[34m\u001b[1mval: \u001b[0mWARNING ⚠️ /kaggle/working/valid/images/id_ex7e3b.jpg: ignoring corrupt image/label: Label class 22 exceeds dataset class count 18. Possible class labels are 0-17\n",
      "\u001b[34m\u001b[1mval: \u001b[0mWARNING ⚠️ /kaggle/working/valid/images/id_f1vj9n.jpg: ignoring corrupt image/label: Label class 22 exceeds dataset class count 18. Possible class labels are 0-17\n",
      "\u001b[34m\u001b[1mval: \u001b[0mWARNING ⚠️ /kaggle/working/valid/images/id_f7bmak.jpg: ignoring corrupt image/label: Label class 19 exceeds dataset class count 18. Possible class labels are 0-17\n",
      "\u001b[34m\u001b[1mval: \u001b[0mWARNING ⚠️ /kaggle/working/valid/images/id_fhc38w.jpg: ignoring corrupt image/label: Label class 18 exceeds dataset class count 18. Possible class labels are 0-17\n",
      "\u001b[34m\u001b[1mval: \u001b[0mWARNING ⚠️ /kaggle/working/valid/images/id_fp15vl.jpg: ignoring corrupt image/label: Label class 19 exceeds dataset class count 18. Possible class labels are 0-17\n",
      "\u001b[34m\u001b[1mval: \u001b[0mWARNING ⚠️ /kaggle/working/valid/images/id_fvn6iq.jpg: ignoring corrupt image/label: Label class 22 exceeds dataset class count 18. Possible class labels are 0-17\n",
      "\u001b[34m\u001b[1mval: \u001b[0mWARNING ⚠️ /kaggle/working/valid/images/id_g2iuhe.jpg: ignoring corrupt image/label: Label class 19 exceeds dataset class count 18. Possible class labels are 0-17\n",
      "\u001b[34m\u001b[1mval: \u001b[0mWARNING ⚠️ /kaggle/working/valid/images/id_gdro8d.jpg: ignoring corrupt image/label: Label class 22 exceeds dataset class count 18. Possible class labels are 0-17\n",
      "\u001b[34m\u001b[1mval: \u001b[0mWARNING ⚠️ /kaggle/working/valid/images/id_gl5vkc.jpg: ignoring corrupt image/label: Label class 22 exceeds dataset class count 18. Possible class labels are 0-17\n",
      "\u001b[34m\u001b[1mval: \u001b[0mWARNING ⚠️ /kaggle/working/valid/images/id_gsbv8k.jpg: ignoring corrupt image/label: Label class 22 exceeds dataset class count 18. Possible class labels are 0-17\n",
      "\u001b[34m\u001b[1mval: \u001b[0mWARNING ⚠️ /kaggle/working/valid/images/id_gziysq.jpg: ignoring corrupt image/label: Label class 19 exceeds dataset class count 18. Possible class labels are 0-17\n",
      "\u001b[34m\u001b[1mval: \u001b[0mWARNING ⚠️ /kaggle/working/valid/images/id_h5wz3t.jpg: ignoring corrupt image/label: Label class 22 exceeds dataset class count 18. Possible class labels are 0-17\n",
      "\u001b[34m\u001b[1mval: \u001b[0mWARNING ⚠️ /kaggle/working/valid/images/id_heej7u.jpg: ignoring corrupt image/label: Label class 22 exceeds dataset class count 18. Possible class labels are 0-17\n",
      "\u001b[34m\u001b[1mval: \u001b[0mWARNING ⚠️ /kaggle/working/valid/images/id_hod6ft.jpg: ignoring corrupt image/label: Label class 19 exceeds dataset class count 18. Possible class labels are 0-17\n",
      "\u001b[34m\u001b[1mval: \u001b[0mWARNING ⚠️ /kaggle/working/valid/images/id_hpacs7.jpg: ignoring corrupt image/label: Label class 18 exceeds dataset class count 18. Possible class labels are 0-17\n",
      "\u001b[34m\u001b[1mval: \u001b[0mWARNING ⚠️ /kaggle/working/valid/images/id_hr9j3c.jpg: ignoring corrupt image/label: Label class 22 exceeds dataset class count 18. Possible class labels are 0-17\n",
      "\u001b[34m\u001b[1mval: \u001b[0mWARNING ⚠️ /kaggle/working/valid/images/id_hxx2gv.jpg: ignoring corrupt image/label: Label class 19 exceeds dataset class count 18. Possible class labels are 0-17\n",
      "\u001b[34m\u001b[1mval: \u001b[0mWARNING ⚠️ /kaggle/working/valid/images/id_i5ifiy.jpg: ignoring corrupt image/label: Label class 22 exceeds dataset class count 18. Possible class labels are 0-17\n",
      "\u001b[34m\u001b[1mval: \u001b[0mWARNING ⚠️ /kaggle/working/valid/images/id_irtmmu.jpg: ignoring corrupt image/label: Label class 18 exceeds dataset class count 18. Possible class labels are 0-17\n",
      "\u001b[34m\u001b[1mval: \u001b[0mWARNING ⚠️ /kaggle/working/valid/images/id_j1n3za.jpg: ignoring corrupt image/label: Label class 22 exceeds dataset class count 18. Possible class labels are 0-17\n",
      "\u001b[34m\u001b[1mval: \u001b[0mWARNING ⚠️ /kaggle/working/valid/images/id_jlclih.jpg: ignoring corrupt image/label: Label class 19 exceeds dataset class count 18. Possible class labels are 0-17\n",
      "\u001b[34m\u001b[1mval: \u001b[0mWARNING ⚠️ /kaggle/working/valid/images/id_jmznat.jpg: ignoring corrupt image/label: Label class 18 exceeds dataset class count 18. Possible class labels are 0-17\n",
      "\u001b[34m\u001b[1mval: \u001b[0mWARNING ⚠️ /kaggle/working/valid/images/id_jngm46.jpg: ignoring corrupt image/label: Label class 19 exceeds dataset class count 18. Possible class labels are 0-17\n",
      "\u001b[34m\u001b[1mval: \u001b[0mWARNING ⚠️ /kaggle/working/valid/images/id_jrsoyi.jpg: ignoring corrupt image/label: Label class 18 exceeds dataset class count 18. Possible class labels are 0-17\n",
      "\u001b[34m\u001b[1mval: \u001b[0mWARNING ⚠️ /kaggle/working/valid/images/id_jtnbco.jpg: ignoring corrupt image/label: Label class 18 exceeds dataset class count 18. Possible class labels are 0-17\n",
      "\u001b[34m\u001b[1mval: \u001b[0mWARNING ⚠️ /kaggle/working/valid/images/id_k4ikfk.jpg: ignoring corrupt image/label: Label class 19 exceeds dataset class count 18. Possible class labels are 0-17\n",
      "\u001b[34m\u001b[1mval: \u001b[0mWARNING ⚠️ /kaggle/working/valid/images/id_k9xbhu.jpg: ignoring corrupt image/label: Label class 19 exceeds dataset class count 18. Possible class labels are 0-17\n",
      "\u001b[34m\u001b[1mval: \u001b[0mWARNING ⚠️ /kaggle/working/valid/images/id_kak3u9.jpg: ignoring corrupt image/label: Label class 18 exceeds dataset class count 18. Possible class labels are 0-17\n",
      "\u001b[34m\u001b[1mval: \u001b[0mWARNING ⚠️ /kaggle/working/valid/images/id_khsl7m.jpg: ignoring corrupt image/label: Label class 18 exceeds dataset class count 18. Possible class labels are 0-17\n",
      "\u001b[34m\u001b[1mval: \u001b[0mWARNING ⚠️ /kaggle/working/valid/images/id_ktbajs.jpg: ignoring corrupt image/label: Label class 22 exceeds dataset class count 18. Possible class labels are 0-17\n",
      "\u001b[34m\u001b[1mval: \u001b[0mWARNING ⚠️ /kaggle/working/valid/images/id_ktrtvm.jpg: ignoring corrupt image/label: Label class 19 exceeds dataset class count 18. Possible class labels are 0-17\n",
      "\u001b[34m\u001b[1mval: \u001b[0mWARNING ⚠️ /kaggle/working/valid/images/id_kyfoun.jpg: ignoring corrupt image/label: Label class 21 exceeds dataset class count 18. Possible class labels are 0-17\n",
      "\u001b[34m\u001b[1mval: \u001b[0mWARNING ⚠️ /kaggle/working/valid/images/id_lav2ls.jpg: ignoring corrupt image/label: Label class 19 exceeds dataset class count 18. Possible class labels are 0-17\n",
      "\u001b[34m\u001b[1mval: \u001b[0mWARNING ⚠️ /kaggle/working/valid/images/id_leb2oz.jpg: ignoring corrupt image/label: Label class 18 exceeds dataset class count 18. Possible class labels are 0-17\n",
      "\u001b[34m\u001b[1mval: \u001b[0mWARNING ⚠️ /kaggle/working/valid/images/id_llmvbl.jpg: ignoring corrupt image/label: Label class 22 exceeds dataset class count 18. Possible class labels are 0-17\n",
      "\u001b[34m\u001b[1mval: \u001b[0mWARNING ⚠️ /kaggle/working/valid/images/id_lndrnm.jpg: ignoring corrupt image/label: Label class 22 exceeds dataset class count 18. Possible class labels are 0-17\n",
      "\u001b[34m\u001b[1mval: \u001b[0mWARNING ⚠️ /kaggle/working/valid/images/id_lob22x.jpg: ignoring corrupt image/label: Label class 22 exceeds dataset class count 18. Possible class labels are 0-17\n",
      "\u001b[34m\u001b[1mval: \u001b[0mWARNING ⚠️ /kaggle/working/valid/images/id_ltilj4.jpg: ignoring corrupt image/label: Label class 19 exceeds dataset class count 18. Possible class labels are 0-17\n",
      "\u001b[34m\u001b[1mval: \u001b[0mWARNING ⚠️ /kaggle/working/valid/images/id_ltltls.jpg: ignoring corrupt image/label: Label class 19 exceeds dataset class count 18. Possible class labels are 0-17\n",
      "\u001b[34m\u001b[1mval: \u001b[0mWARNING ⚠️ /kaggle/working/valid/images/id_lzvlma.jpg: ignoring corrupt image/label: Label class 19 exceeds dataset class count 18. Possible class labels are 0-17\n",
      "\u001b[34m\u001b[1mval: \u001b[0mWARNING ⚠️ /kaggle/working/valid/images/id_m8vuv5.jpg: ignoring corrupt image/label: Label class 22 exceeds dataset class count 18. Possible class labels are 0-17\n",
      "\u001b[34m\u001b[1mval: \u001b[0mWARNING ⚠️ /kaggle/working/valid/images/id_mg9fm5.jpg: ignoring corrupt image/label: Label class 19 exceeds dataset class count 18. Possible class labels are 0-17\n",
      "\u001b[34m\u001b[1mval: \u001b[0mWARNING ⚠️ /kaggle/working/valid/images/id_mloe1t.jpg: ignoring corrupt image/label: Label class 20 exceeds dataset class count 18. Possible class labels are 0-17\n",
      "\u001b[34m\u001b[1mval: \u001b[0mWARNING ⚠️ /kaggle/working/valid/images/id_mtksxl.jpg: ignoring corrupt image/label: Label class 18 exceeds dataset class count 18. Possible class labels are 0-17\n",
      "\u001b[34m\u001b[1mval: \u001b[0mWARNING ⚠️ /kaggle/working/valid/images/id_mzesn9.jpg: ignoring corrupt image/label: Label class 22 exceeds dataset class count 18. Possible class labels are 0-17\n",
      "\u001b[34m\u001b[1mval: \u001b[0mWARNING ⚠️ /kaggle/working/valid/images/id_nq38o1.jpg: ignoring corrupt image/label: Label class 19 exceeds dataset class count 18. Possible class labels are 0-17\n",
      "\u001b[34m\u001b[1mval: \u001b[0mWARNING ⚠️ /kaggle/working/valid/images/id_nshves.jpg: ignoring corrupt image/label: Label class 22 exceeds dataset class count 18. Possible class labels are 0-17\n",
      "\u001b[34m\u001b[1mval: \u001b[0mWARNING ⚠️ /kaggle/working/valid/images/id_nvmzqv.jpg: ignoring corrupt image/label: Label class 22 exceeds dataset class count 18. Possible class labels are 0-17\n",
      "\u001b[34m\u001b[1mval: \u001b[0mWARNING ⚠️ /kaggle/working/valid/images/id_o1g2nf.jpg: ignoring corrupt image/label: Label class 19 exceeds dataset class count 18. Possible class labels are 0-17\n",
      "\u001b[34m\u001b[1mval: \u001b[0mWARNING ⚠️ /kaggle/working/valid/images/id_o2mws3.jpg: ignoring corrupt image/label: Label class 19 exceeds dataset class count 18. Possible class labels are 0-17\n",
      "\u001b[34m\u001b[1mval: \u001b[0mWARNING ⚠️ /kaggle/working/valid/images/id_o6t6wv.jpg: ignoring corrupt image/label: Label class 19 exceeds dataset class count 18. Possible class labels are 0-17\n",
      "\u001b[34m\u001b[1mval: \u001b[0mWARNING ⚠️ /kaggle/working/valid/images/id_o7sb5q.jpg: ignoring corrupt image/label: Label class 22 exceeds dataset class count 18. Possible class labels are 0-17\n",
      "\u001b[34m\u001b[1mval: \u001b[0mWARNING ⚠️ /kaggle/working/valid/images/id_opyajr.jpg: ignoring corrupt image/label: Label class 22 exceeds dataset class count 18. Possible class labels are 0-17\n",
      "\u001b[34m\u001b[1mval: \u001b[0mWARNING ⚠️ /kaggle/working/valid/images/id_osdoyy.jpg: ignoring corrupt image/label: Label class 22 exceeds dataset class count 18. Possible class labels are 0-17\n",
      "\u001b[34m\u001b[1mval: \u001b[0mWARNING ⚠️ /kaggle/working/valid/images/id_p1thwu.jpg: ignoring corrupt image/label: Label class 19 exceeds dataset class count 18. Possible class labels are 0-17\n",
      "\u001b[34m\u001b[1mval: \u001b[0mWARNING ⚠️ /kaggle/working/valid/images/id_p6xwcy.jpg: ignoring corrupt image/label: Label class 22 exceeds dataset class count 18. Possible class labels are 0-17\n",
      "\u001b[34m\u001b[1mval: \u001b[0mWARNING ⚠️ /kaggle/working/valid/images/id_pbrrdf.jpg: ignoring corrupt image/label: Label class 19 exceeds dataset class count 18. Possible class labels are 0-17\n",
      "\u001b[34m\u001b[1mval: \u001b[0mWARNING ⚠️ /kaggle/working/valid/images/id_pmbna4.jpg: ignoring corrupt image/label: Label class 22 exceeds dataset class count 18. Possible class labels are 0-17\n",
      "\u001b[34m\u001b[1mval: \u001b[0mWARNING ⚠️ /kaggle/working/valid/images/id_pux8yp.jpg: ignoring corrupt image/label: Label class 19 exceeds dataset class count 18. Possible class labels are 0-17\n",
      "\u001b[34m\u001b[1mval: \u001b[0mWARNING ⚠️ /kaggle/working/valid/images/id_pvboe6.jpg: ignoring corrupt image/label: Label class 18 exceeds dataset class count 18. Possible class labels are 0-17\n",
      "\u001b[34m\u001b[1mval: \u001b[0mWARNING ⚠️ /kaggle/working/valid/images/id_pvtjej.jpg: ignoring corrupt image/label: Label class 19 exceeds dataset class count 18. Possible class labels are 0-17\n",
      "\u001b[34m\u001b[1mval: \u001b[0mWARNING ⚠️ /kaggle/working/valid/images/id_q1u3d1.jpg: ignoring corrupt image/label: Label class 19 exceeds dataset class count 18. Possible class labels are 0-17\n",
      "\u001b[34m\u001b[1mval: \u001b[0mWARNING ⚠️ /kaggle/working/valid/images/id_q5btsk.jpg: ignoring corrupt image/label: Label class 22 exceeds dataset class count 18. Possible class labels are 0-17\n",
      "\u001b[34m\u001b[1mval: \u001b[0mWARNING ⚠️ /kaggle/working/valid/images/id_q7lo9t.jpg: ignoring corrupt image/label: Label class 18 exceeds dataset class count 18. Possible class labels are 0-17\n",
      "\u001b[34m\u001b[1mval: \u001b[0mWARNING ⚠️ /kaggle/working/valid/images/id_q88rsj.jpg: ignoring corrupt image/label: Label class 18 exceeds dataset class count 18. Possible class labels are 0-17\n",
      "\u001b[34m\u001b[1mval: \u001b[0mWARNING ⚠️ /kaggle/working/valid/images/id_qjny3p.jpg: ignoring corrupt image/label: Label class 19 exceeds dataset class count 18. Possible class labels are 0-17\n",
      "\u001b[34m\u001b[1mval: \u001b[0mWARNING ⚠️ /kaggle/working/valid/images/id_ql988a.jpg: ignoring corrupt image/label: Label class 21 exceeds dataset class count 18. Possible class labels are 0-17\n",
      "\u001b[34m\u001b[1mval: \u001b[0mWARNING ⚠️ /kaggle/working/valid/images/id_qppqnn.jpg: ignoring corrupt image/label: Label class 18 exceeds dataset class count 18. Possible class labels are 0-17\n",
      "\u001b[34m\u001b[1mval: \u001b[0mWARNING ⚠️ /kaggle/working/valid/images/id_r4gfmb.jpg: ignoring corrupt image/label: Label class 22 exceeds dataset class count 18. Possible class labels are 0-17\n",
      "\u001b[34m\u001b[1mval: \u001b[0mWARNING ⚠️ /kaggle/working/valid/images/id_rbvo2w.jpg: ignoring corrupt image/label: Label class 22 exceeds dataset class count 18. Possible class labels are 0-17\n",
      "\u001b[34m\u001b[1mval: \u001b[0mWARNING ⚠️ /kaggle/working/valid/images/id_rperu8.jpg: ignoring corrupt image/label: Label class 18 exceeds dataset class count 18. Possible class labels are 0-17\n",
      "\u001b[34m\u001b[1mval: \u001b[0mWARNING ⚠️ /kaggle/working/valid/images/id_rsns36.jpg: ignoring corrupt image/label: Label class 18 exceeds dataset class count 18. Possible class labels are 0-17\n",
      "\u001b[34m\u001b[1mval: \u001b[0mWARNING ⚠️ /kaggle/working/valid/images/id_rx3gn6.jpg: ignoring corrupt image/label: Label class 19 exceeds dataset class count 18. Possible class labels are 0-17\n",
      "\u001b[34m\u001b[1mval: \u001b[0mWARNING ⚠️ /kaggle/working/valid/images/id_saqld2.jpg: ignoring corrupt image/label: Label class 18 exceeds dataset class count 18. Possible class labels are 0-17\n",
      "\u001b[34m\u001b[1mval: \u001b[0mWARNING ⚠️ /kaggle/working/valid/images/id_se9vac.jpg: ignoring corrupt image/label: Label class 22 exceeds dataset class count 18. Possible class labels are 0-17\n",
      "\u001b[34m\u001b[1mval: \u001b[0mWARNING ⚠️ /kaggle/working/valid/images/id_sf5geo.jpg: ignoring corrupt image/label: Label class 18 exceeds dataset class count 18. Possible class labels are 0-17\n",
      "\u001b[34m\u001b[1mval: \u001b[0mWARNING ⚠️ /kaggle/working/valid/images/id_shupps.jpg: ignoring corrupt image/label: Label class 22 exceeds dataset class count 18. Possible class labels are 0-17\n",
      "\u001b[34m\u001b[1mval: \u001b[0mWARNING ⚠️ /kaggle/working/valid/images/id_siofxx.jpg: ignoring corrupt image/label: Label class 20 exceeds dataset class count 18. Possible class labels are 0-17\n",
      "\u001b[34m\u001b[1mval: \u001b[0mWARNING ⚠️ /kaggle/working/valid/images/id_sis63l.jpg: ignoring corrupt image/label: Label class 22 exceeds dataset class count 18. Possible class labels are 0-17\n",
      "\u001b[34m\u001b[1mval: \u001b[0mWARNING ⚠️ /kaggle/working/valid/images/id_sjeqbe.jpg: ignoring corrupt image/label: Label class 19 exceeds dataset class count 18. Possible class labels are 0-17\n",
      "\u001b[34m\u001b[1mval: \u001b[0mWARNING ⚠️ /kaggle/working/valid/images/id_sjlwnp.jpg: ignoring corrupt image/label: Label class 18 exceeds dataset class count 18. Possible class labels are 0-17\n",
      "\u001b[34m\u001b[1mval: \u001b[0mWARNING ⚠️ /kaggle/working/valid/images/id_sjwm7e.jpg: ignoring corrupt image/label: Label class 19 exceeds dataset class count 18. Possible class labels are 0-17\n",
      "\u001b[34m\u001b[1mval: \u001b[0mWARNING ⚠️ /kaggle/working/valid/images/id_smqghu.jpg: ignoring corrupt image/label: Label class 22 exceeds dataset class count 18. Possible class labels are 0-17\n",
      "\u001b[34m\u001b[1mval: \u001b[0mWARNING ⚠️ /kaggle/working/valid/images/id_tdt3un.jpg: ignoring corrupt image/label: Label class 22 exceeds dataset class count 18. Possible class labels are 0-17\n",
      "\u001b[34m\u001b[1mval: \u001b[0mWARNING ⚠️ /kaggle/working/valid/images/id_tiqy52.jpg: ignoring corrupt image/label: Label class 18 exceeds dataset class count 18. Possible class labels are 0-17\n",
      "\u001b[34m\u001b[1mval: \u001b[0mWARNING ⚠️ /kaggle/working/valid/images/id_tkp1u7.jpg: ignoring corrupt image/label: Label class 19 exceeds dataset class count 18. Possible class labels are 0-17\n",
      "\u001b[34m\u001b[1mval: \u001b[0mWARNING ⚠️ /kaggle/working/valid/images/id_tmgu1i.jpg: ignoring corrupt image/label: Label class 18 exceeds dataset class count 18. Possible class labels are 0-17\n",
      "\u001b[34m\u001b[1mval: \u001b[0mWARNING ⚠️ /kaggle/working/valid/images/id_u7kznk.jpg: ignoring corrupt image/label: Label class 19 exceeds dataset class count 18. Possible class labels are 0-17\n",
      "\u001b[34m\u001b[1mval: \u001b[0mWARNING ⚠️ /kaggle/working/valid/images/id_uco73v.jpg: ignoring corrupt image/label: Label class 19 exceeds dataset class count 18. Possible class labels are 0-17\n",
      "\u001b[34m\u001b[1mval: \u001b[0mWARNING ⚠️ /kaggle/working/valid/images/id_uknp8b.jpg: ignoring corrupt image/label: Label class 22 exceeds dataset class count 18. Possible class labels are 0-17\n",
      "\u001b[34m\u001b[1mval: \u001b[0mWARNING ⚠️ /kaggle/working/valid/images/id_upr3j6.jpg: ignoring corrupt image/label: Label class 22 exceeds dataset class count 18. Possible class labels are 0-17\n",
      "\u001b[34m\u001b[1mval: \u001b[0mWARNING ⚠️ /kaggle/working/valid/images/id_uuqlm9.jpg: ignoring corrupt image/label: Label class 22 exceeds dataset class count 18. Possible class labels are 0-17\n",
      "\u001b[34m\u001b[1mval: \u001b[0mWARNING ⚠️ /kaggle/working/valid/images/id_v1rusc.jpg: ignoring corrupt image/label: Label class 20 exceeds dataset class count 18. Possible class labels are 0-17\n",
      "\u001b[34m\u001b[1mval: \u001b[0mWARNING ⚠️ /kaggle/working/valid/images/id_v56h8h.jpg: ignoring corrupt image/label: Label class 18 exceeds dataset class count 18. Possible class labels are 0-17\n",
      "\u001b[34m\u001b[1mval: \u001b[0mWARNING ⚠️ /kaggle/working/valid/images/id_vd6zni.jpg: ignoring corrupt image/label: Label class 18 exceeds dataset class count 18. Possible class labels are 0-17\n",
      "\u001b[34m\u001b[1mval: \u001b[0mWARNING ⚠️ /kaggle/working/valid/images/id_vhpnp7.jpg: ignoring corrupt image/label: Label class 19 exceeds dataset class count 18. Possible class labels are 0-17\n",
      "\u001b[34m\u001b[1mval: \u001b[0mWARNING ⚠️ /kaggle/working/valid/images/id_vj5tiz.jpg: ignoring corrupt image/label: Label class 22 exceeds dataset class count 18. Possible class labels are 0-17\n",
      "\u001b[34m\u001b[1mval: \u001b[0mWARNING ⚠️ /kaggle/working/valid/images/id_vm7be3.jpg: ignoring corrupt image/label: Label class 22 exceeds dataset class count 18. Possible class labels are 0-17\n",
      "\u001b[34m\u001b[1mval: \u001b[0mWARNING ⚠️ /kaggle/working/valid/images/id_vm7tyc.jpg: ignoring corrupt image/label: Label class 19 exceeds dataset class count 18. Possible class labels are 0-17\n",
      "\u001b[34m\u001b[1mval: \u001b[0mWARNING ⚠️ /kaggle/working/valid/images/id_vmk9t2.jpg: ignoring corrupt image/label: Label class 22 exceeds dataset class count 18. Possible class labels are 0-17\n",
      "\u001b[34m\u001b[1mval: \u001b[0mWARNING ⚠️ /kaggle/working/valid/images/id_wv7snt.jpg: ignoring corrupt image/label: Label class 18 exceeds dataset class count 18. Possible class labels are 0-17\n",
      "\u001b[34m\u001b[1mval: \u001b[0mWARNING ⚠️ /kaggle/working/valid/images/id_x6l8vx.jpg: ignoring corrupt image/label: Label class 22 exceeds dataset class count 18. Possible class labels are 0-17\n",
      "\u001b[34m\u001b[1mval: \u001b[0mWARNING ⚠️ /kaggle/working/valid/images/id_x8aeuo.jpg: ignoring corrupt image/label: Label class 22 exceeds dataset class count 18. Possible class labels are 0-17\n",
      "\u001b[34m\u001b[1mval: \u001b[0mWARNING ⚠️ /kaggle/working/valid/images/id_xfyb5t.jpg: ignoring corrupt image/label: Label class 22 exceeds dataset class count 18. Possible class labels are 0-17\n",
      "\u001b[34m\u001b[1mval: \u001b[0mWARNING ⚠️ /kaggle/working/valid/images/id_y3poiq.jpg: ignoring corrupt image/label: Label class 20 exceeds dataset class count 18. Possible class labels are 0-17\n",
      "\u001b[34m\u001b[1mval: \u001b[0mWARNING ⚠️ /kaggle/working/valid/images/id_y5grnb.jpg: ignoring corrupt image/label: Label class 22 exceeds dataset class count 18. Possible class labels are 0-17\n",
      "\u001b[34m\u001b[1mval: \u001b[0mWARNING ⚠️ /kaggle/working/valid/images/id_y7w9sj.jpg: ignoring corrupt image/label: Label class 22 exceeds dataset class count 18. Possible class labels are 0-17\n",
      "\u001b[34m\u001b[1mval: \u001b[0mWARNING ⚠️ /kaggle/working/valid/images/id_yf74sd.jpg: ignoring corrupt image/label: Label class 18 exceeds dataset class count 18. Possible class labels are 0-17\n",
      "\u001b[34m\u001b[1mval: \u001b[0mWARNING ⚠️ /kaggle/working/valid/images/id_ygrqtn.jpg: ignoring corrupt image/label: Label class 18 exceeds dataset class count 18. Possible class labels are 0-17\n",
      "\u001b[34m\u001b[1mval: \u001b[0mWARNING ⚠️ /kaggle/working/valid/images/id_yjtqy1.jpg: ignoring corrupt image/label: Label class 22 exceeds dataset class count 18. Possible class labels are 0-17\n",
      "\u001b[34m\u001b[1mval: \u001b[0mWARNING ⚠️ /kaggle/working/valid/images/id_yssbcu.jpg: ignoring corrupt image/label: Label class 19 exceeds dataset class count 18. Possible class labels are 0-17\n",
      "\u001b[34m\u001b[1mval: \u001b[0mWARNING ⚠️ /kaggle/working/valid/images/id_z3e3y5.jpg: ignoring corrupt image/label: Label class 22 exceeds dataset class count 18. Possible class labels are 0-17\n",
      "\u001b[34m\u001b[1mval: \u001b[0mWARNING ⚠️ /kaggle/working/valid/images/id_z86o57.jpg: ignoring corrupt image/label: Label class 22 exceeds dataset class count 18. Possible class labels are 0-17\n",
      "\u001b[34m\u001b[1mval: \u001b[0mWARNING ⚠️ /kaggle/working/valid/images/id_zaitjd.jpg: ignoring corrupt image/label: Label class 22 exceeds dataset class count 18. Possible class labels are 0-17\n",
      "\u001b[34m\u001b[1mval: \u001b[0mWARNING ⚠️ /kaggle/working/valid/images/id_zts65r.jpg: ignoring corrupt image/label: Label class 22 exceeds dataset class count 18. Possible class labels are 0-17\n"
     ]
    },
    {
     "name": "stderr",
     "output_type": "stream",
     "text": [
      "\n"
     ]
    },
    {
     "name": "stdout",
     "output_type": "stream",
     "text": [
      "Plotting labels to runs/detect/train_0/labels.jpg... \n",
      "\u001b[34m\u001b[1moptimizer:\u001b[0m AdamW(lr=0.0003, momentum=0.9) with parameter groups 69 weight(decay=0.0), 76 weight(decay=0.009375000000000001), 75 bias(decay=0.0)\n",
      "\u001b[34m\u001b[1mTensorBoard: \u001b[0mmodel graph visualization added ✅\n",
      "Image sizes 1024 train, 1024 val\n",
      "Using 4 dataloader workers\n",
      "Logging results to \u001b[1mruns/detect/train_0\u001b[0m\n",
      "Starting training for 50 epochs...\n",
      "\n",
      "      Epoch    GPU_mem   box_loss   cls_loss   dfl_loss  Instances       Size\n"
     ]
    },
    {
     "name": "stderr",
     "output_type": "stream",
     "text": [
      "       1/50      15.4G      2.486       3.98      1.862         30       1024: 100%|██████████| 131/131 [02:09<00:00,  1.01it/s]\n",
      "                 Class     Images  Instances      Box(P          R      mAP50  mAP50-95): 100%|██████████| 14/14 [00:16<00:00,  1.19s/it]"
     ]
    },
    {
     "name": "stdout",
     "output_type": "stream",
     "text": [
      "                   all        522       2473      0.511      0.109     0.0828     0.0325\n"
     ]
    },
    {
     "name": "stderr",
     "output_type": "stream",
     "text": [
      "\n"
     ]
    },
    {
     "name": "stdout",
     "output_type": "stream",
     "text": [
      "\n",
      "      Epoch    GPU_mem   box_loss   cls_loss   dfl_loss  Instances       Size\n"
     ]
    },
    {
     "name": "stderr",
     "output_type": "stream",
     "text": [
      "       2/50      11.7G      2.299      2.893      1.709         32       1024: 100%|██████████| 131/131 [02:09<00:00,  1.01it/s]\n",
      "                 Class     Images  Instances      Box(P          R      mAP50  mAP50-95): 100%|██████████| 14/14 [00:18<00:00,  1.32s/it]\n"
     ]
    },
    {
     "name": "stdout",
     "output_type": "stream",
     "text": [
      "                   all        522       2473      0.253      0.196      0.119     0.0457\n",
      "\n",
      "      Epoch    GPU_mem   box_loss   cls_loss   dfl_loss  Instances       Size\n"
     ]
    },
    {
     "name": "stderr",
     "output_type": "stream",
     "text": [
      "       3/50      12.4G       2.22      2.626      1.666         26       1024: 100%|██████████| 131/131 [02:09<00:00,  1.01it/s]\n",
      "                 Class     Images  Instances      Box(P          R      mAP50  mAP50-95): 100%|██████████| 14/14 [00:17<00:00,  1.27s/it]\n"
     ]
    },
    {
     "name": "stdout",
     "output_type": "stream",
     "text": [
      "                   all        522       2473      0.329      0.259      0.224     0.0977\n",
      "\n",
      "      Epoch    GPU_mem   box_loss   cls_loss   dfl_loss  Instances       Size\n"
     ]
    },
    {
     "name": "stderr",
     "output_type": "stream",
     "text": [
      "       4/50      12.1G      2.193      2.441      1.626         20       1024: 100%|██████████| 131/131 [02:07<00:00,  1.02it/s]\n",
      "                 Class     Images  Instances      Box(P          R      mAP50  mAP50-95): 100%|██████████| 14/14 [00:18<00:00,  1.32s/it]\n"
     ]
    },
    {
     "name": "stdout",
     "output_type": "stream",
     "text": [
      "                   all        522       2473      0.282      0.308      0.272      0.115\n",
      "\n",
      "      Epoch    GPU_mem   box_loss   cls_loss   dfl_loss  Instances       Size\n"
     ]
    },
    {
     "name": "stderr",
     "output_type": "stream",
     "text": [
      "       5/50      12.1G      2.157       2.32      1.609         60       1024: 100%|██████████| 131/131 [02:05<00:00,  1.04it/s]\n",
      "                 Class     Images  Instances      Box(P          R      mAP50  mAP50-95): 100%|██████████| 14/14 [00:18<00:00,  1.35s/it]\n"
     ]
    },
    {
     "name": "stdout",
     "output_type": "stream",
     "text": [
      "                   all        522       2473      0.429       0.35      0.318       0.14\n",
      "\n",
      "      Epoch    GPU_mem   box_loss   cls_loss   dfl_loss  Instances       Size\n"
     ]
    },
    {
     "name": "stderr",
     "output_type": "stream",
     "text": [
      "       6/50      12.4G      2.105      2.216      1.572         48       1024: 100%|██████████| 131/131 [02:08<00:00,  1.02it/s]\n",
      "                 Class     Images  Instances      Box(P          R      mAP50  mAP50-95): 100%|██████████| 14/14 [00:16<00:00,  1.17s/it]\n"
     ]
    },
    {
     "name": "stdout",
     "output_type": "stream",
     "text": [
      "                   all        522       2473      0.404      0.348      0.302      0.137\n",
      "\n",
      "      Epoch    GPU_mem   box_loss   cls_loss   dfl_loss  Instances       Size\n"
     ]
    },
    {
     "name": "stderr",
     "output_type": "stream",
     "text": [
      "       7/50      12.4G      2.114       2.14      1.558         46       1024: 100%|██████████| 131/131 [02:08<00:00,  1.02it/s]\n",
      "                 Class     Images  Instances      Box(P          R      mAP50  mAP50-95): 100%|██████████| 14/14 [00:18<00:00,  1.30s/it]\n"
     ]
    },
    {
     "name": "stdout",
     "output_type": "stream",
     "text": [
      "                   all        522       2473      0.587      0.357      0.391      0.177\n",
      "\n",
      "      Epoch    GPU_mem   box_loss   cls_loss   dfl_loss  Instances       Size\n"
     ]
    },
    {
     "name": "stderr",
     "output_type": "stream",
     "text": [
      "       8/50      12.1G      2.053      2.009      1.543         30       1024: 100%|██████████| 131/131 [02:06<00:00,  1.03it/s]\n",
      "                 Class     Images  Instances      Box(P          R      mAP50  mAP50-95): 100%|██████████| 14/14 [00:18<00:00,  1.29s/it]\n"
     ]
    },
    {
     "name": "stdout",
     "output_type": "stream",
     "text": [
      "                   all        522       2473      0.491      0.395      0.388      0.182\n",
      "\n",
      "      Epoch    GPU_mem   box_loss   cls_loss   dfl_loss  Instances       Size\n"
     ]
    },
    {
     "name": "stderr",
     "output_type": "stream",
     "text": [
      "       9/50      12.1G      2.063      2.005       1.53         18       1024: 100%|██████████| 131/131 [02:09<00:00,  1.01it/s]\n",
      "                 Class     Images  Instances      Box(P          R      mAP50  mAP50-95): 100%|██████████| 14/14 [00:18<00:00,  1.29s/it]\n"
     ]
    },
    {
     "name": "stdout",
     "output_type": "stream",
     "text": [
      "                   all        522       2473      0.537      0.436      0.441       0.21\n",
      "\n",
      "      Epoch    GPU_mem   box_loss   cls_loss   dfl_loss  Instances       Size\n"
     ]
    },
    {
     "name": "stderr",
     "output_type": "stream",
     "text": [
      "      10/50        12G      2.021       1.94       1.51         24       1024: 100%|██████████| 131/131 [02:08<00:00,  1.02it/s]\n",
      "                 Class     Images  Instances      Box(P          R      mAP50  mAP50-95): 100%|██████████| 14/14 [00:18<00:00,  1.31s/it]\n"
     ]
    },
    {
     "name": "stdout",
     "output_type": "stream",
     "text": [
      "                   all        522       2473      0.574      0.415      0.436      0.213\n",
      "\n",
      "      Epoch    GPU_mem   box_loss   cls_loss   dfl_loss  Instances       Size\n"
     ]
    },
    {
     "name": "stderr",
     "output_type": "stream",
     "text": [
      "      11/50      12.1G      2.029      1.926      1.502         44       1024: 100%|██████████| 131/131 [02:11<00:00,  1.00s/it]\n",
      "                 Class     Images  Instances      Box(P          R      mAP50  mAP50-95): 100%|██████████| 14/14 [00:16<00:00,  1.17s/it]"
     ]
    },
    {
     "name": "stdout",
     "output_type": "stream",
     "text": [
      "                   all        522       2473      0.514      0.458      0.453      0.223\n"
     ]
    },
    {
     "name": "stderr",
     "output_type": "stream",
     "text": [
      "\n"
     ]
    },
    {
     "name": "stdout",
     "output_type": "stream",
     "text": [
      "\n",
      "      Epoch    GPU_mem   box_loss   cls_loss   dfl_loss  Instances       Size\n"
     ]
    },
    {
     "name": "stderr",
     "output_type": "stream",
     "text": [
      "      12/50      12.4G          2      1.857       1.49         28       1024: 100%|██████████| 131/131 [02:12<00:00,  1.01s/it]\n",
      "                 Class     Images  Instances      Box(P          R      mAP50  mAP50-95): 100%|██████████| 14/14 [00:17<00:00,  1.25s/it]\n"
     ]
    },
    {
     "name": "stdout",
     "output_type": "stream",
     "text": [
      "                   all        522       2473      0.567      0.471      0.487      0.247\n",
      "\n",
      "      Epoch    GPU_mem   box_loss   cls_loss   dfl_loss  Instances       Size\n"
     ]
    },
    {
     "name": "stderr",
     "output_type": "stream",
     "text": [
      "      13/50        12G      1.986      1.824      1.491         30       1024: 100%|██████████| 131/131 [02:10<00:00,  1.00it/s]\n",
      "                 Class     Images  Instances      Box(P          R      mAP50  mAP50-95): 100%|██████████| 14/14 [00:17<00:00,  1.25s/it]\n"
     ]
    },
    {
     "name": "stdout",
     "output_type": "stream",
     "text": [
      "                   all        522       2473      0.574      0.497      0.491      0.239\n",
      "\n",
      "      Epoch    GPU_mem   box_loss   cls_loss   dfl_loss  Instances       Size\n"
     ]
    },
    {
     "name": "stderr",
     "output_type": "stream",
     "text": [
      "      14/50      12.1G       1.96      1.777      1.461         31       1024: 100%|██████████| 131/131 [02:06<00:00,  1.04it/s]\n",
      "                 Class     Images  Instances      Box(P          R      mAP50  mAP50-95): 100%|██████████| 14/14 [00:18<00:00,  1.29s/it]\n"
     ]
    },
    {
     "name": "stdout",
     "output_type": "stream",
     "text": [
      "                   all        522       2473        0.6       0.51      0.507      0.251\n",
      "\n",
      "      Epoch    GPU_mem   box_loss   cls_loss   dfl_loss  Instances       Size\n"
     ]
    },
    {
     "name": "stderr",
     "output_type": "stream",
     "text": [
      "      15/50        12G      1.909      1.706      1.427         13       1024: 100%|██████████| 131/131 [02:08<00:00,  1.02it/s]\n",
      "                 Class     Images  Instances      Box(P          R      mAP50  mAP50-95): 100%|██████████| 14/14 [00:17<00:00,  1.28s/it]\n"
     ]
    },
    {
     "name": "stdout",
     "output_type": "stream",
     "text": [
      "                   all        522       2473      0.639      0.511       0.54      0.276\n",
      "\n",
      "      Epoch    GPU_mem   box_loss   cls_loss   dfl_loss  Instances       Size\n"
     ]
    },
    {
     "name": "stderr",
     "output_type": "stream",
     "text": [
      "      16/50      12.4G      1.931      1.703      1.445         12       1024: 100%|██████████| 131/131 [02:08<00:00,  1.02it/s]\n",
      "                 Class     Images  Instances      Box(P          R      mAP50  mAP50-95): 100%|██████████| 14/14 [00:16<00:00,  1.17s/it]\n"
     ]
    },
    {
     "name": "stdout",
     "output_type": "stream",
     "text": [
      "                   all        522       2473      0.595      0.529      0.525      0.264\n",
      "\n",
      "      Epoch    GPU_mem   box_loss   cls_loss   dfl_loss  Instances       Size\n"
     ]
    },
    {
     "name": "stderr",
     "output_type": "stream",
     "text": [
      "      17/50      12.1G      1.891      1.636      1.422         72       1024: 100%|██████████| 131/131 [02:06<00:00,  1.04it/s]\n",
      "                 Class     Images  Instances      Box(P          R      mAP50  mAP50-95): 100%|██████████| 14/14 [00:18<00:00,  1.32s/it]"
     ]
    },
    {
     "name": "stdout",
     "output_type": "stream",
     "text": [
      "                   all        522       2473      0.607      0.518      0.528      0.264\n"
     ]
    },
    {
     "name": "stderr",
     "output_type": "stream",
     "text": [
      "\n"
     ]
    },
    {
     "name": "stdout",
     "output_type": "stream",
     "text": [
      "\n",
      "      Epoch    GPU_mem   box_loss   cls_loss   dfl_loss  Instances       Size\n"
     ]
    },
    {
     "name": "stderr",
     "output_type": "stream",
     "text": [
      "      18/50        12G        1.9      1.638      1.415          9       1024: 100%|██████████| 131/131 [02:07<00:00,  1.02it/s]\n",
      "                 Class     Images  Instances      Box(P          R      mAP50  mAP50-95): 100%|██████████| 14/14 [00:16<00:00,  1.17s/it]\n"
     ]
    },
    {
     "name": "stdout",
     "output_type": "stream",
     "text": [
      "                   all        522       2473      0.643      0.513      0.549      0.284\n",
      "\n",
      "      Epoch    GPU_mem   box_loss   cls_loss   dfl_loss  Instances       Size\n"
     ]
    },
    {
     "name": "stderr",
     "output_type": "stream",
     "text": [
      "      19/50      12.5G      1.869      1.574      1.388         90       1024: 100%|██████████| 131/131 [02:08<00:00,  1.02it/s]\n",
      "                 Class     Images  Instances      Box(P          R      mAP50  mAP50-95): 100%|██████████| 14/14 [00:16<00:00,  1.19s/it]\n"
     ]
    },
    {
     "name": "stdout",
     "output_type": "stream",
     "text": [
      "                   all        522       2473      0.642      0.535      0.573      0.294\n",
      "\n",
      "      Epoch    GPU_mem   box_loss   cls_loss   dfl_loss  Instances       Size\n"
     ]
    },
    {
     "name": "stderr",
     "output_type": "stream",
     "text": [
      "      20/50      12.1G      1.856      1.548       1.39         40       1024: 100%|██████████| 131/131 [02:06<00:00,  1.04it/s]\n",
      "                 Class     Images  Instances      Box(P          R      mAP50  mAP50-95): 100%|██████████| 14/14 [00:16<00:00,  1.21s/it]"
     ]
    },
    {
     "name": "stdout",
     "output_type": "stream",
     "text": [
      "                   all        522       2473      0.676      0.514      0.557      0.283\n"
     ]
    },
    {
     "name": "stderr",
     "output_type": "stream",
     "text": [
      "\n"
     ]
    },
    {
     "name": "stdout",
     "output_type": "stream",
     "text": [
      "Closing dataloader mosaic\n",
      "\u001b[34m\u001b[1malbumentations: \u001b[0mBlur(p=0.01, blur_limit=(3, 7)), MedianBlur(p=0.01, blur_limit=(3, 7)), ToGray(p=0.01, num_output_channels=3, method='weighted_average'), CLAHE(p=0.01, clip_limit=(1.0, 4.0), tile_grid_size=(8, 8))\n",
      "\n",
      "      Epoch    GPU_mem   box_loss   cls_loss   dfl_loss  Instances       Size\n"
     ]
    },
    {
     "name": "stderr",
     "output_type": "stream",
     "text": [
      "      21/50      12.4G      1.829      1.555      1.412         44       1024: 100%|██████████| 131/131 [02:12<00:00,  1.01s/it]\n",
      "                 Class     Images  Instances      Box(P          R      mAP50  mAP50-95): 100%|██████████| 14/14 [00:17<00:00,  1.26s/it]\n"
     ]
    },
    {
     "name": "stdout",
     "output_type": "stream",
     "text": [
      "                   all        522       2473      0.684      0.519      0.565      0.292\n",
      "\n",
      "      Epoch    GPU_mem   box_loss   cls_loss   dfl_loss  Instances       Size\n"
     ]
    },
    {
     "name": "stderr",
     "output_type": "stream",
     "text": [
      "      22/50      12.4G      1.819      1.531      1.396         20       1024: 100%|██████████| 131/131 [02:02<00:00,  1.07it/s]\n",
      "                 Class     Images  Instances      Box(P          R      mAP50  mAP50-95): 100%|██████████| 14/14 [00:16<00:00,  1.18s/it]\n"
     ]
    },
    {
     "name": "stdout",
     "output_type": "stream",
     "text": [
      "                   all        522       2473      0.679      0.578      0.615      0.322\n",
      "\n",
      "      Epoch    GPU_mem   box_loss   cls_loss   dfl_loss  Instances       Size\n"
     ]
    },
    {
     "name": "stderr",
     "output_type": "stream",
     "text": [
      "      23/50      11.7G      1.784      1.443      1.384          7       1024: 100%|██████████| 131/131 [02:05<00:00,  1.04it/s]\n",
      "                 Class     Images  Instances      Box(P          R      mAP50  mAP50-95): 100%|██████████| 14/14 [00:17<00:00,  1.22s/it]\n"
     ]
    },
    {
     "name": "stdout",
     "output_type": "stream",
     "text": [
      "                   all        522       2473       0.69      0.562      0.601      0.316\n",
      "\n",
      "      Epoch    GPU_mem   box_loss   cls_loss   dfl_loss  Instances       Size\n"
     ]
    },
    {
     "name": "stderr",
     "output_type": "stream",
     "text": [
      "      24/50      12.4G      1.748       1.41      1.359          9       1024: 100%|██████████| 131/131 [02:05<00:00,  1.04it/s]\n",
      "                 Class     Images  Instances      Box(P          R      mAP50  mAP50-95): 100%|██████████| 14/14 [00:16<00:00,  1.19s/it]"
     ]
    },
    {
     "name": "stdout",
     "output_type": "stream",
     "text": [
      "                   all        522       2473       0.71      0.582      0.626      0.325\n"
     ]
    },
    {
     "name": "stderr",
     "output_type": "stream",
     "text": [
      "\n"
     ]
    },
    {
     "name": "stdout",
     "output_type": "stream",
     "text": [
      "\n",
      "      Epoch    GPU_mem   box_loss   cls_loss   dfl_loss  Instances       Size\n"
     ]
    },
    {
     "name": "stderr",
     "output_type": "stream",
     "text": [
      "      25/50      12.4G      1.761      1.408      1.369         10       1024: 100%|██████████| 131/131 [02:07<00:00,  1.03it/s]\n",
      "                 Class     Images  Instances      Box(P          R      mAP50  mAP50-95): 100%|██████████| 14/14 [00:17<00:00,  1.28s/it]"
     ]
    },
    {
     "name": "stdout",
     "output_type": "stream",
     "text": [
      "                   all        522       2473      0.665      0.626       0.64      0.344\n"
     ]
    },
    {
     "name": "stderr",
     "output_type": "stream",
     "text": [
      "\n"
     ]
    },
    {
     "name": "stdout",
     "output_type": "stream",
     "text": [
      "\n",
      "      Epoch    GPU_mem   box_loss   cls_loss   dfl_loss  Instances       Size\n"
     ]
    },
    {
     "name": "stderr",
     "output_type": "stream",
     "text": [
      "      26/50      11.7G      1.731      1.386      1.359         11       1024: 100%|██████████| 131/131 [02:05<00:00,  1.04it/s]\n",
      "                 Class     Images  Instances      Box(P          R      mAP50  mAP50-95): 100%|██████████| 14/14 [00:17<00:00,  1.28s/it]"
     ]
    },
    {
     "name": "stdout",
     "output_type": "stream",
     "text": [
      "                   all        522       2473      0.709      0.612      0.646      0.344\n"
     ]
    },
    {
     "name": "stderr",
     "output_type": "stream",
     "text": [
      "\n"
     ]
    },
    {
     "name": "stdout",
     "output_type": "stream",
     "text": [
      "\n",
      "      Epoch    GPU_mem   box_loss   cls_loss   dfl_loss  Instances       Size\n"
     ]
    },
    {
     "name": "stderr",
     "output_type": "stream",
     "text": [
      "      27/50      12.4G      1.707      1.347      1.348         12       1024: 100%|██████████| 131/131 [02:05<00:00,  1.04it/s]\n",
      "                 Class     Images  Instances      Box(P          R      mAP50  mAP50-95): 100%|██████████| 14/14 [00:18<00:00,  1.29s/it]\n"
     ]
    },
    {
     "name": "stdout",
     "output_type": "stream",
     "text": [
      "                   all        522       2473      0.677       0.63      0.658      0.358\n",
      "\n",
      "      Epoch    GPU_mem   box_loss   cls_loss   dfl_loss  Instances       Size\n"
     ]
    },
    {
     "name": "stderr",
     "output_type": "stream",
     "text": [
      "      28/50      12.4G        1.7       1.32      1.343          9       1024: 100%|██████████| 131/131 [02:06<00:00,  1.04it/s]\n",
      "                 Class     Images  Instances      Box(P          R      mAP50  mAP50-95): 100%|██████████| 14/14 [00:18<00:00,  1.31s/it]\n"
     ]
    },
    {
     "name": "stdout",
     "output_type": "stream",
     "text": [
      "                   all        522       2473      0.714      0.634      0.682      0.368\n",
      "\n",
      "      Epoch    GPU_mem   box_loss   cls_loss   dfl_loss  Instances       Size\n"
     ]
    },
    {
     "name": "stderr",
     "output_type": "stream",
     "text": [
      "      29/50      11.7G      1.713      1.352      1.353         15       1024: 100%|██████████| 131/131 [02:06<00:00,  1.03it/s]\n",
      "                 Class     Images  Instances      Box(P          R      mAP50  mAP50-95): 100%|██████████| 14/14 [00:17<00:00,  1.26s/it]"
     ]
    },
    {
     "name": "stdout",
     "output_type": "stream",
     "text": [
      "                   all        522       2473       0.72      0.622      0.664      0.365\n"
     ]
    },
    {
     "name": "stderr",
     "output_type": "stream",
     "text": [
      "\n"
     ]
    },
    {
     "name": "stdout",
     "output_type": "stream",
     "text": [
      "\n",
      "      Epoch    GPU_mem   box_loss   cls_loss   dfl_loss  Instances       Size\n"
     ]
    },
    {
     "name": "stderr",
     "output_type": "stream",
     "text": [
      "      30/50      12.4G      1.672      1.288      1.328         33       1024: 100%|██████████| 131/131 [02:06<00:00,  1.04it/s]\n",
      "                 Class     Images  Instances      Box(P          R      mAP50  mAP50-95): 100%|██████████| 14/14 [00:17<00:00,  1.22s/it]\n"
     ]
    },
    {
     "name": "stdout",
     "output_type": "stream",
     "text": [
      "                   all        522       2473      0.692      0.647      0.674      0.375\n",
      "\n",
      "      Epoch    GPU_mem   box_loss   cls_loss   dfl_loss  Instances       Size\n"
     ]
    },
    {
     "name": "stderr",
     "output_type": "stream",
     "text": [
      "      31/50      12.4G      1.673       1.28      1.319         18       1024: 100%|██████████| 131/131 [02:04<00:00,  1.05it/s]\n",
      "                 Class     Images  Instances      Box(P          R      mAP50  mAP50-95): 100%|██████████| 14/14 [00:19<00:00,  1.37s/it]\n"
     ]
    },
    {
     "name": "stdout",
     "output_type": "stream",
     "text": [
      "                   all        522       2473      0.727      0.645      0.688      0.384\n",
      "\n",
      "      Epoch    GPU_mem   box_loss   cls_loss   dfl_loss  Instances       Size\n"
     ]
    },
    {
     "name": "stderr",
     "output_type": "stream",
     "text": [
      "      32/50      11.7G      1.672      1.268      1.326         15       1024: 100%|██████████| 131/131 [02:09<00:00,  1.01it/s]\n",
      "                 Class     Images  Instances      Box(P          R      mAP50  mAP50-95): 100%|██████████| 14/14 [00:17<00:00,  1.26s/it]\n"
     ]
    },
    {
     "name": "stdout",
     "output_type": "stream",
     "text": [
      "                   all        522       2473      0.708      0.666      0.699      0.392\n",
      "\n",
      "      Epoch    GPU_mem   box_loss   cls_loss   dfl_loss  Instances       Size\n"
     ]
    },
    {
     "name": "stderr",
     "output_type": "stream",
     "text": [
      "      33/50      12.4G      1.626      1.218      1.298          6       1024: 100%|██████████| 131/131 [02:07<00:00,  1.03it/s]\n",
      "                 Class     Images  Instances      Box(P          R      mAP50  mAP50-95): 100%|██████████| 14/14 [00:17<00:00,  1.23s/it]\n"
     ]
    },
    {
     "name": "stdout",
     "output_type": "stream",
     "text": [
      "                   all        522       2473      0.722      0.651      0.706      0.395\n",
      "\n",
      "      Epoch    GPU_mem   box_loss   cls_loss   dfl_loss  Instances       Size\n"
     ]
    },
    {
     "name": "stderr",
     "output_type": "stream",
     "text": [
      "      34/50      12.4G      1.631      1.205      1.308         18       1024: 100%|██████████| 131/131 [02:06<00:00,  1.04it/s]\n",
      "                 Class     Images  Instances      Box(P          R      mAP50  mAP50-95): 100%|██████████| 14/14 [00:17<00:00,  1.27s/it]\n"
     ]
    },
    {
     "name": "stdout",
     "output_type": "stream",
     "text": [
      "                   all        522       2473      0.728      0.675      0.705      0.401\n",
      "\n",
      "      Epoch    GPU_mem   box_loss   cls_loss   dfl_loss  Instances       Size\n"
     ]
    },
    {
     "name": "stderr",
     "output_type": "stream",
     "text": [
      "      35/50      11.7G      1.592      1.196      1.284         16       1024: 100%|██████████| 131/131 [02:07<00:00,  1.03it/s]\n",
      "                 Class     Images  Instances      Box(P          R      mAP50  mAP50-95): 100%|██████████| 14/14 [00:17<00:00,  1.24s/it]"
     ]
    },
    {
     "name": "stdout",
     "output_type": "stream",
     "text": [
      "                   all        522       2473      0.679       0.68      0.713      0.406\n"
     ]
    },
    {
     "name": "stderr",
     "output_type": "stream",
     "text": [
      "\n"
     ]
    },
    {
     "name": "stdout",
     "output_type": "stream",
     "text": [
      "\n",
      "      Epoch    GPU_mem   box_loss   cls_loss   dfl_loss  Instances       Size\n"
     ]
    },
    {
     "name": "stderr",
     "output_type": "stream",
     "text": [
      "      36/50      12.4G      1.584      1.171      1.284         24       1024: 100%|██████████| 131/131 [02:06<00:00,  1.04it/s]\n",
      "                 Class     Images  Instances      Box(P          R      mAP50  mAP50-95): 100%|██████████| 14/14 [00:18<00:00,  1.31s/it]"
     ]
    },
    {
     "name": "stdout",
     "output_type": "stream",
     "text": [
      "                   all        522       2473       0.76       0.67      0.722      0.415\n"
     ]
    },
    {
     "name": "stderr",
     "output_type": "stream",
     "text": [
      "\n"
     ]
    },
    {
     "name": "stdout",
     "output_type": "stream",
     "text": [
      "\n",
      "      Epoch    GPU_mem   box_loss   cls_loss   dfl_loss  Instances       Size\n"
     ]
    },
    {
     "name": "stderr",
     "output_type": "stream",
     "text": [
      "      37/50      12.4G      1.569      1.136      1.265         18       1024: 100%|██████████| 131/131 [02:04<00:00,  1.05it/s]\n",
      "                 Class     Images  Instances      Box(P          R      mAP50  mAP50-95): 100%|██████████| 14/14 [00:18<00:00,  1.31s/it]\n"
     ]
    },
    {
     "name": "stdout",
     "output_type": "stream",
     "text": [
      "                   all        522       2473      0.721      0.674       0.72      0.411\n",
      "\n",
      "      Epoch    GPU_mem   box_loss   cls_loss   dfl_loss  Instances       Size\n"
     ]
    },
    {
     "name": "stderr",
     "output_type": "stream",
     "text": [
      "      38/50      11.7G      1.594      1.168      1.273         17       1024: 100%|██████████| 131/131 [02:06<00:00,  1.04it/s]\n",
      "                 Class     Images  Instances      Box(P          R      mAP50  mAP50-95): 100%|██████████| 14/14 [00:17<00:00,  1.27s/it]"
     ]
    },
    {
     "name": "stdout",
     "output_type": "stream",
     "text": [
      "                   all        522       2473      0.716      0.698      0.734      0.426\n"
     ]
    },
    {
     "name": "stderr",
     "output_type": "stream",
     "text": [
      "\n"
     ]
    },
    {
     "name": "stdout",
     "output_type": "stream",
     "text": [
      "\n",
      "      Epoch    GPU_mem   box_loss   cls_loss   dfl_loss  Instances       Size\n"
     ]
    },
    {
     "name": "stderr",
     "output_type": "stream",
     "text": [
      "      39/50      12.4G      1.563      1.137      1.257         11       1024: 100%|██████████| 131/131 [02:05<00:00,  1.04it/s]\n",
      "                 Class     Images  Instances      Box(P          R      mAP50  mAP50-95): 100%|██████████| 14/14 [00:16<00:00,  1.17s/it]"
     ]
    },
    {
     "name": "stdout",
     "output_type": "stream",
     "text": [
      "                   all        522       2473      0.706      0.704      0.743      0.438\n"
     ]
    },
    {
     "name": "stderr",
     "output_type": "stream",
     "text": [
      "\n"
     ]
    },
    {
     "name": "stdout",
     "output_type": "stream",
     "text": [
      "\n",
      "      Epoch    GPU_mem   box_loss   cls_loss   dfl_loss  Instances       Size\n"
     ]
    },
    {
     "name": "stderr",
     "output_type": "stream",
     "text": [
      "      40/50      12.4G      1.544      1.117      1.257          9       1024: 100%|██████████| 131/131 [02:07<00:00,  1.02it/s]\n",
      "                 Class     Images  Instances      Box(P          R      mAP50  mAP50-95): 100%|██████████| 14/14 [00:17<00:00,  1.28s/it]\n"
     ]
    },
    {
     "name": "stdout",
     "output_type": "stream",
     "text": [
      "                   all        522       2473      0.716      0.725      0.747      0.443\n",
      "\n",
      "      Epoch    GPU_mem   box_loss   cls_loss   dfl_loss  Instances       Size\n"
     ]
    },
    {
     "name": "stderr",
     "output_type": "stream",
     "text": [
      "      41/50      11.7G      1.535      1.088       1.25         47       1024: 100%|██████████| 131/131 [02:06<00:00,  1.03it/s]\n",
      "                 Class     Images  Instances      Box(P          R      mAP50  mAP50-95): 100%|██████████| 14/14 [00:17<00:00,  1.27s/it]"
     ]
    },
    {
     "name": "stdout",
     "output_type": "stream",
     "text": [
      "                   all        522       2473      0.749      0.706      0.755      0.448\n"
     ]
    },
    {
     "name": "stderr",
     "output_type": "stream",
     "text": [
      "\n"
     ]
    },
    {
     "name": "stdout",
     "output_type": "stream",
     "text": [
      "\n",
      "      Epoch    GPU_mem   box_loss   cls_loss   dfl_loss  Instances       Size\n"
     ]
    },
    {
     "name": "stderr",
     "output_type": "stream",
     "text": [
      "      42/50      12.4G      1.504      1.081      1.237          7       1024: 100%|██████████| 131/131 [02:06<00:00,  1.03it/s]\n",
      "                 Class     Images  Instances      Box(P          R      mAP50  mAP50-95): 100%|██████████| 14/14 [00:17<00:00,  1.23s/it]\n"
     ]
    },
    {
     "name": "stdout",
     "output_type": "stream",
     "text": [
      "                   all        522       2473      0.729       0.73      0.753      0.449\n",
      "\n",
      "      Epoch    GPU_mem   box_loss   cls_loss   dfl_loss  Instances       Size\n"
     ]
    },
    {
     "name": "stderr",
     "output_type": "stream",
     "text": [
      "      43/50      12.4G       1.51      1.066      1.227         12       1024: 100%|██████████| 131/131 [02:07<00:00,  1.03it/s]\n",
      "                 Class     Images  Instances      Box(P          R      mAP50  mAP50-95): 100%|██████████| 14/14 [00:16<00:00,  1.19s/it]"
     ]
    },
    {
     "name": "stdout",
     "output_type": "stream",
     "text": [
      "                   all        522       2473      0.757      0.713      0.757      0.454\n"
     ]
    },
    {
     "name": "stderr",
     "output_type": "stream",
     "text": [
      "\n"
     ]
    },
    {
     "name": "stdout",
     "output_type": "stream",
     "text": [
      "\n",
      "      Epoch    GPU_mem   box_loss   cls_loss   dfl_loss  Instances       Size\n"
     ]
    },
    {
     "name": "stderr",
     "output_type": "stream",
     "text": [
      "      44/50      11.7G      1.502      1.065      1.228         12       1024: 100%|██████████| 131/131 [02:07<00:00,  1.03it/s]\n",
      "                 Class     Images  Instances      Box(P          R      mAP50  mAP50-95): 100%|██████████| 14/14 [00:17<00:00,  1.28s/it]\n"
     ]
    },
    {
     "name": "stdout",
     "output_type": "stream",
     "text": [
      "                   all        522       2473      0.726      0.746      0.759       0.46\n",
      "\n",
      "      Epoch    GPU_mem   box_loss   cls_loss   dfl_loss  Instances       Size\n"
     ]
    },
    {
     "name": "stderr",
     "output_type": "stream",
     "text": [
      "      45/50      12.4G      1.499      1.067       1.23         30       1024: 100%|██████████| 131/131 [02:06<00:00,  1.03it/s]\n",
      "                 Class     Images  Instances      Box(P          R      mAP50  mAP50-95): 100%|██████████| 14/14 [00:17<00:00,  1.24s/it]\n"
     ]
    },
    {
     "name": "stdout",
     "output_type": "stream",
     "text": [
      "                   all        522       2473       0.75      0.743      0.763       0.46\n",
      "\n",
      "      Epoch    GPU_mem   box_loss   cls_loss   dfl_loss  Instances       Size\n"
     ]
    },
    {
     "name": "stderr",
     "output_type": "stream",
     "text": [
      "      46/50      12.4G      1.458      1.024      1.208         19       1024: 100%|██████████| 131/131 [02:05<00:00,  1.05it/s]\n",
      "                 Class     Images  Instances      Box(P          R      mAP50  mAP50-95): 100%|██████████| 14/14 [00:17<00:00,  1.26s/it]"
     ]
    },
    {
     "name": "stdout",
     "output_type": "stream",
     "text": [
      "                   all        522       2473      0.747      0.737       0.77      0.471\n"
     ]
    },
    {
     "name": "stderr",
     "output_type": "stream",
     "text": [
      "\n"
     ]
    },
    {
     "name": "stdout",
     "output_type": "stream",
     "text": [
      "\n",
      "      Epoch    GPU_mem   box_loss   cls_loss   dfl_loss  Instances       Size\n"
     ]
    },
    {
     "name": "stderr",
     "output_type": "stream",
     "text": [
      "      47/50      11.7G      1.468     0.9973      1.204         21       1024: 100%|██████████| 131/131 [02:05<00:00,  1.04it/s]\n",
      "                 Class     Images  Instances      Box(P          R      mAP50  mAP50-95): 100%|██████████| 14/14 [00:16<00:00,  1.21s/it]"
     ]
    },
    {
     "name": "stdout",
     "output_type": "stream",
     "text": [
      "                   all        522       2473      0.746       0.74      0.772      0.475\n"
     ]
    },
    {
     "name": "stderr",
     "output_type": "stream",
     "text": [
      "\n"
     ]
    },
    {
     "name": "stdout",
     "output_type": "stream",
     "text": [
      "\n",
      "      Epoch    GPU_mem   box_loss   cls_loss   dfl_loss  Instances       Size\n"
     ]
    },
    {
     "name": "stderr",
     "output_type": "stream",
     "text": [
      "      48/50      12.4G      1.462      1.022      1.209         13       1024: 100%|██████████| 131/131 [02:05<00:00,  1.04it/s]\n",
      "                 Class     Images  Instances      Box(P          R      mAP50  mAP50-95): 100%|██████████| 14/14 [00:18<00:00,  1.32s/it]"
     ]
    },
    {
     "name": "stdout",
     "output_type": "stream",
     "text": [
      "                   all        522       2473      0.754      0.738      0.773      0.475\n"
     ]
    },
    {
     "name": "stderr",
     "output_type": "stream",
     "text": [
      "\n"
     ]
    },
    {
     "name": "stdout",
     "output_type": "stream",
     "text": [
      "\n",
      "      Epoch    GPU_mem   box_loss   cls_loss   dfl_loss  Instances       Size\n"
     ]
    },
    {
     "name": "stderr",
     "output_type": "stream",
     "text": [
      "      49/50      12.4G      1.439     0.9992      1.207         12       1024: 100%|██████████| 131/131 [02:06<00:00,  1.04it/s]\n",
      "                 Class     Images  Instances      Box(P          R      mAP50  mAP50-95): 100%|██████████| 14/14 [00:16<00:00,  1.20s/it]"
     ]
    },
    {
     "name": "stdout",
     "output_type": "stream",
     "text": [
      "                   all        522       2473      0.772      0.731      0.778      0.478\n"
     ]
    },
    {
     "name": "stderr",
     "output_type": "stream",
     "text": [
      "\n"
     ]
    },
    {
     "name": "stdout",
     "output_type": "stream",
     "text": [
      "\n",
      "      Epoch    GPU_mem   box_loss   cls_loss   dfl_loss  Instances       Size\n"
     ]
    },
    {
     "name": "stderr",
     "output_type": "stream",
     "text": [
      "      50/50      11.7G      1.442     0.9837      1.192         16       1024: 100%|██████████| 131/131 [02:05<00:00,  1.04it/s]\n",
      "                 Class     Images  Instances      Box(P          R      mAP50  mAP50-95): 100%|██████████| 14/14 [00:17<00:00,  1.28s/it]"
     ]
    },
    {
     "name": "stdout",
     "output_type": "stream",
     "text": [
      "                   all        522       2473      0.753       0.75      0.777      0.482\n"
     ]
    },
    {
     "name": "stderr",
     "output_type": "stream",
     "text": [
      "\n"
     ]
    },
    {
     "name": "stdout",
     "output_type": "stream",
     "text": [
      "\n",
      "50 epochs completed in 2.043 hours.\n",
      "Optimizer stripped from runs/detect/train_0/weights/last.pt, 18.6MB\n",
      "Optimizer stripped from runs/detect/train_0/weights/best.pt, 18.6MB\n",
      "\n",
      "Validating runs/detect/train_0/weights/best.pt...\n",
      "Ultralytics 8.3.70 🚀 Python-3.10.12 torch-2.5.1+cu121 CUDA:0 (Tesla P100-PCIE-16GB, 16269MiB)\n",
      "YOLOv5s summary (fused): 193 layers, 9,118,502 parameters, 0 gradients, 23.9 GFLOPs\n"
     ]
    },
    {
     "name": "stderr",
     "output_type": "stream",
     "text": [
      "                 Class     Images  Instances      Box(P          R      mAP50  mAP50-95): 100%|██████████| 14/14 [00:19<00:00,  1.38s/it]\n"
     ]
    },
    {
     "name": "stdout",
     "output_type": "stream",
     "text": [
      "                   all        522       2473      0.752      0.751      0.777      0.482\n",
      "    Pepper_Late_Blight        122        457      0.695        0.3      0.463      0.152\n",
      "    Pepper_Leaf_Blight         20         52      0.613      0.769      0.685      0.275\n",
      "      Pepper_Leaf_Curl          3         28      0.938          1      0.995      0.847\n",
      "    Pepper_Leaf_Mosaic         54        114      0.893      0.991      0.992      0.724\n",
      "       Pepper_Septoria         63        170      0.775      0.965      0.958      0.707\n",
      " Tomato_Bacterial_Spot          7        104      0.768      0.827      0.873      0.563\n",
      "   Tomato_Early_Blight         26         64      0.724      0.859      0.863      0.489\n",
      "       Tomato_Fusarium        116        328      0.699      0.683      0.737      0.395\n",
      "        Tomato_Healthy        117        391      0.648     0.0614      0.173      0.065\n",
      "    Tomato_Late_Blight         22        332      0.669       0.53       0.61      0.269\n",
      "      Tomato_Leaf_Curl          5         81      0.775      0.926      0.927       0.55\n",
      "         Tomato_Mosaic         30        266      0.707      0.853      0.845      0.498\n",
      "       Tomato_Septoria         11         86      0.876          1      0.979       0.73\n"
     ]
    },
    {
     "name": "stderr",
     "output_type": "stream",
     "text": [
      "/usr/local/lib/python3.10/dist-packages/matplotlib/colors.py:721: RuntimeWarning: invalid value encountered in less\n",
      "  xa[xa < 0] = -1\n",
      "/usr/local/lib/python3.10/dist-packages/matplotlib/colors.py:721: RuntimeWarning: invalid value encountered in less\n",
      "  xa[xa < 0] = -1\n"
     ]
    },
    {
     "name": "stdout",
     "output_type": "stream",
     "text": [
      "Speed: 0.3ms preprocess, 7.6ms inference, 0.0ms loss, 3.4ms postprocess per image\n",
      "Results saved to \u001b[1mruns/detect/train_0\u001b[0m\n"
     ]
    }
   ],
   "source": [
    "from ultralytics import YOLO\n",
    "\n",
    "IMGSZ = 1024\n",
    "run_dir = f'train_{FOLD}'\n",
    "print(run_dir)\n",
    "!rm -rf runs/detect/{run_dir}\n",
    "\n",
    "MODEL_NAME = 'yolov5s'\n",
    "model = YOLO(f'{MODEL_NAME}.pt')\n",
    "results = model.train(data='/kaggle/input/configg/config.yaml',\n",
    "                      epochs=50,\n",
    "                      imgsz=IMGSZ,\n",
    "                      name=run_dir,\n",
    "                      device=0,\n",
    "                      batch=20,\n",
    "                      optimizer='AdamW',\n",
    "                      lr0=3e-4,\n",
    "                      momentum=0.9,  \n",
    "                      weight_decay=1e-2,\n",
    "                      close_mosaic=30,\n",
    "                      seed=RANDOM_STATE)"
   ]
  },
  {
   "cell_type": "markdown",
   "metadata": {},
   "source": [
    "Accuracy : 75%"
   ]
  },
  {
   "cell_type": "markdown",
   "metadata": {},
   "source": [
    "# Saving Model"
   ]
  },
  {
   "cell_type": "code",
   "execution_count": 40,
   "metadata": {
    "execution": {
     "iopub.execute_input": "2025-02-01T21:21:25.411812Z",
     "iopub.status.busy": "2025-02-01T21:21:25.411440Z",
     "iopub.status.idle": "2025-02-01T21:21:25.433008Z",
     "shell.execute_reply": "2025-02-01T21:21:25.432329Z",
     "shell.execute_reply.started": "2025-02-01T21:21:25.411783Z"
    },
    "trusted": true
   },
   "outputs": [
    {
     "data": {
      "text/plain": [
       "'/kaggle/working/best.pt'"
      ]
     },
     "execution_count": 40,
     "metadata": {},
     "output_type": "execute_result"
    }
   ],
   "source": [
    "# Define the path where the model is saved\n",
    "trained_model_path = f'runs/detect/{run_dir}/weights/best.pt'\n",
    "\n",
    "# Copy it to a desired location, e.g., \"/kaggle/working/\"\n",
    "shutil.copy(trained_model_path, \"/kaggle/working/best.pt\")\n"
   ]
  }
 ],
 "metadata": {
  "colab": {
   "provenance": []
  },
  "kaggle": {
   "accelerator": "nvidiaTeslaT4",
   "dataSources": [
    {
     "datasetId": 5864929,
     "sourceId": 9611596,
     "sourceType": "datasetVersion"
    },
    {
     "datasetId": 6586183,
     "sourceId": 10637424,
     "sourceType": "datasetVersion"
    },
    {
     "datasetId": 6586244,
     "sourceId": 10637513,
     "sourceType": "datasetVersion"
    },
    {
     "isSourceIdPinned": true,
     "modelId": 121030,
     "modelInstanceId": 100924,
     "sourceId": 119992,
     "sourceType": "modelInstanceVersion"
    }
   ],
   "dockerImageVersionId": 30840,
   "isGpuEnabled": true,
   "isInternetEnabled": true,
   "language": "python",
   "sourceType": "notebook"
  },
  "kernelspec": {
   "display_name": "Python 3",
   "language": "python",
   "name": "python3"
  },
  "language_info": {
   "codemirror_mode": {
    "name": "ipython",
    "version": 3
   },
   "file_extension": ".py",
   "mimetype": "text/x-python",
   "name": "python",
   "nbconvert_exporter": "python",
   "pygments_lexer": "ipython3",
   "version": "3.10.12"
  },
  "papermill": {
   "default_parameters": {},
   "duration": 7541.670197,
   "end_time": "2024-12-10T18:33:58.804345",
   "environment_variables": {},
   "exception": null,
   "input_path": "__notebook__.ipynb",
   "output_path": "__notebook__.ipynb",
   "parameters": {},
   "start_time": "2024-12-10T16:28:17.134148",
   "version": "2.6.0"
  }
 },
 "nbformat": 4,
 "nbformat_minor": 4
}
